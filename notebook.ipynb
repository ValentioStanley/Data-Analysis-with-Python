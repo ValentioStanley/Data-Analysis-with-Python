{
  "cells": [
    {
      "cell_type": "markdown",
      "metadata": {
        "id": "H9wADwK78DCz"
      },
      "source": [
        "# Proyek Analisis Data: Bike Sharing\n",
        "- **Nama:** Valentio Stanley Gunadi\n",
        "- **Email:** valentiostanley23@gmail.com\n",
        "- **ID Dicoding:** tiotan"
      ]
    },
    {
      "cell_type": "markdown",
      "metadata": {
        "id": "eE0raob58DC0"
      },
      "source": [
        "## Menentukan Pertanyaan Bisnis"
      ]
    },
    {
      "cell_type": "markdown",
      "metadata": {
        "id": "GmQeQ5YF8DC0"
      },
      "source": [
        "- Jenis musim apa yang paling sering muncul dalam sebulan terakhir berdasarkan frekuensi data harian yang diukurkan dari dataset day?\n",
        "- Jenis musim dingin apa (termasuk Fall & Winter) yang paling sering muncul terjadi berdasarkan perhitungan jam yang dihasilkan?"
      ]
    },
    {
      "cell_type": "markdown",
      "metadata": {
        "id": "H-z4QGlO8DC1"
      },
      "source": [
        "## Import Semua Packages/Library yang Digunakan"
      ]
    },
    {
      "cell_type": "code",
      "execution_count": 1,
      "metadata": {
        "id": "FVYwaObI8DC1"
      },
      "outputs": [
        {
          "name": "stdout",
          "output_type": "stream",
          "text": [
            "Requirement already satisfied: pandas in c:\\users\\acer\\appdata\\roaming\\python\\python312\\site-packages (2.2.2)\n",
            "Requirement already satisfied: numpy>=1.26.0 in c:\\users\\acer\\appdata\\roaming\\python\\python312\\site-packages (from pandas) (1.26.4)\n",
            "Requirement already satisfied: python-dateutil>=2.8.2 in c:\\users\\acer\\appdata\\roaming\\python\\python312\\site-packages (from pandas) (2.9.0.post0)\n",
            "Requirement already satisfied: pytz>=2020.1 in c:\\users\\acer\\appdata\\roaming\\python\\python312\\site-packages (from pandas) (2024.1)\n",
            "Requirement already satisfied: tzdata>=2022.7 in c:\\users\\acer\\appdata\\roaming\\python\\python312\\site-packages (from pandas) (2024.1)\n",
            "Requirement already satisfied: six>=1.5 in c:\\users\\acer\\appdata\\roaming\\python\\python312\\site-packages (from python-dateutil>=2.8.2->pandas) (1.16.0)\n",
            "Note: you may need to restart the kernel to use updated packages.\n",
            "Requirement already satisfied: numpy in c:\\users\\acer\\appdata\\roaming\\python\\python312\\site-packages (1.26.4)\n",
            "Note: you may need to restart the kernel to use updated packages.\n",
            "Requirement already satisfied: scipy in c:\\users\\acer\\appdata\\roaming\\python\\python312\\site-packages (1.14.1)\n",
            "Requirement already satisfied: numpy<2.3,>=1.23.5 in c:\\users\\acer\\appdata\\roaming\\python\\python312\\site-packages (from scipy) (1.26.4)\n",
            "Note: you may need to restart the kernel to use updated packages.\n",
            "Requirement already satisfied: matplotlib in c:\\users\\acer\\appdata\\roaming\\python\\python312\\site-packages (3.9.2)\n",
            "Requirement already satisfied: contourpy>=1.0.1 in c:\\users\\acer\\appdata\\roaming\\python\\python312\\site-packages (from matplotlib) (1.3.0)\n",
            "Requirement already satisfied: cycler>=0.10 in c:\\users\\acer\\appdata\\roaming\\python\\python312\\site-packages (from matplotlib) (0.12.1)\n",
            "Requirement already satisfied: fonttools>=4.22.0 in c:\\users\\acer\\appdata\\roaming\\python\\python312\\site-packages (from matplotlib) (4.53.1)\n",
            "Requirement already satisfied: kiwisolver>=1.3.1 in c:\\users\\acer\\appdata\\roaming\\python\\python312\\site-packages (from matplotlib) (1.4.7)\n",
            "Requirement already satisfied: numpy>=1.23 in c:\\users\\acer\\appdata\\roaming\\python\\python312\\site-packages (from matplotlib) (1.26.4)\n",
            "Requirement already satisfied: packaging>=20.0 in c:\\users\\acer\\appdata\\roaming\\python\\python312\\site-packages (from matplotlib) (24.1)\n",
            "Requirement already satisfied: pillow>=8 in c:\\users\\acer\\appdata\\roaming\\python\\python312\\site-packages (from matplotlib) (10.4.0)\n",
            "Requirement already satisfied: pyparsing>=2.3.1 in c:\\users\\acer\\appdata\\roaming\\python\\python312\\site-packages (from matplotlib) (3.1.4)\n",
            "Requirement already satisfied: python-dateutil>=2.7 in c:\\users\\acer\\appdata\\roaming\\python\\python312\\site-packages (from matplotlib) (2.9.0.post0)\n",
            "Requirement already satisfied: six>=1.5 in c:\\users\\acer\\appdata\\roaming\\python\\python312\\site-packages (from python-dateutil>=2.7->matplotlib) (1.16.0)\n",
            "Note: you may need to restart the kernel to use updated packages.\n",
            "Requirement already satisfied: seaborn in c:\\users\\acer\\appdata\\roaming\\python\\python312\\site-packages (0.13.2)\n",
            "Requirement already satisfied: numpy!=1.24.0,>=1.20 in c:\\users\\acer\\appdata\\roaming\\python\\python312\\site-packages (from seaborn) (1.26.4)\n",
            "Requirement already satisfied: pandas>=1.2 in c:\\users\\acer\\appdata\\roaming\\python\\python312\\site-packages (from seaborn) (2.2.2)\n",
            "Requirement already satisfied: matplotlib!=3.6.1,>=3.4 in c:\\users\\acer\\appdata\\roaming\\python\\python312\\site-packages (from seaborn) (3.9.2)\n",
            "Requirement already satisfied: contourpy>=1.0.1 in c:\\users\\acer\\appdata\\roaming\\python\\python312\\site-packages (from matplotlib!=3.6.1,>=3.4->seaborn) (1.3.0)\n",
            "Requirement already satisfied: cycler>=0.10 in c:\\users\\acer\\appdata\\roaming\\python\\python312\\site-packages (from matplotlib!=3.6.1,>=3.4->seaborn) (0.12.1)\n",
            "Requirement already satisfied: fonttools>=4.22.0 in c:\\users\\acer\\appdata\\roaming\\python\\python312\\site-packages (from matplotlib!=3.6.1,>=3.4->seaborn) (4.53.1)\n",
            "Requirement already satisfied: kiwisolver>=1.3.1 in c:\\users\\acer\\appdata\\roaming\\python\\python312\\site-packages (from matplotlib!=3.6.1,>=3.4->seaborn) (1.4.7)\n",
            "Requirement already satisfied: packaging>=20.0 in c:\\users\\acer\\appdata\\roaming\\python\\python312\\site-packages (from matplotlib!=3.6.1,>=3.4->seaborn) (24.1)\n",
            "Requirement already satisfied: pillow>=8 in c:\\users\\acer\\appdata\\roaming\\python\\python312\\site-packages (from matplotlib!=3.6.1,>=3.4->seaborn) (10.4.0)\n",
            "Requirement already satisfied: pyparsing>=2.3.1 in c:\\users\\acer\\appdata\\roaming\\python\\python312\\site-packages (from matplotlib!=3.6.1,>=3.4->seaborn) (3.1.4)\n",
            "Requirement already satisfied: python-dateutil>=2.7 in c:\\users\\acer\\appdata\\roaming\\python\\python312\\site-packages (from matplotlib!=3.6.1,>=3.4->seaborn) (2.9.0.post0)\n",
            "Requirement already satisfied: pytz>=2020.1 in c:\\users\\acer\\appdata\\roaming\\python\\python312\\site-packages (from pandas>=1.2->seaborn) (2024.1)\n",
            "Requirement already satisfied: tzdata>=2022.7 in c:\\users\\acer\\appdata\\roaming\\python\\python312\\site-packages (from pandas>=1.2->seaborn) (2024.1)\n",
            "Requirement already satisfied: six>=1.5 in c:\\users\\acer\\appdata\\roaming\\python\\python312\\site-packages (from python-dateutil>=2.7->matplotlib!=3.6.1,>=3.4->seaborn) (1.16.0)\n",
            "Note: you may need to restart the kernel to use updated packages.\n",
            "Requirement already satisfied: babel in c:\\users\\acer\\appdata\\local\\programs\\python\\python312\\lib\\site-packages (2.16.0)Note: you may need to restart the kernel to use updated packages.\n",
            "\n"
          ]
        }
      ],
      "source": [
        "%pip install pandas\n",
        "%pip install numpy\n",
        "%pip install scipy\n",
        "%pip install matplotlib\n",
        "%pip install seaborn\n",
        "%pip install babel"
      ]
    },
    {
      "cell_type": "code",
      "execution_count": 2,
      "metadata": {},
      "outputs": [],
      "source": [
        "import pandas as pd\n",
        "import numpy as np\n",
        "import matplotlib.pyplot as plt\n",
        "import seaborn as sns"
      ]
    },
    {
      "cell_type": "code",
      "execution_count": 3,
      "metadata": {},
      "outputs": [],
      "source": [
        "# %pip install streamlit"
      ]
    },
    {
      "cell_type": "code",
      "execution_count": 4,
      "metadata": {},
      "outputs": [
        {
          "name": "stdout",
          "output_type": "stream",
          "text": [
            "absl-py==2.1.0\n",
            "accelerate==1.1.1\n",
            "aiohappyeyeballs==2.4.3\n",
            "aiohttp==3.10.10\n",
            "aiosignal==1.3.1\n",
            "altair==5.5.0\n",
            "anyio==4.7.0\n",
            "argon2-cffi==23.1.0\n",
            "argon2-cffi-bindings==21.2.0\n",
            "arrow==1.3.0\n",
            "asttokens==2.4.1\n",
            "astunparse==1.6.3\n",
            "async-lru==2.0.4\n",
            "attrs==24.2.0\n",
            "babel==2.16.0\n",
            "beautifulsoup4==4.12.3\n",
            "bleach==6.2.0\n",
            "blinker==1.8.2\n",
            "cachetools==5.5.2\n",
            "certifi==2024.8.30\n",
            "cffi==1.17.1\n",
            "charset-normalizer==3.3.2\n",
            "click==8.1.7\n",
            "colorama==0.4.6\n",
            "comm==0.2.2\n",
            "confusion_matrix==0.1\n",
            "contourpy==1.3.0\n",
            "cycler==0.12.1\n",
            "datasets==3.1.0\n",
            "debugpy==1.8.5\n",
            "decorator==5.1.1\n",
            "defusedxml==0.7.1\n",
            "dill==0.3.8\n",
            "distlib==0.3.8\n",
            "emoji==2.12.1\n",
            "executing==2.1.0\n",
            "fastjsonschema==2.21.1\n",
            "filelock==3.15.4\n",
            "Flask==3.0.3\n",
            "flatbuffers==24.3.25\n",
            "fonttools==4.53.1\n",
            "fqdn==1.5.1\n",
            "frozenlist==1.5.0\n",
            "fsspec==2024.9.0\n",
            "gast==0.6.0\n",
            "gitdb==4.0.12\n",
            "GitPython==3.1.44\n",
            "google-pasta==0.2.0\n",
            "grpcio==1.66.1\n",
            "h11==0.14.0\n",
            "h5py==3.11.0\n",
            "httpcore==1.0.7\n",
            "httpx==0.28.1\n",
            "huggingface-hub==0.26.2\n",
            "idna==3.9\n",
            "imbalanced-learn==0.12.4\n",
            "imblearn==0.0\n",
            "ipykernel==6.29.5\n",
            "ipython==8.27.0\n",
            "isoduration==20.11.0\n",
            "itsdangerous==2.2.0\n",
            "jedi==0.19.1\n",
            "Jinja2==3.1.4\n",
            "joblib==1.4.2\n",
            "json5==0.10.0\n",
            "jsonpointer==3.0.0\n",
            "jsonschema==4.23.0\n",
            "jsonschema-specifications==2024.10.1\n",
            "jupyter-events==0.10.0\n",
            "jupyter-lsp==2.2.5\n",
            "jupyter_client==8.6.2\n",
            "jupyter_core==5.7.2\n",
            "jupyter_server==2.14.2\n",
            "jupyter_server_terminals==0.5.3\n",
            "jupyterlab==4.3.3\n",
            "jupyterlab_pygments==0.3.0\n",
            "jupyterlab_server==2.27.3\n",
            "kaggle==1.6.17\n",
            "keras==3.5.0\n",
            "Keras-Preprocessing==1.1.2\n",
            "kiwisolver==1.4.7\n",
            "libclang==18.1.1\n",
            "Markdown==3.7\n",
            "markdown-it-py==3.0.0\n",
            "MarkupSafe==2.1.5\n",
            "matplotlib==3.9.2\n",
            "matplotlib-inline==0.1.7\n",
            "mdurl==0.1.2\n",
            "mistune==3.0.2\n",
            "ml-dtypes==0.4.1\n",
            "mpmath==1.3.0\n",
            "multidict==6.1.0\n",
            "multiprocess==0.70.16\n",
            "namex==0.0.8\n",
            "narwhals==1.29.1\n",
            "nbclient==0.10.1\n",
            "nbconvert==7.16.4\n",
            "nbformat==5.10.4\n",
            "nest-asyncio==1.6.0\n",
            "networkx==3.4.2\n",
            "nltk==3.9.1\n",
            "nose==1.3.7\n",
            "notebook==7.3.1\n",
            "notebook_shim==0.2.4\n",
            "numpy==1.26.4\n",
            "opt-einsum==3.3.0\n",
            "optree==0.12.1\n",
            "overrides==7.7.0\n",
            "packaging==24.1\n",
            "pandas==2.2.2\n",
            "pandocfilters==1.5.1\n",
            "parso==0.8.4\n",
            "pillow==10.4.0\n",
            "platformdirs==4.2.2\n",
            "prometheus_client==0.21.1\n",
            "prompt_toolkit==3.0.47\n",
            "propcache==0.2.0\n",
            "protobuf==4.25.4\n",
            "psutil==6.0.0\n",
            "pure_eval==0.2.3\n",
            "pyarrow==18.0.0\n",
            "pycparser==2.22\n",
            "pydeck==0.9.1\n",
            "Pygments==2.18.0\n",
            "pyparsing==3.1.4\n",
            "PySastrawi==1.2.0\n",
            "python-dateutil==2.9.0.post0\n",
            "python-json-logger==3.2.0\n",
            "python-slugify==8.0.4\n",
            "pytz==2024.1\n",
            "pywin32==306\n",
            "pywinpty==2.0.14\n",
            "PyYAML==6.0.2\n",
            "pyzmq==26.2.0\n",
            "referencing==0.35.1\n",
            "regex==2024.9.11\n",
            "requests==2.32.3\n",
            "rfc3339-validator==0.1.4\n",
            "rfc3986-validator==0.1.1\n",
            "rich==13.8.1\n",
            "rpds-py==0.22.3\n",
            "safetensors==0.4.5\n",
            "scikit-learn==1.5.2\n",
            "scipy==1.14.1\n",
            "seaborn==0.13.2\n",
            "Send2Trash==1.8.3\n",
            "sentencepiece==0.2.0\n",
            "setuptools==74.1.2\n",
            "six==1.16.0\n",
            "smmap==5.0.2\n",
            "sniffio==1.3.1\n",
            "soupsieve==2.6\n",
            "stack-data==0.6.3\n",
            "streamlit==1.43.1\n",
            "sympy==1.13.1\n",
            "tenacity==9.0.0\n",
            "tensorboard==2.18.0\n",
            "tensorboard-data-server==0.7.2\n",
            "tensorflow==2.18.0\n",
            "tensorflow-hub==0.16.1\n",
            "tensorflow_intel==2.18.0\n",
            "termcolor==2.4.0\n",
            "terminado==0.18.1\n",
            "text-unidecode==1.3\n",
            "tf_keras==2.18.0\n",
            "threadpoolctl==3.5.0\n",
            "tinycss2==1.4.0\n",
            "tokenizers==0.20.3\n",
            "toml==0.10.2\n",
            "torch==2.5.1+cu118\n",
            "torchaudio==2.5.1\n",
            "torchvision==0.20.1\n",
            "tornado==6.4.1\n",
            "tqdm==4.66.5\n",
            "traitlets==5.14.3\n",
            "transformers==4.46.2\n",
            "types-python-dateutil==2.9.0.20241206\n",
            "typing_extensions==4.12.2\n",
            "tzdata==2024.1\n",
            "uri-template==1.3.0\n",
            "urllib3==2.2.3\n",
            "virtualenv==20.26.3\n",
            "watchdog==6.0.0\n",
            "wcwidth==0.2.13\n",
            "webcolors==24.11.1\n",
            "webencodings==0.5.1\n",
            "websocket-client==1.8.0\n",
            "Werkzeug==3.0.4\n",
            "wheel==0.44.0\n",
            "wordcloud==1.9.3\n",
            "wrapt==1.16.0\n",
            "xxhash==3.5.0\n",
            "yarl==1.17.1\n",
            "Note: you may need to restart the kernel to use updated packages.\n"
          ]
        }
      ],
      "source": [
        "%pip freeze requirements.txt"
      ]
    },
    {
      "cell_type": "markdown",
      "metadata": {
        "id": "h_Sh51Xy8DC1"
      },
      "source": [
        "## Data Wrangling"
      ]
    },
    {
      "cell_type": "markdown",
      "metadata": {
        "id": "sXU2GBYu8DC1"
      },
      "source": [
        "### Gathering Data"
      ]
    },
    {
      "cell_type": "code",
      "execution_count": 5,
      "metadata": {
        "id": "zjCBk1BI8DC1"
      },
      "outputs": [
        {
          "name": "stdout",
          "output_type": "stream",
          "text": [
            "Data Day\n"
          ]
        },
        {
          "data": {
            "application/vnd.microsoft.datawrangler.viewer.v0+json": {
              "columns": [
                {
                  "name": "index",
                  "rawType": "int64",
                  "type": "integer"
                },
                {
                  "name": "instant",
                  "rawType": "int64",
                  "type": "integer"
                },
                {
                  "name": "dteday",
                  "rawType": "object",
                  "type": "string"
                },
                {
                  "name": "season",
                  "rawType": "int64",
                  "type": "integer"
                },
                {
                  "name": "yr",
                  "rawType": "int64",
                  "type": "integer"
                },
                {
                  "name": "mnth",
                  "rawType": "int64",
                  "type": "integer"
                },
                {
                  "name": "holiday",
                  "rawType": "int64",
                  "type": "integer"
                },
                {
                  "name": "weekday",
                  "rawType": "int64",
                  "type": "integer"
                },
                {
                  "name": "workingday",
                  "rawType": "int64",
                  "type": "integer"
                },
                {
                  "name": "weathersit",
                  "rawType": "int64",
                  "type": "integer"
                },
                {
                  "name": "temp",
                  "rawType": "float64",
                  "type": "float"
                },
                {
                  "name": "atemp",
                  "rawType": "float64",
                  "type": "float"
                },
                {
                  "name": "hum",
                  "rawType": "float64",
                  "type": "float"
                },
                {
                  "name": "windspeed",
                  "rawType": "float64",
                  "type": "float"
                },
                {
                  "name": "casual",
                  "rawType": "int64",
                  "type": "integer"
                },
                {
                  "name": "registered",
                  "rawType": "int64",
                  "type": "integer"
                },
                {
                  "name": "cnt",
                  "rawType": "int64",
                  "type": "integer"
                }
              ],
              "conversionMethod": "pd.DataFrame",
              "ref": "8ef00948-c979-4406-89ff-ac0ea9faeecd",
              "rows": [
                [
                  "0",
                  "1",
                  "2011-01-01",
                  "1",
                  "0",
                  "1",
                  "0",
                  "6",
                  "0",
                  "2",
                  "0.344167",
                  "0.363625",
                  "0.805833",
                  "0.160446",
                  "331",
                  "654",
                  "985"
                ],
                [
                  "1",
                  "2",
                  "2011-01-02",
                  "1",
                  "0",
                  "1",
                  "0",
                  "0",
                  "0",
                  "2",
                  "0.363478",
                  "0.353739",
                  "0.696087",
                  "0.248539",
                  "131",
                  "670",
                  "801"
                ],
                [
                  "2",
                  "3",
                  "2011-01-03",
                  "1",
                  "0",
                  "1",
                  "0",
                  "1",
                  "1",
                  "1",
                  "0.196364",
                  "0.189405",
                  "0.437273",
                  "0.248309",
                  "120",
                  "1229",
                  "1349"
                ],
                [
                  "3",
                  "4",
                  "2011-01-04",
                  "1",
                  "0",
                  "1",
                  "0",
                  "2",
                  "1",
                  "1",
                  "0.2",
                  "0.212122",
                  "0.590435",
                  "0.160296",
                  "108",
                  "1454",
                  "1562"
                ],
                [
                  "4",
                  "5",
                  "2011-01-05",
                  "1",
                  "0",
                  "1",
                  "0",
                  "3",
                  "1",
                  "1",
                  "0.226957",
                  "0.22927",
                  "0.436957",
                  "0.1869",
                  "82",
                  "1518",
                  "1600"
                ],
                [
                  "5",
                  "6",
                  "2011-01-06",
                  "1",
                  "0",
                  "1",
                  "0",
                  "4",
                  "1",
                  "1",
                  "0.204348",
                  "0.233209",
                  "0.518261",
                  "0.0895652",
                  "88",
                  "1518",
                  "1606"
                ],
                [
                  "6",
                  "7",
                  "2011-01-07",
                  "1",
                  "0",
                  "1",
                  "0",
                  "5",
                  "1",
                  "2",
                  "0.196522",
                  "0.208839",
                  "0.498696",
                  "0.168726",
                  "148",
                  "1362",
                  "1510"
                ],
                [
                  "7",
                  "8",
                  "2011-01-08",
                  "1",
                  "0",
                  "1",
                  "0",
                  "6",
                  "0",
                  "2",
                  "0.165",
                  "0.162254",
                  "0.535833",
                  "0.266804",
                  "68",
                  "891",
                  "959"
                ],
                [
                  "8",
                  "9",
                  "2011-01-09",
                  "1",
                  "0",
                  "1",
                  "0",
                  "0",
                  "0",
                  "1",
                  "0.138333",
                  "0.116175",
                  "0.434167",
                  "0.36195",
                  "54",
                  "768",
                  "822"
                ],
                [
                  "9",
                  "10",
                  "2011-01-10",
                  "1",
                  "0",
                  "1",
                  "0",
                  "1",
                  "1",
                  "1",
                  "0.150833",
                  "0.150888",
                  "0.482917",
                  "0.223267",
                  "41",
                  "1280",
                  "1321"
                ],
                [
                  "10",
                  "11",
                  "2011-01-11",
                  "1",
                  "0",
                  "1",
                  "0",
                  "2",
                  "1",
                  "2",
                  "0.169091",
                  "0.191464",
                  "0.686364",
                  "0.122132",
                  "43",
                  "1220",
                  "1263"
                ],
                [
                  "11",
                  "12",
                  "2011-01-12",
                  "1",
                  "0",
                  "1",
                  "0",
                  "3",
                  "1",
                  "1",
                  "0.172727",
                  "0.160473",
                  "0.599545",
                  "0.304627",
                  "25",
                  "1137",
                  "1162"
                ],
                [
                  "12",
                  "13",
                  "2011-01-13",
                  "1",
                  "0",
                  "1",
                  "0",
                  "4",
                  "1",
                  "1",
                  "0.165",
                  "0.150883",
                  "0.470417",
                  "0.301",
                  "38",
                  "1368",
                  "1406"
                ],
                [
                  "13",
                  "14",
                  "2011-01-14",
                  "1",
                  "0",
                  "1",
                  "0",
                  "5",
                  "1",
                  "1",
                  "0.16087",
                  "0.188413",
                  "0.537826",
                  "0.126548",
                  "54",
                  "1367",
                  "1421"
                ],
                [
                  "14",
                  "15",
                  "2011-01-15",
                  "1",
                  "0",
                  "1",
                  "0",
                  "6",
                  "0",
                  "2",
                  "0.233333",
                  "0.248112",
                  "0.49875",
                  "0.157963",
                  "222",
                  "1026",
                  "1248"
                ],
                [
                  "15",
                  "16",
                  "2011-01-16",
                  "1",
                  "0",
                  "1",
                  "0",
                  "0",
                  "0",
                  "1",
                  "0.231667",
                  "0.234217",
                  "0.48375",
                  "0.188433",
                  "251",
                  "953",
                  "1204"
                ],
                [
                  "16",
                  "17",
                  "2011-01-17",
                  "1",
                  "0",
                  "1",
                  "1",
                  "1",
                  "0",
                  "2",
                  "0.175833",
                  "0.176771",
                  "0.5375",
                  "0.194017",
                  "117",
                  "883",
                  "1000"
                ],
                [
                  "17",
                  "18",
                  "2011-01-18",
                  "1",
                  "0",
                  "1",
                  "0",
                  "2",
                  "1",
                  "2",
                  "0.216667",
                  "0.232333",
                  "0.861667",
                  "0.146775",
                  "9",
                  "674",
                  "683"
                ],
                [
                  "18",
                  "19",
                  "2011-01-19",
                  "1",
                  "0",
                  "1",
                  "0",
                  "3",
                  "1",
                  "2",
                  "0.292174",
                  "0.298422",
                  "0.741739",
                  "0.208317",
                  "78",
                  "1572",
                  "1650"
                ],
                [
                  "19",
                  "20",
                  "2011-01-20",
                  "1",
                  "0",
                  "1",
                  "0",
                  "4",
                  "1",
                  "2",
                  "0.261667",
                  "0.25505",
                  "0.538333",
                  "0.195904",
                  "83",
                  "1844",
                  "1927"
                ],
                [
                  "20",
                  "21",
                  "2011-01-21",
                  "1",
                  "0",
                  "1",
                  "0",
                  "5",
                  "1",
                  "1",
                  "0.1775",
                  "0.157833",
                  "0.457083",
                  "0.353242",
                  "75",
                  "1468",
                  "1543"
                ],
                [
                  "21",
                  "22",
                  "2011-01-22",
                  "1",
                  "0",
                  "1",
                  "0",
                  "6",
                  "0",
                  "1",
                  "0.0591304",
                  "0.0790696",
                  "0.4",
                  "0.17197",
                  "93",
                  "888",
                  "981"
                ],
                [
                  "22",
                  "23",
                  "2011-01-23",
                  "1",
                  "0",
                  "1",
                  "0",
                  "0",
                  "0",
                  "1",
                  "0.0965217",
                  "0.0988391",
                  "0.436522",
                  "0.2466",
                  "150",
                  "836",
                  "986"
                ],
                [
                  "23",
                  "24",
                  "2011-01-24",
                  "1",
                  "0",
                  "1",
                  "0",
                  "1",
                  "1",
                  "1",
                  "0.0973913",
                  "0.11793",
                  "0.491739",
                  "0.15833",
                  "86",
                  "1330",
                  "1416"
                ],
                [
                  "24",
                  "25",
                  "2011-01-25",
                  "1",
                  "0",
                  "1",
                  "0",
                  "2",
                  "1",
                  "2",
                  "0.223478",
                  "0.234526",
                  "0.616957",
                  "0.129796",
                  "186",
                  "1799",
                  "1985"
                ],
                [
                  "25",
                  "26",
                  "2011-01-26",
                  "1",
                  "0",
                  "1",
                  "0",
                  "3",
                  "1",
                  "3",
                  "0.2175",
                  "0.2036",
                  "0.8625",
                  "0.29385",
                  "34",
                  "472",
                  "506"
                ],
                [
                  "26",
                  "27",
                  "2011-01-27",
                  "1",
                  "0",
                  "1",
                  "0",
                  "4",
                  "1",
                  "1",
                  "0.195",
                  "0.2197",
                  "0.6875",
                  "0.113837",
                  "15",
                  "416",
                  "431"
                ],
                [
                  "27",
                  "28",
                  "2011-01-28",
                  "1",
                  "0",
                  "1",
                  "0",
                  "5",
                  "1",
                  "2",
                  "0.203478",
                  "0.223317",
                  "0.793043",
                  "0.1233",
                  "38",
                  "1129",
                  "1167"
                ],
                [
                  "28",
                  "29",
                  "2011-01-29",
                  "1",
                  "0",
                  "1",
                  "0",
                  "6",
                  "0",
                  "1",
                  "0.196522",
                  "0.212126",
                  "0.651739",
                  "0.145365",
                  "123",
                  "975",
                  "1098"
                ],
                [
                  "29",
                  "30",
                  "2011-01-30",
                  "1",
                  "0",
                  "1",
                  "0",
                  "0",
                  "0",
                  "1",
                  "0.216522",
                  "0.250322",
                  "0.722174",
                  "0.0739826",
                  "140",
                  "956",
                  "1096"
                ],
                [
                  "30",
                  "31",
                  "2011-01-31",
                  "1",
                  "0",
                  "1",
                  "0",
                  "1",
                  "1",
                  "2",
                  "0.180833",
                  "0.18625",
                  "0.60375",
                  "0.187192",
                  "42",
                  "1459",
                  "1501"
                ],
                [
                  "31",
                  "32",
                  "2011-02-01",
                  "1",
                  "0",
                  "2",
                  "0",
                  "2",
                  "1",
                  "2",
                  "0.192174",
                  "0.23453",
                  "0.829565",
                  "0.053213",
                  "47",
                  "1313",
                  "1360"
                ],
                [
                  "32",
                  "33",
                  "2011-02-02",
                  "1",
                  "0",
                  "2",
                  "0",
                  "3",
                  "1",
                  "2",
                  "0.26",
                  "0.254417",
                  "0.775417",
                  "0.264308",
                  "72",
                  "1454",
                  "1526"
                ],
                [
                  "33",
                  "34",
                  "2011-02-03",
                  "1",
                  "0",
                  "2",
                  "0",
                  "4",
                  "1",
                  "1",
                  "0.186957",
                  "0.177878",
                  "0.437826",
                  "0.277752",
                  "61",
                  "1489",
                  "1550"
                ],
                [
                  "34",
                  "35",
                  "2011-02-04",
                  "1",
                  "0",
                  "2",
                  "0",
                  "5",
                  "1",
                  "2",
                  "0.211304",
                  "0.228587",
                  "0.585217",
                  "0.127839",
                  "88",
                  "1620",
                  "1708"
                ],
                [
                  "35",
                  "36",
                  "2011-02-05",
                  "1",
                  "0",
                  "2",
                  "0",
                  "6",
                  "0",
                  "2",
                  "0.233333",
                  "0.243058",
                  "0.929167",
                  "0.161079",
                  "100",
                  "905",
                  "1005"
                ],
                [
                  "36",
                  "37",
                  "2011-02-06",
                  "1",
                  "0",
                  "2",
                  "0",
                  "0",
                  "0",
                  "1",
                  "0.285833",
                  "0.291671",
                  "0.568333",
                  "0.1418",
                  "354",
                  "1269",
                  "1623"
                ],
                [
                  "37",
                  "38",
                  "2011-02-07",
                  "1",
                  "0",
                  "2",
                  "0",
                  "1",
                  "1",
                  "1",
                  "0.271667",
                  "0.303658",
                  "0.738333",
                  "0.0454083",
                  "120",
                  "1592",
                  "1712"
                ],
                [
                  "38",
                  "39",
                  "2011-02-08",
                  "1",
                  "0",
                  "2",
                  "0",
                  "2",
                  "1",
                  "1",
                  "0.220833",
                  "0.198246",
                  "0.537917",
                  "0.36195",
                  "64",
                  "1466",
                  "1530"
                ],
                [
                  "39",
                  "40",
                  "2011-02-09",
                  "1",
                  "0",
                  "2",
                  "0",
                  "3",
                  "1",
                  "2",
                  "0.134783",
                  "0.144283",
                  "0.494783",
                  "0.188839",
                  "53",
                  "1552",
                  "1605"
                ],
                [
                  "40",
                  "41",
                  "2011-02-10",
                  "1",
                  "0",
                  "2",
                  "0",
                  "4",
                  "1",
                  "1",
                  "0.144348",
                  "0.149548",
                  "0.437391",
                  "0.221935",
                  "47",
                  "1491",
                  "1538"
                ],
                [
                  "41",
                  "42",
                  "2011-02-11",
                  "1",
                  "0",
                  "2",
                  "0",
                  "5",
                  "1",
                  "1",
                  "0.189091",
                  "0.213509",
                  "0.506364",
                  "0.10855",
                  "149",
                  "1597",
                  "1746"
                ],
                [
                  "42",
                  "43",
                  "2011-02-12",
                  "1",
                  "0",
                  "2",
                  "0",
                  "6",
                  "0",
                  "1",
                  "0.2225",
                  "0.232954",
                  "0.544167",
                  "0.203367",
                  "288",
                  "1184",
                  "1472"
                ],
                [
                  "43",
                  "44",
                  "2011-02-13",
                  "1",
                  "0",
                  "2",
                  "0",
                  "0",
                  "0",
                  "1",
                  "0.316522",
                  "0.324113",
                  "0.457391",
                  "0.260883",
                  "397",
                  "1192",
                  "1589"
                ],
                [
                  "44",
                  "45",
                  "2011-02-14",
                  "1",
                  "0",
                  "2",
                  "0",
                  "1",
                  "1",
                  "1",
                  "0.415",
                  "0.39835",
                  "0.375833",
                  "0.417908",
                  "208",
                  "1705",
                  "1913"
                ],
                [
                  "45",
                  "46",
                  "2011-02-15",
                  "1",
                  "0",
                  "2",
                  "0",
                  "2",
                  "1",
                  "1",
                  "0.266087",
                  "0.254274",
                  "0.314348",
                  "0.291374",
                  "140",
                  "1675",
                  "1815"
                ],
                [
                  "46",
                  "47",
                  "2011-02-16",
                  "1",
                  "0",
                  "2",
                  "0",
                  "3",
                  "1",
                  "1",
                  "0.318261",
                  "0.3162",
                  "0.423478",
                  "0.251791",
                  "218",
                  "1897",
                  "2115"
                ],
                [
                  "47",
                  "48",
                  "2011-02-17",
                  "1",
                  "0",
                  "2",
                  "0",
                  "4",
                  "1",
                  "1",
                  "0.435833",
                  "0.428658",
                  "0.505",
                  "0.230104",
                  "259",
                  "2216",
                  "2475"
                ],
                [
                  "48",
                  "49",
                  "2011-02-18",
                  "1",
                  "0",
                  "2",
                  "0",
                  "5",
                  "1",
                  "1",
                  "0.521667",
                  "0.511983",
                  "0.516667",
                  "0.264925",
                  "579",
                  "2348",
                  "2927"
                ],
                [
                  "49",
                  "50",
                  "2011-02-19",
                  "1",
                  "0",
                  "2",
                  "0",
                  "6",
                  "0",
                  "1",
                  "0.399167",
                  "0.391404",
                  "0.187917",
                  "0.507463",
                  "532",
                  "1103",
                  "1635"
                ]
              ],
              "shape": {
                "columns": 16,
                "rows": 731
              }
            },
            "text/html": [
              "<div>\n",
              "<style scoped>\n",
              "    .dataframe tbody tr th:only-of-type {\n",
              "        vertical-align: middle;\n",
              "    }\n",
              "\n",
              "    .dataframe tbody tr th {\n",
              "        vertical-align: top;\n",
              "    }\n",
              "\n",
              "    .dataframe thead th {\n",
              "        text-align: right;\n",
              "    }\n",
              "</style>\n",
              "<table border=\"1\" class=\"dataframe\">\n",
              "  <thead>\n",
              "    <tr style=\"text-align: right;\">\n",
              "      <th></th>\n",
              "      <th>instant</th>\n",
              "      <th>dteday</th>\n",
              "      <th>season</th>\n",
              "      <th>yr</th>\n",
              "      <th>mnth</th>\n",
              "      <th>holiday</th>\n",
              "      <th>weekday</th>\n",
              "      <th>workingday</th>\n",
              "      <th>weathersit</th>\n",
              "      <th>temp</th>\n",
              "      <th>atemp</th>\n",
              "      <th>hum</th>\n",
              "      <th>windspeed</th>\n",
              "      <th>casual</th>\n",
              "      <th>registered</th>\n",
              "      <th>cnt</th>\n",
              "    </tr>\n",
              "  </thead>\n",
              "  <tbody>\n",
              "    <tr>\n",
              "      <th>0</th>\n",
              "      <td>1</td>\n",
              "      <td>2011-01-01</td>\n",
              "      <td>1</td>\n",
              "      <td>0</td>\n",
              "      <td>1</td>\n",
              "      <td>0</td>\n",
              "      <td>6</td>\n",
              "      <td>0</td>\n",
              "      <td>2</td>\n",
              "      <td>0.344167</td>\n",
              "      <td>0.363625</td>\n",
              "      <td>0.805833</td>\n",
              "      <td>0.160446</td>\n",
              "      <td>331</td>\n",
              "      <td>654</td>\n",
              "      <td>985</td>\n",
              "    </tr>\n",
              "    <tr>\n",
              "      <th>1</th>\n",
              "      <td>2</td>\n",
              "      <td>2011-01-02</td>\n",
              "      <td>1</td>\n",
              "      <td>0</td>\n",
              "      <td>1</td>\n",
              "      <td>0</td>\n",
              "      <td>0</td>\n",
              "      <td>0</td>\n",
              "      <td>2</td>\n",
              "      <td>0.363478</td>\n",
              "      <td>0.353739</td>\n",
              "      <td>0.696087</td>\n",
              "      <td>0.248539</td>\n",
              "      <td>131</td>\n",
              "      <td>670</td>\n",
              "      <td>801</td>\n",
              "    </tr>\n",
              "    <tr>\n",
              "      <th>2</th>\n",
              "      <td>3</td>\n",
              "      <td>2011-01-03</td>\n",
              "      <td>1</td>\n",
              "      <td>0</td>\n",
              "      <td>1</td>\n",
              "      <td>0</td>\n",
              "      <td>1</td>\n",
              "      <td>1</td>\n",
              "      <td>1</td>\n",
              "      <td>0.196364</td>\n",
              "      <td>0.189405</td>\n",
              "      <td>0.437273</td>\n",
              "      <td>0.248309</td>\n",
              "      <td>120</td>\n",
              "      <td>1229</td>\n",
              "      <td>1349</td>\n",
              "    </tr>\n",
              "    <tr>\n",
              "      <th>3</th>\n",
              "      <td>4</td>\n",
              "      <td>2011-01-04</td>\n",
              "      <td>1</td>\n",
              "      <td>0</td>\n",
              "      <td>1</td>\n",
              "      <td>0</td>\n",
              "      <td>2</td>\n",
              "      <td>1</td>\n",
              "      <td>1</td>\n",
              "      <td>0.200000</td>\n",
              "      <td>0.212122</td>\n",
              "      <td>0.590435</td>\n",
              "      <td>0.160296</td>\n",
              "      <td>108</td>\n",
              "      <td>1454</td>\n",
              "      <td>1562</td>\n",
              "    </tr>\n",
              "    <tr>\n",
              "      <th>4</th>\n",
              "      <td>5</td>\n",
              "      <td>2011-01-05</td>\n",
              "      <td>1</td>\n",
              "      <td>0</td>\n",
              "      <td>1</td>\n",
              "      <td>0</td>\n",
              "      <td>3</td>\n",
              "      <td>1</td>\n",
              "      <td>1</td>\n",
              "      <td>0.226957</td>\n",
              "      <td>0.229270</td>\n",
              "      <td>0.436957</td>\n",
              "      <td>0.186900</td>\n",
              "      <td>82</td>\n",
              "      <td>1518</td>\n",
              "      <td>1600</td>\n",
              "    </tr>\n",
              "    <tr>\n",
              "      <th>...</th>\n",
              "      <td>...</td>\n",
              "      <td>...</td>\n",
              "      <td>...</td>\n",
              "      <td>...</td>\n",
              "      <td>...</td>\n",
              "      <td>...</td>\n",
              "      <td>...</td>\n",
              "      <td>...</td>\n",
              "      <td>...</td>\n",
              "      <td>...</td>\n",
              "      <td>...</td>\n",
              "      <td>...</td>\n",
              "      <td>...</td>\n",
              "      <td>...</td>\n",
              "      <td>...</td>\n",
              "      <td>...</td>\n",
              "    </tr>\n",
              "    <tr>\n",
              "      <th>726</th>\n",
              "      <td>727</td>\n",
              "      <td>2012-12-27</td>\n",
              "      <td>1</td>\n",
              "      <td>1</td>\n",
              "      <td>12</td>\n",
              "      <td>0</td>\n",
              "      <td>4</td>\n",
              "      <td>1</td>\n",
              "      <td>2</td>\n",
              "      <td>0.254167</td>\n",
              "      <td>0.226642</td>\n",
              "      <td>0.652917</td>\n",
              "      <td>0.350133</td>\n",
              "      <td>247</td>\n",
              "      <td>1867</td>\n",
              "      <td>2114</td>\n",
              "    </tr>\n",
              "    <tr>\n",
              "      <th>727</th>\n",
              "      <td>728</td>\n",
              "      <td>2012-12-28</td>\n",
              "      <td>1</td>\n",
              "      <td>1</td>\n",
              "      <td>12</td>\n",
              "      <td>0</td>\n",
              "      <td>5</td>\n",
              "      <td>1</td>\n",
              "      <td>2</td>\n",
              "      <td>0.253333</td>\n",
              "      <td>0.255046</td>\n",
              "      <td>0.590000</td>\n",
              "      <td>0.155471</td>\n",
              "      <td>644</td>\n",
              "      <td>2451</td>\n",
              "      <td>3095</td>\n",
              "    </tr>\n",
              "    <tr>\n",
              "      <th>728</th>\n",
              "      <td>729</td>\n",
              "      <td>2012-12-29</td>\n",
              "      <td>1</td>\n",
              "      <td>1</td>\n",
              "      <td>12</td>\n",
              "      <td>0</td>\n",
              "      <td>6</td>\n",
              "      <td>0</td>\n",
              "      <td>2</td>\n",
              "      <td>0.253333</td>\n",
              "      <td>0.242400</td>\n",
              "      <td>0.752917</td>\n",
              "      <td>0.124383</td>\n",
              "      <td>159</td>\n",
              "      <td>1182</td>\n",
              "      <td>1341</td>\n",
              "    </tr>\n",
              "    <tr>\n",
              "      <th>729</th>\n",
              "      <td>730</td>\n",
              "      <td>2012-12-30</td>\n",
              "      <td>1</td>\n",
              "      <td>1</td>\n",
              "      <td>12</td>\n",
              "      <td>0</td>\n",
              "      <td>0</td>\n",
              "      <td>0</td>\n",
              "      <td>1</td>\n",
              "      <td>0.255833</td>\n",
              "      <td>0.231700</td>\n",
              "      <td>0.483333</td>\n",
              "      <td>0.350754</td>\n",
              "      <td>364</td>\n",
              "      <td>1432</td>\n",
              "      <td>1796</td>\n",
              "    </tr>\n",
              "    <tr>\n",
              "      <th>730</th>\n",
              "      <td>731</td>\n",
              "      <td>2012-12-31</td>\n",
              "      <td>1</td>\n",
              "      <td>1</td>\n",
              "      <td>12</td>\n",
              "      <td>0</td>\n",
              "      <td>1</td>\n",
              "      <td>1</td>\n",
              "      <td>2</td>\n",
              "      <td>0.215833</td>\n",
              "      <td>0.223487</td>\n",
              "      <td>0.577500</td>\n",
              "      <td>0.154846</td>\n",
              "      <td>439</td>\n",
              "      <td>2290</td>\n",
              "      <td>2729</td>\n",
              "    </tr>\n",
              "  </tbody>\n",
              "</table>\n",
              "<p>731 rows × 16 columns</p>\n",
              "</div>"
            ],
            "text/plain": [
              "     instant      dteday  season  yr  mnth  holiday  weekday  workingday  \\\n",
              "0          1  2011-01-01       1   0     1        0        6           0   \n",
              "1          2  2011-01-02       1   0     1        0        0           0   \n",
              "2          3  2011-01-03       1   0     1        0        1           1   \n",
              "3          4  2011-01-04       1   0     1        0        2           1   \n",
              "4          5  2011-01-05       1   0     1        0        3           1   \n",
              "..       ...         ...     ...  ..   ...      ...      ...         ...   \n",
              "726      727  2012-12-27       1   1    12        0        4           1   \n",
              "727      728  2012-12-28       1   1    12        0        5           1   \n",
              "728      729  2012-12-29       1   1    12        0        6           0   \n",
              "729      730  2012-12-30       1   1    12        0        0           0   \n",
              "730      731  2012-12-31       1   1    12        0        1           1   \n",
              "\n",
              "     weathersit      temp     atemp       hum  windspeed  casual  registered  \\\n",
              "0             2  0.344167  0.363625  0.805833   0.160446     331         654   \n",
              "1             2  0.363478  0.353739  0.696087   0.248539     131         670   \n",
              "2             1  0.196364  0.189405  0.437273   0.248309     120        1229   \n",
              "3             1  0.200000  0.212122  0.590435   0.160296     108        1454   \n",
              "4             1  0.226957  0.229270  0.436957   0.186900      82        1518   \n",
              "..          ...       ...       ...       ...        ...     ...         ...   \n",
              "726           2  0.254167  0.226642  0.652917   0.350133     247        1867   \n",
              "727           2  0.253333  0.255046  0.590000   0.155471     644        2451   \n",
              "728           2  0.253333  0.242400  0.752917   0.124383     159        1182   \n",
              "729           1  0.255833  0.231700  0.483333   0.350754     364        1432   \n",
              "730           2  0.215833  0.223487  0.577500   0.154846     439        2290   \n",
              "\n",
              "      cnt  \n",
              "0     985  \n",
              "1     801  \n",
              "2    1349  \n",
              "3    1562  \n",
              "4    1600  \n",
              "..    ...  \n",
              "726  2114  \n",
              "727  3095  \n",
              "728  1341  \n",
              "729  1796  \n",
              "730  2729  \n",
              "\n",
              "[731 rows x 16 columns]"
            ]
          },
          "execution_count": 5,
          "metadata": {},
          "output_type": "execute_result"
        }
      ],
      "source": [
        "df1 = pd.read_csv(\"../submission/data/day.csv\", delimiter=\",\")\n",
        "df2 = pd.read_csv(\"../submission/data/hour.csv\", delimiter=\",\")\n",
        "\n",
        "print(\"Data Day\")\n",
        "df1"
      ]
    },
    {
      "cell_type": "code",
      "execution_count": 6,
      "metadata": {},
      "outputs": [
        {
          "name": "stdout",
          "output_type": "stream",
          "text": [
            "Data Hour\n"
          ]
        },
        {
          "data": {
            "application/vnd.microsoft.datawrangler.viewer.v0+json": {
              "columns": [
                {
                  "name": "index",
                  "rawType": "int64",
                  "type": "integer"
                },
                {
                  "name": "instant",
                  "rawType": "int64",
                  "type": "integer"
                },
                {
                  "name": "dteday",
                  "rawType": "object",
                  "type": "string"
                },
                {
                  "name": "season",
                  "rawType": "int64",
                  "type": "integer"
                },
                {
                  "name": "yr",
                  "rawType": "int64",
                  "type": "integer"
                },
                {
                  "name": "mnth",
                  "rawType": "int64",
                  "type": "integer"
                },
                {
                  "name": "hr",
                  "rawType": "int64",
                  "type": "integer"
                },
                {
                  "name": "holiday",
                  "rawType": "int64",
                  "type": "integer"
                },
                {
                  "name": "weekday",
                  "rawType": "int64",
                  "type": "integer"
                },
                {
                  "name": "workingday",
                  "rawType": "int64",
                  "type": "integer"
                },
                {
                  "name": "weathersit",
                  "rawType": "int64",
                  "type": "integer"
                },
                {
                  "name": "temp",
                  "rawType": "float64",
                  "type": "float"
                },
                {
                  "name": "atemp",
                  "rawType": "float64",
                  "type": "float"
                },
                {
                  "name": "hum",
                  "rawType": "float64",
                  "type": "float"
                },
                {
                  "name": "windspeed",
                  "rawType": "float64",
                  "type": "float"
                },
                {
                  "name": "casual",
                  "rawType": "int64",
                  "type": "integer"
                },
                {
                  "name": "registered",
                  "rawType": "int64",
                  "type": "integer"
                },
                {
                  "name": "cnt",
                  "rawType": "int64",
                  "type": "integer"
                }
              ],
              "conversionMethod": "pd.DataFrame",
              "ref": "f056eef5-4729-47f4-aa8d-2a10ddac533a",
              "rows": [
                [
                  "0",
                  "1",
                  "2011-01-01",
                  "1",
                  "0",
                  "1",
                  "0",
                  "0",
                  "6",
                  "0",
                  "1",
                  "0.24",
                  "0.2879",
                  "0.81",
                  "0.0",
                  "3",
                  "13",
                  "16"
                ],
                [
                  "1",
                  "2",
                  "2011-01-01",
                  "1",
                  "0",
                  "1",
                  "1",
                  "0",
                  "6",
                  "0",
                  "1",
                  "0.22",
                  "0.2727",
                  "0.8",
                  "0.0",
                  "8",
                  "32",
                  "40"
                ],
                [
                  "2",
                  "3",
                  "2011-01-01",
                  "1",
                  "0",
                  "1",
                  "2",
                  "0",
                  "6",
                  "0",
                  "1",
                  "0.22",
                  "0.2727",
                  "0.8",
                  "0.0",
                  "5",
                  "27",
                  "32"
                ],
                [
                  "3",
                  "4",
                  "2011-01-01",
                  "1",
                  "0",
                  "1",
                  "3",
                  "0",
                  "6",
                  "0",
                  "1",
                  "0.24",
                  "0.2879",
                  "0.75",
                  "0.0",
                  "3",
                  "10",
                  "13"
                ],
                [
                  "4",
                  "5",
                  "2011-01-01",
                  "1",
                  "0",
                  "1",
                  "4",
                  "0",
                  "6",
                  "0",
                  "1",
                  "0.24",
                  "0.2879",
                  "0.75",
                  "0.0",
                  "0",
                  "1",
                  "1"
                ],
                [
                  "5",
                  "6",
                  "2011-01-01",
                  "1",
                  "0",
                  "1",
                  "5",
                  "0",
                  "6",
                  "0",
                  "2",
                  "0.24",
                  "0.2576",
                  "0.75",
                  "0.0896",
                  "0",
                  "1",
                  "1"
                ],
                [
                  "6",
                  "7",
                  "2011-01-01",
                  "1",
                  "0",
                  "1",
                  "6",
                  "0",
                  "6",
                  "0",
                  "1",
                  "0.22",
                  "0.2727",
                  "0.8",
                  "0.0",
                  "2",
                  "0",
                  "2"
                ],
                [
                  "7",
                  "8",
                  "2011-01-01",
                  "1",
                  "0",
                  "1",
                  "7",
                  "0",
                  "6",
                  "0",
                  "1",
                  "0.2",
                  "0.2576",
                  "0.86",
                  "0.0",
                  "1",
                  "2",
                  "3"
                ],
                [
                  "8",
                  "9",
                  "2011-01-01",
                  "1",
                  "0",
                  "1",
                  "8",
                  "0",
                  "6",
                  "0",
                  "1",
                  "0.24",
                  "0.2879",
                  "0.75",
                  "0.0",
                  "1",
                  "7",
                  "8"
                ],
                [
                  "9",
                  "10",
                  "2011-01-01",
                  "1",
                  "0",
                  "1",
                  "9",
                  "0",
                  "6",
                  "0",
                  "1",
                  "0.32",
                  "0.3485",
                  "0.76",
                  "0.0",
                  "8",
                  "6",
                  "14"
                ],
                [
                  "10",
                  "11",
                  "2011-01-01",
                  "1",
                  "0",
                  "1",
                  "10",
                  "0",
                  "6",
                  "0",
                  "1",
                  "0.38",
                  "0.3939",
                  "0.76",
                  "0.2537",
                  "12",
                  "24",
                  "36"
                ],
                [
                  "11",
                  "12",
                  "2011-01-01",
                  "1",
                  "0",
                  "1",
                  "11",
                  "0",
                  "6",
                  "0",
                  "1",
                  "0.36",
                  "0.3333",
                  "0.81",
                  "0.2836",
                  "26",
                  "30",
                  "56"
                ],
                [
                  "12",
                  "13",
                  "2011-01-01",
                  "1",
                  "0",
                  "1",
                  "12",
                  "0",
                  "6",
                  "0",
                  "1",
                  "0.42",
                  "0.4242",
                  "0.77",
                  "0.2836",
                  "29",
                  "55",
                  "84"
                ],
                [
                  "13",
                  "14",
                  "2011-01-01",
                  "1",
                  "0",
                  "1",
                  "13",
                  "0",
                  "6",
                  "0",
                  "2",
                  "0.46",
                  "0.4545",
                  "0.72",
                  "0.2985",
                  "47",
                  "47",
                  "94"
                ],
                [
                  "14",
                  "15",
                  "2011-01-01",
                  "1",
                  "0",
                  "1",
                  "14",
                  "0",
                  "6",
                  "0",
                  "2",
                  "0.46",
                  "0.4545",
                  "0.72",
                  "0.2836",
                  "35",
                  "71",
                  "106"
                ],
                [
                  "15",
                  "16",
                  "2011-01-01",
                  "1",
                  "0",
                  "1",
                  "15",
                  "0",
                  "6",
                  "0",
                  "2",
                  "0.44",
                  "0.4394",
                  "0.77",
                  "0.2985",
                  "40",
                  "70",
                  "110"
                ],
                [
                  "16",
                  "17",
                  "2011-01-01",
                  "1",
                  "0",
                  "1",
                  "16",
                  "0",
                  "6",
                  "0",
                  "2",
                  "0.42",
                  "0.4242",
                  "0.82",
                  "0.2985",
                  "41",
                  "52",
                  "93"
                ],
                [
                  "17",
                  "18",
                  "2011-01-01",
                  "1",
                  "0",
                  "1",
                  "17",
                  "0",
                  "6",
                  "0",
                  "2",
                  "0.44",
                  "0.4394",
                  "0.82",
                  "0.2836",
                  "15",
                  "52",
                  "67"
                ],
                [
                  "18",
                  "19",
                  "2011-01-01",
                  "1",
                  "0",
                  "1",
                  "18",
                  "0",
                  "6",
                  "0",
                  "3",
                  "0.42",
                  "0.4242",
                  "0.88",
                  "0.2537",
                  "9",
                  "26",
                  "35"
                ],
                [
                  "19",
                  "20",
                  "2011-01-01",
                  "1",
                  "0",
                  "1",
                  "19",
                  "0",
                  "6",
                  "0",
                  "3",
                  "0.42",
                  "0.4242",
                  "0.88",
                  "0.2537",
                  "6",
                  "31",
                  "37"
                ],
                [
                  "20",
                  "21",
                  "2011-01-01",
                  "1",
                  "0",
                  "1",
                  "20",
                  "0",
                  "6",
                  "0",
                  "2",
                  "0.4",
                  "0.4091",
                  "0.87",
                  "0.2537",
                  "11",
                  "25",
                  "36"
                ],
                [
                  "21",
                  "22",
                  "2011-01-01",
                  "1",
                  "0",
                  "1",
                  "21",
                  "0",
                  "6",
                  "0",
                  "2",
                  "0.4",
                  "0.4091",
                  "0.87",
                  "0.194",
                  "3",
                  "31",
                  "34"
                ],
                [
                  "22",
                  "23",
                  "2011-01-01",
                  "1",
                  "0",
                  "1",
                  "22",
                  "0",
                  "6",
                  "0",
                  "2",
                  "0.4",
                  "0.4091",
                  "0.94",
                  "0.2239",
                  "11",
                  "17",
                  "28"
                ],
                [
                  "23",
                  "24",
                  "2011-01-01",
                  "1",
                  "0",
                  "1",
                  "23",
                  "0",
                  "6",
                  "0",
                  "2",
                  "0.46",
                  "0.4545",
                  "0.88",
                  "0.2985",
                  "15",
                  "24",
                  "39"
                ],
                [
                  "24",
                  "25",
                  "2011-01-02",
                  "1",
                  "0",
                  "1",
                  "0",
                  "0",
                  "0",
                  "0",
                  "2",
                  "0.46",
                  "0.4545",
                  "0.88",
                  "0.2985",
                  "4",
                  "13",
                  "17"
                ],
                [
                  "25",
                  "26",
                  "2011-01-02",
                  "1",
                  "0",
                  "1",
                  "1",
                  "0",
                  "0",
                  "0",
                  "2",
                  "0.44",
                  "0.4394",
                  "0.94",
                  "0.2537",
                  "1",
                  "16",
                  "17"
                ],
                [
                  "26",
                  "27",
                  "2011-01-02",
                  "1",
                  "0",
                  "1",
                  "2",
                  "0",
                  "0",
                  "0",
                  "2",
                  "0.42",
                  "0.4242",
                  "1.0",
                  "0.2836",
                  "1",
                  "8",
                  "9"
                ],
                [
                  "27",
                  "28",
                  "2011-01-02",
                  "1",
                  "0",
                  "1",
                  "3",
                  "0",
                  "0",
                  "0",
                  "2",
                  "0.46",
                  "0.4545",
                  "0.94",
                  "0.194",
                  "2",
                  "4",
                  "6"
                ],
                [
                  "28",
                  "29",
                  "2011-01-02",
                  "1",
                  "0",
                  "1",
                  "4",
                  "0",
                  "0",
                  "0",
                  "2",
                  "0.46",
                  "0.4545",
                  "0.94",
                  "0.194",
                  "2",
                  "1",
                  "3"
                ],
                [
                  "29",
                  "30",
                  "2011-01-02",
                  "1",
                  "0",
                  "1",
                  "6",
                  "0",
                  "0",
                  "0",
                  "3",
                  "0.42",
                  "0.4242",
                  "0.77",
                  "0.2985",
                  "0",
                  "2",
                  "2"
                ],
                [
                  "30",
                  "31",
                  "2011-01-02",
                  "1",
                  "0",
                  "1",
                  "7",
                  "0",
                  "0",
                  "0",
                  "2",
                  "0.4",
                  "0.4091",
                  "0.76",
                  "0.194",
                  "0",
                  "1",
                  "1"
                ],
                [
                  "31",
                  "32",
                  "2011-01-02",
                  "1",
                  "0",
                  "1",
                  "8",
                  "0",
                  "0",
                  "0",
                  "3",
                  "0.4",
                  "0.4091",
                  "0.71",
                  "0.2239",
                  "0",
                  "8",
                  "8"
                ],
                [
                  "32",
                  "33",
                  "2011-01-02",
                  "1",
                  "0",
                  "1",
                  "9",
                  "0",
                  "0",
                  "0",
                  "2",
                  "0.38",
                  "0.3939",
                  "0.76",
                  "0.2239",
                  "1",
                  "19",
                  "20"
                ],
                [
                  "33",
                  "34",
                  "2011-01-02",
                  "1",
                  "0",
                  "1",
                  "10",
                  "0",
                  "0",
                  "0",
                  "2",
                  "0.36",
                  "0.3485",
                  "0.81",
                  "0.2239",
                  "7",
                  "46",
                  "53"
                ],
                [
                  "34",
                  "35",
                  "2011-01-02",
                  "1",
                  "0",
                  "1",
                  "11",
                  "0",
                  "0",
                  "0",
                  "2",
                  "0.36",
                  "0.3333",
                  "0.71",
                  "0.2537",
                  "16",
                  "54",
                  "70"
                ],
                [
                  "35",
                  "36",
                  "2011-01-02",
                  "1",
                  "0",
                  "1",
                  "12",
                  "0",
                  "0",
                  "0",
                  "2",
                  "0.36",
                  "0.3333",
                  "0.66",
                  "0.2985",
                  "20",
                  "73",
                  "93"
                ],
                [
                  "36",
                  "37",
                  "2011-01-02",
                  "1",
                  "0",
                  "1",
                  "13",
                  "0",
                  "0",
                  "0",
                  "2",
                  "0.36",
                  "0.3485",
                  "0.66",
                  "0.1343",
                  "11",
                  "64",
                  "75"
                ],
                [
                  "37",
                  "38",
                  "2011-01-02",
                  "1",
                  "0",
                  "1",
                  "14",
                  "0",
                  "0",
                  "0",
                  "3",
                  "0.36",
                  "0.3485",
                  "0.76",
                  "0.194",
                  "4",
                  "55",
                  "59"
                ],
                [
                  "38",
                  "39",
                  "2011-01-02",
                  "1",
                  "0",
                  "1",
                  "15",
                  "0",
                  "0",
                  "0",
                  "3",
                  "0.34",
                  "0.3333",
                  "0.81",
                  "0.1642",
                  "19",
                  "55",
                  "74"
                ],
                [
                  "39",
                  "40",
                  "2011-01-02",
                  "1",
                  "0",
                  "1",
                  "16",
                  "0",
                  "0",
                  "0",
                  "3",
                  "0.34",
                  "0.3333",
                  "0.71",
                  "0.1642",
                  "9",
                  "67",
                  "76"
                ],
                [
                  "40",
                  "41",
                  "2011-01-02",
                  "1",
                  "0",
                  "1",
                  "17",
                  "0",
                  "0",
                  "0",
                  "1",
                  "0.34",
                  "0.3333",
                  "0.57",
                  "0.194",
                  "7",
                  "58",
                  "65"
                ],
                [
                  "41",
                  "42",
                  "2011-01-02",
                  "1",
                  "0",
                  "1",
                  "18",
                  "0",
                  "0",
                  "0",
                  "2",
                  "0.36",
                  "0.3333",
                  "0.46",
                  "0.3284",
                  "10",
                  "43",
                  "53"
                ],
                [
                  "42",
                  "43",
                  "2011-01-02",
                  "1",
                  "0",
                  "1",
                  "19",
                  "0",
                  "0",
                  "0",
                  "1",
                  "0.32",
                  "0.2879",
                  "0.42",
                  "0.4478",
                  "1",
                  "29",
                  "30"
                ],
                [
                  "43",
                  "44",
                  "2011-01-02",
                  "1",
                  "0",
                  "1",
                  "20",
                  "0",
                  "0",
                  "0",
                  "1",
                  "0.3",
                  "0.2727",
                  "0.39",
                  "0.3582",
                  "5",
                  "17",
                  "22"
                ],
                [
                  "44",
                  "45",
                  "2011-01-02",
                  "1",
                  "0",
                  "1",
                  "21",
                  "0",
                  "0",
                  "0",
                  "1",
                  "0.26",
                  "0.2273",
                  "0.44",
                  "0.3284",
                  "11",
                  "20",
                  "31"
                ],
                [
                  "45",
                  "46",
                  "2011-01-02",
                  "1",
                  "0",
                  "1",
                  "22",
                  "0",
                  "0",
                  "0",
                  "1",
                  "0.24",
                  "0.2121",
                  "0.44",
                  "0.2985",
                  "0",
                  "9",
                  "9"
                ],
                [
                  "46",
                  "47",
                  "2011-01-02",
                  "1",
                  "0",
                  "1",
                  "23",
                  "0",
                  "0",
                  "0",
                  "1",
                  "0.22",
                  "0.2273",
                  "0.47",
                  "0.1642",
                  "0",
                  "8",
                  "8"
                ],
                [
                  "47",
                  "48",
                  "2011-01-03",
                  "1",
                  "0",
                  "1",
                  "0",
                  "0",
                  "1",
                  "1",
                  "1",
                  "0.22",
                  "0.197",
                  "0.44",
                  "0.3582",
                  "0",
                  "5",
                  "5"
                ],
                [
                  "48",
                  "49",
                  "2011-01-03",
                  "1",
                  "0",
                  "1",
                  "1",
                  "0",
                  "1",
                  "1",
                  "1",
                  "0.2",
                  "0.1667",
                  "0.44",
                  "0.4179",
                  "0",
                  "2",
                  "2"
                ],
                [
                  "49",
                  "50",
                  "2011-01-03",
                  "1",
                  "0",
                  "1",
                  "4",
                  "0",
                  "1",
                  "1",
                  "1",
                  "0.16",
                  "0.1364",
                  "0.47",
                  "0.3881",
                  "0",
                  "1",
                  "1"
                ]
              ],
              "shape": {
                "columns": 17,
                "rows": 17379
              }
            },
            "text/html": [
              "<div>\n",
              "<style scoped>\n",
              "    .dataframe tbody tr th:only-of-type {\n",
              "        vertical-align: middle;\n",
              "    }\n",
              "\n",
              "    .dataframe tbody tr th {\n",
              "        vertical-align: top;\n",
              "    }\n",
              "\n",
              "    .dataframe thead th {\n",
              "        text-align: right;\n",
              "    }\n",
              "</style>\n",
              "<table border=\"1\" class=\"dataframe\">\n",
              "  <thead>\n",
              "    <tr style=\"text-align: right;\">\n",
              "      <th></th>\n",
              "      <th>instant</th>\n",
              "      <th>dteday</th>\n",
              "      <th>season</th>\n",
              "      <th>yr</th>\n",
              "      <th>mnth</th>\n",
              "      <th>hr</th>\n",
              "      <th>holiday</th>\n",
              "      <th>weekday</th>\n",
              "      <th>workingday</th>\n",
              "      <th>weathersit</th>\n",
              "      <th>temp</th>\n",
              "      <th>atemp</th>\n",
              "      <th>hum</th>\n",
              "      <th>windspeed</th>\n",
              "      <th>casual</th>\n",
              "      <th>registered</th>\n",
              "      <th>cnt</th>\n",
              "    </tr>\n",
              "  </thead>\n",
              "  <tbody>\n",
              "    <tr>\n",
              "      <th>0</th>\n",
              "      <td>1</td>\n",
              "      <td>2011-01-01</td>\n",
              "      <td>1</td>\n",
              "      <td>0</td>\n",
              "      <td>1</td>\n",
              "      <td>0</td>\n",
              "      <td>0</td>\n",
              "      <td>6</td>\n",
              "      <td>0</td>\n",
              "      <td>1</td>\n",
              "      <td>0.24</td>\n",
              "      <td>0.2879</td>\n",
              "      <td>0.81</td>\n",
              "      <td>0.0000</td>\n",
              "      <td>3</td>\n",
              "      <td>13</td>\n",
              "      <td>16</td>\n",
              "    </tr>\n",
              "    <tr>\n",
              "      <th>1</th>\n",
              "      <td>2</td>\n",
              "      <td>2011-01-01</td>\n",
              "      <td>1</td>\n",
              "      <td>0</td>\n",
              "      <td>1</td>\n",
              "      <td>1</td>\n",
              "      <td>0</td>\n",
              "      <td>6</td>\n",
              "      <td>0</td>\n",
              "      <td>1</td>\n",
              "      <td>0.22</td>\n",
              "      <td>0.2727</td>\n",
              "      <td>0.80</td>\n",
              "      <td>0.0000</td>\n",
              "      <td>8</td>\n",
              "      <td>32</td>\n",
              "      <td>40</td>\n",
              "    </tr>\n",
              "    <tr>\n",
              "      <th>2</th>\n",
              "      <td>3</td>\n",
              "      <td>2011-01-01</td>\n",
              "      <td>1</td>\n",
              "      <td>0</td>\n",
              "      <td>1</td>\n",
              "      <td>2</td>\n",
              "      <td>0</td>\n",
              "      <td>6</td>\n",
              "      <td>0</td>\n",
              "      <td>1</td>\n",
              "      <td>0.22</td>\n",
              "      <td>0.2727</td>\n",
              "      <td>0.80</td>\n",
              "      <td>0.0000</td>\n",
              "      <td>5</td>\n",
              "      <td>27</td>\n",
              "      <td>32</td>\n",
              "    </tr>\n",
              "    <tr>\n",
              "      <th>3</th>\n",
              "      <td>4</td>\n",
              "      <td>2011-01-01</td>\n",
              "      <td>1</td>\n",
              "      <td>0</td>\n",
              "      <td>1</td>\n",
              "      <td>3</td>\n",
              "      <td>0</td>\n",
              "      <td>6</td>\n",
              "      <td>0</td>\n",
              "      <td>1</td>\n",
              "      <td>0.24</td>\n",
              "      <td>0.2879</td>\n",
              "      <td>0.75</td>\n",
              "      <td>0.0000</td>\n",
              "      <td>3</td>\n",
              "      <td>10</td>\n",
              "      <td>13</td>\n",
              "    </tr>\n",
              "    <tr>\n",
              "      <th>4</th>\n",
              "      <td>5</td>\n",
              "      <td>2011-01-01</td>\n",
              "      <td>1</td>\n",
              "      <td>0</td>\n",
              "      <td>1</td>\n",
              "      <td>4</td>\n",
              "      <td>0</td>\n",
              "      <td>6</td>\n",
              "      <td>0</td>\n",
              "      <td>1</td>\n",
              "      <td>0.24</td>\n",
              "      <td>0.2879</td>\n",
              "      <td>0.75</td>\n",
              "      <td>0.0000</td>\n",
              "      <td>0</td>\n",
              "      <td>1</td>\n",
              "      <td>1</td>\n",
              "    </tr>\n",
              "    <tr>\n",
              "      <th>...</th>\n",
              "      <td>...</td>\n",
              "      <td>...</td>\n",
              "      <td>...</td>\n",
              "      <td>...</td>\n",
              "      <td>...</td>\n",
              "      <td>...</td>\n",
              "      <td>...</td>\n",
              "      <td>...</td>\n",
              "      <td>...</td>\n",
              "      <td>...</td>\n",
              "      <td>...</td>\n",
              "      <td>...</td>\n",
              "      <td>...</td>\n",
              "      <td>...</td>\n",
              "      <td>...</td>\n",
              "      <td>...</td>\n",
              "      <td>...</td>\n",
              "    </tr>\n",
              "    <tr>\n",
              "      <th>17374</th>\n",
              "      <td>17375</td>\n",
              "      <td>2012-12-31</td>\n",
              "      <td>1</td>\n",
              "      <td>1</td>\n",
              "      <td>12</td>\n",
              "      <td>19</td>\n",
              "      <td>0</td>\n",
              "      <td>1</td>\n",
              "      <td>1</td>\n",
              "      <td>2</td>\n",
              "      <td>0.26</td>\n",
              "      <td>0.2576</td>\n",
              "      <td>0.60</td>\n",
              "      <td>0.1642</td>\n",
              "      <td>11</td>\n",
              "      <td>108</td>\n",
              "      <td>119</td>\n",
              "    </tr>\n",
              "    <tr>\n",
              "      <th>17375</th>\n",
              "      <td>17376</td>\n",
              "      <td>2012-12-31</td>\n",
              "      <td>1</td>\n",
              "      <td>1</td>\n",
              "      <td>12</td>\n",
              "      <td>20</td>\n",
              "      <td>0</td>\n",
              "      <td>1</td>\n",
              "      <td>1</td>\n",
              "      <td>2</td>\n",
              "      <td>0.26</td>\n",
              "      <td>0.2576</td>\n",
              "      <td>0.60</td>\n",
              "      <td>0.1642</td>\n",
              "      <td>8</td>\n",
              "      <td>81</td>\n",
              "      <td>89</td>\n",
              "    </tr>\n",
              "    <tr>\n",
              "      <th>17376</th>\n",
              "      <td>17377</td>\n",
              "      <td>2012-12-31</td>\n",
              "      <td>1</td>\n",
              "      <td>1</td>\n",
              "      <td>12</td>\n",
              "      <td>21</td>\n",
              "      <td>0</td>\n",
              "      <td>1</td>\n",
              "      <td>1</td>\n",
              "      <td>1</td>\n",
              "      <td>0.26</td>\n",
              "      <td>0.2576</td>\n",
              "      <td>0.60</td>\n",
              "      <td>0.1642</td>\n",
              "      <td>7</td>\n",
              "      <td>83</td>\n",
              "      <td>90</td>\n",
              "    </tr>\n",
              "    <tr>\n",
              "      <th>17377</th>\n",
              "      <td>17378</td>\n",
              "      <td>2012-12-31</td>\n",
              "      <td>1</td>\n",
              "      <td>1</td>\n",
              "      <td>12</td>\n",
              "      <td>22</td>\n",
              "      <td>0</td>\n",
              "      <td>1</td>\n",
              "      <td>1</td>\n",
              "      <td>1</td>\n",
              "      <td>0.26</td>\n",
              "      <td>0.2727</td>\n",
              "      <td>0.56</td>\n",
              "      <td>0.1343</td>\n",
              "      <td>13</td>\n",
              "      <td>48</td>\n",
              "      <td>61</td>\n",
              "    </tr>\n",
              "    <tr>\n",
              "      <th>17378</th>\n",
              "      <td>17379</td>\n",
              "      <td>2012-12-31</td>\n",
              "      <td>1</td>\n",
              "      <td>1</td>\n",
              "      <td>12</td>\n",
              "      <td>23</td>\n",
              "      <td>0</td>\n",
              "      <td>1</td>\n",
              "      <td>1</td>\n",
              "      <td>1</td>\n",
              "      <td>0.26</td>\n",
              "      <td>0.2727</td>\n",
              "      <td>0.65</td>\n",
              "      <td>0.1343</td>\n",
              "      <td>12</td>\n",
              "      <td>37</td>\n",
              "      <td>49</td>\n",
              "    </tr>\n",
              "  </tbody>\n",
              "</table>\n",
              "<p>17379 rows × 17 columns</p>\n",
              "</div>"
            ],
            "text/plain": [
              "       instant      dteday  season  yr  mnth  hr  holiday  weekday  \\\n",
              "0            1  2011-01-01       1   0     1   0        0        6   \n",
              "1            2  2011-01-01       1   0     1   1        0        6   \n",
              "2            3  2011-01-01       1   0     1   2        0        6   \n",
              "3            4  2011-01-01       1   0     1   3        0        6   \n",
              "4            5  2011-01-01       1   0     1   4        0        6   \n",
              "...        ...         ...     ...  ..   ...  ..      ...      ...   \n",
              "17374    17375  2012-12-31       1   1    12  19        0        1   \n",
              "17375    17376  2012-12-31       1   1    12  20        0        1   \n",
              "17376    17377  2012-12-31       1   1    12  21        0        1   \n",
              "17377    17378  2012-12-31       1   1    12  22        0        1   \n",
              "17378    17379  2012-12-31       1   1    12  23        0        1   \n",
              "\n",
              "       workingday  weathersit  temp   atemp   hum  windspeed  casual  \\\n",
              "0               0           1  0.24  0.2879  0.81     0.0000       3   \n",
              "1               0           1  0.22  0.2727  0.80     0.0000       8   \n",
              "2               0           1  0.22  0.2727  0.80     0.0000       5   \n",
              "3               0           1  0.24  0.2879  0.75     0.0000       3   \n",
              "4               0           1  0.24  0.2879  0.75     0.0000       0   \n",
              "...           ...         ...   ...     ...   ...        ...     ...   \n",
              "17374           1           2  0.26  0.2576  0.60     0.1642      11   \n",
              "17375           1           2  0.26  0.2576  0.60     0.1642       8   \n",
              "17376           1           1  0.26  0.2576  0.60     0.1642       7   \n",
              "17377           1           1  0.26  0.2727  0.56     0.1343      13   \n",
              "17378           1           1  0.26  0.2727  0.65     0.1343      12   \n",
              "\n",
              "       registered  cnt  \n",
              "0              13   16  \n",
              "1              32   40  \n",
              "2              27   32  \n",
              "3              10   13  \n",
              "4               1    1  \n",
              "...           ...  ...  \n",
              "17374         108  119  \n",
              "17375          81   89  \n",
              "17376          83   90  \n",
              "17377          48   61  \n",
              "17378          37   49  \n",
              "\n",
              "[17379 rows x 17 columns]"
            ]
          },
          "execution_count": 6,
          "metadata": {},
          "output_type": "execute_result"
        }
      ],
      "source": [
        "print(\"Data Hour\")\n",
        "df2"
      ]
    },
    {
      "cell_type": "markdown",
      "metadata": {
        "id": "MMi6xGaDkbCi"
      },
      "source": [
        "**Insight:**\n",
        "- Data yang dikumpulkan dari website dicoding yang menyediakan 3 sumber data\n",
        "- Membaca data day di dalam berkas CSV dengan delimiter , (koma) yang berfungsi untuk memisahkan nilai-nilai pada setiap baris, lalu kemudian menampilkan data hasil pembacaan berkas CSV.\n",
        "- Membaca data hour di dalam berkas CSV dengan delimiter , (koma) yang berfungsi untuk memisahkan nilai-nilai pada setiap baris, lalu kemudian menampilkan data hasil pembacaan berkas CSV."
      ]
    },
    {
      "cell_type": "markdown",
      "metadata": {
        "id": "FHSiqaZp8DC1"
      },
      "source": [
        "### Assessing Data"
      ]
    },
    {
      "cell_type": "code",
      "execution_count": 7,
      "metadata": {
        "id": "ax-3tEjc9Cj1"
      },
      "outputs": [
        {
          "name": "stdout",
          "output_type": "stream",
          "text": [
            "Jumlah Missing Values pada data day\n"
          ]
        },
        {
          "data": {
            "text/plain": [
              "instant       0\n",
              "dteday        0\n",
              "season        0\n",
              "yr            0\n",
              "mnth          0\n",
              "holiday       0\n",
              "weekday       0\n",
              "workingday    0\n",
              "weathersit    0\n",
              "temp          0\n",
              "atemp         0\n",
              "hum           0\n",
              "windspeed     0\n",
              "casual        0\n",
              "registered    0\n",
              "cnt           0\n",
              "dtype: int64"
            ]
          },
          "metadata": {},
          "output_type": "display_data"
        },
        {
          "name": "stdout",
          "output_type": "stream",
          "text": [
            "Jumlah Missing Values pada data hour\n"
          ]
        },
        {
          "data": {
            "text/plain": [
              "instant       0\n",
              "dteday        0\n",
              "season        0\n",
              "yr            0\n",
              "mnth          0\n",
              "hr            0\n",
              "holiday       0\n",
              "weekday       0\n",
              "workingday    0\n",
              "weathersit    0\n",
              "temp          0\n",
              "atemp         0\n",
              "hum           0\n",
              "windspeed     0\n",
              "casual        0\n",
              "registered    0\n",
              "cnt           0\n",
              "dtype: int64"
            ]
          },
          "metadata": {},
          "output_type": "display_data"
        },
        {
          "name": "stdout",
          "output_type": "stream",
          "text": [
            "Jumlah Duplikasi pada data day\n"
          ]
        },
        {
          "data": {
            "text/plain": [
              "0"
            ]
          },
          "metadata": {},
          "output_type": "display_data"
        },
        {
          "name": "stdout",
          "output_type": "stream",
          "text": [
            "Jumlah Duplikasi pada data hour\n"
          ]
        },
        {
          "data": {
            "text/plain": [
              "0"
            ]
          },
          "metadata": {},
          "output_type": "display_data"
        }
      ],
      "source": [
        "# print(\"Jumlah Missing Values pada data day\\n\")\n",
        "# print(df1.isnull().sum())\n",
        "# print(\"Jumlah Missing Values pada data hour\\n\")\n",
        "# print(df2.isnull().sum())\n",
        "\n",
        "print(\"Jumlah Missing Values pada data day\")\n",
        "display(df1.isna().sum())\n",
        "print(\"Jumlah Missing Values pada data hour\")\n",
        "display(df2.isna().sum())\n",
        "\n",
        "print(\"Jumlah Duplikasi pada data day\")\n",
        "display(df1.duplicated().sum())\n",
        "print(\"Jumlah Duplikasi pada data hour\")\n",
        "display(df2.duplicated().sum())"
      ]
    },
    {
      "cell_type": "code",
      "execution_count": 8,
      "metadata": {},
      "outputs": [
        {
          "name": "stdout",
          "output_type": "stream",
          "text": [
            "<class 'pandas.core.frame.DataFrame'>\n",
            "RangeIndex: 731 entries, 0 to 730\n",
            "Data columns (total 16 columns):\n",
            " #   Column      Non-Null Count  Dtype  \n",
            "---  ------      --------------  -----  \n",
            " 0   instant     731 non-null    int64  \n",
            " 1   dteday      731 non-null    object \n",
            " 2   season      731 non-null    int64  \n",
            " 3   yr          731 non-null    int64  \n",
            " 4   mnth        731 non-null    int64  \n",
            " 5   holiday     731 non-null    int64  \n",
            " 6   weekday     731 non-null    int64  \n",
            " 7   workingday  731 non-null    int64  \n",
            " 8   weathersit  731 non-null    int64  \n",
            " 9   temp        731 non-null    float64\n",
            " 10  atemp       731 non-null    float64\n",
            " 11  hum         731 non-null    float64\n",
            " 12  windspeed   731 non-null    float64\n",
            " 13  casual      731 non-null    int64  \n",
            " 14  registered  731 non-null    int64  \n",
            " 15  cnt         731 non-null    int64  \n",
            "dtypes: float64(4), int64(11), object(1)\n",
            "memory usage: 91.5+ KB\n"
          ]
        },
        {
          "data": {
            "text/plain": [
              "None"
            ]
          },
          "metadata": {},
          "output_type": "display_data"
        },
        {
          "name": "stdout",
          "output_type": "stream",
          "text": [
            "<class 'pandas.core.frame.DataFrame'>\n",
            "RangeIndex: 17379 entries, 0 to 17378\n",
            "Data columns (total 17 columns):\n",
            " #   Column      Non-Null Count  Dtype  \n",
            "---  ------      --------------  -----  \n",
            " 0   instant     17379 non-null  int64  \n",
            " 1   dteday      17379 non-null  object \n",
            " 2   season      17379 non-null  int64  \n",
            " 3   yr          17379 non-null  int64  \n",
            " 4   mnth        17379 non-null  int64  \n",
            " 5   hr          17379 non-null  int64  \n",
            " 6   holiday     17379 non-null  int64  \n",
            " 7   weekday     17379 non-null  int64  \n",
            " 8   workingday  17379 non-null  int64  \n",
            " 9   weathersit  17379 non-null  int64  \n",
            " 10  temp        17379 non-null  float64\n",
            " 11  atemp       17379 non-null  float64\n",
            " 12  hum         17379 non-null  float64\n",
            " 13  windspeed   17379 non-null  float64\n",
            " 14  casual      17379 non-null  int64  \n",
            " 15  registered  17379 non-null  int64  \n",
            " 16  cnt         17379 non-null  int64  \n",
            "dtypes: float64(4), int64(12), object(1)\n",
            "memory usage: 2.3+ MB\n"
          ]
        },
        {
          "data": {
            "text/plain": [
              "None"
            ]
          },
          "metadata": {},
          "output_type": "display_data"
        }
      ],
      "source": [
        "display(df1.info())\n",
        "display(df2.info())"
      ]
    },
    {
      "cell_type": "code",
      "execution_count": 9,
      "metadata": {},
      "outputs": [
        {
          "data": {
            "application/vnd.microsoft.datawrangler.viewer.v0+json": {
              "columns": [
                {
                  "name": "index",
                  "rawType": "object",
                  "type": "string"
                },
                {
                  "name": "instant",
                  "rawType": "float64",
                  "type": "float"
                },
                {
                  "name": "season",
                  "rawType": "float64",
                  "type": "float"
                },
                {
                  "name": "yr",
                  "rawType": "float64",
                  "type": "float"
                },
                {
                  "name": "mnth",
                  "rawType": "float64",
                  "type": "float"
                },
                {
                  "name": "holiday",
                  "rawType": "float64",
                  "type": "float"
                },
                {
                  "name": "weekday",
                  "rawType": "float64",
                  "type": "float"
                },
                {
                  "name": "workingday",
                  "rawType": "float64",
                  "type": "float"
                },
                {
                  "name": "weathersit",
                  "rawType": "float64",
                  "type": "float"
                },
                {
                  "name": "temp",
                  "rawType": "float64",
                  "type": "float"
                },
                {
                  "name": "atemp",
                  "rawType": "float64",
                  "type": "float"
                },
                {
                  "name": "hum",
                  "rawType": "float64",
                  "type": "float"
                },
                {
                  "name": "windspeed",
                  "rawType": "float64",
                  "type": "float"
                },
                {
                  "name": "casual",
                  "rawType": "float64",
                  "type": "float"
                },
                {
                  "name": "registered",
                  "rawType": "float64",
                  "type": "float"
                },
                {
                  "name": "cnt",
                  "rawType": "float64",
                  "type": "float"
                }
              ],
              "conversionMethod": "pd.DataFrame",
              "ref": "c16995f2-6896-4435-ab29-f3eb61ece9a6",
              "rows": [
                [
                  "count",
                  "731.0",
                  "731.0",
                  "731.0",
                  "731.0",
                  "731.0",
                  "731.0",
                  "731.0",
                  "731.0",
                  "731.0",
                  "731.0",
                  "731.0",
                  "731.0",
                  "731.0",
                  "731.0",
                  "731.0"
                ],
                [
                  "mean",
                  "366.0",
                  "2.496580027359781",
                  "0.5006839945280438",
                  "6.519835841313269",
                  "0.028727770177838577",
                  "2.997264021887825",
                  "0.6839945280437757",
                  "1.3953488372093024",
                  "0.495384788508892",
                  "0.47435398864569084",
                  "0.6278940629274967",
                  "0.190486211627907",
                  "848.1764705882352",
                  "3656.172366621067",
                  "4504.3488372093025"
                ],
                [
                  "std",
                  "211.16581162678773",
                  "1.1108070927726255",
                  "0.5003418803818264",
                  "3.4519127872562527",
                  "0.16715474262247382",
                  "2.0047869179444824",
                  "0.4652333866777036",
                  "0.5448943419593665",
                  "0.18305099611148878",
                  "0.1629611783863113",
                  "0.14242909513835394",
                  "0.07749787068166941",
                  "686.622488284655",
                  "1560.2563770194536",
                  "1937.2114516187676"
                ],
                [
                  "min",
                  "1.0",
                  "1.0",
                  "0.0",
                  "1.0",
                  "0.0",
                  "0.0",
                  "0.0",
                  "1.0",
                  "0.0591304",
                  "0.0790696",
                  "0.0",
                  "0.0223917",
                  "2.0",
                  "20.0",
                  "22.0"
                ],
                [
                  "25%",
                  "183.5",
                  "2.0",
                  "0.0",
                  "4.0",
                  "0.0",
                  "1.0",
                  "0.0",
                  "1.0",
                  "0.3370835",
                  "0.3378425",
                  "0.52",
                  "0.13495",
                  "315.5",
                  "2497.0",
                  "3152.0"
                ],
                [
                  "50%",
                  "366.0",
                  "3.0",
                  "1.0",
                  "7.0",
                  "0.0",
                  "3.0",
                  "1.0",
                  "1.0",
                  "0.498333",
                  "0.486733",
                  "0.626667",
                  "0.180975",
                  "713.0",
                  "3662.0",
                  "4548.0"
                ],
                [
                  "75%",
                  "548.5",
                  "3.0",
                  "1.0",
                  "10.0",
                  "0.0",
                  "5.0",
                  "1.0",
                  "2.0",
                  "0.6554165000000001",
                  "0.6086020000000001",
                  "0.7302085",
                  "0.2332145",
                  "1096.0",
                  "4776.5",
                  "5956.0"
                ],
                [
                  "max",
                  "731.0",
                  "4.0",
                  "1.0",
                  "12.0",
                  "1.0",
                  "6.0",
                  "1.0",
                  "3.0",
                  "0.861667",
                  "0.840896",
                  "0.9725",
                  "0.507463",
                  "3410.0",
                  "6946.0",
                  "8714.0"
                ]
              ],
              "shape": {
                "columns": 15,
                "rows": 8
              }
            },
            "text/html": [
              "<div>\n",
              "<style scoped>\n",
              "    .dataframe tbody tr th:only-of-type {\n",
              "        vertical-align: middle;\n",
              "    }\n",
              "\n",
              "    .dataframe tbody tr th {\n",
              "        vertical-align: top;\n",
              "    }\n",
              "\n",
              "    .dataframe thead th {\n",
              "        text-align: right;\n",
              "    }\n",
              "</style>\n",
              "<table border=\"1\" class=\"dataframe\">\n",
              "  <thead>\n",
              "    <tr style=\"text-align: right;\">\n",
              "      <th></th>\n",
              "      <th>instant</th>\n",
              "      <th>season</th>\n",
              "      <th>yr</th>\n",
              "      <th>mnth</th>\n",
              "      <th>holiday</th>\n",
              "      <th>weekday</th>\n",
              "      <th>workingday</th>\n",
              "      <th>weathersit</th>\n",
              "      <th>temp</th>\n",
              "      <th>atemp</th>\n",
              "      <th>hum</th>\n",
              "      <th>windspeed</th>\n",
              "      <th>casual</th>\n",
              "      <th>registered</th>\n",
              "      <th>cnt</th>\n",
              "    </tr>\n",
              "  </thead>\n",
              "  <tbody>\n",
              "    <tr>\n",
              "      <th>count</th>\n",
              "      <td>731.000000</td>\n",
              "      <td>731.000000</td>\n",
              "      <td>731.000000</td>\n",
              "      <td>731.000000</td>\n",
              "      <td>731.000000</td>\n",
              "      <td>731.000000</td>\n",
              "      <td>731.000000</td>\n",
              "      <td>731.000000</td>\n",
              "      <td>731.000000</td>\n",
              "      <td>731.000000</td>\n",
              "      <td>731.000000</td>\n",
              "      <td>731.000000</td>\n",
              "      <td>731.000000</td>\n",
              "      <td>731.000000</td>\n",
              "      <td>731.000000</td>\n",
              "    </tr>\n",
              "    <tr>\n",
              "      <th>mean</th>\n",
              "      <td>366.000000</td>\n",
              "      <td>2.496580</td>\n",
              "      <td>0.500684</td>\n",
              "      <td>6.519836</td>\n",
              "      <td>0.028728</td>\n",
              "      <td>2.997264</td>\n",
              "      <td>0.683995</td>\n",
              "      <td>1.395349</td>\n",
              "      <td>0.495385</td>\n",
              "      <td>0.474354</td>\n",
              "      <td>0.627894</td>\n",
              "      <td>0.190486</td>\n",
              "      <td>848.176471</td>\n",
              "      <td>3656.172367</td>\n",
              "      <td>4504.348837</td>\n",
              "    </tr>\n",
              "    <tr>\n",
              "      <th>std</th>\n",
              "      <td>211.165812</td>\n",
              "      <td>1.110807</td>\n",
              "      <td>0.500342</td>\n",
              "      <td>3.451913</td>\n",
              "      <td>0.167155</td>\n",
              "      <td>2.004787</td>\n",
              "      <td>0.465233</td>\n",
              "      <td>0.544894</td>\n",
              "      <td>0.183051</td>\n",
              "      <td>0.162961</td>\n",
              "      <td>0.142429</td>\n",
              "      <td>0.077498</td>\n",
              "      <td>686.622488</td>\n",
              "      <td>1560.256377</td>\n",
              "      <td>1937.211452</td>\n",
              "    </tr>\n",
              "    <tr>\n",
              "      <th>min</th>\n",
              "      <td>1.000000</td>\n",
              "      <td>1.000000</td>\n",
              "      <td>0.000000</td>\n",
              "      <td>1.000000</td>\n",
              "      <td>0.000000</td>\n",
              "      <td>0.000000</td>\n",
              "      <td>0.000000</td>\n",
              "      <td>1.000000</td>\n",
              "      <td>0.059130</td>\n",
              "      <td>0.079070</td>\n",
              "      <td>0.000000</td>\n",
              "      <td>0.022392</td>\n",
              "      <td>2.000000</td>\n",
              "      <td>20.000000</td>\n",
              "      <td>22.000000</td>\n",
              "    </tr>\n",
              "    <tr>\n",
              "      <th>25%</th>\n",
              "      <td>183.500000</td>\n",
              "      <td>2.000000</td>\n",
              "      <td>0.000000</td>\n",
              "      <td>4.000000</td>\n",
              "      <td>0.000000</td>\n",
              "      <td>1.000000</td>\n",
              "      <td>0.000000</td>\n",
              "      <td>1.000000</td>\n",
              "      <td>0.337083</td>\n",
              "      <td>0.337842</td>\n",
              "      <td>0.520000</td>\n",
              "      <td>0.134950</td>\n",
              "      <td>315.500000</td>\n",
              "      <td>2497.000000</td>\n",
              "      <td>3152.000000</td>\n",
              "    </tr>\n",
              "    <tr>\n",
              "      <th>50%</th>\n",
              "      <td>366.000000</td>\n",
              "      <td>3.000000</td>\n",
              "      <td>1.000000</td>\n",
              "      <td>7.000000</td>\n",
              "      <td>0.000000</td>\n",
              "      <td>3.000000</td>\n",
              "      <td>1.000000</td>\n",
              "      <td>1.000000</td>\n",
              "      <td>0.498333</td>\n",
              "      <td>0.486733</td>\n",
              "      <td>0.626667</td>\n",
              "      <td>0.180975</td>\n",
              "      <td>713.000000</td>\n",
              "      <td>3662.000000</td>\n",
              "      <td>4548.000000</td>\n",
              "    </tr>\n",
              "    <tr>\n",
              "      <th>75%</th>\n",
              "      <td>548.500000</td>\n",
              "      <td>3.000000</td>\n",
              "      <td>1.000000</td>\n",
              "      <td>10.000000</td>\n",
              "      <td>0.000000</td>\n",
              "      <td>5.000000</td>\n",
              "      <td>1.000000</td>\n",
              "      <td>2.000000</td>\n",
              "      <td>0.655417</td>\n",
              "      <td>0.608602</td>\n",
              "      <td>0.730209</td>\n",
              "      <td>0.233214</td>\n",
              "      <td>1096.000000</td>\n",
              "      <td>4776.500000</td>\n",
              "      <td>5956.000000</td>\n",
              "    </tr>\n",
              "    <tr>\n",
              "      <th>max</th>\n",
              "      <td>731.000000</td>\n",
              "      <td>4.000000</td>\n",
              "      <td>1.000000</td>\n",
              "      <td>12.000000</td>\n",
              "      <td>1.000000</td>\n",
              "      <td>6.000000</td>\n",
              "      <td>1.000000</td>\n",
              "      <td>3.000000</td>\n",
              "      <td>0.861667</td>\n",
              "      <td>0.840896</td>\n",
              "      <td>0.972500</td>\n",
              "      <td>0.507463</td>\n",
              "      <td>3410.000000</td>\n",
              "      <td>6946.000000</td>\n",
              "      <td>8714.000000</td>\n",
              "    </tr>\n",
              "  </tbody>\n",
              "</table>\n",
              "</div>"
            ],
            "text/plain": [
              "          instant      season          yr        mnth     holiday     weekday  \\\n",
              "count  731.000000  731.000000  731.000000  731.000000  731.000000  731.000000   \n",
              "mean   366.000000    2.496580    0.500684    6.519836    0.028728    2.997264   \n",
              "std    211.165812    1.110807    0.500342    3.451913    0.167155    2.004787   \n",
              "min      1.000000    1.000000    0.000000    1.000000    0.000000    0.000000   \n",
              "25%    183.500000    2.000000    0.000000    4.000000    0.000000    1.000000   \n",
              "50%    366.000000    3.000000    1.000000    7.000000    0.000000    3.000000   \n",
              "75%    548.500000    3.000000    1.000000   10.000000    0.000000    5.000000   \n",
              "max    731.000000    4.000000    1.000000   12.000000    1.000000    6.000000   \n",
              "\n",
              "       workingday  weathersit        temp       atemp         hum   windspeed  \\\n",
              "count  731.000000  731.000000  731.000000  731.000000  731.000000  731.000000   \n",
              "mean     0.683995    1.395349    0.495385    0.474354    0.627894    0.190486   \n",
              "std      0.465233    0.544894    0.183051    0.162961    0.142429    0.077498   \n",
              "min      0.000000    1.000000    0.059130    0.079070    0.000000    0.022392   \n",
              "25%      0.000000    1.000000    0.337083    0.337842    0.520000    0.134950   \n",
              "50%      1.000000    1.000000    0.498333    0.486733    0.626667    0.180975   \n",
              "75%      1.000000    2.000000    0.655417    0.608602    0.730209    0.233214   \n",
              "max      1.000000    3.000000    0.861667    0.840896    0.972500    0.507463   \n",
              "\n",
              "            casual   registered          cnt  \n",
              "count   731.000000   731.000000   731.000000  \n",
              "mean    848.176471  3656.172367  4504.348837  \n",
              "std     686.622488  1560.256377  1937.211452  \n",
              "min       2.000000    20.000000    22.000000  \n",
              "25%     315.500000  2497.000000  3152.000000  \n",
              "50%     713.000000  3662.000000  4548.000000  \n",
              "75%    1096.000000  4776.500000  5956.000000  \n",
              "max    3410.000000  6946.000000  8714.000000  "
            ]
          },
          "execution_count": 9,
          "metadata": {},
          "output_type": "execute_result"
        }
      ],
      "source": [
        "df1.describe()"
      ]
    },
    {
      "cell_type": "code",
      "execution_count": 10,
      "metadata": {},
      "outputs": [
        {
          "data": {
            "application/vnd.microsoft.datawrangler.viewer.v0+json": {
              "columns": [
                {
                  "name": "index",
                  "rawType": "object",
                  "type": "string"
                },
                {
                  "name": "instant",
                  "rawType": "float64",
                  "type": "float"
                },
                {
                  "name": "season",
                  "rawType": "float64",
                  "type": "float"
                },
                {
                  "name": "yr",
                  "rawType": "float64",
                  "type": "float"
                },
                {
                  "name": "mnth",
                  "rawType": "float64",
                  "type": "float"
                },
                {
                  "name": "hr",
                  "rawType": "float64",
                  "type": "float"
                },
                {
                  "name": "holiday",
                  "rawType": "float64",
                  "type": "float"
                },
                {
                  "name": "weekday",
                  "rawType": "float64",
                  "type": "float"
                },
                {
                  "name": "workingday",
                  "rawType": "float64",
                  "type": "float"
                },
                {
                  "name": "weathersit",
                  "rawType": "float64",
                  "type": "float"
                },
                {
                  "name": "temp",
                  "rawType": "float64",
                  "type": "float"
                },
                {
                  "name": "atemp",
                  "rawType": "float64",
                  "type": "float"
                },
                {
                  "name": "hum",
                  "rawType": "float64",
                  "type": "float"
                },
                {
                  "name": "windspeed",
                  "rawType": "float64",
                  "type": "float"
                },
                {
                  "name": "casual",
                  "rawType": "float64",
                  "type": "float"
                },
                {
                  "name": "registered",
                  "rawType": "float64",
                  "type": "float"
                },
                {
                  "name": "cnt",
                  "rawType": "float64",
                  "type": "float"
                }
              ],
              "conversionMethod": "pd.DataFrame",
              "ref": "98b972cf-f971-4d7e-9db5-3468d45d5cd1",
              "rows": [
                [
                  "count",
                  "17379.0",
                  "17379.0",
                  "17379.0",
                  "17379.0",
                  "17379.0",
                  "17379.0",
                  "17379.0",
                  "17379.0",
                  "17379.0",
                  "17379.0",
                  "17379.0",
                  "17379.0",
                  "17379.0",
                  "17379.0",
                  "17379.0",
                  "17379.0"
                ],
                [
                  "mean",
                  "8690.0",
                  "2.5016399102364923",
                  "0.5025605615973301",
                  "6.537775476149376",
                  "11.546751826917545",
                  "0.028770355026181024",
                  "3.003682605443351",
                  "0.6827205247712756",
                  "1.425283387997008",
                  "0.4969871684216583",
                  "0.4757751021347604",
                  "0.6272288394038783",
                  "0.1900976063064618",
                  "35.67621842453536",
                  "153.78686920996606",
                  "189.46308763450142"
                ],
                [
                  "std",
                  "5017.029499614288",
                  "1.1069181394480763",
                  "0.5000078290910197",
                  "3.4387757137501653",
                  "6.9144050952644935",
                  "0.16716527638437123",
                  "2.005771456110988",
                  "0.46543063352388286",
                  "0.6393568777542534",
                  "0.1925561212497219",
                  "0.17185021563535943",
                  "0.19292983406291508",
                  "0.12234022857279049",
                  "49.30503038705308",
                  "151.35728591258314",
                  "181.38759909186473"
                ],
                [
                  "min",
                  "1.0",
                  "1.0",
                  "0.0",
                  "1.0",
                  "0.0",
                  "0.0",
                  "0.0",
                  "0.0",
                  "1.0",
                  "0.02",
                  "0.0",
                  "0.0",
                  "0.0",
                  "0.0",
                  "0.0",
                  "1.0"
                ],
                [
                  "25%",
                  "4345.5",
                  "2.0",
                  "0.0",
                  "4.0",
                  "6.0",
                  "0.0",
                  "1.0",
                  "0.0",
                  "1.0",
                  "0.34",
                  "0.3333",
                  "0.48",
                  "0.1045",
                  "4.0",
                  "34.0",
                  "40.0"
                ],
                [
                  "50%",
                  "8690.0",
                  "3.0",
                  "1.0",
                  "7.0",
                  "12.0",
                  "0.0",
                  "3.0",
                  "1.0",
                  "1.0",
                  "0.5",
                  "0.4848",
                  "0.63",
                  "0.194",
                  "17.0",
                  "115.0",
                  "142.0"
                ],
                [
                  "75%",
                  "13034.5",
                  "3.0",
                  "1.0",
                  "10.0",
                  "18.0",
                  "0.0",
                  "5.0",
                  "1.0",
                  "2.0",
                  "0.66",
                  "0.6212",
                  "0.78",
                  "0.2537",
                  "48.0",
                  "220.0",
                  "281.0"
                ],
                [
                  "max",
                  "17379.0",
                  "4.0",
                  "1.0",
                  "12.0",
                  "23.0",
                  "1.0",
                  "6.0",
                  "1.0",
                  "4.0",
                  "1.0",
                  "1.0",
                  "1.0",
                  "0.8507",
                  "367.0",
                  "886.0",
                  "977.0"
                ]
              ],
              "shape": {
                "columns": 16,
                "rows": 8
              }
            },
            "text/html": [
              "<div>\n",
              "<style scoped>\n",
              "    .dataframe tbody tr th:only-of-type {\n",
              "        vertical-align: middle;\n",
              "    }\n",
              "\n",
              "    .dataframe tbody tr th {\n",
              "        vertical-align: top;\n",
              "    }\n",
              "\n",
              "    .dataframe thead th {\n",
              "        text-align: right;\n",
              "    }\n",
              "</style>\n",
              "<table border=\"1\" class=\"dataframe\">\n",
              "  <thead>\n",
              "    <tr style=\"text-align: right;\">\n",
              "      <th></th>\n",
              "      <th>instant</th>\n",
              "      <th>season</th>\n",
              "      <th>yr</th>\n",
              "      <th>mnth</th>\n",
              "      <th>hr</th>\n",
              "      <th>holiday</th>\n",
              "      <th>weekday</th>\n",
              "      <th>workingday</th>\n",
              "      <th>weathersit</th>\n",
              "      <th>temp</th>\n",
              "      <th>atemp</th>\n",
              "      <th>hum</th>\n",
              "      <th>windspeed</th>\n",
              "      <th>casual</th>\n",
              "      <th>registered</th>\n",
              "      <th>cnt</th>\n",
              "    </tr>\n",
              "  </thead>\n",
              "  <tbody>\n",
              "    <tr>\n",
              "      <th>count</th>\n",
              "      <td>17379.0000</td>\n",
              "      <td>17379.000000</td>\n",
              "      <td>17379.000000</td>\n",
              "      <td>17379.000000</td>\n",
              "      <td>17379.000000</td>\n",
              "      <td>17379.000000</td>\n",
              "      <td>17379.000000</td>\n",
              "      <td>17379.000000</td>\n",
              "      <td>17379.000000</td>\n",
              "      <td>17379.000000</td>\n",
              "      <td>17379.000000</td>\n",
              "      <td>17379.000000</td>\n",
              "      <td>17379.000000</td>\n",
              "      <td>17379.000000</td>\n",
              "      <td>17379.000000</td>\n",
              "      <td>17379.000000</td>\n",
              "    </tr>\n",
              "    <tr>\n",
              "      <th>mean</th>\n",
              "      <td>8690.0000</td>\n",
              "      <td>2.501640</td>\n",
              "      <td>0.502561</td>\n",
              "      <td>6.537775</td>\n",
              "      <td>11.546752</td>\n",
              "      <td>0.028770</td>\n",
              "      <td>3.003683</td>\n",
              "      <td>0.682721</td>\n",
              "      <td>1.425283</td>\n",
              "      <td>0.496987</td>\n",
              "      <td>0.475775</td>\n",
              "      <td>0.627229</td>\n",
              "      <td>0.190098</td>\n",
              "      <td>35.676218</td>\n",
              "      <td>153.786869</td>\n",
              "      <td>189.463088</td>\n",
              "    </tr>\n",
              "    <tr>\n",
              "      <th>std</th>\n",
              "      <td>5017.0295</td>\n",
              "      <td>1.106918</td>\n",
              "      <td>0.500008</td>\n",
              "      <td>3.438776</td>\n",
              "      <td>6.914405</td>\n",
              "      <td>0.167165</td>\n",
              "      <td>2.005771</td>\n",
              "      <td>0.465431</td>\n",
              "      <td>0.639357</td>\n",
              "      <td>0.192556</td>\n",
              "      <td>0.171850</td>\n",
              "      <td>0.192930</td>\n",
              "      <td>0.122340</td>\n",
              "      <td>49.305030</td>\n",
              "      <td>151.357286</td>\n",
              "      <td>181.387599</td>\n",
              "    </tr>\n",
              "    <tr>\n",
              "      <th>min</th>\n",
              "      <td>1.0000</td>\n",
              "      <td>1.000000</td>\n",
              "      <td>0.000000</td>\n",
              "      <td>1.000000</td>\n",
              "      <td>0.000000</td>\n",
              "      <td>0.000000</td>\n",
              "      <td>0.000000</td>\n",
              "      <td>0.000000</td>\n",
              "      <td>1.000000</td>\n",
              "      <td>0.020000</td>\n",
              "      <td>0.000000</td>\n",
              "      <td>0.000000</td>\n",
              "      <td>0.000000</td>\n",
              "      <td>0.000000</td>\n",
              "      <td>0.000000</td>\n",
              "      <td>1.000000</td>\n",
              "    </tr>\n",
              "    <tr>\n",
              "      <th>25%</th>\n",
              "      <td>4345.5000</td>\n",
              "      <td>2.000000</td>\n",
              "      <td>0.000000</td>\n",
              "      <td>4.000000</td>\n",
              "      <td>6.000000</td>\n",
              "      <td>0.000000</td>\n",
              "      <td>1.000000</td>\n",
              "      <td>0.000000</td>\n",
              "      <td>1.000000</td>\n",
              "      <td>0.340000</td>\n",
              "      <td>0.333300</td>\n",
              "      <td>0.480000</td>\n",
              "      <td>0.104500</td>\n",
              "      <td>4.000000</td>\n",
              "      <td>34.000000</td>\n",
              "      <td>40.000000</td>\n",
              "    </tr>\n",
              "    <tr>\n",
              "      <th>50%</th>\n",
              "      <td>8690.0000</td>\n",
              "      <td>3.000000</td>\n",
              "      <td>1.000000</td>\n",
              "      <td>7.000000</td>\n",
              "      <td>12.000000</td>\n",
              "      <td>0.000000</td>\n",
              "      <td>3.000000</td>\n",
              "      <td>1.000000</td>\n",
              "      <td>1.000000</td>\n",
              "      <td>0.500000</td>\n",
              "      <td>0.484800</td>\n",
              "      <td>0.630000</td>\n",
              "      <td>0.194000</td>\n",
              "      <td>17.000000</td>\n",
              "      <td>115.000000</td>\n",
              "      <td>142.000000</td>\n",
              "    </tr>\n",
              "    <tr>\n",
              "      <th>75%</th>\n",
              "      <td>13034.5000</td>\n",
              "      <td>3.000000</td>\n",
              "      <td>1.000000</td>\n",
              "      <td>10.000000</td>\n",
              "      <td>18.000000</td>\n",
              "      <td>0.000000</td>\n",
              "      <td>5.000000</td>\n",
              "      <td>1.000000</td>\n",
              "      <td>2.000000</td>\n",
              "      <td>0.660000</td>\n",
              "      <td>0.621200</td>\n",
              "      <td>0.780000</td>\n",
              "      <td>0.253700</td>\n",
              "      <td>48.000000</td>\n",
              "      <td>220.000000</td>\n",
              "      <td>281.000000</td>\n",
              "    </tr>\n",
              "    <tr>\n",
              "      <th>max</th>\n",
              "      <td>17379.0000</td>\n",
              "      <td>4.000000</td>\n",
              "      <td>1.000000</td>\n",
              "      <td>12.000000</td>\n",
              "      <td>23.000000</td>\n",
              "      <td>1.000000</td>\n",
              "      <td>6.000000</td>\n",
              "      <td>1.000000</td>\n",
              "      <td>4.000000</td>\n",
              "      <td>1.000000</td>\n",
              "      <td>1.000000</td>\n",
              "      <td>1.000000</td>\n",
              "      <td>0.850700</td>\n",
              "      <td>367.000000</td>\n",
              "      <td>886.000000</td>\n",
              "      <td>977.000000</td>\n",
              "    </tr>\n",
              "  </tbody>\n",
              "</table>\n",
              "</div>"
            ],
            "text/plain": [
              "          instant        season            yr          mnth            hr  \\\n",
              "count  17379.0000  17379.000000  17379.000000  17379.000000  17379.000000   \n",
              "mean    8690.0000      2.501640      0.502561      6.537775     11.546752   \n",
              "std     5017.0295      1.106918      0.500008      3.438776      6.914405   \n",
              "min        1.0000      1.000000      0.000000      1.000000      0.000000   \n",
              "25%     4345.5000      2.000000      0.000000      4.000000      6.000000   \n",
              "50%     8690.0000      3.000000      1.000000      7.000000     12.000000   \n",
              "75%    13034.5000      3.000000      1.000000     10.000000     18.000000   \n",
              "max    17379.0000      4.000000      1.000000     12.000000     23.000000   \n",
              "\n",
              "            holiday       weekday    workingday    weathersit          temp  \\\n",
              "count  17379.000000  17379.000000  17379.000000  17379.000000  17379.000000   \n",
              "mean       0.028770      3.003683      0.682721      1.425283      0.496987   \n",
              "std        0.167165      2.005771      0.465431      0.639357      0.192556   \n",
              "min        0.000000      0.000000      0.000000      1.000000      0.020000   \n",
              "25%        0.000000      1.000000      0.000000      1.000000      0.340000   \n",
              "50%        0.000000      3.000000      1.000000      1.000000      0.500000   \n",
              "75%        0.000000      5.000000      1.000000      2.000000      0.660000   \n",
              "max        1.000000      6.000000      1.000000      4.000000      1.000000   \n",
              "\n",
              "              atemp           hum     windspeed        casual    registered  \\\n",
              "count  17379.000000  17379.000000  17379.000000  17379.000000  17379.000000   \n",
              "mean       0.475775      0.627229      0.190098     35.676218    153.786869   \n",
              "std        0.171850      0.192930      0.122340     49.305030    151.357286   \n",
              "min        0.000000      0.000000      0.000000      0.000000      0.000000   \n",
              "25%        0.333300      0.480000      0.104500      4.000000     34.000000   \n",
              "50%        0.484800      0.630000      0.194000     17.000000    115.000000   \n",
              "75%        0.621200      0.780000      0.253700     48.000000    220.000000   \n",
              "max        1.000000      1.000000      0.850700    367.000000    886.000000   \n",
              "\n",
              "                cnt  \n",
              "count  17379.000000  \n",
              "mean     189.463088  \n",
              "std      181.387599  \n",
              "min        1.000000  \n",
              "25%       40.000000  \n",
              "50%      142.000000  \n",
              "75%      281.000000  \n",
              "max      977.000000  "
            ]
          },
          "execution_count": 10,
          "metadata": {},
          "output_type": "execute_result"
        }
      ],
      "source": [
        "df2.describe()"
      ]
    },
    {
      "cell_type": "markdown",
      "metadata": {
        "id": "7dtxhAPrkhPL"
      },
      "source": [
        "**Insight:**\n",
        "- Berdasarkan hasil kode program mengukur data day, tidak ada missing values maupun duplicates, penjelasan informasi mengenai tipe data pada setiap kolom dengan perhitungan banyaknya null, serta tidak ada inaccurate values .\n",
        "- Berdasarkan hasil kode program mengukur data hour, tidak ada missing values maupun duplicates dan penjelasan informasi mengenai tipe data pada setiap kolom dengan perhitungan banyaknya null, serta tidak ada inaccurate values.\n",
        "- Dapat disimpulkan bahwa data day dan hour tidak memiliki missing values, duplicates, inaccurate values karena tidak terdapat keanehan atau anomali pada setiap kolom, sehingga tidak ada masalah "
      ]
    },
    {
      "cell_type": "markdown",
      "metadata": {
        "id": "EhN5R4hr8DC1"
      },
      "source": [
        "### Cleaning Data"
      ]
    },
    {
      "cell_type": "code",
      "execution_count": 11,
      "metadata": {
        "id": "jVnYpprE9Evz"
      },
      "outputs": [
        {
          "name": "stdout",
          "output_type": "stream",
          "text": [
            "<class 'pandas.core.frame.DataFrame'>\n",
            "RangeIndex: 731 entries, 0 to 730\n",
            "Data columns (total 3 columns):\n",
            " #   Column   Non-Null Count  Dtype         \n",
            "---  ------   --------------  -----         \n",
            " 0   dteday   731 non-null    datetime64[ns]\n",
            " 1   season   731 non-null    int64         \n",
            " 2   weekday  731 non-null    int64         \n",
            "dtypes: datetime64[ns](1), int64(2)\n",
            "memory usage: 17.3 KB\n"
          ]
        },
        {
          "data": {
            "text/plain": [
              "None"
            ]
          },
          "metadata": {},
          "output_type": "display_data"
        },
        {
          "name": "stdout",
          "output_type": "stream",
          "text": [
            "<class 'pandas.core.frame.DataFrame'>\n",
            "RangeIndex: 17379 entries, 0 to 17378\n",
            "Data columns (total 3 columns):\n",
            " #   Column  Non-Null Count  Dtype         \n",
            "---  ------  --------------  -----         \n",
            " 0   dteday  17379 non-null  datetime64[ns]\n",
            " 1   season  17379 non-null  int64         \n",
            " 2   hr      17379 non-null  int64         \n",
            "dtypes: datetime64[ns](1), int64(2)\n",
            "memory usage: 407.4 KB\n"
          ]
        },
        {
          "data": {
            "text/plain": [
              "None"
            ]
          },
          "metadata": {},
          "output_type": "display_data"
        },
        {
          "name": "stdout",
          "output_type": "stream",
          "text": [
            "Data Day\n"
          ]
        },
        {
          "data": {
            "application/vnd.microsoft.datawrangler.viewer.v0+json": {
              "columns": [
                {
                  "name": "index",
                  "rawType": "int64",
                  "type": "integer"
                },
                {
                  "name": "tgl_hari_krj",
                  "rawType": "datetime64[ns]",
                  "type": "datetime"
                },
                {
                  "name": "musim_hari",
                  "rawType": "int64",
                  "type": "integer"
                },
                {
                  "name": "hari_kerja",
                  "rawType": "int64",
                  "type": "integer"
                }
              ],
              "conversionMethod": "pd.DataFrame",
              "ref": "d1af388e-7e2e-445d-a9d8-b794b4d9172b",
              "rows": [
                [
                  "0",
                  "2011-01-01 00:00:00",
                  "1",
                  "6"
                ],
                [
                  "1",
                  "2011-01-02 00:00:00",
                  "1",
                  "0"
                ],
                [
                  "2",
                  "2011-01-03 00:00:00",
                  "1",
                  "1"
                ],
                [
                  "3",
                  "2011-01-04 00:00:00",
                  "1",
                  "2"
                ],
                [
                  "4",
                  "2011-01-05 00:00:00",
                  "1",
                  "3"
                ],
                [
                  "5",
                  "2011-01-06 00:00:00",
                  "1",
                  "4"
                ],
                [
                  "6",
                  "2011-01-07 00:00:00",
                  "1",
                  "5"
                ],
                [
                  "7",
                  "2011-01-08 00:00:00",
                  "1",
                  "6"
                ],
                [
                  "8",
                  "2011-01-09 00:00:00",
                  "1",
                  "0"
                ],
                [
                  "9",
                  "2011-01-10 00:00:00",
                  "1",
                  "1"
                ],
                [
                  "10",
                  "2011-01-11 00:00:00",
                  "1",
                  "2"
                ],
                [
                  "11",
                  "2011-01-12 00:00:00",
                  "1",
                  "3"
                ],
                [
                  "12",
                  "2011-01-13 00:00:00",
                  "1",
                  "4"
                ],
                [
                  "13",
                  "2011-01-14 00:00:00",
                  "1",
                  "5"
                ],
                [
                  "14",
                  "2011-01-15 00:00:00",
                  "1",
                  "6"
                ],
                [
                  "15",
                  "2011-01-16 00:00:00",
                  "1",
                  "0"
                ],
                [
                  "16",
                  "2011-01-17 00:00:00",
                  "1",
                  "1"
                ],
                [
                  "17",
                  "2011-01-18 00:00:00",
                  "1",
                  "2"
                ],
                [
                  "18",
                  "2011-01-19 00:00:00",
                  "1",
                  "3"
                ],
                [
                  "19",
                  "2011-01-20 00:00:00",
                  "1",
                  "4"
                ],
                [
                  "20",
                  "2011-01-21 00:00:00",
                  "1",
                  "5"
                ],
                [
                  "21",
                  "2011-01-22 00:00:00",
                  "1",
                  "6"
                ],
                [
                  "22",
                  "2011-01-23 00:00:00",
                  "1",
                  "0"
                ],
                [
                  "23",
                  "2011-01-24 00:00:00",
                  "1",
                  "1"
                ],
                [
                  "24",
                  "2011-01-25 00:00:00",
                  "1",
                  "2"
                ],
                [
                  "25",
                  "2011-01-26 00:00:00",
                  "1",
                  "3"
                ],
                [
                  "26",
                  "2011-01-27 00:00:00",
                  "1",
                  "4"
                ],
                [
                  "27",
                  "2011-01-28 00:00:00",
                  "1",
                  "5"
                ],
                [
                  "28",
                  "2011-01-29 00:00:00",
                  "1",
                  "6"
                ],
                [
                  "29",
                  "2011-01-30 00:00:00",
                  "1",
                  "0"
                ],
                [
                  "30",
                  "2011-01-31 00:00:00",
                  "1",
                  "1"
                ],
                [
                  "31",
                  "2011-02-01 00:00:00",
                  "1",
                  "2"
                ],
                [
                  "32",
                  "2011-02-02 00:00:00",
                  "1",
                  "3"
                ],
                [
                  "33",
                  "2011-02-03 00:00:00",
                  "1",
                  "4"
                ],
                [
                  "34",
                  "2011-02-04 00:00:00",
                  "1",
                  "5"
                ],
                [
                  "35",
                  "2011-02-05 00:00:00",
                  "1",
                  "6"
                ],
                [
                  "36",
                  "2011-02-06 00:00:00",
                  "1",
                  "0"
                ],
                [
                  "37",
                  "2011-02-07 00:00:00",
                  "1",
                  "1"
                ],
                [
                  "38",
                  "2011-02-08 00:00:00",
                  "1",
                  "2"
                ],
                [
                  "39",
                  "2011-02-09 00:00:00",
                  "1",
                  "3"
                ],
                [
                  "40",
                  "2011-02-10 00:00:00",
                  "1",
                  "4"
                ],
                [
                  "41",
                  "2011-02-11 00:00:00",
                  "1",
                  "5"
                ],
                [
                  "42",
                  "2011-02-12 00:00:00",
                  "1",
                  "6"
                ],
                [
                  "43",
                  "2011-02-13 00:00:00",
                  "1",
                  "0"
                ],
                [
                  "44",
                  "2011-02-14 00:00:00",
                  "1",
                  "1"
                ],
                [
                  "45",
                  "2011-02-15 00:00:00",
                  "1",
                  "2"
                ],
                [
                  "46",
                  "2011-02-16 00:00:00",
                  "1",
                  "3"
                ],
                [
                  "47",
                  "2011-02-17 00:00:00",
                  "1",
                  "4"
                ],
                [
                  "48",
                  "2011-02-18 00:00:00",
                  "1",
                  "5"
                ],
                [
                  "49",
                  "2011-02-19 00:00:00",
                  "1",
                  "6"
                ]
              ],
              "shape": {
                "columns": 3,
                "rows": 731
              }
            },
            "text/html": [
              "<div>\n",
              "<style scoped>\n",
              "    .dataframe tbody tr th:only-of-type {\n",
              "        vertical-align: middle;\n",
              "    }\n",
              "\n",
              "    .dataframe tbody tr th {\n",
              "        vertical-align: top;\n",
              "    }\n",
              "\n",
              "    .dataframe thead th {\n",
              "        text-align: right;\n",
              "    }\n",
              "</style>\n",
              "<table border=\"1\" class=\"dataframe\">\n",
              "  <thead>\n",
              "    <tr style=\"text-align: right;\">\n",
              "      <th></th>\n",
              "      <th>tgl_hari_krj</th>\n",
              "      <th>musim_hari</th>\n",
              "      <th>hari_kerja</th>\n",
              "    </tr>\n",
              "  </thead>\n",
              "  <tbody>\n",
              "    <tr>\n",
              "      <th>0</th>\n",
              "      <td>2011-01-01</td>\n",
              "      <td>1</td>\n",
              "      <td>6</td>\n",
              "    </tr>\n",
              "    <tr>\n",
              "      <th>1</th>\n",
              "      <td>2011-01-02</td>\n",
              "      <td>1</td>\n",
              "      <td>0</td>\n",
              "    </tr>\n",
              "    <tr>\n",
              "      <th>2</th>\n",
              "      <td>2011-01-03</td>\n",
              "      <td>1</td>\n",
              "      <td>1</td>\n",
              "    </tr>\n",
              "    <tr>\n",
              "      <th>3</th>\n",
              "      <td>2011-01-04</td>\n",
              "      <td>1</td>\n",
              "      <td>2</td>\n",
              "    </tr>\n",
              "    <tr>\n",
              "      <th>4</th>\n",
              "      <td>2011-01-05</td>\n",
              "      <td>1</td>\n",
              "      <td>3</td>\n",
              "    </tr>\n",
              "    <tr>\n",
              "      <th>...</th>\n",
              "      <td>...</td>\n",
              "      <td>...</td>\n",
              "      <td>...</td>\n",
              "    </tr>\n",
              "    <tr>\n",
              "      <th>726</th>\n",
              "      <td>2012-12-27</td>\n",
              "      <td>1</td>\n",
              "      <td>4</td>\n",
              "    </tr>\n",
              "    <tr>\n",
              "      <th>727</th>\n",
              "      <td>2012-12-28</td>\n",
              "      <td>1</td>\n",
              "      <td>5</td>\n",
              "    </tr>\n",
              "    <tr>\n",
              "      <th>728</th>\n",
              "      <td>2012-12-29</td>\n",
              "      <td>1</td>\n",
              "      <td>6</td>\n",
              "    </tr>\n",
              "    <tr>\n",
              "      <th>729</th>\n",
              "      <td>2012-12-30</td>\n",
              "      <td>1</td>\n",
              "      <td>0</td>\n",
              "    </tr>\n",
              "    <tr>\n",
              "      <th>730</th>\n",
              "      <td>2012-12-31</td>\n",
              "      <td>1</td>\n",
              "      <td>1</td>\n",
              "    </tr>\n",
              "  </tbody>\n",
              "</table>\n",
              "<p>731 rows × 3 columns</p>\n",
              "</div>"
            ],
            "text/plain": [
              "    tgl_hari_krj  musim_hari  hari_kerja\n",
              "0     2011-01-01           1           6\n",
              "1     2011-01-02           1           0\n",
              "2     2011-01-03           1           1\n",
              "3     2011-01-04           1           2\n",
              "4     2011-01-05           1           3\n",
              "..           ...         ...         ...\n",
              "726   2012-12-27           1           4\n",
              "727   2012-12-28           1           5\n",
              "728   2012-12-29           1           6\n",
              "729   2012-12-30           1           0\n",
              "730   2012-12-31           1           1\n",
              "\n",
              "[731 rows x 3 columns]"
            ]
          },
          "metadata": {},
          "output_type": "display_data"
        },
        {
          "name": "stdout",
          "output_type": "stream",
          "text": [
            "Data Hour\n"
          ]
        },
        {
          "data": {
            "application/vnd.microsoft.datawrangler.viewer.v0+json": {
              "columns": [
                {
                  "name": "index",
                  "rawType": "int64",
                  "type": "integer"
                },
                {
                  "name": "tgl_hari_jam",
                  "rawType": "datetime64[ns]",
                  "type": "datetime"
                },
                {
                  "name": "musim_jam",
                  "rawType": "int64",
                  "type": "integer"
                },
                {
                  "name": "jam",
                  "rawType": "int64",
                  "type": "integer"
                }
              ],
              "conversionMethod": "pd.DataFrame",
              "ref": "ddcc5e55-403b-4396-9c12-2ef912523ca7",
              "rows": [
                [
                  "0",
                  "2011-01-01 00:00:00",
                  "1",
                  "0"
                ],
                [
                  "1",
                  "2011-01-01 00:00:00",
                  "1",
                  "1"
                ],
                [
                  "2",
                  "2011-01-01 00:00:00",
                  "1",
                  "2"
                ],
                [
                  "3",
                  "2011-01-01 00:00:00",
                  "1",
                  "3"
                ],
                [
                  "4",
                  "2011-01-01 00:00:00",
                  "1",
                  "4"
                ],
                [
                  "5",
                  "2011-01-01 00:00:00",
                  "1",
                  "5"
                ],
                [
                  "6",
                  "2011-01-01 00:00:00",
                  "1",
                  "6"
                ],
                [
                  "7",
                  "2011-01-01 00:00:00",
                  "1",
                  "7"
                ],
                [
                  "8",
                  "2011-01-01 00:00:00",
                  "1",
                  "8"
                ],
                [
                  "9",
                  "2011-01-01 00:00:00",
                  "1",
                  "9"
                ],
                [
                  "10",
                  "2011-01-01 00:00:00",
                  "1",
                  "10"
                ],
                [
                  "11",
                  "2011-01-01 00:00:00",
                  "1",
                  "11"
                ],
                [
                  "12",
                  "2011-01-01 00:00:00",
                  "1",
                  "12"
                ],
                [
                  "13",
                  "2011-01-01 00:00:00",
                  "1",
                  "13"
                ],
                [
                  "14",
                  "2011-01-01 00:00:00",
                  "1",
                  "14"
                ],
                [
                  "15",
                  "2011-01-01 00:00:00",
                  "1",
                  "15"
                ],
                [
                  "16",
                  "2011-01-01 00:00:00",
                  "1",
                  "16"
                ],
                [
                  "17",
                  "2011-01-01 00:00:00",
                  "1",
                  "17"
                ],
                [
                  "18",
                  "2011-01-01 00:00:00",
                  "1",
                  "18"
                ],
                [
                  "19",
                  "2011-01-01 00:00:00",
                  "1",
                  "19"
                ],
                [
                  "20",
                  "2011-01-01 00:00:00",
                  "1",
                  "20"
                ],
                [
                  "21",
                  "2011-01-01 00:00:00",
                  "1",
                  "21"
                ],
                [
                  "22",
                  "2011-01-01 00:00:00",
                  "1",
                  "22"
                ],
                [
                  "23",
                  "2011-01-01 00:00:00",
                  "1",
                  "23"
                ],
                [
                  "24",
                  "2011-01-02 00:00:00",
                  "1",
                  "0"
                ],
                [
                  "25",
                  "2011-01-02 00:00:00",
                  "1",
                  "1"
                ],
                [
                  "26",
                  "2011-01-02 00:00:00",
                  "1",
                  "2"
                ],
                [
                  "27",
                  "2011-01-02 00:00:00",
                  "1",
                  "3"
                ],
                [
                  "28",
                  "2011-01-02 00:00:00",
                  "1",
                  "4"
                ],
                [
                  "29",
                  "2011-01-02 00:00:00",
                  "1",
                  "6"
                ],
                [
                  "30",
                  "2011-01-02 00:00:00",
                  "1",
                  "7"
                ],
                [
                  "31",
                  "2011-01-02 00:00:00",
                  "1",
                  "8"
                ],
                [
                  "32",
                  "2011-01-02 00:00:00",
                  "1",
                  "9"
                ],
                [
                  "33",
                  "2011-01-02 00:00:00",
                  "1",
                  "10"
                ],
                [
                  "34",
                  "2011-01-02 00:00:00",
                  "1",
                  "11"
                ],
                [
                  "35",
                  "2011-01-02 00:00:00",
                  "1",
                  "12"
                ],
                [
                  "36",
                  "2011-01-02 00:00:00",
                  "1",
                  "13"
                ],
                [
                  "37",
                  "2011-01-02 00:00:00",
                  "1",
                  "14"
                ],
                [
                  "38",
                  "2011-01-02 00:00:00",
                  "1",
                  "15"
                ],
                [
                  "39",
                  "2011-01-02 00:00:00",
                  "1",
                  "16"
                ],
                [
                  "40",
                  "2011-01-02 00:00:00",
                  "1",
                  "17"
                ],
                [
                  "41",
                  "2011-01-02 00:00:00",
                  "1",
                  "18"
                ],
                [
                  "42",
                  "2011-01-02 00:00:00",
                  "1",
                  "19"
                ],
                [
                  "43",
                  "2011-01-02 00:00:00",
                  "1",
                  "20"
                ],
                [
                  "44",
                  "2011-01-02 00:00:00",
                  "1",
                  "21"
                ],
                [
                  "45",
                  "2011-01-02 00:00:00",
                  "1",
                  "22"
                ],
                [
                  "46",
                  "2011-01-02 00:00:00",
                  "1",
                  "23"
                ],
                [
                  "47",
                  "2011-01-03 00:00:00",
                  "1",
                  "0"
                ],
                [
                  "48",
                  "2011-01-03 00:00:00",
                  "1",
                  "1"
                ],
                [
                  "49",
                  "2011-01-03 00:00:00",
                  "1",
                  "4"
                ]
              ],
              "shape": {
                "columns": 3,
                "rows": 17379
              }
            },
            "text/html": [
              "<div>\n",
              "<style scoped>\n",
              "    .dataframe tbody tr th:only-of-type {\n",
              "        vertical-align: middle;\n",
              "    }\n",
              "\n",
              "    .dataframe tbody tr th {\n",
              "        vertical-align: top;\n",
              "    }\n",
              "\n",
              "    .dataframe thead th {\n",
              "        text-align: right;\n",
              "    }\n",
              "</style>\n",
              "<table border=\"1\" class=\"dataframe\">\n",
              "  <thead>\n",
              "    <tr style=\"text-align: right;\">\n",
              "      <th></th>\n",
              "      <th>tgl_hari_jam</th>\n",
              "      <th>musim_jam</th>\n",
              "      <th>jam</th>\n",
              "    </tr>\n",
              "  </thead>\n",
              "  <tbody>\n",
              "    <tr>\n",
              "      <th>0</th>\n",
              "      <td>2011-01-01</td>\n",
              "      <td>1</td>\n",
              "      <td>0</td>\n",
              "    </tr>\n",
              "    <tr>\n",
              "      <th>1</th>\n",
              "      <td>2011-01-01</td>\n",
              "      <td>1</td>\n",
              "      <td>1</td>\n",
              "    </tr>\n",
              "    <tr>\n",
              "      <th>2</th>\n",
              "      <td>2011-01-01</td>\n",
              "      <td>1</td>\n",
              "      <td>2</td>\n",
              "    </tr>\n",
              "    <tr>\n",
              "      <th>3</th>\n",
              "      <td>2011-01-01</td>\n",
              "      <td>1</td>\n",
              "      <td>3</td>\n",
              "    </tr>\n",
              "    <tr>\n",
              "      <th>4</th>\n",
              "      <td>2011-01-01</td>\n",
              "      <td>1</td>\n",
              "      <td>4</td>\n",
              "    </tr>\n",
              "    <tr>\n",
              "      <th>...</th>\n",
              "      <td>...</td>\n",
              "      <td>...</td>\n",
              "      <td>...</td>\n",
              "    </tr>\n",
              "    <tr>\n",
              "      <th>17374</th>\n",
              "      <td>2012-12-31</td>\n",
              "      <td>1</td>\n",
              "      <td>19</td>\n",
              "    </tr>\n",
              "    <tr>\n",
              "      <th>17375</th>\n",
              "      <td>2012-12-31</td>\n",
              "      <td>1</td>\n",
              "      <td>20</td>\n",
              "    </tr>\n",
              "    <tr>\n",
              "      <th>17376</th>\n",
              "      <td>2012-12-31</td>\n",
              "      <td>1</td>\n",
              "      <td>21</td>\n",
              "    </tr>\n",
              "    <tr>\n",
              "      <th>17377</th>\n",
              "      <td>2012-12-31</td>\n",
              "      <td>1</td>\n",
              "      <td>22</td>\n",
              "    </tr>\n",
              "    <tr>\n",
              "      <th>17378</th>\n",
              "      <td>2012-12-31</td>\n",
              "      <td>1</td>\n",
              "      <td>23</td>\n",
              "    </tr>\n",
              "  </tbody>\n",
              "</table>\n",
              "<p>17379 rows × 3 columns</p>\n",
              "</div>"
            ],
            "text/plain": [
              "      tgl_hari_jam  musim_jam  jam\n",
              "0       2011-01-01          1    0\n",
              "1       2011-01-01          1    1\n",
              "2       2011-01-01          1    2\n",
              "3       2011-01-01          1    3\n",
              "4       2011-01-01          1    4\n",
              "...            ...        ...  ...\n",
              "17374   2012-12-31          1   19\n",
              "17375   2012-12-31          1   20\n",
              "17376   2012-12-31          1   21\n",
              "17377   2012-12-31          1   22\n",
              "17378   2012-12-31          1   23\n",
              "\n",
              "[17379 rows x 3 columns]"
            ]
          },
          "metadata": {},
          "output_type": "display_data"
        }
      ],
      "source": [
        "df1 = pd.DataFrame(df1, columns = (\"dteday\",\"season\", \"weekday\"))\n",
        "# Memperbaiki tipe data\n",
        "df1[\"dteday\"] = pd.to_datetime(df1[\"dteday\"])\n",
        "display(df1.info())\n",
        "# Mengubah nama kolom\n",
        "df1 = df1.rename(columns={\"dteday\":\"tgl_hari_krj\",\"season\":\"musim_hari\", \"weekday\": \"hari_kerja\"})\n",
        "\n",
        "df2 = pd.DataFrame(df2, columns = (\"dteday\",\"season\", \"hr\"))\n",
        "# Memperbaiki tipe data\n",
        "df2[\"dteday\"] = pd.to_datetime(df2[\"dteday\"])\n",
        "display(df2.info())\n",
        "# Mengubah nama kolom\n",
        "df2 = df2.rename(columns={\"dteday\":\"tgl_hari_jam\",\"season\":\"musim_jam\", \"hr\":\"jam\"})\n",
        "\n",
        "print(\"Data Day\")\n",
        "display(df1)\n",
        "print(\"Data Hour\")\n",
        "display(df2)"
      ]
    },
    {
      "cell_type": "markdown",
      "metadata": {
        "id": "Q_5ejIqckiSP"
      },
      "source": [
        "**Insight:**\n",
        "- Memilih kolom tertentu pada data day menggunakan kode program ini untuk memperoleh kolom tertentu langsung tanpa menghapus kolom secara manual, dan mengubah data tipe pada kolom yang terdapat object menjadi datetime, lalu kemudian mengubah nama kolomnya juga untuk mudah memahami sembari mengamati data pada tahap analisis data\n",
        "- Memilih kolom tertentu pada data jam menggunakan kode program ini untuk memperoleh kolom tertentu langsung tanpa menghapus kolom secara manual, dan mengubah data tipe pada kolom yang terdapat object menjadi datetime, lalu kemudian mengubah nama kolomnya juga untuk mudah memahami sembari mengamati data pada tahap analisis data"
      ]
    },
    {
      "cell_type": "markdown",
      "metadata": {
        "id": "gp-Y6wU38DC1"
      },
      "source": [
        "## Exploratory Data Analysis (EDA)"
      ]
    },
    {
      "cell_type": "markdown",
      "metadata": {},
      "source": [
        "### Define questions for Explore Data"
      ]
    },
    {
      "cell_type": "markdown",
      "metadata": {},
      "source": [
        "- Jenis musim apa yang paling sering muncul dalam sebulan terakhir berdasarkan frekuensi data harian yang diukurkan dari dataset day?\n",
        "- Jenis musim dingin apa (termasuk Fall & Winter) yang paling sering muncul terjadi berdasarkan perhitungan jam yang dihasilkan?"
      ]
    },
    {
      "cell_type": "markdown",
      "metadata": {
        "id": "MW7WF2kr8DC1"
      },
      "source": [
        "### Explore statistic parameter from data"
      ]
    },
    {
      "cell_type": "markdown",
      "metadata": {},
      "source": [
        "#### Data Day"
      ]
    },
    {
      "cell_type": "code",
      "execution_count": 12,
      "metadata": {},
      "outputs": [
        {
          "data": {
            "application/vnd.microsoft.datawrangler.viewer.v0+json": {
              "columns": [
                {
                  "name": "musim_hari",
                  "rawType": "int64",
                  "type": "integer"
                },
                {
                  "name": "('tgl_hari_krj', 'count')",
                  "rawType": "object",
                  "type": "unknown"
                },
                {
                  "name": "('tgl_hari_krj', 'mean')",
                  "rawType": "object",
                  "type": "unknown"
                },
                {
                  "name": "('tgl_hari_krj', 'min')",
                  "rawType": "object",
                  "type": "unknown"
                },
                {
                  "name": "('tgl_hari_krj', '25%')",
                  "rawType": "object",
                  "type": "unknown"
                },
                {
                  "name": "('tgl_hari_krj', '50%')",
                  "rawType": "object",
                  "type": "unknown"
                },
                {
                  "name": "('tgl_hari_krj', '75%')",
                  "rawType": "object",
                  "type": "unknown"
                },
                {
                  "name": "('tgl_hari_krj', 'max')",
                  "rawType": "object",
                  "type": "unknown"
                },
                {
                  "name": "('tgl_hari_krj', 'std')",
                  "rawType": "object",
                  "type": "unknown"
                },
                {
                  "name": "('hari_kerja', 'count')",
                  "rawType": "float64",
                  "type": "float"
                },
                {
                  "name": "('hari_kerja', 'mean')",
                  "rawType": "float64",
                  "type": "float"
                },
                {
                  "name": "('hari_kerja', 'min')",
                  "rawType": "float64",
                  "type": "float"
                },
                {
                  "name": "('hari_kerja', '25%')",
                  "rawType": "float64",
                  "type": "float"
                },
                {
                  "name": "('hari_kerja', '50%')",
                  "rawType": "float64",
                  "type": "float"
                },
                {
                  "name": "('hari_kerja', '75%')",
                  "rawType": "float64",
                  "type": "float"
                },
                {
                  "name": "('hari_kerja', 'max')",
                  "rawType": "float64",
                  "type": "float"
                },
                {
                  "name": "('hari_kerja', 'std')",
                  "rawType": "float64",
                  "type": "float"
                }
              ],
              "conversionMethod": "pd.DataFrame",
              "ref": "76735224-8fd4-4b87-9a92-483de152248a",
              "rows": [
                [
                  "1",
                  "181",
                  "2011-09-19 16:26:31.160220928",
                  "2011-01-01 00:00:00",
                  "2011-02-15 00:00:00",
                  "2012-01-01 00:00:00",
                  "2012-02-15 00:00:00",
                  "2012-12-31 00:00:00",
                  null,
                  "181.0",
                  "3.0",
                  "0.0",
                  "1.0",
                  "3.0",
                  "5.0",
                  "6.0",
                  "2.0330600909302543"
                ],
                [
                  "2",
                  "184",
                  "2011-11-04 12:00:00",
                  "2011-03-21 00:00:00",
                  "2011-05-05 18:00:00",
                  "2011-11-04 12:00:00",
                  "2012-05-05 06:00:00",
                  "2012-06-20 00:00:00",
                  null,
                  "184.0",
                  "2.989130434782609",
                  "0.0",
                  "1.0",
                  "3.0",
                  "5.0",
                  "6.0",
                  "1.9999703015138786"
                ],
                [
                  "3",
                  "188",
                  "2012-02-05 12:00:00",
                  "2011-06-21 00:00:00",
                  "2011-08-06 18:00:00",
                  "2012-02-05 12:00:00",
                  "2012-08-06 06:00:00",
                  "2012-09-22 00:00:00",
                  null,
                  "188.0",
                  "3.0319148936170213",
                  "0.0",
                  "1.0",
                  "3.0",
                  "5.0",
                  "6.0",
                  "1.9943885324546518"
                ],
                [
                  "4",
                  "178",
                  "2012-05-07 00:00:00",
                  "2011-09-23 00:00:00",
                  "2011-11-06 06:00:00",
                  "2012-05-07 00:00:00",
                  "2012-11-05 18:00:00",
                  "2012-12-20 00:00:00",
                  null,
                  "178.0",
                  "2.966292134831461",
                  "0.0",
                  "1.0",
                  "3.0",
                  "5.0",
                  "6.0",
                  "2.0081722201015295"
                ]
              ],
              "shape": {
                "columns": 16,
                "rows": 4
              }
            },
            "text/html": [
              "<div>\n",
              "<style scoped>\n",
              "    .dataframe tbody tr th:only-of-type {\n",
              "        vertical-align: middle;\n",
              "    }\n",
              "\n",
              "    .dataframe tbody tr th {\n",
              "        vertical-align: top;\n",
              "    }\n",
              "\n",
              "    .dataframe thead tr th {\n",
              "        text-align: left;\n",
              "    }\n",
              "\n",
              "    .dataframe thead tr:last-of-type th {\n",
              "        text-align: right;\n",
              "    }\n",
              "</style>\n",
              "<table border=\"1\" class=\"dataframe\">\n",
              "  <thead>\n",
              "    <tr>\n",
              "      <th></th>\n",
              "      <th colspan=\"8\" halign=\"left\">tgl_hari_krj</th>\n",
              "      <th colspan=\"8\" halign=\"left\">hari_kerja</th>\n",
              "    </tr>\n",
              "    <tr>\n",
              "      <th></th>\n",
              "      <th>count</th>\n",
              "      <th>mean</th>\n",
              "      <th>min</th>\n",
              "      <th>25%</th>\n",
              "      <th>50%</th>\n",
              "      <th>75%</th>\n",
              "      <th>max</th>\n",
              "      <th>std</th>\n",
              "      <th>count</th>\n",
              "      <th>mean</th>\n",
              "      <th>min</th>\n",
              "      <th>25%</th>\n",
              "      <th>50%</th>\n",
              "      <th>75%</th>\n",
              "      <th>max</th>\n",
              "      <th>std</th>\n",
              "    </tr>\n",
              "    <tr>\n",
              "      <th>musim_hari</th>\n",
              "      <th></th>\n",
              "      <th></th>\n",
              "      <th></th>\n",
              "      <th></th>\n",
              "      <th></th>\n",
              "      <th></th>\n",
              "      <th></th>\n",
              "      <th></th>\n",
              "      <th></th>\n",
              "      <th></th>\n",
              "      <th></th>\n",
              "      <th></th>\n",
              "      <th></th>\n",
              "      <th></th>\n",
              "      <th></th>\n",
              "      <th></th>\n",
              "    </tr>\n",
              "  </thead>\n",
              "  <tbody>\n",
              "    <tr>\n",
              "      <th>1</th>\n",
              "      <td>181</td>\n",
              "      <td>2011-09-19 16:26:31.160220928</td>\n",
              "      <td>2011-01-01 00:00:00</td>\n",
              "      <td>2011-02-15 00:00:00</td>\n",
              "      <td>2012-01-01 00:00:00</td>\n",
              "      <td>2012-02-15 00:00:00</td>\n",
              "      <td>2012-12-31 00:00:00</td>\n",
              "      <td>NaN</td>\n",
              "      <td>181.0</td>\n",
              "      <td>3.000000</td>\n",
              "      <td>0.0</td>\n",
              "      <td>1.0</td>\n",
              "      <td>3.0</td>\n",
              "      <td>5.0</td>\n",
              "      <td>6.0</td>\n",
              "      <td>2.033060</td>\n",
              "    </tr>\n",
              "    <tr>\n",
              "      <th>2</th>\n",
              "      <td>184</td>\n",
              "      <td>2011-11-04 12:00:00</td>\n",
              "      <td>2011-03-21 00:00:00</td>\n",
              "      <td>2011-05-05 18:00:00</td>\n",
              "      <td>2011-11-04 12:00:00</td>\n",
              "      <td>2012-05-05 06:00:00</td>\n",
              "      <td>2012-06-20 00:00:00</td>\n",
              "      <td>NaN</td>\n",
              "      <td>184.0</td>\n",
              "      <td>2.989130</td>\n",
              "      <td>0.0</td>\n",
              "      <td>1.0</td>\n",
              "      <td>3.0</td>\n",
              "      <td>5.0</td>\n",
              "      <td>6.0</td>\n",
              "      <td>1.999970</td>\n",
              "    </tr>\n",
              "    <tr>\n",
              "      <th>3</th>\n",
              "      <td>188</td>\n",
              "      <td>2012-02-05 12:00:00</td>\n",
              "      <td>2011-06-21 00:00:00</td>\n",
              "      <td>2011-08-06 18:00:00</td>\n",
              "      <td>2012-02-05 12:00:00</td>\n",
              "      <td>2012-08-06 06:00:00</td>\n",
              "      <td>2012-09-22 00:00:00</td>\n",
              "      <td>NaN</td>\n",
              "      <td>188.0</td>\n",
              "      <td>3.031915</td>\n",
              "      <td>0.0</td>\n",
              "      <td>1.0</td>\n",
              "      <td>3.0</td>\n",
              "      <td>5.0</td>\n",
              "      <td>6.0</td>\n",
              "      <td>1.994389</td>\n",
              "    </tr>\n",
              "    <tr>\n",
              "      <th>4</th>\n",
              "      <td>178</td>\n",
              "      <td>2012-05-07 00:00:00</td>\n",
              "      <td>2011-09-23 00:00:00</td>\n",
              "      <td>2011-11-06 06:00:00</td>\n",
              "      <td>2012-05-07 00:00:00</td>\n",
              "      <td>2012-11-05 18:00:00</td>\n",
              "      <td>2012-12-20 00:00:00</td>\n",
              "      <td>NaN</td>\n",
              "      <td>178.0</td>\n",
              "      <td>2.966292</td>\n",
              "      <td>0.0</td>\n",
              "      <td>1.0</td>\n",
              "      <td>3.0</td>\n",
              "      <td>5.0</td>\n",
              "      <td>6.0</td>\n",
              "      <td>2.008172</td>\n",
              "    </tr>\n",
              "  </tbody>\n",
              "</table>\n",
              "</div>"
            ],
            "text/plain": [
              "           tgl_hari_krj                                                      \\\n",
              "                  count                           mean                  min   \n",
              "musim_hari                                                                    \n",
              "1                   181  2011-09-19 16:26:31.160220928  2011-01-01 00:00:00   \n",
              "2                   184            2011-11-04 12:00:00  2011-03-21 00:00:00   \n",
              "3                   188            2012-02-05 12:00:00  2011-06-21 00:00:00   \n",
              "4                   178            2012-05-07 00:00:00  2011-09-23 00:00:00   \n",
              "\n",
              "                                                                           \\\n",
              "                            25%                  50%                  75%   \n",
              "musim_hari                                                                  \n",
              "1           2011-02-15 00:00:00  2012-01-01 00:00:00  2012-02-15 00:00:00   \n",
              "2           2011-05-05 18:00:00  2011-11-04 12:00:00  2012-05-05 06:00:00   \n",
              "3           2011-08-06 18:00:00  2012-02-05 12:00:00  2012-08-06 06:00:00   \n",
              "4           2011-11-06 06:00:00  2012-05-07 00:00:00  2012-11-05 18:00:00   \n",
              "\n",
              "                                     hari_kerja                                \\\n",
              "                            max  std      count      mean  min  25%  50%  75%   \n",
              "musim_hari                                                                      \n",
              "1           2012-12-31 00:00:00  NaN      181.0  3.000000  0.0  1.0  3.0  5.0   \n",
              "2           2012-06-20 00:00:00  NaN      184.0  2.989130  0.0  1.0  3.0  5.0   \n",
              "3           2012-09-22 00:00:00  NaN      188.0  3.031915  0.0  1.0  3.0  5.0   \n",
              "4           2012-12-20 00:00:00  NaN      178.0  2.966292  0.0  1.0  3.0  5.0   \n",
              "\n",
              "                           \n",
              "            max       std  \n",
              "musim_hari                 \n",
              "1           6.0  2.033060  \n",
              "2           6.0  1.999970  \n",
              "3           6.0  1.994389  \n",
              "4           6.0  2.008172  "
            ]
          },
          "metadata": {},
          "output_type": "display_data"
        }
      ],
      "source": [
        "df1_season = df1.groupby(by=\"musim_hari\")\n",
        "display(df1_season.describe())"
      ]
    },
    {
      "cell_type": "code",
      "execution_count": 13,
      "metadata": {},
      "outputs": [
        {
          "data": {
            "application/vnd.microsoft.datawrangler.viewer.v0+json": {
              "columns": [
                {
                  "name": "index",
                  "rawType": "object",
                  "type": "string"
                },
                {
                  "name": "tgl_hari_krj",
                  "rawType": "object",
                  "type": "unknown"
                },
                {
                  "name": "musim_hari",
                  "rawType": "float64",
                  "type": "float"
                },
                {
                  "name": "hari_kerja",
                  "rawType": "float64",
                  "type": "float"
                }
              ],
              "conversionMethod": "pd.DataFrame",
              "ref": "156bf1a6-1ff3-4f27-87ab-6cda97e2aae8",
              "rows": [
                [
                  "count",
                  "731",
                  "731.0",
                  "731.0"
                ],
                [
                  "mean",
                  "2012-01-01 00:00:00",
                  "2.496580027359781",
                  "2.997264021887825"
                ],
                [
                  "min",
                  "2011-01-01 00:00:00",
                  "1.0",
                  "0.0"
                ],
                [
                  "25%",
                  "2011-07-02 12:00:00",
                  "2.0",
                  "1.0"
                ],
                [
                  "50%",
                  "2012-01-01 00:00:00",
                  "3.0",
                  "3.0"
                ],
                [
                  "75%",
                  "2012-07-01 12:00:00",
                  "3.0",
                  "5.0"
                ],
                [
                  "max",
                  "2012-12-31 00:00:00",
                  "4.0",
                  "6.0"
                ],
                [
                  "std",
                  null,
                  "1.1108070927726255",
                  "2.0047869179444824"
                ]
              ],
              "shape": {
                "columns": 3,
                "rows": 8
              }
            },
            "text/html": [
              "<div>\n",
              "<style scoped>\n",
              "    .dataframe tbody tr th:only-of-type {\n",
              "        vertical-align: middle;\n",
              "    }\n",
              "\n",
              "    .dataframe tbody tr th {\n",
              "        vertical-align: top;\n",
              "    }\n",
              "\n",
              "    .dataframe thead th {\n",
              "        text-align: right;\n",
              "    }\n",
              "</style>\n",
              "<table border=\"1\" class=\"dataframe\">\n",
              "  <thead>\n",
              "    <tr style=\"text-align: right;\">\n",
              "      <th></th>\n",
              "      <th>tgl_hari_krj</th>\n",
              "      <th>musim_hari</th>\n",
              "      <th>hari_kerja</th>\n",
              "    </tr>\n",
              "  </thead>\n",
              "  <tbody>\n",
              "    <tr>\n",
              "      <th>count</th>\n",
              "      <td>731</td>\n",
              "      <td>731.000000</td>\n",
              "      <td>731.000000</td>\n",
              "    </tr>\n",
              "    <tr>\n",
              "      <th>mean</th>\n",
              "      <td>2012-01-01 00:00:00</td>\n",
              "      <td>2.496580</td>\n",
              "      <td>2.997264</td>\n",
              "    </tr>\n",
              "    <tr>\n",
              "      <th>min</th>\n",
              "      <td>2011-01-01 00:00:00</td>\n",
              "      <td>1.000000</td>\n",
              "      <td>0.000000</td>\n",
              "    </tr>\n",
              "    <tr>\n",
              "      <th>25%</th>\n",
              "      <td>2011-07-02 12:00:00</td>\n",
              "      <td>2.000000</td>\n",
              "      <td>1.000000</td>\n",
              "    </tr>\n",
              "    <tr>\n",
              "      <th>50%</th>\n",
              "      <td>2012-01-01 00:00:00</td>\n",
              "      <td>3.000000</td>\n",
              "      <td>3.000000</td>\n",
              "    </tr>\n",
              "    <tr>\n",
              "      <th>75%</th>\n",
              "      <td>2012-07-01 12:00:00</td>\n",
              "      <td>3.000000</td>\n",
              "      <td>5.000000</td>\n",
              "    </tr>\n",
              "    <tr>\n",
              "      <th>max</th>\n",
              "      <td>2012-12-31 00:00:00</td>\n",
              "      <td>4.000000</td>\n",
              "      <td>6.000000</td>\n",
              "    </tr>\n",
              "    <tr>\n",
              "      <th>std</th>\n",
              "      <td>NaN</td>\n",
              "      <td>1.110807</td>\n",
              "      <td>2.004787</td>\n",
              "    </tr>\n",
              "  </tbody>\n",
              "</table>\n",
              "</div>"
            ],
            "text/plain": [
              "              tgl_hari_krj  musim_hari  hari_kerja\n",
              "count                  731  731.000000  731.000000\n",
              "mean   2012-01-01 00:00:00    2.496580    2.997264\n",
              "min    2011-01-01 00:00:00    1.000000    0.000000\n",
              "25%    2011-07-02 12:00:00    2.000000    1.000000\n",
              "50%    2012-01-01 00:00:00    3.000000    3.000000\n",
              "75%    2012-07-01 12:00:00    3.000000    5.000000\n",
              "max    2012-12-31 00:00:00    4.000000    6.000000\n",
              "std                    NaN    1.110807    2.004787"
            ]
          },
          "metadata": {},
          "output_type": "display_data"
        }
      ],
      "source": [
        "display(df1.describe())"
      ]
    },
    {
      "cell_type": "code",
      "execution_count": 14,
      "metadata": {},
      "outputs": [
        {
          "data": {
            "text/plain": [
              "array([[<Axes: title={'center': 'tgl_hari_krj'}>,\n",
              "        <Axes: title={'center': 'musim_hari'}>],\n",
              "       [<Axes: title={'center': 'hari_kerja'}>, <Axes: >]], dtype=object)"
            ]
          },
          "execution_count": 14,
          "metadata": {},
          "output_type": "execute_result"
        },
        {
          "data": {
            "image/png": "[encoded data removed]",
            "text/plain": [
              "<Figure size 640x480 with 4 Axes>"
            ]
          },
          "metadata": {},
          "output_type": "display_data"
        }
      ],
      "source": [
        "df1.hist()"
      ]
    },
    {
      "cell_type": "code",
      "execution_count": 15,
      "metadata": {},
      "outputs": [
        {
          "data": {
            "application/vnd.microsoft.datawrangler.viewer.v0+json": {
              "columns": [
                {
                  "name": "index",
                  "rawType": "object",
                  "type": "string"
                },
                {
                  "name": "tgl_hari_krj",
                  "rawType": "float64",
                  "type": "float"
                },
                {
                  "name": "musim_hari",
                  "rawType": "float64",
                  "type": "float"
                },
                {
                  "name": "hari_kerja",
                  "rawType": "float64",
                  "type": "float"
                }
              ],
              "conversionMethod": "pd.DataFrame",
              "ref": "09ab61d0-72d8-4dc5-8d8d-2331253a3e91",
              "rows": [
                [
                  "tgl_hari_krj",
                  "1.0",
                  "0.41222417881222106",
                  "-1.6179135734027278e-05"
                ],
                [
                  "musim_hari",
                  "0.41222417881222106",
                  "1.0",
                  "-0.0030798813391720477"
                ],
                [
                  "hari_kerja",
                  "-1.6179135734027278e-05",
                  "-0.0030798813391720477",
                  "1.0"
                ]
              ],
              "shape": {
                "columns": 3,
                "rows": 3
              }
            },
            "text/html": [
              "<div>\n",
              "<style scoped>\n",
              "    .dataframe tbody tr th:only-of-type {\n",
              "        vertical-align: middle;\n",
              "    }\n",
              "\n",
              "    .dataframe tbody tr th {\n",
              "        vertical-align: top;\n",
              "    }\n",
              "\n",
              "    .dataframe thead th {\n",
              "        text-align: right;\n",
              "    }\n",
              "</style>\n",
              "<table border=\"1\" class=\"dataframe\">\n",
              "  <thead>\n",
              "    <tr style=\"text-align: right;\">\n",
              "      <th></th>\n",
              "      <th>tgl_hari_krj</th>\n",
              "      <th>musim_hari</th>\n",
              "      <th>hari_kerja</th>\n",
              "    </tr>\n",
              "  </thead>\n",
              "  <tbody>\n",
              "    <tr>\n",
              "      <th>tgl_hari_krj</th>\n",
              "      <td>1.000000</td>\n",
              "      <td>0.412224</td>\n",
              "      <td>-0.000016</td>\n",
              "    </tr>\n",
              "    <tr>\n",
              "      <th>musim_hari</th>\n",
              "      <td>0.412224</td>\n",
              "      <td>1.000000</td>\n",
              "      <td>-0.003080</td>\n",
              "    </tr>\n",
              "    <tr>\n",
              "      <th>hari_kerja</th>\n",
              "      <td>-0.000016</td>\n",
              "      <td>-0.003080</td>\n",
              "      <td>1.000000</td>\n",
              "    </tr>\n",
              "  </tbody>\n",
              "</table>\n",
              "</div>"
            ],
            "text/plain": [
              "              tgl_hari_krj  musim_hari  hari_kerja\n",
              "tgl_hari_krj      1.000000    0.412224   -0.000016\n",
              "musim_hari        0.412224    1.000000   -0.003080\n",
              "hari_kerja       -0.000016   -0.003080    1.000000"
            ]
          },
          "execution_count": 15,
          "metadata": {},
          "output_type": "execute_result"
        }
      ],
      "source": [
        "df1.corr()"
      ]
    },
    {
      "cell_type": "markdown",
      "metadata": {},
      "source": [
        "#### Data Hour"
      ]
    },
    {
      "cell_type": "code",
      "execution_count": 16,
      "metadata": {},
      "outputs": [
        {
          "data": {
            "application/vnd.microsoft.datawrangler.viewer.v0+json": {
              "columns": [
                {
                  "name": "jam",
                  "rawType": "int64",
                  "type": "integer"
                },
                {
                  "name": "('tgl_hari_jam', 'count')",
                  "rawType": "object",
                  "type": "unknown"
                },
                {
                  "name": "('tgl_hari_jam', 'mean')",
                  "rawType": "object",
                  "type": "unknown"
                },
                {
                  "name": "('tgl_hari_jam', 'min')",
                  "rawType": "object",
                  "type": "unknown"
                },
                {
                  "name": "('tgl_hari_jam', '25%')",
                  "rawType": "object",
                  "type": "unknown"
                },
                {
                  "name": "('tgl_hari_jam', '50%')",
                  "rawType": "object",
                  "type": "unknown"
                },
                {
                  "name": "('tgl_hari_jam', '75%')",
                  "rawType": "object",
                  "type": "unknown"
                },
                {
                  "name": "('tgl_hari_jam', 'max')",
                  "rawType": "object",
                  "type": "unknown"
                },
                {
                  "name": "('tgl_hari_jam', 'std')",
                  "rawType": "object",
                  "type": "unknown"
                },
                {
                  "name": "('musim_jam', 'count')",
                  "rawType": "float64",
                  "type": "float"
                },
                {
                  "name": "('musim_jam', 'mean')",
                  "rawType": "float64",
                  "type": "float"
                },
                {
                  "name": "('musim_jam', 'min')",
                  "rawType": "float64",
                  "type": "float"
                },
                {
                  "name": "('musim_jam', '25%')",
                  "rawType": "float64",
                  "type": "float"
                },
                {
                  "name": "('musim_jam', '50%')",
                  "rawType": "float64",
                  "type": "float"
                },
                {
                  "name": "('musim_jam', '75%')",
                  "rawType": "float64",
                  "type": "float"
                },
                {
                  "name": "('musim_jam', 'max')",
                  "rawType": "float64",
                  "type": "float"
                },
                {
                  "name": "('musim_jam', 'std')",
                  "rawType": "float64",
                  "type": "float"
                }
              ],
              "conversionMethod": "pd.DataFrame",
              "ref": "22ed2d13-a2d6-4ff9-a35d-e1ffa095602e",
              "rows": [
                [
                  "0",
                  "726",
                  "2012-01-02 03:12:23.801652736",
                  "2011-01-01 00:00:00",
                  "2011-07-04 06:00:00",
                  "2012-01-02 12:00:00",
                  "2012-07-01 18:00:00",
                  "2012-12-31 00:00:00",
                  null,
                  "726.0",
                  "2.5",
                  "1.0",
                  "2.0",
                  "3.0",
                  "3.0",
                  "4.0",
                  "1.1088981794618444"
                ],
                [
                  "1",
                  "724",
                  "2012-01-01 21:08:57.016574464",
                  "2011-01-01 00:00:00",
                  "2011-07-03 18:00:00",
                  "2012-01-02 12:00:00",
                  "2012-07-01 06:00:00",
                  "2012-12-31 00:00:00",
                  null,
                  "724.0",
                  "2.4972375690607733",
                  "1.0",
                  "2.0",
                  "2.5",
                  "3.0",
                  "4.0",
                  "1.1088693574627928"
                ],
                [
                  "2",
                  "715",
                  "2012-01-04 22:31:23.076923136",
                  "2011-01-01 00:00:00",
                  "2011-07-08 12:00:00",
                  "2012-01-06 00:00:00",
                  "2012-07-03 12:00:00",
                  "2012-12-31 00:00:00",
                  null,
                  "715.0",
                  "2.511888111888112",
                  "1.0",
                  "2.0",
                  "3.0",
                  "3.0",
                  "4.0",
                  "1.1029937305063642"
                ],
                [
                  "3",
                  "697",
                  "2012-01-07 23:37:16.441893888",
                  "2011-01-01 00:00:00",
                  "2011-07-13 00:00:00",
                  "2012-01-08 00:00:00",
                  "2012-07-05 00:00:00",
                  "2012-12-31 00:00:00",
                  null,
                  "697.0",
                  "2.539454806312769",
                  "1.0",
                  "2.0",
                  "3.0",
                  "3.0",
                  "4.0",
                  "1.0927957612930232"
                ],
                [
                  "4",
                  "697",
                  "2012-01-10 23:33:08.522238208",
                  "2011-01-01 00:00:00",
                  "2011-07-19 00:00:00",
                  "2012-01-12 00:00:00",
                  "2012-07-07 00:00:00",
                  "2012-12-31 00:00:00",
                  null,
                  "697.0",
                  "2.552367288378766",
                  "1.0",
                  "2.0",
                  "3.0",
                  "4.0",
                  "4.0",
                  "1.0935670004374005"
                ],
                [
                  "5",
                  "717",
                  "2012-01-05 07:29:52.468619264",
                  "2011-01-01 00:00:00",
                  "2011-07-10 00:00:00",
                  "2012-01-06 00:00:00",
                  "2012-07-03 00:00:00",
                  "2012-12-31 00:00:00",
                  null,
                  "717.0",
                  "2.513249651324965",
                  "1.0",
                  "2.0",
                  "3.0",
                  "3.0",
                  "4.0",
                  "1.104285790265175"
                ],
                [
                  "6",
                  "725",
                  "2012-01-01 18:00:29.793103360",
                  "2011-01-01 00:00:00",
                  "2011-07-04 00:00:00",
                  "2012-01-02 00:00:00",
                  "2012-07-01 00:00:00",
                  "2012-12-31 00:00:00",
                  null,
                  "725.0",
                  "2.4979310344827588",
                  "1.0",
                  "2.0",
                  "3.0",
                  "3.0",
                  "4.0",
                  "1.108260605553957"
                ],
                [
                  "7",
                  "727",
                  "2012-01-01 02:42:25.254470400",
                  "2011-01-01 00:00:00",
                  "2011-07-03 12:00:00",
                  "2012-01-01 00:00:00",
                  "2012-06-30 12:00:00",
                  "2012-12-31 00:00:00",
                  null,
                  "727.0",
                  "2.4965612104539203",
                  "1.0",
                  "2.0",
                  "3.0",
                  "3.0",
                  "4.0",
                  "1.1082842341034043"
                ],
                [
                  "8",
                  "727",
                  "2012-01-01 02:42:25.254470400",
                  "2011-01-01 00:00:00",
                  "2011-07-03 12:00:00",
                  "2012-01-01 00:00:00",
                  "2012-06-30 12:00:00",
                  "2012-12-31 00:00:00",
                  null,
                  "727.0",
                  "2.4965612104539203",
                  "1.0",
                  "2.0",
                  "3.0",
                  "3.0",
                  "4.0",
                  "1.1082842341034043"
                ],
                [
                  "9",
                  "727",
                  "2012-01-01 02:42:25.254470400",
                  "2011-01-01 00:00:00",
                  "2011-07-03 12:00:00",
                  "2012-01-01 00:00:00",
                  "2012-06-30 12:00:00",
                  "2012-12-31 00:00:00",
                  null,
                  "727.0",
                  "2.4965612104539203",
                  "1.0",
                  "2.0",
                  "3.0",
                  "3.0",
                  "4.0",
                  "1.1082842341034043"
                ],
                [
                  "10",
                  "727",
                  "2012-01-01 02:42:25.254470400",
                  "2011-01-01 00:00:00",
                  "2011-07-03 12:00:00",
                  "2012-01-01 00:00:00",
                  "2012-06-30 12:00:00",
                  "2012-12-31 00:00:00",
                  null,
                  "727.0",
                  "2.4965612104539203",
                  "1.0",
                  "2.0",
                  "3.0",
                  "3.0",
                  "4.0",
                  "1.1082842341034043"
                ],
                [
                  "11",
                  "727",
                  "2012-01-01 02:42:25.254470400",
                  "2011-01-01 00:00:00",
                  "2011-07-03 12:00:00",
                  "2012-01-01 00:00:00",
                  "2012-06-30 12:00:00",
                  "2012-12-31 00:00:00",
                  null,
                  "727.0",
                  "2.4965612104539203",
                  "1.0",
                  "2.0",
                  "3.0",
                  "3.0",
                  "4.0",
                  "1.1082842341034043"
                ],
                [
                  "12",
                  "728",
                  "2011-12-31 15:13:50.769230848",
                  "2011-01-01 00:00:00",
                  "2011-07-02 18:00:00",
                  "2011-12-31 12:00:00",
                  "2012-06-30 06:00:00",
                  "2012-12-31 00:00:00",
                  null,
                  "728.0",
                  "2.4945054945054945",
                  "1.0",
                  "2.0",
                  "2.5",
                  "3.0",
                  "4.0",
                  "1.1089097846809906"
                ],
                [
                  "13",
                  "729",
                  "2012-01-01 01:13:05.185185280",
                  "2011-01-01 00:00:00",
                  "2011-07-03 00:00:00",
                  "2012-01-01 00:00:00",
                  "2012-07-01 00:00:00",
                  "2012-12-31 00:00:00",
                  null,
                  "729.0",
                  "2.4965706447187928",
                  "1.0",
                  "2.0",
                  "3.0",
                  "3.0",
                  "4.0",
                  "1.109549845987322"
                ],
                [
                  "14",
                  "729",
                  "2012-01-01 01:13:05.185185280",
                  "2011-01-01 00:00:00",
                  "2011-07-03 00:00:00",
                  "2012-01-01 00:00:00",
                  "2012-07-01 00:00:00",
                  "2012-12-31 00:00:00",
                  null,
                  "729.0",
                  "2.4965706447187928",
                  "1.0",
                  "2.0",
                  "3.0",
                  "3.0",
                  "4.0",
                  "1.109549845987322"
                ],
                [
                  "15",
                  "729",
                  "2012-01-01 01:13:05.185185280",
                  "2011-01-01 00:00:00",
                  "2011-07-03 00:00:00",
                  "2012-01-01 00:00:00",
                  "2012-07-01 00:00:00",
                  "2012-12-31 00:00:00",
                  null,
                  "729.0",
                  "2.4965706447187928",
                  "1.0",
                  "2.0",
                  "3.0",
                  "3.0",
                  "4.0",
                  "1.109549845987322"
                ],
                [
                  "16",
                  "730",
                  "2011-12-31 14:04:16.438356224",
                  "2011-01-01 00:00:00",
                  "2011-07-02 06:00:00",
                  "2011-12-31 12:00:00",
                  "2012-06-30 18:00:00",
                  "2012-12-31 00:00:00",
                  null,
                  "730.0",
                  "2.4945205479452053",
                  "1.0",
                  "2.0",
                  "2.5",
                  "3.0",
                  "4.0",
                  "1.1101712581783478"
                ],
                [
                  "17",
                  "730",
                  "2011-12-31 14:04:16.438356224",
                  "2011-01-01 00:00:00",
                  "2011-07-02 06:00:00",
                  "2011-12-31 12:00:00",
                  "2012-06-30 18:00:00",
                  "2012-12-31 00:00:00",
                  null,
                  "730.0",
                  "2.4945205479452053",
                  "1.0",
                  "2.0",
                  "2.5",
                  "3.0",
                  "4.0",
                  "1.1101712581783478"
                ],
                [
                  "18",
                  "728",
                  "2012-01-01 05:26:22.417582592",
                  "2011-01-01 00:00:00",
                  "2011-07-02 18:00:00",
                  "2012-01-01 12:00:00",
                  "2012-07-01 06:00:00",
                  "2012-12-31 00:00:00",
                  null,
                  "728.0",
                  "2.495879120879121",
                  "1.0",
                  "2.0",
                  "2.5",
                  "3.0",
                  "4.0",
                  "1.110155470333657"
                ],
                [
                  "19",
                  "728",
                  "2012-01-01 05:26:22.417582592",
                  "2011-01-01 00:00:00",
                  "2011-07-02 18:00:00",
                  "2012-01-01 12:00:00",
                  "2012-07-01 06:00:00",
                  "2012-12-31 00:00:00",
                  null,
                  "728.0",
                  "2.495879120879121",
                  "1.0",
                  "2.0",
                  "2.5",
                  "3.0",
                  "4.0",
                  "1.110155470333657"
                ],
                [
                  "20",
                  "728",
                  "2012-01-01 05:26:22.417582592",
                  "2011-01-01 00:00:00",
                  "2011-07-02 18:00:00",
                  "2012-01-01 12:00:00",
                  "2012-07-01 06:00:00",
                  "2012-12-31 00:00:00",
                  null,
                  "728.0",
                  "2.495879120879121",
                  "1.0",
                  "2.0",
                  "2.5",
                  "3.0",
                  "4.0",
                  "1.110155470333657"
                ],
                [
                  "21",
                  "728",
                  "2012-01-01 05:26:22.417582592",
                  "2011-01-01 00:00:00",
                  "2011-07-02 18:00:00",
                  "2012-01-01 12:00:00",
                  "2012-07-01 06:00:00",
                  "2012-12-31 00:00:00",
                  null,
                  "728.0",
                  "2.495879120879121",
                  "1.0",
                  "2.0",
                  "2.5",
                  "3.0",
                  "4.0",
                  "1.110155470333657"
                ],
                [
                  "22",
                  "728",
                  "2012-01-01 05:26:22.417582592",
                  "2011-01-01 00:00:00",
                  "2011-07-02 18:00:00",
                  "2012-01-01 12:00:00",
                  "2012-07-01 06:00:00",
                  "2012-12-31 00:00:00",
                  null,
                  "728.0",
                  "2.495879120879121",
                  "1.0",
                  "2.0",
                  "2.5",
                  "3.0",
                  "4.0",
                  "1.110155470333657"
                ],
                [
                  "23",
                  "728",
                  "2012-01-01 05:26:22.417582592",
                  "2011-01-01 00:00:00",
                  "2011-07-02 18:00:00",
                  "2012-01-01 12:00:00",
                  "2012-07-01 06:00:00",
                  "2012-12-31 00:00:00",
                  null,
                  "728.0",
                  "2.495879120879121",
                  "1.0",
                  "2.0",
                  "2.5",
                  "3.0",
                  "4.0",
                  "1.110155470333657"
                ]
              ],
              "shape": {
                "columns": 16,
                "rows": 24
              }
            },
            "text/html": [
              "<div>\n",
              "<style scoped>\n",
              "    .dataframe tbody tr th:only-of-type {\n",
              "        vertical-align: middle;\n",
              "    }\n",
              "\n",
              "    .dataframe tbody tr th {\n",
              "        vertical-align: top;\n",
              "    }\n",
              "\n",
              "    .dataframe thead tr th {\n",
              "        text-align: left;\n",
              "    }\n",
              "\n",
              "    .dataframe thead tr:last-of-type th {\n",
              "        text-align: right;\n",
              "    }\n",
              "</style>\n",
              "<table border=\"1\" class=\"dataframe\">\n",
              "  <thead>\n",
              "    <tr>\n",
              "      <th></th>\n",
              "      <th colspan=\"8\" halign=\"left\">tgl_hari_jam</th>\n",
              "      <th colspan=\"8\" halign=\"left\">musim_jam</th>\n",
              "    </tr>\n",
              "    <tr>\n",
              "      <th></th>\n",
              "      <th>count</th>\n",
              "      <th>mean</th>\n",
              "      <th>min</th>\n",
              "      <th>25%</th>\n",
              "      <th>50%</th>\n",
              "      <th>75%</th>\n",
              "      <th>max</th>\n",
              "      <th>std</th>\n",
              "      <th>count</th>\n",
              "      <th>mean</th>\n",
              "      <th>min</th>\n",
              "      <th>25%</th>\n",
              "      <th>50%</th>\n",
              "      <th>75%</th>\n",
              "      <th>max</th>\n",
              "      <th>std</th>\n",
              "    </tr>\n",
              "    <tr>\n",
              "      <th>jam</th>\n",
              "      <th></th>\n",
              "      <th></th>\n",
              "      <th></th>\n",
              "      <th></th>\n",
              "      <th></th>\n",
              "      <th></th>\n",
              "      <th></th>\n",
              "      <th></th>\n",
              "      <th></th>\n",
              "      <th></th>\n",
              "      <th></th>\n",
              "      <th></th>\n",
              "      <th></th>\n",
              "      <th></th>\n",
              "      <th></th>\n",
              "      <th></th>\n",
              "    </tr>\n",
              "  </thead>\n",
              "  <tbody>\n",
              "    <tr>\n",
              "      <th>0</th>\n",
              "      <td>726</td>\n",
              "      <td>2012-01-02 03:12:23.801652736</td>\n",
              "      <td>2011-01-01 00:00:00</td>\n",
              "      <td>2011-07-04 06:00:00</td>\n",
              "      <td>2012-01-02 12:00:00</td>\n",
              "      <td>2012-07-01 18:00:00</td>\n",
              "      <td>2012-12-31 00:00:00</td>\n",
              "      <td>NaN</td>\n",
              "      <td>726.0</td>\n",
              "      <td>2.500000</td>\n",
              "      <td>1.0</td>\n",
              "      <td>2.0</td>\n",
              "      <td>3.0</td>\n",
              "      <td>3.0</td>\n",
              "      <td>4.0</td>\n",
              "      <td>1.108898</td>\n",
              "    </tr>\n",
              "    <tr>\n",
              "      <th>1</th>\n",
              "      <td>724</td>\n",
              "      <td>2012-01-01 21:08:57.016574464</td>\n",
              "      <td>2011-01-01 00:00:00</td>\n",
              "      <td>2011-07-03 18:00:00</td>\n",
              "      <td>2012-01-02 12:00:00</td>\n",
              "      <td>2012-07-01 06:00:00</td>\n",
              "      <td>2012-12-31 00:00:00</td>\n",
              "      <td>NaN</td>\n",
              "      <td>724.0</td>\n",
              "      <td>2.497238</td>\n",
              "      <td>1.0</td>\n",
              "      <td>2.0</td>\n",
              "      <td>2.5</td>\n",
              "      <td>3.0</td>\n",
              "      <td>4.0</td>\n",
              "      <td>1.108869</td>\n",
              "    </tr>\n",
              "    <tr>\n",
              "      <th>2</th>\n",
              "      <td>715</td>\n",
              "      <td>2012-01-04 22:31:23.076923136</td>\n",
              "      <td>2011-01-01 00:00:00</td>\n",
              "      <td>2011-07-08 12:00:00</td>\n",
              "      <td>2012-01-06 00:00:00</td>\n",
              "      <td>2012-07-03 12:00:00</td>\n",
              "      <td>2012-12-31 00:00:00</td>\n",
              "      <td>NaN</td>\n",
              "      <td>715.0</td>\n",
              "      <td>2.511888</td>\n",
              "      <td>1.0</td>\n",
              "      <td>2.0</td>\n",
              "      <td>3.0</td>\n",
              "      <td>3.0</td>\n",
              "      <td>4.0</td>\n",
              "      <td>1.102994</td>\n",
              "    </tr>\n",
              "    <tr>\n",
              "      <th>3</th>\n",
              "      <td>697</td>\n",
              "      <td>2012-01-07 23:37:16.441893888</td>\n",
              "      <td>2011-01-01 00:00:00</td>\n",
              "      <td>2011-07-13 00:00:00</td>\n",
              "      <td>2012-01-08 00:00:00</td>\n",
              "      <td>2012-07-05 00:00:00</td>\n",
              "      <td>2012-12-31 00:00:00</td>\n",
              "      <td>NaN</td>\n",
              "      <td>697.0</td>\n",
              "      <td>2.539455</td>\n",
              "      <td>1.0</td>\n",
              "      <td>2.0</td>\n",
              "      <td>3.0</td>\n",
              "      <td>3.0</td>\n",
              "      <td>4.0</td>\n",
              "      <td>1.092796</td>\n",
              "    </tr>\n",
              "    <tr>\n",
              "      <th>4</th>\n",
              "      <td>697</td>\n",
              "      <td>2012-01-10 23:33:08.522238208</td>\n",
              "      <td>2011-01-01 00:00:00</td>\n",
              "      <td>2011-07-19 00:00:00</td>\n",
              "      <td>2012-01-12 00:00:00</td>\n",
              "      <td>2012-07-07 00:00:00</td>\n",
              "      <td>2012-12-31 00:00:00</td>\n",
              "      <td>NaN</td>\n",
              "      <td>697.0</td>\n",
              "      <td>2.552367</td>\n",
              "      <td>1.0</td>\n",
              "      <td>2.0</td>\n",
              "      <td>3.0</td>\n",
              "      <td>4.0</td>\n",
              "      <td>4.0</td>\n",
              "      <td>1.093567</td>\n",
              "    </tr>\n",
              "    <tr>\n",
              "      <th>5</th>\n",
              "      <td>717</td>\n",
              "      <td>2012-01-05 07:29:52.468619264</td>\n",
              "      <td>2011-01-01 00:00:00</td>\n",
              "      <td>2011-07-10 00:00:00</td>\n",
              "      <td>2012-01-06 00:00:00</td>\n",
              "      <td>2012-07-03 00:00:00</td>\n",
              "      <td>2012-12-31 00:00:00</td>\n",
              "      <td>NaN</td>\n",
              "      <td>717.0</td>\n",
              "      <td>2.513250</td>\n",
              "      <td>1.0</td>\n",
              "      <td>2.0</td>\n",
              "      <td>3.0</td>\n",
              "      <td>3.0</td>\n",
              "      <td>4.0</td>\n",
              "      <td>1.104286</td>\n",
              "    </tr>\n",
              "    <tr>\n",
              "      <th>6</th>\n",
              "      <td>725</td>\n",
              "      <td>2012-01-01 18:00:29.793103360</td>\n",
              "      <td>2011-01-01 00:00:00</td>\n",
              "      <td>2011-07-04 00:00:00</td>\n",
              "      <td>2012-01-02 00:00:00</td>\n",
              "      <td>2012-07-01 00:00:00</td>\n",
              "      <td>2012-12-31 00:00:00</td>\n",
              "      <td>NaN</td>\n",
              "      <td>725.0</td>\n",
              "      <td>2.497931</td>\n",
              "      <td>1.0</td>\n",
              "      <td>2.0</td>\n",
              "      <td>3.0</td>\n",
              "      <td>3.0</td>\n",
              "      <td>4.0</td>\n",
              "      <td>1.108261</td>\n",
              "    </tr>\n",
              "    <tr>\n",
              "      <th>7</th>\n",
              "      <td>727</td>\n",
              "      <td>2012-01-01 02:42:25.254470400</td>\n",
              "      <td>2011-01-01 00:00:00</td>\n",
              "      <td>2011-07-03 12:00:00</td>\n",
              "      <td>2012-01-01 00:00:00</td>\n",
              "      <td>2012-06-30 12:00:00</td>\n",
              "      <td>2012-12-31 00:00:00</td>\n",
              "      <td>NaN</td>\n",
              "      <td>727.0</td>\n",
              "      <td>2.496561</td>\n",
              "      <td>1.0</td>\n",
              "      <td>2.0</td>\n",
              "      <td>3.0</td>\n",
              "      <td>3.0</td>\n",
              "      <td>4.0</td>\n",
              "      <td>1.108284</td>\n",
              "    </tr>\n",
              "    <tr>\n",
              "      <th>8</th>\n",
              "      <td>727</td>\n",
              "      <td>2012-01-01 02:42:25.254470400</td>\n",
              "      <td>2011-01-01 00:00:00</td>\n",
              "      <td>2011-07-03 12:00:00</td>\n",
              "      <td>2012-01-01 00:00:00</td>\n",
              "      <td>2012-06-30 12:00:00</td>\n",
              "      <td>2012-12-31 00:00:00</td>\n",
              "      <td>NaN</td>\n",
              "      <td>727.0</td>\n",
              "      <td>2.496561</td>\n",
              "      <td>1.0</td>\n",
              "      <td>2.0</td>\n",
              "      <td>3.0</td>\n",
              "      <td>3.0</td>\n",
              "      <td>4.0</td>\n",
              "      <td>1.108284</td>\n",
              "    </tr>\n",
              "    <tr>\n",
              "      <th>9</th>\n",
              "      <td>727</td>\n",
              "      <td>2012-01-01 02:42:25.254470400</td>\n",
              "      <td>2011-01-01 00:00:00</td>\n",
              "      <td>2011-07-03 12:00:00</td>\n",
              "      <td>2012-01-01 00:00:00</td>\n",
              "      <td>2012-06-30 12:00:00</td>\n",
              "      <td>2012-12-31 00:00:00</td>\n",
              "      <td>NaN</td>\n",
              "      <td>727.0</td>\n",
              "      <td>2.496561</td>\n",
              "      <td>1.0</td>\n",
              "      <td>2.0</td>\n",
              "      <td>3.0</td>\n",
              "      <td>3.0</td>\n",
              "      <td>4.0</td>\n",
              "      <td>1.108284</td>\n",
              "    </tr>\n",
              "    <tr>\n",
              "      <th>10</th>\n",
              "      <td>727</td>\n",
              "      <td>2012-01-01 02:42:25.254470400</td>\n",
              "      <td>2011-01-01 00:00:00</td>\n",
              "      <td>2011-07-03 12:00:00</td>\n",
              "      <td>2012-01-01 00:00:00</td>\n",
              "      <td>2012-06-30 12:00:00</td>\n",
              "      <td>2012-12-31 00:00:00</td>\n",
              "      <td>NaN</td>\n",
              "      <td>727.0</td>\n",
              "      <td>2.496561</td>\n",
              "      <td>1.0</td>\n",
              "      <td>2.0</td>\n",
              "      <td>3.0</td>\n",
              "      <td>3.0</td>\n",
              "      <td>4.0</td>\n",
              "      <td>1.108284</td>\n",
              "    </tr>\n",
              "    <tr>\n",
              "      <th>11</th>\n",
              "      <td>727</td>\n",
              "      <td>2012-01-01 02:42:25.254470400</td>\n",
              "      <td>2011-01-01 00:00:00</td>\n",
              "      <td>2011-07-03 12:00:00</td>\n",
              "      <td>2012-01-01 00:00:00</td>\n",
              "      <td>2012-06-30 12:00:00</td>\n",
              "      <td>2012-12-31 00:00:00</td>\n",
              "      <td>NaN</td>\n",
              "      <td>727.0</td>\n",
              "      <td>2.496561</td>\n",
              "      <td>1.0</td>\n",
              "      <td>2.0</td>\n",
              "      <td>3.0</td>\n",
              "      <td>3.0</td>\n",
              "      <td>4.0</td>\n",
              "      <td>1.108284</td>\n",
              "    </tr>\n",
              "    <tr>\n",
              "      <th>12</th>\n",
              "      <td>728</td>\n",
              "      <td>2011-12-31 15:13:50.769230848</td>\n",
              "      <td>2011-01-01 00:00:00</td>\n",
              "      <td>2011-07-02 18:00:00</td>\n",
              "      <td>2011-12-31 12:00:00</td>\n",
              "      <td>2012-06-30 06:00:00</td>\n",
              "      <td>2012-12-31 00:00:00</td>\n",
              "      <td>NaN</td>\n",
              "      <td>728.0</td>\n",
              "      <td>2.494505</td>\n",
              "      <td>1.0</td>\n",
              "      <td>2.0</td>\n",
              "      <td>2.5</td>\n",
              "      <td>3.0</td>\n",
              "      <td>4.0</td>\n",
              "      <td>1.108910</td>\n",
              "    </tr>\n",
              "    <tr>\n",
              "      <th>13</th>\n",
              "      <td>729</td>\n",
              "      <td>2012-01-01 01:13:05.185185280</td>\n",
              "      <td>2011-01-01 00:00:00</td>\n",
              "      <td>2011-07-03 00:00:00</td>\n",
              "      <td>2012-01-01 00:00:00</td>\n",
              "      <td>2012-07-01 00:00:00</td>\n",
              "      <td>2012-12-31 00:00:00</td>\n",
              "      <td>NaN</td>\n",
              "      <td>729.0</td>\n",
              "      <td>2.496571</td>\n",
              "      <td>1.0</td>\n",
              "      <td>2.0</td>\n",
              "      <td>3.0</td>\n",
              "      <td>3.0</td>\n",
              "      <td>4.0</td>\n",
              "      <td>1.109550</td>\n",
              "    </tr>\n",
              "    <tr>\n",
              "      <th>14</th>\n",
              "      <td>729</td>\n",
              "      <td>2012-01-01 01:13:05.185185280</td>\n",
              "      <td>2011-01-01 00:00:00</td>\n",
              "      <td>2011-07-03 00:00:00</td>\n",
              "      <td>2012-01-01 00:00:00</td>\n",
              "      <td>2012-07-01 00:00:00</td>\n",
              "      <td>2012-12-31 00:00:00</td>\n",
              "      <td>NaN</td>\n",
              "      <td>729.0</td>\n",
              "      <td>2.496571</td>\n",
              "      <td>1.0</td>\n",
              "      <td>2.0</td>\n",
              "      <td>3.0</td>\n",
              "      <td>3.0</td>\n",
              "      <td>4.0</td>\n",
              "      <td>1.109550</td>\n",
              "    </tr>\n",
              "    <tr>\n",
              "      <th>15</th>\n",
              "      <td>729</td>\n",
              "      <td>2012-01-01 01:13:05.185185280</td>\n",
              "      <td>2011-01-01 00:00:00</td>\n",
              "      <td>2011-07-03 00:00:00</td>\n",
              "      <td>2012-01-01 00:00:00</td>\n",
              "      <td>2012-07-01 00:00:00</td>\n",
              "      <td>2012-12-31 00:00:00</td>\n",
              "      <td>NaN</td>\n",
              "      <td>729.0</td>\n",
              "      <td>2.496571</td>\n",
              "      <td>1.0</td>\n",
              "      <td>2.0</td>\n",
              "      <td>3.0</td>\n",
              "      <td>3.0</td>\n",
              "      <td>4.0</td>\n",
              "      <td>1.109550</td>\n",
              "    </tr>\n",
              "    <tr>\n",
              "      <th>16</th>\n",
              "      <td>730</td>\n",
              "      <td>2011-12-31 14:04:16.438356224</td>\n",
              "      <td>2011-01-01 00:00:00</td>\n",
              "      <td>2011-07-02 06:00:00</td>\n",
              "      <td>2011-12-31 12:00:00</td>\n",
              "      <td>2012-06-30 18:00:00</td>\n",
              "      <td>2012-12-31 00:00:00</td>\n",
              "      <td>NaN</td>\n",
              "      <td>730.0</td>\n",
              "      <td>2.494521</td>\n",
              "      <td>1.0</td>\n",
              "      <td>2.0</td>\n",
              "      <td>2.5</td>\n",
              "      <td>3.0</td>\n",
              "      <td>4.0</td>\n",
              "      <td>1.110171</td>\n",
              "    </tr>\n",
              "    <tr>\n",
              "      <th>17</th>\n",
              "      <td>730</td>\n",
              "      <td>2011-12-31 14:04:16.438356224</td>\n",
              "      <td>2011-01-01 00:00:00</td>\n",
              "      <td>2011-07-02 06:00:00</td>\n",
              "      <td>2011-12-31 12:00:00</td>\n",
              "      <td>2012-06-30 18:00:00</td>\n",
              "      <td>2012-12-31 00:00:00</td>\n",
              "      <td>NaN</td>\n",
              "      <td>730.0</td>\n",
              "      <td>2.494521</td>\n",
              "      <td>1.0</td>\n",
              "      <td>2.0</td>\n",
              "      <td>2.5</td>\n",
              "      <td>3.0</td>\n",
              "      <td>4.0</td>\n",
              "      <td>1.110171</td>\n",
              "    </tr>\n",
              "    <tr>\n",
              "      <th>18</th>\n",
              "      <td>728</td>\n",
              "      <td>2012-01-01 05:26:22.417582592</td>\n",
              "      <td>2011-01-01 00:00:00</td>\n",
              "      <td>2011-07-02 18:00:00</td>\n",
              "      <td>2012-01-01 12:00:00</td>\n",
              "      <td>2012-07-01 06:00:00</td>\n",
              "      <td>2012-12-31 00:00:00</td>\n",
              "      <td>NaN</td>\n",
              "      <td>728.0</td>\n",
              "      <td>2.495879</td>\n",
              "      <td>1.0</td>\n",
              "      <td>2.0</td>\n",
              "      <td>2.5</td>\n",
              "      <td>3.0</td>\n",
              "      <td>4.0</td>\n",
              "      <td>1.110155</td>\n",
              "    </tr>\n",
              "    <tr>\n",
              "      <th>19</th>\n",
              "      <td>728</td>\n",
              "      <td>2012-01-01 05:26:22.417582592</td>\n",
              "      <td>2011-01-01 00:00:00</td>\n",
              "      <td>2011-07-02 18:00:00</td>\n",
              "      <td>2012-01-01 12:00:00</td>\n",
              "      <td>2012-07-01 06:00:00</td>\n",
              "      <td>2012-12-31 00:00:00</td>\n",
              "      <td>NaN</td>\n",
              "      <td>728.0</td>\n",
              "      <td>2.495879</td>\n",
              "      <td>1.0</td>\n",
              "      <td>2.0</td>\n",
              "      <td>2.5</td>\n",
              "      <td>3.0</td>\n",
              "      <td>4.0</td>\n",
              "      <td>1.110155</td>\n",
              "    </tr>\n",
              "    <tr>\n",
              "      <th>20</th>\n",
              "      <td>728</td>\n",
              "      <td>2012-01-01 05:26:22.417582592</td>\n",
              "      <td>2011-01-01 00:00:00</td>\n",
              "      <td>2011-07-02 18:00:00</td>\n",
              "      <td>2012-01-01 12:00:00</td>\n",
              "      <td>2012-07-01 06:00:00</td>\n",
              "      <td>2012-12-31 00:00:00</td>\n",
              "      <td>NaN</td>\n",
              "      <td>728.0</td>\n",
              "      <td>2.495879</td>\n",
              "      <td>1.0</td>\n",
              "      <td>2.0</td>\n",
              "      <td>2.5</td>\n",
              "      <td>3.0</td>\n",
              "      <td>4.0</td>\n",
              "      <td>1.110155</td>\n",
              "    </tr>\n",
              "    <tr>\n",
              "      <th>21</th>\n",
              "      <td>728</td>\n",
              "      <td>2012-01-01 05:26:22.417582592</td>\n",
              "      <td>2011-01-01 00:00:00</td>\n",
              "      <td>2011-07-02 18:00:00</td>\n",
              "      <td>2012-01-01 12:00:00</td>\n",
              "      <td>2012-07-01 06:00:00</td>\n",
              "      <td>2012-12-31 00:00:00</td>\n",
              "      <td>NaN</td>\n",
              "      <td>728.0</td>\n",
              "      <td>2.495879</td>\n",
              "      <td>1.0</td>\n",
              "      <td>2.0</td>\n",
              "      <td>2.5</td>\n",
              "      <td>3.0</td>\n",
              "      <td>4.0</td>\n",
              "      <td>1.110155</td>\n",
              "    </tr>\n",
              "    <tr>\n",
              "      <th>22</th>\n",
              "      <td>728</td>\n",
              "      <td>2012-01-01 05:26:22.417582592</td>\n",
              "      <td>2011-01-01 00:00:00</td>\n",
              "      <td>2011-07-02 18:00:00</td>\n",
              "      <td>2012-01-01 12:00:00</td>\n",
              "      <td>2012-07-01 06:00:00</td>\n",
              "      <td>2012-12-31 00:00:00</td>\n",
              "      <td>NaN</td>\n",
              "      <td>728.0</td>\n",
              "      <td>2.495879</td>\n",
              "      <td>1.0</td>\n",
              "      <td>2.0</td>\n",
              "      <td>2.5</td>\n",
              "      <td>3.0</td>\n",
              "      <td>4.0</td>\n",
              "      <td>1.110155</td>\n",
              "    </tr>\n",
              "    <tr>\n",
              "      <th>23</th>\n",
              "      <td>728</td>\n",
              "      <td>2012-01-01 05:26:22.417582592</td>\n",
              "      <td>2011-01-01 00:00:00</td>\n",
              "      <td>2011-07-02 18:00:00</td>\n",
              "      <td>2012-01-01 12:00:00</td>\n",
              "      <td>2012-07-01 06:00:00</td>\n",
              "      <td>2012-12-31 00:00:00</td>\n",
              "      <td>NaN</td>\n",
              "      <td>728.0</td>\n",
              "      <td>2.495879</td>\n",
              "      <td>1.0</td>\n",
              "      <td>2.0</td>\n",
              "      <td>2.5</td>\n",
              "      <td>3.0</td>\n",
              "      <td>4.0</td>\n",
              "      <td>1.110155</td>\n",
              "    </tr>\n",
              "  </tbody>\n",
              "</table>\n",
              "</div>"
            ],
            "text/plain": [
              "    tgl_hari_jam                                                      \\\n",
              "           count                           mean                  min   \n",
              "jam                                                                    \n",
              "0            726  2012-01-02 03:12:23.801652736  2011-01-01 00:00:00   \n",
              "1            724  2012-01-01 21:08:57.016574464  2011-01-01 00:00:00   \n",
              "2            715  2012-01-04 22:31:23.076923136  2011-01-01 00:00:00   \n",
              "3            697  2012-01-07 23:37:16.441893888  2011-01-01 00:00:00   \n",
              "4            697  2012-01-10 23:33:08.522238208  2011-01-01 00:00:00   \n",
              "5            717  2012-01-05 07:29:52.468619264  2011-01-01 00:00:00   \n",
              "6            725  2012-01-01 18:00:29.793103360  2011-01-01 00:00:00   \n",
              "7            727  2012-01-01 02:42:25.254470400  2011-01-01 00:00:00   \n",
              "8            727  2012-01-01 02:42:25.254470400  2011-01-01 00:00:00   \n",
              "9            727  2012-01-01 02:42:25.254470400  2011-01-01 00:00:00   \n",
              "10           727  2012-01-01 02:42:25.254470400  2011-01-01 00:00:00   \n",
              "11           727  2012-01-01 02:42:25.254470400  2011-01-01 00:00:00   \n",
              "12           728  2011-12-31 15:13:50.769230848  2011-01-01 00:00:00   \n",
              "13           729  2012-01-01 01:13:05.185185280  2011-01-01 00:00:00   \n",
              "14           729  2012-01-01 01:13:05.185185280  2011-01-01 00:00:00   \n",
              "15           729  2012-01-01 01:13:05.185185280  2011-01-01 00:00:00   \n",
              "16           730  2011-12-31 14:04:16.438356224  2011-01-01 00:00:00   \n",
              "17           730  2011-12-31 14:04:16.438356224  2011-01-01 00:00:00   \n",
              "18           728  2012-01-01 05:26:22.417582592  2011-01-01 00:00:00   \n",
              "19           728  2012-01-01 05:26:22.417582592  2011-01-01 00:00:00   \n",
              "20           728  2012-01-01 05:26:22.417582592  2011-01-01 00:00:00   \n",
              "21           728  2012-01-01 05:26:22.417582592  2011-01-01 00:00:00   \n",
              "22           728  2012-01-01 05:26:22.417582592  2011-01-01 00:00:00   \n",
              "23           728  2012-01-01 05:26:22.417582592  2011-01-01 00:00:00   \n",
              "\n",
              "                                                                    \\\n",
              "                     25%                  50%                  75%   \n",
              "jam                                                                  \n",
              "0    2011-07-04 06:00:00  2012-01-02 12:00:00  2012-07-01 18:00:00   \n",
              "1    2011-07-03 18:00:00  2012-01-02 12:00:00  2012-07-01 06:00:00   \n",
              "2    2011-07-08 12:00:00  2012-01-06 00:00:00  2012-07-03 12:00:00   \n",
              "3    2011-07-13 00:00:00  2012-01-08 00:00:00  2012-07-05 00:00:00   \n",
              "4    2011-07-19 00:00:00  2012-01-12 00:00:00  2012-07-07 00:00:00   \n",
              "5    2011-07-10 00:00:00  2012-01-06 00:00:00  2012-07-03 00:00:00   \n",
              "6    2011-07-04 00:00:00  2012-01-02 00:00:00  2012-07-01 00:00:00   \n",
              "7    2011-07-03 12:00:00  2012-01-01 00:00:00  2012-06-30 12:00:00   \n",
              "8    2011-07-03 12:00:00  2012-01-01 00:00:00  2012-06-30 12:00:00   \n",
              "9    2011-07-03 12:00:00  2012-01-01 00:00:00  2012-06-30 12:00:00   \n",
              "10   2011-07-03 12:00:00  2012-01-01 00:00:00  2012-06-30 12:00:00   \n",
              "11   2011-07-03 12:00:00  2012-01-01 00:00:00  2012-06-30 12:00:00   \n",
              "12   2011-07-02 18:00:00  2011-12-31 12:00:00  2012-06-30 06:00:00   \n",
              "13   2011-07-03 00:00:00  2012-01-01 00:00:00  2012-07-01 00:00:00   \n",
              "14   2011-07-03 00:00:00  2012-01-01 00:00:00  2012-07-01 00:00:00   \n",
              "15   2011-07-03 00:00:00  2012-01-01 00:00:00  2012-07-01 00:00:00   \n",
              "16   2011-07-02 06:00:00  2011-12-31 12:00:00  2012-06-30 18:00:00   \n",
              "17   2011-07-02 06:00:00  2011-12-31 12:00:00  2012-06-30 18:00:00   \n",
              "18   2011-07-02 18:00:00  2012-01-01 12:00:00  2012-07-01 06:00:00   \n",
              "19   2011-07-02 18:00:00  2012-01-01 12:00:00  2012-07-01 06:00:00   \n",
              "20   2011-07-02 18:00:00  2012-01-01 12:00:00  2012-07-01 06:00:00   \n",
              "21   2011-07-02 18:00:00  2012-01-01 12:00:00  2012-07-01 06:00:00   \n",
              "22   2011-07-02 18:00:00  2012-01-01 12:00:00  2012-07-01 06:00:00   \n",
              "23   2011-07-02 18:00:00  2012-01-01 12:00:00  2012-07-01 06:00:00   \n",
              "\n",
              "                              musim_jam                                     \\\n",
              "                     max  std     count      mean  min  25%  50%  75%  max   \n",
              "jam                                                                          \n",
              "0    2012-12-31 00:00:00  NaN     726.0  2.500000  1.0  2.0  3.0  3.0  4.0   \n",
              "1    2012-12-31 00:00:00  NaN     724.0  2.497238  1.0  2.0  2.5  3.0  4.0   \n",
              "2    2012-12-31 00:00:00  NaN     715.0  2.511888  1.0  2.0  3.0  3.0  4.0   \n",
              "3    2012-12-31 00:00:00  NaN     697.0  2.539455  1.0  2.0  3.0  3.0  4.0   \n",
              "4    2012-12-31 00:00:00  NaN     697.0  2.552367  1.0  2.0  3.0  4.0  4.0   \n",
              "5    2012-12-31 00:00:00  NaN     717.0  2.513250  1.0  2.0  3.0  3.0  4.0   \n",
              "6    2012-12-31 00:00:00  NaN     725.0  2.497931  1.0  2.0  3.0  3.0  4.0   \n",
              "7    2012-12-31 00:00:00  NaN     727.0  2.496561  1.0  2.0  3.0  3.0  4.0   \n",
              "8    2012-12-31 00:00:00  NaN     727.0  2.496561  1.0  2.0  3.0  3.0  4.0   \n",
              "9    2012-12-31 00:00:00  NaN     727.0  2.496561  1.0  2.0  3.0  3.0  4.0   \n",
              "10   2012-12-31 00:00:00  NaN     727.0  2.496561  1.0  2.0  3.0  3.0  4.0   \n",
              "11   2012-12-31 00:00:00  NaN     727.0  2.496561  1.0  2.0  3.0  3.0  4.0   \n",
              "12   2012-12-31 00:00:00  NaN     728.0  2.494505  1.0  2.0  2.5  3.0  4.0   \n",
              "13   2012-12-31 00:00:00  NaN     729.0  2.496571  1.0  2.0  3.0  3.0  4.0   \n",
              "14   2012-12-31 00:00:00  NaN     729.0  2.496571  1.0  2.0  3.0  3.0  4.0   \n",
              "15   2012-12-31 00:00:00  NaN     729.0  2.496571  1.0  2.0  3.0  3.0  4.0   \n",
              "16   2012-12-31 00:00:00  NaN     730.0  2.494521  1.0  2.0  2.5  3.0  4.0   \n",
              "17   2012-12-31 00:00:00  NaN     730.0  2.494521  1.0  2.0  2.5  3.0  4.0   \n",
              "18   2012-12-31 00:00:00  NaN     728.0  2.495879  1.0  2.0  2.5  3.0  4.0   \n",
              "19   2012-12-31 00:00:00  NaN     728.0  2.495879  1.0  2.0  2.5  3.0  4.0   \n",
              "20   2012-12-31 00:00:00  NaN     728.0  2.495879  1.0  2.0  2.5  3.0  4.0   \n",
              "21   2012-12-31 00:00:00  NaN     728.0  2.495879  1.0  2.0  2.5  3.0  4.0   \n",
              "22   2012-12-31 00:00:00  NaN     728.0  2.495879  1.0  2.0  2.5  3.0  4.0   \n",
              "23   2012-12-31 00:00:00  NaN     728.0  2.495879  1.0  2.0  2.5  3.0  4.0   \n",
              "\n",
              "               \n",
              "          std  \n",
              "jam            \n",
              "0    1.108898  \n",
              "1    1.108869  \n",
              "2    1.102994  \n",
              "3    1.092796  \n",
              "4    1.093567  \n",
              "5    1.104286  \n",
              "6    1.108261  \n",
              "7    1.108284  \n",
              "8    1.108284  \n",
              "9    1.108284  \n",
              "10   1.108284  \n",
              "11   1.108284  \n",
              "12   1.108910  \n",
              "13   1.109550  \n",
              "14   1.109550  \n",
              "15   1.109550  \n",
              "16   1.110171  \n",
              "17   1.110171  \n",
              "18   1.110155  \n",
              "19   1.110155  \n",
              "20   1.110155  \n",
              "21   1.110155  \n",
              "22   1.110155  \n",
              "23   1.110155  "
            ]
          },
          "metadata": {},
          "output_type": "display_data"
        }
      ],
      "source": [
        "display(df2.groupby(by=\"jam\").describe())"
      ]
    },
    {
      "cell_type": "code",
      "execution_count": 17,
      "metadata": {},
      "outputs": [
        {
          "data": {
            "application/vnd.microsoft.datawrangler.viewer.v0+json": {
              "columns": [
                {
                  "name": "index",
                  "rawType": "object",
                  "type": "string"
                },
                {
                  "name": "tgl_hari_jam",
                  "rawType": "object",
                  "type": "unknown"
                },
                {
                  "name": "musim_jam",
                  "rawType": "float64",
                  "type": "float"
                },
                {
                  "name": "jam",
                  "rawType": "float64",
                  "type": "float"
                }
              ],
              "conversionMethod": "pd.DataFrame",
              "ref": "7c36f909-62ea-4be8-a979-2b454a65b108",
              "rows": [
                [
                  "count",
                  "17379",
                  "17379.0",
                  "17379.0"
                ],
                [
                  "mean",
                  "2012-01-02 04:08:34.552045568",
                  "2.5016399102364923",
                  "11.546751826917545"
                ],
                [
                  "min",
                  "2011-01-01 00:00:00",
                  "1.0",
                  "0.0"
                ],
                [
                  "25%",
                  "2011-07-04 00:00:00",
                  "2.0",
                  "6.0"
                ],
                [
                  "50%",
                  "2012-01-02 00:00:00",
                  "3.0",
                  "12.0"
                ],
                [
                  "75%",
                  "2012-07-02 00:00:00",
                  "3.0",
                  "18.0"
                ],
                [
                  "max",
                  "2012-12-31 00:00:00",
                  "4.0",
                  "23.0"
                ],
                [
                  "std",
                  null,
                  "1.1069181394480763",
                  "6.9144050952644935"
                ]
              ],
              "shape": {
                "columns": 3,
                "rows": 8
              }
            },
            "text/html": [
              "<div>\n",
              "<style scoped>\n",
              "    .dataframe tbody tr th:only-of-type {\n",
              "        vertical-align: middle;\n",
              "    }\n",
              "\n",
              "    .dataframe tbody tr th {\n",
              "        vertical-align: top;\n",
              "    }\n",
              "\n",
              "    .dataframe thead th {\n",
              "        text-align: right;\n",
              "    }\n",
              "</style>\n",
              "<table border=\"1\" class=\"dataframe\">\n",
              "  <thead>\n",
              "    <tr style=\"text-align: right;\">\n",
              "      <th></th>\n",
              "      <th>tgl_hari_jam</th>\n",
              "      <th>musim_jam</th>\n",
              "      <th>jam</th>\n",
              "    </tr>\n",
              "  </thead>\n",
              "  <tbody>\n",
              "    <tr>\n",
              "      <th>count</th>\n",
              "      <td>17379</td>\n",
              "      <td>17379.000000</td>\n",
              "      <td>17379.000000</td>\n",
              "    </tr>\n",
              "    <tr>\n",
              "      <th>mean</th>\n",
              "      <td>2012-01-02 04:08:34.552045568</td>\n",
              "      <td>2.501640</td>\n",
              "      <td>11.546752</td>\n",
              "    </tr>\n",
              "    <tr>\n",
              "      <th>min</th>\n",
              "      <td>2011-01-01 00:00:00</td>\n",
              "      <td>1.000000</td>\n",
              "      <td>0.000000</td>\n",
              "    </tr>\n",
              "    <tr>\n",
              "      <th>25%</th>\n",
              "      <td>2011-07-04 00:00:00</td>\n",
              "      <td>2.000000</td>\n",
              "      <td>6.000000</td>\n",
              "    </tr>\n",
              "    <tr>\n",
              "      <th>50%</th>\n",
              "      <td>2012-01-02 00:00:00</td>\n",
              "      <td>3.000000</td>\n",
              "      <td>12.000000</td>\n",
              "    </tr>\n",
              "    <tr>\n",
              "      <th>75%</th>\n",
              "      <td>2012-07-02 00:00:00</td>\n",
              "      <td>3.000000</td>\n",
              "      <td>18.000000</td>\n",
              "    </tr>\n",
              "    <tr>\n",
              "      <th>max</th>\n",
              "      <td>2012-12-31 00:00:00</td>\n",
              "      <td>4.000000</td>\n",
              "      <td>23.000000</td>\n",
              "    </tr>\n",
              "    <tr>\n",
              "      <th>std</th>\n",
              "      <td>NaN</td>\n",
              "      <td>1.106918</td>\n",
              "      <td>6.914405</td>\n",
              "    </tr>\n",
              "  </tbody>\n",
              "</table>\n",
              "</div>"
            ],
            "text/plain": [
              "                        tgl_hari_jam     musim_jam           jam\n",
              "count                          17379  17379.000000  17379.000000\n",
              "mean   2012-01-02 04:08:34.552045568      2.501640     11.546752\n",
              "min              2011-01-01 00:00:00      1.000000      0.000000\n",
              "25%              2011-07-04 00:00:00      2.000000      6.000000\n",
              "50%              2012-01-02 00:00:00      3.000000     12.000000\n",
              "75%              2012-07-02 00:00:00      3.000000     18.000000\n",
              "max              2012-12-31 00:00:00      4.000000     23.000000\n",
              "std                              NaN      1.106918      6.914405"
            ]
          },
          "execution_count": 17,
          "metadata": {},
          "output_type": "execute_result"
        }
      ],
      "source": [
        "df2.describe()"
      ]
    },
    {
      "cell_type": "code",
      "execution_count": 18,
      "metadata": {},
      "outputs": [
        {
          "data": {
            "text/plain": [
              "array([[<Axes: title={'center': 'tgl_hari_jam'}>,\n",
              "        <Axes: title={'center': 'musim_jam'}>],\n",
              "       [<Axes: title={'center': 'jam'}>, <Axes: >]], dtype=object)"
            ]
          },
          "execution_count": 18,
          "metadata": {},
          "output_type": "execute_result"
        },
        {
          "data": {
            "image/png": "[encoded data removed]",
            "text/plain": [
              "<Figure size 640x480 with 4 Axes>"
            ]
          },
          "metadata": {},
          "output_type": "display_data"
        }
      ],
      "source": [
        "df2.hist()"
      ]
    },
    {
      "cell_type": "code",
      "execution_count": 19,
      "metadata": {},
      "outputs": [
        {
          "data": {
            "application/vnd.microsoft.datawrangler.viewer.v0+json": {
              "columns": [
                {
                  "name": "index",
                  "rawType": "object",
                  "type": "string"
                },
                {
                  "name": "tgl_hari_jam",
                  "rawType": "float64",
                  "type": "float"
                },
                {
                  "name": "musim_jam",
                  "rawType": "float64",
                  "type": "float"
                },
                {
                  "name": "jam",
                  "rawType": "float64",
                  "type": "float"
                }
              ],
              "conversionMethod": "pd.DataFrame",
              "ref": "b48f6e09-2c53-448a-ab7e-374981b76acf",
              "rows": [
                [
                  "tgl_hari_jam",
                  "1.0",
                  "0.4044521009854798",
                  "-0.006160548620720832"
                ],
                [
                  "musim_jam",
                  "0.4044521009854798",
                  "1.0",
                  "-0.00611690086619728"
                ],
                [
                  "jam",
                  "-0.006160548620720832",
                  "-0.00611690086619728",
                  "1.0"
                ]
              ],
              "shape": {
                "columns": 3,
                "rows": 3
              }
            },
            "text/html": [
              "<div>\n",
              "<style scoped>\n",
              "    .dataframe tbody tr th:only-of-type {\n",
              "        vertical-align: middle;\n",
              "    }\n",
              "\n",
              "    .dataframe tbody tr th {\n",
              "        vertical-align: top;\n",
              "    }\n",
              "\n",
              "    .dataframe thead th {\n",
              "        text-align: right;\n",
              "    }\n",
              "</style>\n",
              "<table border=\"1\" class=\"dataframe\">\n",
              "  <thead>\n",
              "    <tr style=\"text-align: right;\">\n",
              "      <th></th>\n",
              "      <th>tgl_hari_jam</th>\n",
              "      <th>musim_jam</th>\n",
              "      <th>jam</th>\n",
              "    </tr>\n",
              "  </thead>\n",
              "  <tbody>\n",
              "    <tr>\n",
              "      <th>tgl_hari_jam</th>\n",
              "      <td>1.000000</td>\n",
              "      <td>0.404452</td>\n",
              "      <td>-0.006161</td>\n",
              "    </tr>\n",
              "    <tr>\n",
              "      <th>musim_jam</th>\n",
              "      <td>0.404452</td>\n",
              "      <td>1.000000</td>\n",
              "      <td>-0.006117</td>\n",
              "    </tr>\n",
              "    <tr>\n",
              "      <th>jam</th>\n",
              "      <td>-0.006161</td>\n",
              "      <td>-0.006117</td>\n",
              "      <td>1.000000</td>\n",
              "    </tr>\n",
              "  </tbody>\n",
              "</table>\n",
              "</div>"
            ],
            "text/plain": [
              "              tgl_hari_jam  musim_jam       jam\n",
              "tgl_hari_jam      1.000000   0.404452 -0.006161\n",
              "musim_jam         0.404452   1.000000 -0.006117\n",
              "jam              -0.006161  -0.006117  1.000000"
            ]
          },
          "execution_count": 19,
          "metadata": {},
          "output_type": "execute_result"
        }
      ],
      "source": [
        "df2.corr()"
      ]
    },
    {
      "cell_type": "markdown",
      "metadata": {
        "id": "th_Lzl2Fkj9O"
      },
      "source": [
        "**Insight:**\n",
        "- Menghitung dan mengukur dataset day berbentuk statistika menggunakan parameter statistika program\n",
        "- Menghitung dan mengukur dataset hour berbentuk statistika  menggunakan parameter statistika program"
      ]
    },
    {
      "cell_type": "markdown",
      "metadata": {
        "id": "zsyZjqak8DC2"
      },
      "source": [
        "## Visualization & Explanatory Analysis"
      ]
    },
    {
      "cell_type": "markdown",
      "metadata": {
        "id": "HZxOiQ6n8DC2"
      },
      "source": [
        "### Pertanyaan 1: Jenis musim apa yang paling sering muncul pada weekday berdasarkan kelompok data harian kerja yang diukurkan dari dataset day?"
      ]
    },
    {
      "cell_type": "code",
      "execution_count": 20,
      "metadata": {},
      "outputs": [
        {
          "data": {
            "application/vnd.microsoft.datawrangler.viewer.v0+json": {
              "columns": [
                {
                  "name": "index",
                  "rawType": "int64",
                  "type": "integer"
                },
                {
                  "name": "tgl_hari_krj",
                  "rawType": "datetime64[ns]",
                  "type": "datetime"
                },
                {
                  "name": "musim_hari",
                  "rawType": "int64",
                  "type": "integer"
                },
                {
                  "name": "hari_kerja",
                  "rawType": "int64",
                  "type": "integer"
                }
              ],
              "conversionMethod": "pd.DataFrame",
              "ref": "9c040d69-dce8-4641-8111-4851750930c8",
              "rows": [
                [
                  "0",
                  "2011-01-01 00:00:00",
                  "1",
                  "6"
                ],
                [
                  "1",
                  "2011-01-02 00:00:00",
                  "1",
                  "0"
                ],
                [
                  "2",
                  "2011-01-03 00:00:00",
                  "1",
                  "1"
                ],
                [
                  "3",
                  "2011-01-04 00:00:00",
                  "1",
                  "2"
                ],
                [
                  "4",
                  "2011-01-05 00:00:00",
                  "1",
                  "3"
                ],
                [
                  "5",
                  "2011-01-06 00:00:00",
                  "1",
                  "4"
                ],
                [
                  "6",
                  "2011-01-07 00:00:00",
                  "1",
                  "5"
                ],
                [
                  "7",
                  "2011-01-08 00:00:00",
                  "1",
                  "6"
                ],
                [
                  "8",
                  "2011-01-09 00:00:00",
                  "1",
                  "0"
                ],
                [
                  "9",
                  "2011-01-10 00:00:00",
                  "1",
                  "1"
                ],
                [
                  "10",
                  "2011-01-11 00:00:00",
                  "1",
                  "2"
                ],
                [
                  "11",
                  "2011-01-12 00:00:00",
                  "1",
                  "3"
                ],
                [
                  "12",
                  "2011-01-13 00:00:00",
                  "1",
                  "4"
                ],
                [
                  "13",
                  "2011-01-14 00:00:00",
                  "1",
                  "5"
                ],
                [
                  "14",
                  "2011-01-15 00:00:00",
                  "1",
                  "6"
                ],
                [
                  "15",
                  "2011-01-16 00:00:00",
                  "1",
                  "0"
                ],
                [
                  "16",
                  "2011-01-17 00:00:00",
                  "1",
                  "1"
                ],
                [
                  "17",
                  "2011-01-18 00:00:00",
                  "1",
                  "2"
                ],
                [
                  "18",
                  "2011-01-19 00:00:00",
                  "1",
                  "3"
                ],
                [
                  "19",
                  "2011-01-20 00:00:00",
                  "1",
                  "4"
                ],
                [
                  "20",
                  "2011-01-21 00:00:00",
                  "1",
                  "5"
                ],
                [
                  "21",
                  "2011-01-22 00:00:00",
                  "1",
                  "6"
                ],
                [
                  "22",
                  "2011-01-23 00:00:00",
                  "1",
                  "0"
                ],
                [
                  "23",
                  "2011-01-24 00:00:00",
                  "1",
                  "1"
                ],
                [
                  "24",
                  "2011-01-25 00:00:00",
                  "1",
                  "2"
                ],
                [
                  "25",
                  "2011-01-26 00:00:00",
                  "1",
                  "3"
                ],
                [
                  "26",
                  "2011-01-27 00:00:00",
                  "1",
                  "4"
                ],
                [
                  "27",
                  "2011-01-28 00:00:00",
                  "1",
                  "5"
                ],
                [
                  "28",
                  "2011-01-29 00:00:00",
                  "1",
                  "6"
                ],
                [
                  "29",
                  "2011-01-30 00:00:00",
                  "1",
                  "0"
                ],
                [
                  "30",
                  "2011-01-31 00:00:00",
                  "1",
                  "1"
                ],
                [
                  "31",
                  "2011-02-01 00:00:00",
                  "1",
                  "2"
                ],
                [
                  "32",
                  "2011-02-02 00:00:00",
                  "1",
                  "3"
                ],
                [
                  "33",
                  "2011-02-03 00:00:00",
                  "1",
                  "4"
                ],
                [
                  "34",
                  "2011-02-04 00:00:00",
                  "1",
                  "5"
                ],
                [
                  "35",
                  "2011-02-05 00:00:00",
                  "1",
                  "6"
                ],
                [
                  "36",
                  "2011-02-06 00:00:00",
                  "1",
                  "0"
                ],
                [
                  "37",
                  "2011-02-07 00:00:00",
                  "1",
                  "1"
                ],
                [
                  "38",
                  "2011-02-08 00:00:00",
                  "1",
                  "2"
                ],
                [
                  "39",
                  "2011-02-09 00:00:00",
                  "1",
                  "3"
                ],
                [
                  "40",
                  "2011-02-10 00:00:00",
                  "1",
                  "4"
                ],
                [
                  "41",
                  "2011-02-11 00:00:00",
                  "1",
                  "5"
                ],
                [
                  "42",
                  "2011-02-12 00:00:00",
                  "1",
                  "6"
                ],
                [
                  "43",
                  "2011-02-13 00:00:00",
                  "1",
                  "0"
                ],
                [
                  "44",
                  "2011-02-14 00:00:00",
                  "1",
                  "1"
                ],
                [
                  "45",
                  "2011-02-15 00:00:00",
                  "1",
                  "2"
                ],
                [
                  "46",
                  "2011-02-16 00:00:00",
                  "1",
                  "3"
                ],
                [
                  "47",
                  "2011-02-17 00:00:00",
                  "1",
                  "4"
                ],
                [
                  "48",
                  "2011-02-18 00:00:00",
                  "1",
                  "5"
                ],
                [
                  "49",
                  "2011-02-19 00:00:00",
                  "1",
                  "6"
                ]
              ],
              "shape": {
                "columns": 3,
                "rows": 731
              }
            },
            "text/html": [
              "<div>\n",
              "<style scoped>\n",
              "    .dataframe tbody tr th:only-of-type {\n",
              "        vertical-align: middle;\n",
              "    }\n",
              "\n",
              "    .dataframe tbody tr th {\n",
              "        vertical-align: top;\n",
              "    }\n",
              "\n",
              "    .dataframe thead th {\n",
              "        text-align: right;\n",
              "    }\n",
              "</style>\n",
              "<table border=\"1\" class=\"dataframe\">\n",
              "  <thead>\n",
              "    <tr style=\"text-align: right;\">\n",
              "      <th></th>\n",
              "      <th>tgl_hari_krj</th>\n",
              "      <th>musim_hari</th>\n",
              "      <th>hari_kerja</th>\n",
              "    </tr>\n",
              "  </thead>\n",
              "  <tbody>\n",
              "    <tr>\n",
              "      <th>0</th>\n",
              "      <td>2011-01-01</td>\n",
              "      <td>1</td>\n",
              "      <td>6</td>\n",
              "    </tr>\n",
              "    <tr>\n",
              "      <th>1</th>\n",
              "      <td>2011-01-02</td>\n",
              "      <td>1</td>\n",
              "      <td>0</td>\n",
              "    </tr>\n",
              "    <tr>\n",
              "      <th>2</th>\n",
              "      <td>2011-01-03</td>\n",
              "      <td>1</td>\n",
              "      <td>1</td>\n",
              "    </tr>\n",
              "    <tr>\n",
              "      <th>3</th>\n",
              "      <td>2011-01-04</td>\n",
              "      <td>1</td>\n",
              "      <td>2</td>\n",
              "    </tr>\n",
              "    <tr>\n",
              "      <th>4</th>\n",
              "      <td>2011-01-05</td>\n",
              "      <td>1</td>\n",
              "      <td>3</td>\n",
              "    </tr>\n",
              "    <tr>\n",
              "      <th>...</th>\n",
              "      <td>...</td>\n",
              "      <td>...</td>\n",
              "      <td>...</td>\n",
              "    </tr>\n",
              "    <tr>\n",
              "      <th>726</th>\n",
              "      <td>2012-12-27</td>\n",
              "      <td>1</td>\n",
              "      <td>4</td>\n",
              "    </tr>\n",
              "    <tr>\n",
              "      <th>727</th>\n",
              "      <td>2012-12-28</td>\n",
              "      <td>1</td>\n",
              "      <td>5</td>\n",
              "    </tr>\n",
              "    <tr>\n",
              "      <th>728</th>\n",
              "      <td>2012-12-29</td>\n",
              "      <td>1</td>\n",
              "      <td>6</td>\n",
              "    </tr>\n",
              "    <tr>\n",
              "      <th>729</th>\n",
              "      <td>2012-12-30</td>\n",
              "      <td>1</td>\n",
              "      <td>0</td>\n",
              "    </tr>\n",
              "    <tr>\n",
              "      <th>730</th>\n",
              "      <td>2012-12-31</td>\n",
              "      <td>1</td>\n",
              "      <td>1</td>\n",
              "    </tr>\n",
              "  </tbody>\n",
              "</table>\n",
              "<p>731 rows × 3 columns</p>\n",
              "</div>"
            ],
            "text/plain": [
              "    tgl_hari_krj  musim_hari  hari_kerja\n",
              "0     2011-01-01           1           6\n",
              "1     2011-01-02           1           0\n",
              "2     2011-01-03           1           1\n",
              "3     2011-01-04           1           2\n",
              "4     2011-01-05           1           3\n",
              "..           ...         ...         ...\n",
              "726   2012-12-27           1           4\n",
              "727   2012-12-28           1           5\n",
              "728   2012-12-29           1           6\n",
              "729   2012-12-30           1           0\n",
              "730   2012-12-31           1           1\n",
              "\n",
              "[731 rows x 3 columns]"
            ]
          },
          "execution_count": 20,
          "metadata": {},
          "output_type": "execute_result"
        }
      ],
      "source": [
        "df1"
      ]
    },
    {
      "cell_type": "code",
      "execution_count": 21,
      "metadata": {},
      "outputs": [
        {
          "data": {
            "application/vnd.microsoft.datawrangler.viewer.v0+json": {
              "columns": [
                {
                  "name": "index",
                  "rawType": "int64",
                  "type": "integer"
                },
                {
                  "name": "musim_hari",
                  "rawType": "object",
                  "type": "string"
                },
                {
                  "name": "hari_kerja",
                  "rawType": "int64",
                  "type": "integer"
                },
                {
                  "name": "jml_musim_hari",
                  "rawType": "int64",
                  "type": "integer"
                }
              ],
              "conversionMethod": "pd.DataFrame",
              "ref": "8d5722c6-bed1-4a26-a0ef-18b32ad76668",
              "rows": [
                [
                  "0",
                  "Fall",
                  "0",
                  "26"
                ],
                [
                  "1",
                  "Fall",
                  "1",
                  "26"
                ],
                [
                  "2",
                  "Fall",
                  "2",
                  "27"
                ],
                [
                  "3",
                  "Fall",
                  "3",
                  "27"
                ],
                [
                  "4",
                  "Fall",
                  "4",
                  "28"
                ],
                [
                  "5",
                  "Fall",
                  "5",
                  "27"
                ],
                [
                  "6",
                  "Fall",
                  "6",
                  "27"
                ],
                [
                  "7",
                  "Springer",
                  "0",
                  "27"
                ],
                [
                  "8",
                  "Springer",
                  "1",
                  "26"
                ],
                [
                  "9",
                  "Springer",
                  "2",
                  "25"
                ],
                [
                  "10",
                  "Springer",
                  "3",
                  "25"
                ],
                [
                  "11",
                  "Springer",
                  "4",
                  "25"
                ],
                [
                  "12",
                  "Springer",
                  "5",
                  "26"
                ],
                [
                  "13",
                  "Springer",
                  "6",
                  "27"
                ],
                [
                  "14",
                  "Summer",
                  "0",
                  "26"
                ],
                [
                  "15",
                  "Summer",
                  "1",
                  "27"
                ],
                [
                  "16",
                  "Summer",
                  "2",
                  "26"
                ],
                [
                  "17",
                  "Summer",
                  "3",
                  "27"
                ],
                [
                  "18",
                  "Summer",
                  "4",
                  "26"
                ],
                [
                  "19",
                  "Summer",
                  "5",
                  "26"
                ],
                [
                  "20",
                  "Summer",
                  "6",
                  "26"
                ],
                [
                  "21",
                  "Winter",
                  "0",
                  "26"
                ],
                [
                  "22",
                  "Winter",
                  "1",
                  "26"
                ],
                [
                  "23",
                  "Winter",
                  "2",
                  "26"
                ],
                [
                  "24",
                  "Winter",
                  "3",
                  "25"
                ],
                [
                  "25",
                  "Winter",
                  "4",
                  "25"
                ],
                [
                  "26",
                  "Winter",
                  "5",
                  "25"
                ],
                [
                  "27",
                  "Winter",
                  "6",
                  "25"
                ]
              ],
              "shape": {
                "columns": 3,
                "rows": 28
              }
            },
            "text/html": [
              "<div>\n",
              "<style scoped>\n",
              "    .dataframe tbody tr th:only-of-type {\n",
              "        vertical-align: middle;\n",
              "    }\n",
              "\n",
              "    .dataframe tbody tr th {\n",
              "        vertical-align: top;\n",
              "    }\n",
              "\n",
              "    .dataframe thead th {\n",
              "        text-align: right;\n",
              "    }\n",
              "</style>\n",
              "<table border=\"1\" class=\"dataframe\">\n",
              "  <thead>\n",
              "    <tr style=\"text-align: right;\">\n",
              "      <th></th>\n",
              "      <th>musim_hari</th>\n",
              "      <th>hari_kerja</th>\n",
              "      <th>jml_musim_hari</th>\n",
              "    </tr>\n",
              "  </thead>\n",
              "  <tbody>\n",
              "    <tr>\n",
              "      <th>0</th>\n",
              "      <td>Fall</td>\n",
              "      <td>0</td>\n",
              "      <td>26</td>\n",
              "    </tr>\n",
              "    <tr>\n",
              "      <th>1</th>\n",
              "      <td>Fall</td>\n",
              "      <td>1</td>\n",
              "      <td>26</td>\n",
              "    </tr>\n",
              "    <tr>\n",
              "      <th>2</th>\n",
              "      <td>Fall</td>\n",
              "      <td>2</td>\n",
              "      <td>27</td>\n",
              "    </tr>\n",
              "    <tr>\n",
              "      <th>3</th>\n",
              "      <td>Fall</td>\n",
              "      <td>3</td>\n",
              "      <td>27</td>\n",
              "    </tr>\n",
              "    <tr>\n",
              "      <th>4</th>\n",
              "      <td>Fall</td>\n",
              "      <td>4</td>\n",
              "      <td>28</td>\n",
              "    </tr>\n",
              "    <tr>\n",
              "      <th>5</th>\n",
              "      <td>Fall</td>\n",
              "      <td>5</td>\n",
              "      <td>27</td>\n",
              "    </tr>\n",
              "    <tr>\n",
              "      <th>6</th>\n",
              "      <td>Fall</td>\n",
              "      <td>6</td>\n",
              "      <td>27</td>\n",
              "    </tr>\n",
              "    <tr>\n",
              "      <th>7</th>\n",
              "      <td>Springer</td>\n",
              "      <td>0</td>\n",
              "      <td>27</td>\n",
              "    </tr>\n",
              "    <tr>\n",
              "      <th>8</th>\n",
              "      <td>Springer</td>\n",
              "      <td>1</td>\n",
              "      <td>26</td>\n",
              "    </tr>\n",
              "    <tr>\n",
              "      <th>9</th>\n",
              "      <td>Springer</td>\n",
              "      <td>2</td>\n",
              "      <td>25</td>\n",
              "    </tr>\n",
              "    <tr>\n",
              "      <th>10</th>\n",
              "      <td>Springer</td>\n",
              "      <td>3</td>\n",
              "      <td>25</td>\n",
              "    </tr>\n",
              "    <tr>\n",
              "      <th>11</th>\n",
              "      <td>Springer</td>\n",
              "      <td>4</td>\n",
              "      <td>25</td>\n",
              "    </tr>\n",
              "    <tr>\n",
              "      <th>12</th>\n",
              "      <td>Springer</td>\n",
              "      <td>5</td>\n",
              "      <td>26</td>\n",
              "    </tr>\n",
              "    <tr>\n",
              "      <th>13</th>\n",
              "      <td>Springer</td>\n",
              "      <td>6</td>\n",
              "      <td>27</td>\n",
              "    </tr>\n",
              "    <tr>\n",
              "      <th>14</th>\n",
              "      <td>Summer</td>\n",
              "      <td>0</td>\n",
              "      <td>26</td>\n",
              "    </tr>\n",
              "    <tr>\n",
              "      <th>15</th>\n",
              "      <td>Summer</td>\n",
              "      <td>1</td>\n",
              "      <td>27</td>\n",
              "    </tr>\n",
              "    <tr>\n",
              "      <th>16</th>\n",
              "      <td>Summer</td>\n",
              "      <td>2</td>\n",
              "      <td>26</td>\n",
              "    </tr>\n",
              "    <tr>\n",
              "      <th>17</th>\n",
              "      <td>Summer</td>\n",
              "      <td>3</td>\n",
              "      <td>27</td>\n",
              "    </tr>\n",
              "    <tr>\n",
              "      <th>18</th>\n",
              "      <td>Summer</td>\n",
              "      <td>4</td>\n",
              "      <td>26</td>\n",
              "    </tr>\n",
              "    <tr>\n",
              "      <th>19</th>\n",
              "      <td>Summer</td>\n",
              "      <td>5</td>\n",
              "      <td>26</td>\n",
              "    </tr>\n",
              "    <tr>\n",
              "      <th>20</th>\n",
              "      <td>Summer</td>\n",
              "      <td>6</td>\n",
              "      <td>26</td>\n",
              "    </tr>\n",
              "    <tr>\n",
              "      <th>21</th>\n",
              "      <td>Winter</td>\n",
              "      <td>0</td>\n",
              "      <td>26</td>\n",
              "    </tr>\n",
              "    <tr>\n",
              "      <th>22</th>\n",
              "      <td>Winter</td>\n",
              "      <td>1</td>\n",
              "      <td>26</td>\n",
              "    </tr>\n",
              "    <tr>\n",
              "      <th>23</th>\n",
              "      <td>Winter</td>\n",
              "      <td>2</td>\n",
              "      <td>26</td>\n",
              "    </tr>\n",
              "    <tr>\n",
              "      <th>24</th>\n",
              "      <td>Winter</td>\n",
              "      <td>3</td>\n",
              "      <td>25</td>\n",
              "    </tr>\n",
              "    <tr>\n",
              "      <th>25</th>\n",
              "      <td>Winter</td>\n",
              "      <td>4</td>\n",
              "      <td>25</td>\n",
              "    </tr>\n",
              "    <tr>\n",
              "      <th>26</th>\n",
              "      <td>Winter</td>\n",
              "      <td>5</td>\n",
              "      <td>25</td>\n",
              "    </tr>\n",
              "    <tr>\n",
              "      <th>27</th>\n",
              "      <td>Winter</td>\n",
              "      <td>6</td>\n",
              "      <td>25</td>\n",
              "    </tr>\n",
              "  </tbody>\n",
              "</table>\n",
              "</div>"
            ],
            "text/plain": [
              "   musim_hari  hari_kerja  jml_musim_hari\n",
              "0        Fall           0              26\n",
              "1        Fall           1              26\n",
              "2        Fall           2              27\n",
              "3        Fall           3              27\n",
              "4        Fall           4              28\n",
              "5        Fall           5              27\n",
              "6        Fall           6              27\n",
              "7    Springer           0              27\n",
              "8    Springer           1              26\n",
              "9    Springer           2              25\n",
              "10   Springer           3              25\n",
              "11   Springer           4              25\n",
              "12   Springer           5              26\n",
              "13   Springer           6              27\n",
              "14     Summer           0              26\n",
              "15     Summer           1              27\n",
              "16     Summer           2              26\n",
              "17     Summer           3              27\n",
              "18     Summer           4              26\n",
              "19     Summer           5              26\n",
              "20     Summer           6              26\n",
              "21     Winter           0              26\n",
              "22     Winter           1              26\n",
              "23     Winter           2              26\n",
              "24     Winter           3              25\n",
              "25     Winter           4              25\n",
              "26     Winter           5              25\n",
              "27     Winter           6              25"
            ]
          },
          "execution_count": 21,
          "metadata": {},
          "output_type": "execute_result"
        }
      ],
      "source": [
        "df1.musim_hari = df1.musim_hari.replace({1: \"Springer\", 2: \"Summer\", 3: \"Fall\", 4: \"Winter\"})\n",
        "group_df1 = df1.groupby(by=[\"musim_hari\",\"hari_kerja\"]).agg({\"musim_hari\":\"count\"}).rename(columns={'musim_hari': 'jml_musim_hari'}).reset_index()\n",
        "group_df1"
      ]
    },
    {
      "cell_type": "code",
      "execution_count": 22,
      "metadata": {},
      "outputs": [
        {
          "data": {
            "application/vnd.microsoft.datawrangler.viewer.v0+json": {
              "columns": [
                {
                  "name": "index",
                  "rawType": "int64",
                  "type": "integer"
                },
                {
                  "name": "tgl_hari_krj",
                  "rawType": "datetime64[ns]",
                  "type": "datetime"
                },
                {
                  "name": "musim_hari",
                  "rawType": "object",
                  "type": "string"
                },
                {
                  "name": "hari_kerja",
                  "rawType": "int64",
                  "type": "integer"
                },
                {
                  "name": "jml_musim_hari",
                  "rawType": "int64",
                  "type": "integer"
                }
              ],
              "conversionMethod": "pd.DataFrame",
              "ref": "c448697f-b292-4760-b54c-8224b44c4d07",
              "rows": [
                [
                  "0",
                  "2011-06-26 00:00:00",
                  "Fall",
                  "0",
                  "26"
                ],
                [
                  "1",
                  "2011-07-03 00:00:00",
                  "Fall",
                  "0",
                  "26"
                ],
                [
                  "2",
                  "2011-07-10 00:00:00",
                  "Fall",
                  "0",
                  "26"
                ],
                [
                  "3",
                  "2011-07-17 00:00:00",
                  "Fall",
                  "0",
                  "26"
                ],
                [
                  "4",
                  "2011-07-24 00:00:00",
                  "Fall",
                  "0",
                  "26"
                ],
                [
                  "5",
                  "2011-07-31 00:00:00",
                  "Fall",
                  "0",
                  "26"
                ],
                [
                  "6",
                  "2011-08-07 00:00:00",
                  "Fall",
                  "0",
                  "26"
                ],
                [
                  "7",
                  "2011-08-14 00:00:00",
                  "Fall",
                  "0",
                  "26"
                ],
                [
                  "8",
                  "2011-08-21 00:00:00",
                  "Fall",
                  "0",
                  "26"
                ],
                [
                  "9",
                  "2011-08-28 00:00:00",
                  "Fall",
                  "0",
                  "26"
                ],
                [
                  "10",
                  "2011-09-04 00:00:00",
                  "Fall",
                  "0",
                  "26"
                ],
                [
                  "11",
                  "2011-09-11 00:00:00",
                  "Fall",
                  "0",
                  "26"
                ],
                [
                  "12",
                  "2011-09-18 00:00:00",
                  "Fall",
                  "0",
                  "26"
                ],
                [
                  "13",
                  "2012-06-24 00:00:00",
                  "Fall",
                  "0",
                  "26"
                ],
                [
                  "14",
                  "2012-07-01 00:00:00",
                  "Fall",
                  "0",
                  "26"
                ],
                [
                  "15",
                  "2012-07-08 00:00:00",
                  "Fall",
                  "0",
                  "26"
                ],
                [
                  "16",
                  "2012-07-15 00:00:00",
                  "Fall",
                  "0",
                  "26"
                ],
                [
                  "17",
                  "2012-07-22 00:00:00",
                  "Fall",
                  "0",
                  "26"
                ],
                [
                  "18",
                  "2012-07-29 00:00:00",
                  "Fall",
                  "0",
                  "26"
                ],
                [
                  "19",
                  "2012-08-05 00:00:00",
                  "Fall",
                  "0",
                  "26"
                ],
                [
                  "20",
                  "2012-08-12 00:00:00",
                  "Fall",
                  "0",
                  "26"
                ],
                [
                  "21",
                  "2012-08-19 00:00:00",
                  "Fall",
                  "0",
                  "26"
                ],
                [
                  "22",
                  "2012-08-26 00:00:00",
                  "Fall",
                  "0",
                  "26"
                ],
                [
                  "23",
                  "2012-09-02 00:00:00",
                  "Fall",
                  "0",
                  "26"
                ],
                [
                  "24",
                  "2012-09-09 00:00:00",
                  "Fall",
                  "0",
                  "26"
                ],
                [
                  "25",
                  "2012-09-16 00:00:00",
                  "Fall",
                  "0",
                  "26"
                ],
                [
                  "26",
                  "2011-06-27 00:00:00",
                  "Fall",
                  "1",
                  "26"
                ],
                [
                  "27",
                  "2011-07-04 00:00:00",
                  "Fall",
                  "1",
                  "26"
                ],
                [
                  "28",
                  "2011-07-11 00:00:00",
                  "Fall",
                  "1",
                  "26"
                ],
                [
                  "29",
                  "2011-07-18 00:00:00",
                  "Fall",
                  "1",
                  "26"
                ],
                [
                  "30",
                  "2011-07-25 00:00:00",
                  "Fall",
                  "1",
                  "26"
                ],
                [
                  "31",
                  "2011-08-01 00:00:00",
                  "Fall",
                  "1",
                  "26"
                ],
                [
                  "32",
                  "2011-08-08 00:00:00",
                  "Fall",
                  "1",
                  "26"
                ],
                [
                  "33",
                  "2011-08-15 00:00:00",
                  "Fall",
                  "1",
                  "26"
                ],
                [
                  "34",
                  "2011-08-22 00:00:00",
                  "Fall",
                  "1",
                  "26"
                ],
                [
                  "35",
                  "2011-08-29 00:00:00",
                  "Fall",
                  "1",
                  "26"
                ],
                [
                  "36",
                  "2011-09-05 00:00:00",
                  "Fall",
                  "1",
                  "26"
                ],
                [
                  "37",
                  "2011-09-12 00:00:00",
                  "Fall",
                  "1",
                  "26"
                ],
                [
                  "38",
                  "2011-09-19 00:00:00",
                  "Fall",
                  "1",
                  "26"
                ],
                [
                  "39",
                  "2012-06-25 00:00:00",
                  "Fall",
                  "1",
                  "26"
                ],
                [
                  "40",
                  "2012-07-02 00:00:00",
                  "Fall",
                  "1",
                  "26"
                ],
                [
                  "41",
                  "2012-07-09 00:00:00",
                  "Fall",
                  "1",
                  "26"
                ],
                [
                  "42",
                  "2012-07-16 00:00:00",
                  "Fall",
                  "1",
                  "26"
                ],
                [
                  "43",
                  "2012-07-23 00:00:00",
                  "Fall",
                  "1",
                  "26"
                ],
                [
                  "44",
                  "2012-07-30 00:00:00",
                  "Fall",
                  "1",
                  "26"
                ],
                [
                  "45",
                  "2012-08-06 00:00:00",
                  "Fall",
                  "1",
                  "26"
                ],
                [
                  "46",
                  "2012-08-13 00:00:00",
                  "Fall",
                  "1",
                  "26"
                ],
                [
                  "47",
                  "2012-08-20 00:00:00",
                  "Fall",
                  "1",
                  "26"
                ],
                [
                  "48",
                  "2012-08-27 00:00:00",
                  "Fall",
                  "1",
                  "26"
                ],
                [
                  "49",
                  "2012-09-03 00:00:00",
                  "Fall",
                  "1",
                  "26"
                ]
              ],
              "shape": {
                "columns": 4,
                "rows": 731
              }
            },
            "text/html": [
              "<div>\n",
              "<style scoped>\n",
              "    .dataframe tbody tr th:only-of-type {\n",
              "        vertical-align: middle;\n",
              "    }\n",
              "\n",
              "    .dataframe tbody tr th {\n",
              "        vertical-align: top;\n",
              "    }\n",
              "\n",
              "    .dataframe thead th {\n",
              "        text-align: right;\n",
              "    }\n",
              "</style>\n",
              "<table border=\"1\" class=\"dataframe\">\n",
              "  <thead>\n",
              "    <tr style=\"text-align: right;\">\n",
              "      <th></th>\n",
              "      <th>tgl_hari_krj</th>\n",
              "      <th>musim_hari</th>\n",
              "      <th>hari_kerja</th>\n",
              "      <th>jml_musim_hari</th>\n",
              "    </tr>\n",
              "  </thead>\n",
              "  <tbody>\n",
              "    <tr>\n",
              "      <th>0</th>\n",
              "      <td>2011-06-26</td>\n",
              "      <td>Fall</td>\n",
              "      <td>0</td>\n",
              "      <td>26</td>\n",
              "    </tr>\n",
              "    <tr>\n",
              "      <th>1</th>\n",
              "      <td>2011-07-03</td>\n",
              "      <td>Fall</td>\n",
              "      <td>0</td>\n",
              "      <td>26</td>\n",
              "    </tr>\n",
              "    <tr>\n",
              "      <th>2</th>\n",
              "      <td>2011-07-10</td>\n",
              "      <td>Fall</td>\n",
              "      <td>0</td>\n",
              "      <td>26</td>\n",
              "    </tr>\n",
              "    <tr>\n",
              "      <th>3</th>\n",
              "      <td>2011-07-17</td>\n",
              "      <td>Fall</td>\n",
              "      <td>0</td>\n",
              "      <td>26</td>\n",
              "    </tr>\n",
              "    <tr>\n",
              "      <th>4</th>\n",
              "      <td>2011-07-24</td>\n",
              "      <td>Fall</td>\n",
              "      <td>0</td>\n",
              "      <td>26</td>\n",
              "    </tr>\n",
              "    <tr>\n",
              "      <th>...</th>\n",
              "      <td>...</td>\n",
              "      <td>...</td>\n",
              "      <td>...</td>\n",
              "      <td>...</td>\n",
              "    </tr>\n",
              "    <tr>\n",
              "      <th>726</th>\n",
              "      <td>2012-11-17</td>\n",
              "      <td>Winter</td>\n",
              "      <td>6</td>\n",
              "      <td>25</td>\n",
              "    </tr>\n",
              "    <tr>\n",
              "      <th>727</th>\n",
              "      <td>2012-11-24</td>\n",
              "      <td>Winter</td>\n",
              "      <td>6</td>\n",
              "      <td>25</td>\n",
              "    </tr>\n",
              "    <tr>\n",
              "      <th>728</th>\n",
              "      <td>2012-12-01</td>\n",
              "      <td>Winter</td>\n",
              "      <td>6</td>\n",
              "      <td>25</td>\n",
              "    </tr>\n",
              "    <tr>\n",
              "      <th>729</th>\n",
              "      <td>2012-12-08</td>\n",
              "      <td>Winter</td>\n",
              "      <td>6</td>\n",
              "      <td>25</td>\n",
              "    </tr>\n",
              "    <tr>\n",
              "      <th>730</th>\n",
              "      <td>2012-12-15</td>\n",
              "      <td>Winter</td>\n",
              "      <td>6</td>\n",
              "      <td>25</td>\n",
              "    </tr>\n",
              "  </tbody>\n",
              "</table>\n",
              "<p>731 rows × 4 columns</p>\n",
              "</div>"
            ],
            "text/plain": [
              "    tgl_hari_krj musim_hari  hari_kerja  jml_musim_hari\n",
              "0     2011-06-26       Fall           0              26\n",
              "1     2011-07-03       Fall           0              26\n",
              "2     2011-07-10       Fall           0              26\n",
              "3     2011-07-17       Fall           0              26\n",
              "4     2011-07-24       Fall           0              26\n",
              "..           ...        ...         ...             ...\n",
              "726   2012-11-17     Winter           6              25\n",
              "727   2012-11-24     Winter           6              25\n",
              "728   2012-12-01     Winter           6              25\n",
              "729   2012-12-08     Winter           6              25\n",
              "730   2012-12-15     Winter           6              25\n",
              "\n",
              "[731 rows x 4 columns]"
            ]
          },
          "execution_count": 22,
          "metadata": {},
          "output_type": "execute_result"
        }
      ],
      "source": [
        "byseason_df1 = pd.merge(left=df1, right=group_df1, on=[\"musim_hari\",\"hari_kerja\"], how=\"right\")\n",
        "byseason_df1"
      ]
    },
    {
      "cell_type": "code",
      "execution_count": 23,
      "metadata": {},
      "outputs": [
        {
          "data": {
            "image/png": "[encoded data removed]",
            "text/plain": [
              "<Figure size 1000x500 with 1 Axes>"
            ]
          },
          "metadata": {},
          "output_type": "display_data"
        }
      ],
      "source": [
        "plt.figure(figsize=(10, 5))\n",
        "sns.barplot(\n",
        "    x=\"musim_hari\", \n",
        "    y=\"hari_kerja\", \n",
        "    data=byseason_df1.sort_values(by=\"jml_musim_hari\", ascending=True))\n",
        "plt.title(\"Frekuensi varian musim pada weekday\", loc=\"center\", fontsize=18)\n",
        "plt.xticks(fontsize=10)\n",
        "plt.ylabel(\"Hari Kerja\")\n",
        "plt.xlabel(\"Frekuensi Musim\")\n",
        "plt.show()"
      ]
    },
    {
      "cell_type": "markdown",
      "metadata": {
        "id": "DgHI7CiU8DC2"
      },
      "source": [
        "### Pertanyaan 2: Jenis musim dingin apa (termasuk Fall & Winter) yang paling sering muncul terjadi berdasarkan perhitungan jam yang dihasilkan?"
      ]
    },
    {
      "cell_type": "code",
      "execution_count": 24,
      "metadata": {
        "id": "Go0lCsvO8DC2"
      },
      "outputs": [
        {
          "data": {
            "application/vnd.microsoft.datawrangler.viewer.v0+json": {
              "columns": [
                {
                  "name": "index",
                  "rawType": "int64",
                  "type": "integer"
                },
                {
                  "name": "tgl_hari_jam",
                  "rawType": "datetime64[ns]",
                  "type": "datetime"
                },
                {
                  "name": "musim_jam",
                  "rawType": "int64",
                  "type": "integer"
                },
                {
                  "name": "jam",
                  "rawType": "int64",
                  "type": "integer"
                }
              ],
              "conversionMethod": "pd.DataFrame",
              "ref": "4899b6e0-b959-4ad7-8d70-5dcd5a9a2572",
              "rows": [
                [
                  "0",
                  "2011-01-01 00:00:00",
                  "1",
                  "0"
                ],
                [
                  "1",
                  "2011-01-01 00:00:00",
                  "1",
                  "1"
                ],
                [
                  "2",
                  "2011-01-01 00:00:00",
                  "1",
                  "2"
                ],
                [
                  "3",
                  "2011-01-01 00:00:00",
                  "1",
                  "3"
                ],
                [
                  "4",
                  "2011-01-01 00:00:00",
                  "1",
                  "4"
                ],
                [
                  "5",
                  "2011-01-01 00:00:00",
                  "1",
                  "5"
                ],
                [
                  "6",
                  "2011-01-01 00:00:00",
                  "1",
                  "6"
                ],
                [
                  "7",
                  "2011-01-01 00:00:00",
                  "1",
                  "7"
                ],
                [
                  "8",
                  "2011-01-01 00:00:00",
                  "1",
                  "8"
                ],
                [
                  "9",
                  "2011-01-01 00:00:00",
                  "1",
                  "9"
                ],
                [
                  "10",
                  "2011-01-01 00:00:00",
                  "1",
                  "10"
                ],
                [
                  "11",
                  "2011-01-01 00:00:00",
                  "1",
                  "11"
                ],
                [
                  "12",
                  "2011-01-01 00:00:00",
                  "1",
                  "12"
                ],
                [
                  "13",
                  "2011-01-01 00:00:00",
                  "1",
                  "13"
                ],
                [
                  "14",
                  "2011-01-01 00:00:00",
                  "1",
                  "14"
                ],
                [
                  "15",
                  "2011-01-01 00:00:00",
                  "1",
                  "15"
                ],
                [
                  "16",
                  "2011-01-01 00:00:00",
                  "1",
                  "16"
                ],
                [
                  "17",
                  "2011-01-01 00:00:00",
                  "1",
                  "17"
                ],
                [
                  "18",
                  "2011-01-01 00:00:00",
                  "1",
                  "18"
                ],
                [
                  "19",
                  "2011-01-01 00:00:00",
                  "1",
                  "19"
                ],
                [
                  "20",
                  "2011-01-01 00:00:00",
                  "1",
                  "20"
                ],
                [
                  "21",
                  "2011-01-01 00:00:00",
                  "1",
                  "21"
                ],
                [
                  "22",
                  "2011-01-01 00:00:00",
                  "1",
                  "22"
                ],
                [
                  "23",
                  "2011-01-01 00:00:00",
                  "1",
                  "23"
                ],
                [
                  "24",
                  "2011-01-02 00:00:00",
                  "1",
                  "0"
                ],
                [
                  "25",
                  "2011-01-02 00:00:00",
                  "1",
                  "1"
                ],
                [
                  "26",
                  "2011-01-02 00:00:00",
                  "1",
                  "2"
                ],
                [
                  "27",
                  "2011-01-02 00:00:00",
                  "1",
                  "3"
                ],
                [
                  "28",
                  "2011-01-02 00:00:00",
                  "1",
                  "4"
                ],
                [
                  "29",
                  "2011-01-02 00:00:00",
                  "1",
                  "6"
                ],
                [
                  "30",
                  "2011-01-02 00:00:00",
                  "1",
                  "7"
                ],
                [
                  "31",
                  "2011-01-02 00:00:00",
                  "1",
                  "8"
                ],
                [
                  "32",
                  "2011-01-02 00:00:00",
                  "1",
                  "9"
                ],
                [
                  "33",
                  "2011-01-02 00:00:00",
                  "1",
                  "10"
                ],
                [
                  "34",
                  "2011-01-02 00:00:00",
                  "1",
                  "11"
                ],
                [
                  "35",
                  "2011-01-02 00:00:00",
                  "1",
                  "12"
                ],
                [
                  "36",
                  "2011-01-02 00:00:00",
                  "1",
                  "13"
                ],
                [
                  "37",
                  "2011-01-02 00:00:00",
                  "1",
                  "14"
                ],
                [
                  "38",
                  "2011-01-02 00:00:00",
                  "1",
                  "15"
                ],
                [
                  "39",
                  "2011-01-02 00:00:00",
                  "1",
                  "16"
                ],
                [
                  "40",
                  "2011-01-02 00:00:00",
                  "1",
                  "17"
                ],
                [
                  "41",
                  "2011-01-02 00:00:00",
                  "1",
                  "18"
                ],
                [
                  "42",
                  "2011-01-02 00:00:00",
                  "1",
                  "19"
                ],
                [
                  "43",
                  "2011-01-02 00:00:00",
                  "1",
                  "20"
                ],
                [
                  "44",
                  "2011-01-02 00:00:00",
                  "1",
                  "21"
                ],
                [
                  "45",
                  "2011-01-02 00:00:00",
                  "1",
                  "22"
                ],
                [
                  "46",
                  "2011-01-02 00:00:00",
                  "1",
                  "23"
                ],
                [
                  "47",
                  "2011-01-03 00:00:00",
                  "1",
                  "0"
                ],
                [
                  "48",
                  "2011-01-03 00:00:00",
                  "1",
                  "1"
                ],
                [
                  "49",
                  "2011-01-03 00:00:00",
                  "1",
                  "4"
                ]
              ],
              "shape": {
                "columns": 3,
                "rows": 17379
              }
            },
            "text/html": [
              "<div>\n",
              "<style scoped>\n",
              "    .dataframe tbody tr th:only-of-type {\n",
              "        vertical-align: middle;\n",
              "    }\n",
              "\n",
              "    .dataframe tbody tr th {\n",
              "        vertical-align: top;\n",
              "    }\n",
              "\n",
              "    .dataframe thead th {\n",
              "        text-align: right;\n",
              "    }\n",
              "</style>\n",
              "<table border=\"1\" class=\"dataframe\">\n",
              "  <thead>\n",
              "    <tr style=\"text-align: right;\">\n",
              "      <th></th>\n",
              "      <th>tgl_hari_jam</th>\n",
              "      <th>musim_jam</th>\n",
              "      <th>jam</th>\n",
              "    </tr>\n",
              "  </thead>\n",
              "  <tbody>\n",
              "    <tr>\n",
              "      <th>0</th>\n",
              "      <td>2011-01-01</td>\n",
              "      <td>1</td>\n",
              "      <td>0</td>\n",
              "    </tr>\n",
              "    <tr>\n",
              "      <th>1</th>\n",
              "      <td>2011-01-01</td>\n",
              "      <td>1</td>\n",
              "      <td>1</td>\n",
              "    </tr>\n",
              "    <tr>\n",
              "      <th>2</th>\n",
              "      <td>2011-01-01</td>\n",
              "      <td>1</td>\n",
              "      <td>2</td>\n",
              "    </tr>\n",
              "    <tr>\n",
              "      <th>3</th>\n",
              "      <td>2011-01-01</td>\n",
              "      <td>1</td>\n",
              "      <td>3</td>\n",
              "    </tr>\n",
              "    <tr>\n",
              "      <th>4</th>\n",
              "      <td>2011-01-01</td>\n",
              "      <td>1</td>\n",
              "      <td>4</td>\n",
              "    </tr>\n",
              "    <tr>\n",
              "      <th>...</th>\n",
              "      <td>...</td>\n",
              "      <td>...</td>\n",
              "      <td>...</td>\n",
              "    </tr>\n",
              "    <tr>\n",
              "      <th>17374</th>\n",
              "      <td>2012-12-31</td>\n",
              "      <td>1</td>\n",
              "      <td>19</td>\n",
              "    </tr>\n",
              "    <tr>\n",
              "      <th>17375</th>\n",
              "      <td>2012-12-31</td>\n",
              "      <td>1</td>\n",
              "      <td>20</td>\n",
              "    </tr>\n",
              "    <tr>\n",
              "      <th>17376</th>\n",
              "      <td>2012-12-31</td>\n",
              "      <td>1</td>\n",
              "      <td>21</td>\n",
              "    </tr>\n",
              "    <tr>\n",
              "      <th>17377</th>\n",
              "      <td>2012-12-31</td>\n",
              "      <td>1</td>\n",
              "      <td>22</td>\n",
              "    </tr>\n",
              "    <tr>\n",
              "      <th>17378</th>\n",
              "      <td>2012-12-31</td>\n",
              "      <td>1</td>\n",
              "      <td>23</td>\n",
              "    </tr>\n",
              "  </tbody>\n",
              "</table>\n",
              "<p>17379 rows × 3 columns</p>\n",
              "</div>"
            ],
            "text/plain": [
              "      tgl_hari_jam  musim_jam  jam\n",
              "0       2011-01-01          1    0\n",
              "1       2011-01-01          1    1\n",
              "2       2011-01-01          1    2\n",
              "3       2011-01-01          1    3\n",
              "4       2011-01-01          1    4\n",
              "...            ...        ...  ...\n",
              "17374   2012-12-31          1   19\n",
              "17375   2012-12-31          1   20\n",
              "17376   2012-12-31          1   21\n",
              "17377   2012-12-31          1   22\n",
              "17378   2012-12-31          1   23\n",
              "\n",
              "[17379 rows x 3 columns]"
            ]
          },
          "execution_count": 24,
          "metadata": {},
          "output_type": "execute_result"
        }
      ],
      "source": [
        "df2"
      ]
    },
    {
      "cell_type": "code",
      "execution_count": 25,
      "metadata": {},
      "outputs": [
        {
          "data": {
            "application/vnd.microsoft.datawrangler.viewer.v0+json": {
              "columns": [
                {
                  "name": "index",
                  "rawType": "int64",
                  "type": "integer"
                },
                {
                  "name": "tgl_hari_jam",
                  "rawType": "datetime64[ns]",
                  "type": "datetime"
                },
                {
                  "name": "musim_jam",
                  "rawType": "object",
                  "type": "unknown"
                },
                {
                  "name": "jam",
                  "rawType": "int64",
                  "type": "integer"
                }
              ],
              "conversionMethod": "pd.DataFrame",
              "ref": "698ba8cd-862f-4afd-be1b-20c4ad23d89b",
              "rows": [
                [
                  "0",
                  "2011-01-01 00:00:00",
                  "1",
                  "0"
                ],
                [
                  "1",
                  "2011-01-01 00:00:00",
                  "1",
                  "1"
                ],
                [
                  "2",
                  "2011-01-01 00:00:00",
                  "1",
                  "2"
                ],
                [
                  "3",
                  "2011-01-01 00:00:00",
                  "1",
                  "3"
                ],
                [
                  "4",
                  "2011-01-01 00:00:00",
                  "1",
                  "4"
                ],
                [
                  "5",
                  "2011-01-01 00:00:00",
                  "1",
                  "5"
                ],
                [
                  "6",
                  "2011-01-01 00:00:00",
                  "1",
                  "6"
                ],
                [
                  "7",
                  "2011-01-01 00:00:00",
                  "1",
                  "7"
                ],
                [
                  "8",
                  "2011-01-01 00:00:00",
                  "1",
                  "8"
                ],
                [
                  "9",
                  "2011-01-01 00:00:00",
                  "1",
                  "9"
                ],
                [
                  "10",
                  "2011-01-01 00:00:00",
                  "1",
                  "10"
                ],
                [
                  "11",
                  "2011-01-01 00:00:00",
                  "1",
                  "11"
                ],
                [
                  "12",
                  "2011-01-01 00:00:00",
                  "1",
                  "12"
                ],
                [
                  "13",
                  "2011-01-01 00:00:00",
                  "1",
                  "13"
                ],
                [
                  "14",
                  "2011-01-01 00:00:00",
                  "1",
                  "14"
                ],
                [
                  "15",
                  "2011-01-01 00:00:00",
                  "1",
                  "15"
                ],
                [
                  "16",
                  "2011-01-01 00:00:00",
                  "1",
                  "16"
                ],
                [
                  "17",
                  "2011-01-01 00:00:00",
                  "1",
                  "17"
                ],
                [
                  "18",
                  "2011-01-01 00:00:00",
                  "1",
                  "18"
                ],
                [
                  "19",
                  "2011-01-01 00:00:00",
                  "1",
                  "19"
                ],
                [
                  "20",
                  "2011-01-01 00:00:00",
                  "1",
                  "20"
                ],
                [
                  "21",
                  "2011-01-01 00:00:00",
                  "1",
                  "21"
                ],
                [
                  "22",
                  "2011-01-01 00:00:00",
                  "1",
                  "22"
                ],
                [
                  "23",
                  "2011-01-01 00:00:00",
                  "1",
                  "23"
                ],
                [
                  "24",
                  "2011-01-02 00:00:00",
                  "1",
                  "0"
                ],
                [
                  "25",
                  "2011-01-02 00:00:00",
                  "1",
                  "1"
                ],
                [
                  "26",
                  "2011-01-02 00:00:00",
                  "1",
                  "2"
                ],
                [
                  "27",
                  "2011-01-02 00:00:00",
                  "1",
                  "3"
                ],
                [
                  "28",
                  "2011-01-02 00:00:00",
                  "1",
                  "4"
                ],
                [
                  "29",
                  "2011-01-02 00:00:00",
                  "1",
                  "6"
                ],
                [
                  "30",
                  "2011-01-02 00:00:00",
                  "1",
                  "7"
                ],
                [
                  "31",
                  "2011-01-02 00:00:00",
                  "1",
                  "8"
                ],
                [
                  "32",
                  "2011-01-02 00:00:00",
                  "1",
                  "9"
                ],
                [
                  "33",
                  "2011-01-02 00:00:00",
                  "1",
                  "10"
                ],
                [
                  "34",
                  "2011-01-02 00:00:00",
                  "1",
                  "11"
                ],
                [
                  "35",
                  "2011-01-02 00:00:00",
                  "1",
                  "12"
                ],
                [
                  "36",
                  "2011-01-02 00:00:00",
                  "1",
                  "13"
                ],
                [
                  "37",
                  "2011-01-02 00:00:00",
                  "1",
                  "14"
                ],
                [
                  "38",
                  "2011-01-02 00:00:00",
                  "1",
                  "15"
                ],
                [
                  "39",
                  "2011-01-02 00:00:00",
                  "1",
                  "16"
                ],
                [
                  "40",
                  "2011-01-02 00:00:00",
                  "1",
                  "17"
                ],
                [
                  "41",
                  "2011-01-02 00:00:00",
                  "1",
                  "18"
                ],
                [
                  "42",
                  "2011-01-02 00:00:00",
                  "1",
                  "19"
                ],
                [
                  "43",
                  "2011-01-02 00:00:00",
                  "1",
                  "20"
                ],
                [
                  "44",
                  "2011-01-02 00:00:00",
                  "1",
                  "21"
                ],
                [
                  "45",
                  "2011-01-02 00:00:00",
                  "1",
                  "22"
                ],
                [
                  "46",
                  "2011-01-02 00:00:00",
                  "1",
                  "23"
                ],
                [
                  "47",
                  "2011-01-03 00:00:00",
                  "1",
                  "0"
                ],
                [
                  "48",
                  "2011-01-03 00:00:00",
                  "1",
                  "1"
                ],
                [
                  "49",
                  "2011-01-03 00:00:00",
                  "1",
                  "4"
                ]
              ],
              "shape": {
                "columns": 3,
                "rows": 17379
              }
            },
            "text/html": [
              "<div>\n",
              "<style scoped>\n",
              "    .dataframe tbody tr th:only-of-type {\n",
              "        vertical-align: middle;\n",
              "    }\n",
              "\n",
              "    .dataframe tbody tr th {\n",
              "        vertical-align: top;\n",
              "    }\n",
              "\n",
              "    .dataframe thead th {\n",
              "        text-align: right;\n",
              "    }\n",
              "</style>\n",
              "<table border=\"1\" class=\"dataframe\">\n",
              "  <thead>\n",
              "    <tr style=\"text-align: right;\">\n",
              "      <th></th>\n",
              "      <th>tgl_hari_jam</th>\n",
              "      <th>musim_jam</th>\n",
              "      <th>jam</th>\n",
              "    </tr>\n",
              "  </thead>\n",
              "  <tbody>\n",
              "    <tr>\n",
              "      <th>0</th>\n",
              "      <td>2011-01-01</td>\n",
              "      <td>1</td>\n",
              "      <td>0</td>\n",
              "    </tr>\n",
              "    <tr>\n",
              "      <th>1</th>\n",
              "      <td>2011-01-01</td>\n",
              "      <td>1</td>\n",
              "      <td>1</td>\n",
              "    </tr>\n",
              "    <tr>\n",
              "      <th>2</th>\n",
              "      <td>2011-01-01</td>\n",
              "      <td>1</td>\n",
              "      <td>2</td>\n",
              "    </tr>\n",
              "    <tr>\n",
              "      <th>3</th>\n",
              "      <td>2011-01-01</td>\n",
              "      <td>1</td>\n",
              "      <td>3</td>\n",
              "    </tr>\n",
              "    <tr>\n",
              "      <th>4</th>\n",
              "      <td>2011-01-01</td>\n",
              "      <td>1</td>\n",
              "      <td>4</td>\n",
              "    </tr>\n",
              "    <tr>\n",
              "      <th>...</th>\n",
              "      <td>...</td>\n",
              "      <td>...</td>\n",
              "      <td>...</td>\n",
              "    </tr>\n",
              "    <tr>\n",
              "      <th>17374</th>\n",
              "      <td>2012-12-31</td>\n",
              "      <td>1</td>\n",
              "      <td>19</td>\n",
              "    </tr>\n",
              "    <tr>\n",
              "      <th>17375</th>\n",
              "      <td>2012-12-31</td>\n",
              "      <td>1</td>\n",
              "      <td>20</td>\n",
              "    </tr>\n",
              "    <tr>\n",
              "      <th>17376</th>\n",
              "      <td>2012-12-31</td>\n",
              "      <td>1</td>\n",
              "      <td>21</td>\n",
              "    </tr>\n",
              "    <tr>\n",
              "      <th>17377</th>\n",
              "      <td>2012-12-31</td>\n",
              "      <td>1</td>\n",
              "      <td>22</td>\n",
              "    </tr>\n",
              "    <tr>\n",
              "      <th>17378</th>\n",
              "      <td>2012-12-31</td>\n",
              "      <td>1</td>\n",
              "      <td>23</td>\n",
              "    </tr>\n",
              "  </tbody>\n",
              "</table>\n",
              "<p>17379 rows × 3 columns</p>\n",
              "</div>"
            ],
            "text/plain": [
              "      tgl_hari_jam musim_jam  jam\n",
              "0       2011-01-01         1    0\n",
              "1       2011-01-01         1    1\n",
              "2       2011-01-01         1    2\n",
              "3       2011-01-01         1    3\n",
              "4       2011-01-01         1    4\n",
              "...            ...       ...  ...\n",
              "17374   2012-12-31         1   19\n",
              "17375   2012-12-31         1   20\n",
              "17376   2012-12-31         1   21\n",
              "17377   2012-12-31         1   22\n",
              "17378   2012-12-31         1   23\n",
              "\n",
              "[17379 rows x 3 columns]"
            ]
          },
          "metadata": {},
          "output_type": "display_data"
        },
        {
          "data": {
            "application/vnd.microsoft.datawrangler.viewer.v0+json": {
              "columns": [
                {
                  "name": "index",
                  "rawType": "int64",
                  "type": "integer"
                },
                {
                  "name": "musim_jam",
                  "rawType": "object",
                  "type": "unknown"
                },
                {
                  "name": "jam",
                  "rawType": "int64",
                  "type": "integer"
                },
                {
                  "name": "jml_musim_jam",
                  "rawType": "int64",
                  "type": "integer"
                }
              ],
              "conversionMethod": "pd.DataFrame",
              "ref": "dc63aa52-489e-4330-b0ec-527fa75ba0ec",
              "rows": [
                [
                  "0",
                  "1",
                  "0",
                  "178"
                ],
                [
                  "1",
                  "1",
                  "1",
                  "178"
                ],
                [
                  "2",
                  "1",
                  "2",
                  "170"
                ],
                [
                  "3",
                  "1",
                  "3",
                  "156"
                ],
                [
                  "4",
                  "1",
                  "4",
                  "154"
                ],
                [
                  "5",
                  "1",
                  "5",
                  "171"
                ],
                [
                  "6",
                  "1",
                  "6",
                  "178"
                ],
                [
                  "7",
                  "1",
                  "7",
                  "179"
                ],
                [
                  "8",
                  "1",
                  "8",
                  "179"
                ],
                [
                  "9",
                  "1",
                  "9",
                  "179"
                ],
                [
                  "10",
                  "1",
                  "10",
                  "179"
                ],
                [
                  "11",
                  "1",
                  "11",
                  "179"
                ],
                [
                  "12",
                  "1",
                  "12",
                  "180"
                ],
                [
                  "13",
                  "1",
                  "13",
                  "180"
                ],
                [
                  "14",
                  "1",
                  "14",
                  "180"
                ],
                [
                  "15",
                  "1",
                  "15",
                  "180"
                ],
                [
                  "16",
                  "1",
                  "16",
                  "181"
                ],
                [
                  "17",
                  "1",
                  "17",
                  "181"
                ],
                [
                  "18",
                  "1",
                  "18",
                  "180"
                ],
                [
                  "19",
                  "1",
                  "19",
                  "180"
                ],
                [
                  "20",
                  "1",
                  "20",
                  "180"
                ],
                [
                  "21",
                  "1",
                  "21",
                  "180"
                ],
                [
                  "22",
                  "1",
                  "22",
                  "180"
                ],
                [
                  "23",
                  "1",
                  "23",
                  "180"
                ],
                [
                  "24",
                  "2",
                  "0",
                  "184"
                ],
                [
                  "25",
                  "2",
                  "1",
                  "184"
                ],
                [
                  "26",
                  "2",
                  "2",
                  "184"
                ],
                [
                  "27",
                  "2",
                  "3",
                  "182"
                ],
                [
                  "28",
                  "2",
                  "4",
                  "180"
                ],
                [
                  "29",
                  "2",
                  "5",
                  "183"
                ],
                [
                  "30",
                  "2",
                  "6",
                  "184"
                ],
                [
                  "31",
                  "2",
                  "7",
                  "184"
                ],
                [
                  "32",
                  "2",
                  "8",
                  "184"
                ],
                [
                  "33",
                  "2",
                  "9",
                  "184"
                ],
                [
                  "34",
                  "2",
                  "10",
                  "184"
                ],
                [
                  "35",
                  "2",
                  "11",
                  "184"
                ],
                [
                  "36",
                  "2",
                  "12",
                  "184"
                ],
                [
                  "37",
                  "2",
                  "13",
                  "184"
                ],
                [
                  "38",
                  "2",
                  "14",
                  "184"
                ],
                [
                  "39",
                  "2",
                  "15",
                  "184"
                ],
                [
                  "40",
                  "2",
                  "16",
                  "184"
                ],
                [
                  "41",
                  "2",
                  "17",
                  "184"
                ],
                [
                  "42",
                  "2",
                  "18",
                  "184"
                ],
                [
                  "43",
                  "2",
                  "19",
                  "184"
                ],
                [
                  "44",
                  "2",
                  "20",
                  "184"
                ],
                [
                  "45",
                  "2",
                  "21",
                  "184"
                ],
                [
                  "46",
                  "2",
                  "22",
                  "184"
                ],
                [
                  "47",
                  "2",
                  "23",
                  "184"
                ],
                [
                  "48",
                  "Fall",
                  "0",
                  "187"
                ],
                [
                  "49",
                  "Fall",
                  "1",
                  "186"
                ]
              ],
              "shape": {
                "columns": 3,
                "rows": 96
              }
            },
            "text/html": [
              "<div>\n",
              "<style scoped>\n",
              "    .dataframe tbody tr th:only-of-type {\n",
              "        vertical-align: middle;\n",
              "    }\n",
              "\n",
              "    .dataframe tbody tr th {\n",
              "        vertical-align: top;\n",
              "    }\n",
              "\n",
              "    .dataframe thead th {\n",
              "        text-align: right;\n",
              "    }\n",
              "</style>\n",
              "<table border=\"1\" class=\"dataframe\">\n",
              "  <thead>\n",
              "    <tr style=\"text-align: right;\">\n",
              "      <th></th>\n",
              "      <th>musim_jam</th>\n",
              "      <th>jam</th>\n",
              "      <th>jml_musim_jam</th>\n",
              "    </tr>\n",
              "  </thead>\n",
              "  <tbody>\n",
              "    <tr>\n",
              "      <th>0</th>\n",
              "      <td>1</td>\n",
              "      <td>0</td>\n",
              "      <td>178</td>\n",
              "    </tr>\n",
              "    <tr>\n",
              "      <th>1</th>\n",
              "      <td>1</td>\n",
              "      <td>1</td>\n",
              "      <td>178</td>\n",
              "    </tr>\n",
              "    <tr>\n",
              "      <th>2</th>\n",
              "      <td>1</td>\n",
              "      <td>2</td>\n",
              "      <td>170</td>\n",
              "    </tr>\n",
              "    <tr>\n",
              "      <th>3</th>\n",
              "      <td>1</td>\n",
              "      <td>3</td>\n",
              "      <td>156</td>\n",
              "    </tr>\n",
              "    <tr>\n",
              "      <th>4</th>\n",
              "      <td>1</td>\n",
              "      <td>4</td>\n",
              "      <td>154</td>\n",
              "    </tr>\n",
              "    <tr>\n",
              "      <th>...</th>\n",
              "      <td>...</td>\n",
              "      <td>...</td>\n",
              "      <td>...</td>\n",
              "    </tr>\n",
              "    <tr>\n",
              "      <th>91</th>\n",
              "      <td>Winter</td>\n",
              "      <td>19</td>\n",
              "      <td>177</td>\n",
              "    </tr>\n",
              "    <tr>\n",
              "      <th>92</th>\n",
              "      <td>Winter</td>\n",
              "      <td>20</td>\n",
              "      <td>177</td>\n",
              "    </tr>\n",
              "    <tr>\n",
              "      <th>93</th>\n",
              "      <td>Winter</td>\n",
              "      <td>21</td>\n",
              "      <td>177</td>\n",
              "    </tr>\n",
              "    <tr>\n",
              "      <th>94</th>\n",
              "      <td>Winter</td>\n",
              "      <td>22</td>\n",
              "      <td>177</td>\n",
              "    </tr>\n",
              "    <tr>\n",
              "      <th>95</th>\n",
              "      <td>Winter</td>\n",
              "      <td>23</td>\n",
              "      <td>177</td>\n",
              "    </tr>\n",
              "  </tbody>\n",
              "</table>\n",
              "<p>96 rows × 3 columns</p>\n",
              "</div>"
            ],
            "text/plain": [
              "   musim_jam  jam  jml_musim_jam\n",
              "0          1    0            178\n",
              "1          1    1            178\n",
              "2          1    2            170\n",
              "3          1    3            156\n",
              "4          1    4            154\n",
              "..       ...  ...            ...\n",
              "91    Winter   19            177\n",
              "92    Winter   20            177\n",
              "93    Winter   21            177\n",
              "94    Winter   22            177\n",
              "95    Winter   23            177\n",
              "\n",
              "[96 rows x 3 columns]"
            ]
          },
          "metadata": {},
          "output_type": "display_data"
        },
        {
          "data": {
            "application/vnd.microsoft.datawrangler.viewer.v0+json": {
              "columns": [
                {
                  "name": "index",
                  "rawType": "int64",
                  "type": "integer"
                },
                {
                  "name": "musim_jam",
                  "rawType": "object",
                  "type": "string"
                },
                {
                  "name": "jam",
                  "rawType": "int64",
                  "type": "integer"
                },
                {
                  "name": "jml_musim_jam",
                  "rawType": "int64",
                  "type": "integer"
                }
              ],
              "conversionMethod": "pd.DataFrame",
              "ref": "b87b6dc7-e1fb-4d42-b3e1-c71457b8b071",
              "rows": [
                [
                  "0",
                  "Fall",
                  "0",
                  "187"
                ],
                [
                  "1",
                  "Fall",
                  "1",
                  "186"
                ],
                [
                  "2",
                  "Fall",
                  "2",
                  "186"
                ],
                [
                  "3",
                  "Fall",
                  "3",
                  "186"
                ],
                [
                  "4",
                  "Fall",
                  "4",
                  "187"
                ],
                [
                  "5",
                  "Fall",
                  "5",
                  "187"
                ],
                [
                  "6",
                  "Fall",
                  "6",
                  "187"
                ],
                [
                  "7",
                  "Fall",
                  "7",
                  "188"
                ],
                [
                  "8",
                  "Fall",
                  "8",
                  "188"
                ],
                [
                  "9",
                  "Fall",
                  "9",
                  "188"
                ],
                [
                  "10",
                  "Fall",
                  "10",
                  "188"
                ],
                [
                  "11",
                  "Fall",
                  "11",
                  "188"
                ],
                [
                  "12",
                  "Fall",
                  "12",
                  "188"
                ],
                [
                  "13",
                  "Fall",
                  "13",
                  "188"
                ],
                [
                  "14",
                  "Fall",
                  "14",
                  "188"
                ],
                [
                  "15",
                  "Fall",
                  "15",
                  "188"
                ],
                [
                  "16",
                  "Fall",
                  "16",
                  "188"
                ],
                [
                  "17",
                  "Fall",
                  "17",
                  "188"
                ],
                [
                  "18",
                  "Fall",
                  "18",
                  "187"
                ],
                [
                  "19",
                  "Fall",
                  "19",
                  "187"
                ],
                [
                  "20",
                  "Fall",
                  "20",
                  "187"
                ],
                [
                  "21",
                  "Fall",
                  "21",
                  "187"
                ],
                [
                  "22",
                  "Fall",
                  "22",
                  "187"
                ],
                [
                  "23",
                  "Fall",
                  "23",
                  "187"
                ],
                [
                  "24",
                  "Winter",
                  "0",
                  "177"
                ],
                [
                  "25",
                  "Winter",
                  "1",
                  "176"
                ],
                [
                  "26",
                  "Winter",
                  "2",
                  "175"
                ],
                [
                  "27",
                  "Winter",
                  "3",
                  "173"
                ],
                [
                  "28",
                  "Winter",
                  "4",
                  "176"
                ],
                [
                  "29",
                  "Winter",
                  "5",
                  "176"
                ],
                [
                  "30",
                  "Winter",
                  "6",
                  "176"
                ],
                [
                  "31",
                  "Winter",
                  "7",
                  "176"
                ],
                [
                  "32",
                  "Winter",
                  "8",
                  "176"
                ],
                [
                  "33",
                  "Winter",
                  "9",
                  "176"
                ],
                [
                  "34",
                  "Winter",
                  "10",
                  "176"
                ],
                [
                  "35",
                  "Winter",
                  "11",
                  "176"
                ],
                [
                  "36",
                  "Winter",
                  "12",
                  "176"
                ],
                [
                  "37",
                  "Winter",
                  "13",
                  "177"
                ],
                [
                  "38",
                  "Winter",
                  "14",
                  "177"
                ],
                [
                  "39",
                  "Winter",
                  "15",
                  "177"
                ],
                [
                  "40",
                  "Winter",
                  "16",
                  "177"
                ],
                [
                  "41",
                  "Winter",
                  "17",
                  "177"
                ],
                [
                  "42",
                  "Winter",
                  "18",
                  "177"
                ],
                [
                  "43",
                  "Winter",
                  "19",
                  "177"
                ],
                [
                  "44",
                  "Winter",
                  "20",
                  "177"
                ],
                [
                  "45",
                  "Winter",
                  "21",
                  "177"
                ],
                [
                  "46",
                  "Winter",
                  "22",
                  "177"
                ],
                [
                  "47",
                  "Winter",
                  "23",
                  "177"
                ]
              ],
              "shape": {
                "columns": 3,
                "rows": 48
              }
            },
            "text/html": [
              "<div>\n",
              "<style scoped>\n",
              "    .dataframe tbody tr th:only-of-type {\n",
              "        vertical-align: middle;\n",
              "    }\n",
              "\n",
              "    .dataframe tbody tr th {\n",
              "        vertical-align: top;\n",
              "    }\n",
              "\n",
              "    .dataframe thead th {\n",
              "        text-align: right;\n",
              "    }\n",
              "</style>\n",
              "<table border=\"1\" class=\"dataframe\">\n",
              "  <thead>\n",
              "    <tr style=\"text-align: right;\">\n",
              "      <th></th>\n",
              "      <th>musim_jam</th>\n",
              "      <th>jam</th>\n",
              "      <th>jml_musim_jam</th>\n",
              "    </tr>\n",
              "  </thead>\n",
              "  <tbody>\n",
              "    <tr>\n",
              "      <th>0</th>\n",
              "      <td>Fall</td>\n",
              "      <td>0</td>\n",
              "      <td>187</td>\n",
              "    </tr>\n",
              "    <tr>\n",
              "      <th>1</th>\n",
              "      <td>Fall</td>\n",
              "      <td>1</td>\n",
              "      <td>186</td>\n",
              "    </tr>\n",
              "    <tr>\n",
              "      <th>2</th>\n",
              "      <td>Fall</td>\n",
              "      <td>2</td>\n",
              "      <td>186</td>\n",
              "    </tr>\n",
              "    <tr>\n",
              "      <th>3</th>\n",
              "      <td>Fall</td>\n",
              "      <td>3</td>\n",
              "      <td>186</td>\n",
              "    </tr>\n",
              "    <tr>\n",
              "      <th>4</th>\n",
              "      <td>Fall</td>\n",
              "      <td>4</td>\n",
              "      <td>187</td>\n",
              "    </tr>\n",
              "    <tr>\n",
              "      <th>5</th>\n",
              "      <td>Fall</td>\n",
              "      <td>5</td>\n",
              "      <td>187</td>\n",
              "    </tr>\n",
              "    <tr>\n",
              "      <th>6</th>\n",
              "      <td>Fall</td>\n",
              "      <td>6</td>\n",
              "      <td>187</td>\n",
              "    </tr>\n",
              "    <tr>\n",
              "      <th>7</th>\n",
              "      <td>Fall</td>\n",
              "      <td>7</td>\n",
              "      <td>188</td>\n",
              "    </tr>\n",
              "    <tr>\n",
              "      <th>8</th>\n",
              "      <td>Fall</td>\n",
              "      <td>8</td>\n",
              "      <td>188</td>\n",
              "    </tr>\n",
              "    <tr>\n",
              "      <th>9</th>\n",
              "      <td>Fall</td>\n",
              "      <td>9</td>\n",
              "      <td>188</td>\n",
              "    </tr>\n",
              "    <tr>\n",
              "      <th>10</th>\n",
              "      <td>Fall</td>\n",
              "      <td>10</td>\n",
              "      <td>188</td>\n",
              "    </tr>\n",
              "    <tr>\n",
              "      <th>11</th>\n",
              "      <td>Fall</td>\n",
              "      <td>11</td>\n",
              "      <td>188</td>\n",
              "    </tr>\n",
              "    <tr>\n",
              "      <th>12</th>\n",
              "      <td>Fall</td>\n",
              "      <td>12</td>\n",
              "      <td>188</td>\n",
              "    </tr>\n",
              "    <tr>\n",
              "      <th>13</th>\n",
              "      <td>Fall</td>\n",
              "      <td>13</td>\n",
              "      <td>188</td>\n",
              "    </tr>\n",
              "    <tr>\n",
              "      <th>14</th>\n",
              "      <td>Fall</td>\n",
              "      <td>14</td>\n",
              "      <td>188</td>\n",
              "    </tr>\n",
              "    <tr>\n",
              "      <th>15</th>\n",
              "      <td>Fall</td>\n",
              "      <td>15</td>\n",
              "      <td>188</td>\n",
              "    </tr>\n",
              "    <tr>\n",
              "      <th>16</th>\n",
              "      <td>Fall</td>\n",
              "      <td>16</td>\n",
              "      <td>188</td>\n",
              "    </tr>\n",
              "    <tr>\n",
              "      <th>17</th>\n",
              "      <td>Fall</td>\n",
              "      <td>17</td>\n",
              "      <td>188</td>\n",
              "    </tr>\n",
              "    <tr>\n",
              "      <th>18</th>\n",
              "      <td>Fall</td>\n",
              "      <td>18</td>\n",
              "      <td>187</td>\n",
              "    </tr>\n",
              "    <tr>\n",
              "      <th>19</th>\n",
              "      <td>Fall</td>\n",
              "      <td>19</td>\n",
              "      <td>187</td>\n",
              "    </tr>\n",
              "    <tr>\n",
              "      <th>20</th>\n",
              "      <td>Fall</td>\n",
              "      <td>20</td>\n",
              "      <td>187</td>\n",
              "    </tr>\n",
              "    <tr>\n",
              "      <th>21</th>\n",
              "      <td>Fall</td>\n",
              "      <td>21</td>\n",
              "      <td>187</td>\n",
              "    </tr>\n",
              "    <tr>\n",
              "      <th>22</th>\n",
              "      <td>Fall</td>\n",
              "      <td>22</td>\n",
              "      <td>187</td>\n",
              "    </tr>\n",
              "    <tr>\n",
              "      <th>23</th>\n",
              "      <td>Fall</td>\n",
              "      <td>23</td>\n",
              "      <td>187</td>\n",
              "    </tr>\n",
              "    <tr>\n",
              "      <th>24</th>\n",
              "      <td>Winter</td>\n",
              "      <td>0</td>\n",
              "      <td>177</td>\n",
              "    </tr>\n",
              "    <tr>\n",
              "      <th>25</th>\n",
              "      <td>Winter</td>\n",
              "      <td>1</td>\n",
              "      <td>176</td>\n",
              "    </tr>\n",
              "    <tr>\n",
              "      <th>26</th>\n",
              "      <td>Winter</td>\n",
              "      <td>2</td>\n",
              "      <td>175</td>\n",
              "    </tr>\n",
              "    <tr>\n",
              "      <th>27</th>\n",
              "      <td>Winter</td>\n",
              "      <td>3</td>\n",
              "      <td>173</td>\n",
              "    </tr>\n",
              "    <tr>\n",
              "      <th>28</th>\n",
              "      <td>Winter</td>\n",
              "      <td>4</td>\n",
              "      <td>176</td>\n",
              "    </tr>\n",
              "    <tr>\n",
              "      <th>29</th>\n",
              "      <td>Winter</td>\n",
              "      <td>5</td>\n",
              "      <td>176</td>\n",
              "    </tr>\n",
              "    <tr>\n",
              "      <th>30</th>\n",
              "      <td>Winter</td>\n",
              "      <td>6</td>\n",
              "      <td>176</td>\n",
              "    </tr>\n",
              "    <tr>\n",
              "      <th>31</th>\n",
              "      <td>Winter</td>\n",
              "      <td>7</td>\n",
              "      <td>176</td>\n",
              "    </tr>\n",
              "    <tr>\n",
              "      <th>32</th>\n",
              "      <td>Winter</td>\n",
              "      <td>8</td>\n",
              "      <td>176</td>\n",
              "    </tr>\n",
              "    <tr>\n",
              "      <th>33</th>\n",
              "      <td>Winter</td>\n",
              "      <td>9</td>\n",
              "      <td>176</td>\n",
              "    </tr>\n",
              "    <tr>\n",
              "      <th>34</th>\n",
              "      <td>Winter</td>\n",
              "      <td>10</td>\n",
              "      <td>176</td>\n",
              "    </tr>\n",
              "    <tr>\n",
              "      <th>35</th>\n",
              "      <td>Winter</td>\n",
              "      <td>11</td>\n",
              "      <td>176</td>\n",
              "    </tr>\n",
              "    <tr>\n",
              "      <th>36</th>\n",
              "      <td>Winter</td>\n",
              "      <td>12</td>\n",
              "      <td>176</td>\n",
              "    </tr>\n",
              "    <tr>\n",
              "      <th>37</th>\n",
              "      <td>Winter</td>\n",
              "      <td>13</td>\n",
              "      <td>177</td>\n",
              "    </tr>\n",
              "    <tr>\n",
              "      <th>38</th>\n",
              "      <td>Winter</td>\n",
              "      <td>14</td>\n",
              "      <td>177</td>\n",
              "    </tr>\n",
              "    <tr>\n",
              "      <th>39</th>\n",
              "      <td>Winter</td>\n",
              "      <td>15</td>\n",
              "      <td>177</td>\n",
              "    </tr>\n",
              "    <tr>\n",
              "      <th>40</th>\n",
              "      <td>Winter</td>\n",
              "      <td>16</td>\n",
              "      <td>177</td>\n",
              "    </tr>\n",
              "    <tr>\n",
              "      <th>41</th>\n",
              "      <td>Winter</td>\n",
              "      <td>17</td>\n",
              "      <td>177</td>\n",
              "    </tr>\n",
              "    <tr>\n",
              "      <th>42</th>\n",
              "      <td>Winter</td>\n",
              "      <td>18</td>\n",
              "      <td>177</td>\n",
              "    </tr>\n",
              "    <tr>\n",
              "      <th>43</th>\n",
              "      <td>Winter</td>\n",
              "      <td>19</td>\n",
              "      <td>177</td>\n",
              "    </tr>\n",
              "    <tr>\n",
              "      <th>44</th>\n",
              "      <td>Winter</td>\n",
              "      <td>20</td>\n",
              "      <td>177</td>\n",
              "    </tr>\n",
              "    <tr>\n",
              "      <th>45</th>\n",
              "      <td>Winter</td>\n",
              "      <td>21</td>\n",
              "      <td>177</td>\n",
              "    </tr>\n",
              "    <tr>\n",
              "      <th>46</th>\n",
              "      <td>Winter</td>\n",
              "      <td>22</td>\n",
              "      <td>177</td>\n",
              "    </tr>\n",
              "    <tr>\n",
              "      <th>47</th>\n",
              "      <td>Winter</td>\n",
              "      <td>23</td>\n",
              "      <td>177</td>\n",
              "    </tr>\n",
              "  </tbody>\n",
              "</table>\n",
              "</div>"
            ],
            "text/plain": [
              "   musim_jam  jam  jml_musim_jam\n",
              "0       Fall    0            187\n",
              "1       Fall    1            186\n",
              "2       Fall    2            186\n",
              "3       Fall    3            186\n",
              "4       Fall    4            187\n",
              "5       Fall    5            187\n",
              "6       Fall    6            187\n",
              "7       Fall    7            188\n",
              "8       Fall    8            188\n",
              "9       Fall    9            188\n",
              "10      Fall   10            188\n",
              "11      Fall   11            188\n",
              "12      Fall   12            188\n",
              "13      Fall   13            188\n",
              "14      Fall   14            188\n",
              "15      Fall   15            188\n",
              "16      Fall   16            188\n",
              "17      Fall   17            188\n",
              "18      Fall   18            187\n",
              "19      Fall   19            187\n",
              "20      Fall   20            187\n",
              "21      Fall   21            187\n",
              "22      Fall   22            187\n",
              "23      Fall   23            187\n",
              "24    Winter    0            177\n",
              "25    Winter    1            176\n",
              "26    Winter    2            175\n",
              "27    Winter    3            173\n",
              "28    Winter    4            176\n",
              "29    Winter    5            176\n",
              "30    Winter    6            176\n",
              "31    Winter    7            176\n",
              "32    Winter    8            176\n",
              "33    Winter    9            176\n",
              "34    Winter   10            176\n",
              "35    Winter   11            176\n",
              "36    Winter   12            176\n",
              "37    Winter   13            177\n",
              "38    Winter   14            177\n",
              "39    Winter   15            177\n",
              "40    Winter   16            177\n",
              "41    Winter   17            177\n",
              "42    Winter   18            177\n",
              "43    Winter   19            177\n",
              "44    Winter   20            177\n",
              "45    Winter   21            177\n",
              "46    Winter   22            177\n",
              "47    Winter   23            177"
            ]
          },
          "metadata": {},
          "output_type": "display_data"
        }
      ],
      "source": [
        "df2.musim_jam = df2.musim_jam.replace({3: \"Fall\", 4: \"Winter\"})\n",
        "display(df2)\n",
        "group_df2 = df2.groupby(by=[\"musim_jam\",\"jam\"]).agg({\"musim_jam\":\"count\"}).rename(columns={'musim_jam': 'jml_musim_jam'}).reset_index()\n",
        "display(group_df2)\n",
        "loc_df2 = group_df2.loc[(group_df2.musim_jam==\"Fall\") | (group_df2.musim_jam==\"Winter\")].reset_index(drop=True)\n",
        "display(loc_df2)"
      ]
    },
    {
      "cell_type": "code",
      "execution_count": 26,
      "metadata": {},
      "outputs": [
        {
          "data": {
            "text/plain": [
              "array([ 0,  1,  2,  3,  4,  5,  6,  7,  8,  9, 10, 11, 12, 13, 14, 15, 16,\n",
              "       17, 18, 19, 20, 21, 22, 23], dtype=int64)"
            ]
          },
          "metadata": {},
          "output_type": "display_data"
        },
        {
          "data": {
            "text/plain": [
              "{0,\n",
              " 1,\n",
              " 2,\n",
              " 3,\n",
              " 4,\n",
              " 5,\n",
              " 6,\n",
              " 7,\n",
              " 8,\n",
              " 9,\n",
              " 10,\n",
              " 11,\n",
              " 12,\n",
              " 13,\n",
              " 14,\n",
              " 15,\n",
              " 16,\n",
              " 17,\n",
              " 18,\n",
              " 19,\n",
              " 20,\n",
              " 21,\n",
              " 22,\n",
              " 23}"
            ]
          },
          "metadata": {},
          "output_type": "display_data"
        }
      ],
      "source": [
        "display(df2['jam'].unique())\n",
        "display(set(df2['jam']))"
      ]
    },
    {
      "cell_type": "code",
      "execution_count": 27,
      "metadata": {},
      "outputs": [
        {
          "data": {
            "application/vnd.microsoft.datawrangler.viewer.v0+json": {
              "columns": [
                {
                  "name": "index",
                  "rawType": "int64",
                  "type": "integer"
                },
                {
                  "name": "tgl_hari_jam",
                  "rawType": "datetime64[ns]",
                  "type": "datetime"
                },
                {
                  "name": "musim_jam",
                  "rawType": "object",
                  "type": "string"
                },
                {
                  "name": "jam",
                  "rawType": "int64",
                  "type": "integer"
                },
                {
                  "name": "jml_musim_jam",
                  "rawType": "int64",
                  "type": "integer"
                }
              ],
              "conversionMethod": "pd.DataFrame",
              "ref": "4caa051d-5ba7-4742-8f73-2c2b47f8be6b",
              "rows": [
                [
                  "0",
                  "2011-06-21 00:00:00",
                  "Fall",
                  "0",
                  "187"
                ],
                [
                  "1",
                  "2011-06-22 00:00:00",
                  "Fall",
                  "0",
                  "187"
                ],
                [
                  "2",
                  "2011-06-23 00:00:00",
                  "Fall",
                  "0",
                  "187"
                ],
                [
                  "3",
                  "2011-06-24 00:00:00",
                  "Fall",
                  "0",
                  "187"
                ],
                [
                  "4",
                  "2011-06-25 00:00:00",
                  "Fall",
                  "0",
                  "187"
                ],
                [
                  "5",
                  "2011-06-26 00:00:00",
                  "Fall",
                  "0",
                  "187"
                ],
                [
                  "6",
                  "2011-06-27 00:00:00",
                  "Fall",
                  "0",
                  "187"
                ],
                [
                  "7",
                  "2011-06-28 00:00:00",
                  "Fall",
                  "0",
                  "187"
                ],
                [
                  "8",
                  "2011-06-29 00:00:00",
                  "Fall",
                  "0",
                  "187"
                ],
                [
                  "9",
                  "2011-06-30 00:00:00",
                  "Fall",
                  "0",
                  "187"
                ],
                [
                  "10",
                  "2011-07-01 00:00:00",
                  "Fall",
                  "0",
                  "187"
                ],
                [
                  "11",
                  "2011-07-02 00:00:00",
                  "Fall",
                  "0",
                  "187"
                ],
                [
                  "12",
                  "2011-07-03 00:00:00",
                  "Fall",
                  "0",
                  "187"
                ],
                [
                  "13",
                  "2011-07-04 00:00:00",
                  "Fall",
                  "0",
                  "187"
                ],
                [
                  "14",
                  "2011-07-05 00:00:00",
                  "Fall",
                  "0",
                  "187"
                ],
                [
                  "15",
                  "2011-07-06 00:00:00",
                  "Fall",
                  "0",
                  "187"
                ],
                [
                  "16",
                  "2011-07-07 00:00:00",
                  "Fall",
                  "0",
                  "187"
                ],
                [
                  "17",
                  "2011-07-08 00:00:00",
                  "Fall",
                  "0",
                  "187"
                ],
                [
                  "18",
                  "2011-07-09 00:00:00",
                  "Fall",
                  "0",
                  "187"
                ],
                [
                  "19",
                  "2011-07-10 00:00:00",
                  "Fall",
                  "0",
                  "187"
                ],
                [
                  "20",
                  "2011-07-11 00:00:00",
                  "Fall",
                  "0",
                  "187"
                ],
                [
                  "21",
                  "2011-07-12 00:00:00",
                  "Fall",
                  "0",
                  "187"
                ],
                [
                  "22",
                  "2011-07-13 00:00:00",
                  "Fall",
                  "0",
                  "187"
                ],
                [
                  "23",
                  "2011-07-14 00:00:00",
                  "Fall",
                  "0",
                  "187"
                ],
                [
                  "24",
                  "2011-07-15 00:00:00",
                  "Fall",
                  "0",
                  "187"
                ],
                [
                  "25",
                  "2011-07-16 00:00:00",
                  "Fall",
                  "0",
                  "187"
                ],
                [
                  "26",
                  "2011-07-17 00:00:00",
                  "Fall",
                  "0",
                  "187"
                ],
                [
                  "27",
                  "2011-07-18 00:00:00",
                  "Fall",
                  "0",
                  "187"
                ],
                [
                  "28",
                  "2011-07-19 00:00:00",
                  "Fall",
                  "0",
                  "187"
                ],
                [
                  "29",
                  "2011-07-20 00:00:00",
                  "Fall",
                  "0",
                  "187"
                ],
                [
                  "30",
                  "2011-07-21 00:00:00",
                  "Fall",
                  "0",
                  "187"
                ],
                [
                  "31",
                  "2011-07-22 00:00:00",
                  "Fall",
                  "0",
                  "187"
                ],
                [
                  "32",
                  "2011-07-23 00:00:00",
                  "Fall",
                  "0",
                  "187"
                ],
                [
                  "33",
                  "2011-07-24 00:00:00",
                  "Fall",
                  "0",
                  "187"
                ],
                [
                  "34",
                  "2011-07-25 00:00:00",
                  "Fall",
                  "0",
                  "187"
                ],
                [
                  "35",
                  "2011-07-26 00:00:00",
                  "Fall",
                  "0",
                  "187"
                ],
                [
                  "36",
                  "2011-07-27 00:00:00",
                  "Fall",
                  "0",
                  "187"
                ],
                [
                  "37",
                  "2011-07-28 00:00:00",
                  "Fall",
                  "0",
                  "187"
                ],
                [
                  "38",
                  "2011-07-29 00:00:00",
                  "Fall",
                  "0",
                  "187"
                ],
                [
                  "39",
                  "2011-07-30 00:00:00",
                  "Fall",
                  "0",
                  "187"
                ],
                [
                  "40",
                  "2011-07-31 00:00:00",
                  "Fall",
                  "0",
                  "187"
                ],
                [
                  "41",
                  "2011-08-01 00:00:00",
                  "Fall",
                  "0",
                  "187"
                ],
                [
                  "42",
                  "2011-08-02 00:00:00",
                  "Fall",
                  "0",
                  "187"
                ],
                [
                  "43",
                  "2011-08-03 00:00:00",
                  "Fall",
                  "0",
                  "187"
                ],
                [
                  "44",
                  "2011-08-04 00:00:00",
                  "Fall",
                  "0",
                  "187"
                ],
                [
                  "45",
                  "2011-08-05 00:00:00",
                  "Fall",
                  "0",
                  "187"
                ],
                [
                  "46",
                  "2011-08-06 00:00:00",
                  "Fall",
                  "0",
                  "187"
                ],
                [
                  "47",
                  "2011-08-07 00:00:00",
                  "Fall",
                  "0",
                  "187"
                ],
                [
                  "48",
                  "2011-08-08 00:00:00",
                  "Fall",
                  "0",
                  "187"
                ],
                [
                  "49",
                  "2011-08-09 00:00:00",
                  "Fall",
                  "0",
                  "187"
                ]
              ],
              "shape": {
                "columns": 4,
                "rows": 8728
              }
            },
            "text/html": [
              "<div>\n",
              "<style scoped>\n",
              "    .dataframe tbody tr th:only-of-type {\n",
              "        vertical-align: middle;\n",
              "    }\n",
              "\n",
              "    .dataframe tbody tr th {\n",
              "        vertical-align: top;\n",
              "    }\n",
              "\n",
              "    .dataframe thead th {\n",
              "        text-align: right;\n",
              "    }\n",
              "</style>\n",
              "<table border=\"1\" class=\"dataframe\">\n",
              "  <thead>\n",
              "    <tr style=\"text-align: right;\">\n",
              "      <th></th>\n",
              "      <th>tgl_hari_jam</th>\n",
              "      <th>musim_jam</th>\n",
              "      <th>jam</th>\n",
              "      <th>jml_musim_jam</th>\n",
              "    </tr>\n",
              "  </thead>\n",
              "  <tbody>\n",
              "    <tr>\n",
              "      <th>0</th>\n",
              "      <td>2011-06-21</td>\n",
              "      <td>Fall</td>\n",
              "      <td>0</td>\n",
              "      <td>187</td>\n",
              "    </tr>\n",
              "    <tr>\n",
              "      <th>1</th>\n",
              "      <td>2011-06-22</td>\n",
              "      <td>Fall</td>\n",
              "      <td>0</td>\n",
              "      <td>187</td>\n",
              "    </tr>\n",
              "    <tr>\n",
              "      <th>2</th>\n",
              "      <td>2011-06-23</td>\n",
              "      <td>Fall</td>\n",
              "      <td>0</td>\n",
              "      <td>187</td>\n",
              "    </tr>\n",
              "    <tr>\n",
              "      <th>3</th>\n",
              "      <td>2011-06-24</td>\n",
              "      <td>Fall</td>\n",
              "      <td>0</td>\n",
              "      <td>187</td>\n",
              "    </tr>\n",
              "    <tr>\n",
              "      <th>4</th>\n",
              "      <td>2011-06-25</td>\n",
              "      <td>Fall</td>\n",
              "      <td>0</td>\n",
              "      <td>187</td>\n",
              "    </tr>\n",
              "    <tr>\n",
              "      <th>...</th>\n",
              "      <td>...</td>\n",
              "      <td>...</td>\n",
              "      <td>...</td>\n",
              "      <td>...</td>\n",
              "    </tr>\n",
              "    <tr>\n",
              "      <th>8723</th>\n",
              "      <td>2012-12-16</td>\n",
              "      <td>Winter</td>\n",
              "      <td>23</td>\n",
              "      <td>177</td>\n",
              "    </tr>\n",
              "    <tr>\n",
              "      <th>8724</th>\n",
              "      <td>2012-12-17</td>\n",
              "      <td>Winter</td>\n",
              "      <td>23</td>\n",
              "      <td>177</td>\n",
              "    </tr>\n",
              "    <tr>\n",
              "      <th>8725</th>\n",
              "      <td>2012-12-18</td>\n",
              "      <td>Winter</td>\n",
              "      <td>23</td>\n",
              "      <td>177</td>\n",
              "    </tr>\n",
              "    <tr>\n",
              "      <th>8726</th>\n",
              "      <td>2012-12-19</td>\n",
              "      <td>Winter</td>\n",
              "      <td>23</td>\n",
              "      <td>177</td>\n",
              "    </tr>\n",
              "    <tr>\n",
              "      <th>8727</th>\n",
              "      <td>2012-12-20</td>\n",
              "      <td>Winter</td>\n",
              "      <td>23</td>\n",
              "      <td>177</td>\n",
              "    </tr>\n",
              "  </tbody>\n",
              "</table>\n",
              "<p>8728 rows × 4 columns</p>\n",
              "</div>"
            ],
            "text/plain": [
              "     tgl_hari_jam musim_jam  jam  jml_musim_jam\n",
              "0      2011-06-21      Fall    0            187\n",
              "1      2011-06-22      Fall    0            187\n",
              "2      2011-06-23      Fall    0            187\n",
              "3      2011-06-24      Fall    0            187\n",
              "4      2011-06-25      Fall    0            187\n",
              "...           ...       ...  ...            ...\n",
              "8723   2012-12-16    Winter   23            177\n",
              "8724   2012-12-17    Winter   23            177\n",
              "8725   2012-12-18    Winter   23            177\n",
              "8726   2012-12-19    Winter   23            177\n",
              "8727   2012-12-20    Winter   23            177\n",
              "\n",
              "[8728 rows x 4 columns]"
            ]
          },
          "execution_count": 27,
          "metadata": {},
          "output_type": "execute_result"
        }
      ],
      "source": [
        "byseason_df2= pd.merge(left=df2, right=loc_df2, on=[\"musim_jam\",\"jam\"], how=\"right\")\n",
        "byseason_df2"
      ]
    },
    {
      "cell_type": "code",
      "execution_count": 28,
      "metadata": {},
      "outputs": [
        {
          "data": {
            "image/png": "[encoded data removed]",
            "text/plain": [
              "<Figure size 1000x500 with 1 Axes>"
            ]
          },
          "metadata": {},
          "output_type": "display_data"
        }
      ],
      "source": [
        "plt.figure(figsize=(10, 5))\n",
        "sns.barplot(\n",
        "    x=\"musim_jam\", \n",
        "    y=\"jml_musim_jam\", \n",
        "    data=byseason_df2.sort_values(by=\"jml_musim_jam\", ascending=True)\n",
        "    )\n",
        "plt.title(\"Frekuensi musim dingin\", loc=\"center\", fontsize=18)\n",
        "plt.xticks(fontsize=10)\n",
        "plt.ylabel(\"Jumlah musim dingin\")\n",
        "plt.xlabel(\"Musim dingin\")\n",
        "plt.show()"
      ]
    },
    {
      "cell_type": "markdown",
      "metadata": {
        "id": "_0-36BDLklRg"
      },
      "source": [
        "**Insight:**\n",
        "- Merancang visualisasi mengenai jenis musim paling sering muncul pada weekday berdasarkan data harian yang diukurkan secara menyeluruh, di mana visualiasi dirancangkan berbentuk bar dengan label x berbagai jenis musim dan label y kelompok hari kerja.\n",
        "- Merancang visualisasi mengenai jenis musim dingin paling sering muncul berdasarkan perhitungan jam yang dihasilkan secara menyeluruh, di mana visualiasinya dirancangkan berbentuk bar plot dengan label x jenis musim dingin adalah Winter dan Fall dan label y jumlah musim dingin terjadi"
      ]
    },
    {
      "cell_type": "code",
      "execution_count": 29,
      "metadata": {},
      "outputs": [
        {
          "data": {
            "application/vnd.microsoft.datawrangler.viewer.v0+json": {
              "columns": [
                {
                  "name": "index",
                  "rawType": "int64",
                  "type": "integer"
                },
                {
                  "name": "tgl_hari_krj",
                  "rawType": "datetime64[ns]",
                  "type": "datetime"
                },
                {
                  "name": "musim_hari",
                  "rawType": "object",
                  "type": "string"
                },
                {
                  "name": "hari_kerja",
                  "rawType": "int64",
                  "type": "integer"
                }
              ],
              "conversionMethod": "pd.DataFrame",
              "ref": "8e670018-1137-4568-8761-fa0d0bdd8393",
              "rows": [
                [
                  "0",
                  "2011-01-01 00:00:00",
                  "Springer",
                  "6"
                ],
                [
                  "1",
                  "2011-01-02 00:00:00",
                  "Springer",
                  "0"
                ],
                [
                  "2",
                  "2011-01-03 00:00:00",
                  "Springer",
                  "1"
                ],
                [
                  "3",
                  "2011-01-04 00:00:00",
                  "Springer",
                  "2"
                ],
                [
                  "4",
                  "2011-01-05 00:00:00",
                  "Springer",
                  "3"
                ],
                [
                  "5",
                  "2011-01-06 00:00:00",
                  "Springer",
                  "4"
                ],
                [
                  "6",
                  "2011-01-07 00:00:00",
                  "Springer",
                  "5"
                ],
                [
                  "7",
                  "2011-01-08 00:00:00",
                  "Springer",
                  "6"
                ],
                [
                  "8",
                  "2011-01-09 00:00:00",
                  "Springer",
                  "0"
                ],
                [
                  "9",
                  "2011-01-10 00:00:00",
                  "Springer",
                  "1"
                ],
                [
                  "10",
                  "2011-01-11 00:00:00",
                  "Springer",
                  "2"
                ],
                [
                  "11",
                  "2011-01-12 00:00:00",
                  "Springer",
                  "3"
                ],
                [
                  "12",
                  "2011-01-13 00:00:00",
                  "Springer",
                  "4"
                ],
                [
                  "13",
                  "2011-01-14 00:00:00",
                  "Springer",
                  "5"
                ],
                [
                  "14",
                  "2011-01-15 00:00:00",
                  "Springer",
                  "6"
                ],
                [
                  "15",
                  "2011-01-16 00:00:00",
                  "Springer",
                  "0"
                ],
                [
                  "16",
                  "2011-01-17 00:00:00",
                  "Springer",
                  "1"
                ],
                [
                  "17",
                  "2011-01-18 00:00:00",
                  "Springer",
                  "2"
                ],
                [
                  "18",
                  "2011-01-19 00:00:00",
                  "Springer",
                  "3"
                ],
                [
                  "19",
                  "2011-01-20 00:00:00",
                  "Springer",
                  "4"
                ],
                [
                  "20",
                  "2011-01-21 00:00:00",
                  "Springer",
                  "5"
                ],
                [
                  "21",
                  "2011-01-22 00:00:00",
                  "Springer",
                  "6"
                ],
                [
                  "22",
                  "2011-01-23 00:00:00",
                  "Springer",
                  "0"
                ],
                [
                  "23",
                  "2011-01-24 00:00:00",
                  "Springer",
                  "1"
                ],
                [
                  "24",
                  "2011-01-25 00:00:00",
                  "Springer",
                  "2"
                ],
                [
                  "25",
                  "2011-01-26 00:00:00",
                  "Springer",
                  "3"
                ],
                [
                  "26",
                  "2011-01-27 00:00:00",
                  "Springer",
                  "4"
                ],
                [
                  "27",
                  "2011-01-28 00:00:00",
                  "Springer",
                  "5"
                ],
                [
                  "28",
                  "2011-01-29 00:00:00",
                  "Springer",
                  "6"
                ],
                [
                  "29",
                  "2011-01-30 00:00:00",
                  "Springer",
                  "0"
                ],
                [
                  "30",
                  "2011-01-31 00:00:00",
                  "Springer",
                  "1"
                ],
                [
                  "31",
                  "2011-02-01 00:00:00",
                  "Springer",
                  "2"
                ],
                [
                  "32",
                  "2011-02-02 00:00:00",
                  "Springer",
                  "3"
                ],
                [
                  "33",
                  "2011-02-03 00:00:00",
                  "Springer",
                  "4"
                ],
                [
                  "34",
                  "2011-02-04 00:00:00",
                  "Springer",
                  "5"
                ],
                [
                  "35",
                  "2011-02-05 00:00:00",
                  "Springer",
                  "6"
                ],
                [
                  "36",
                  "2011-02-06 00:00:00",
                  "Springer",
                  "0"
                ],
                [
                  "37",
                  "2011-02-07 00:00:00",
                  "Springer",
                  "1"
                ],
                [
                  "38",
                  "2011-02-08 00:00:00",
                  "Springer",
                  "2"
                ],
                [
                  "39",
                  "2011-02-09 00:00:00",
                  "Springer",
                  "3"
                ],
                [
                  "40",
                  "2011-02-10 00:00:00",
                  "Springer",
                  "4"
                ],
                [
                  "41",
                  "2011-02-11 00:00:00",
                  "Springer",
                  "5"
                ],
                [
                  "42",
                  "2011-02-12 00:00:00",
                  "Springer",
                  "6"
                ],
                [
                  "43",
                  "2011-02-13 00:00:00",
                  "Springer",
                  "0"
                ],
                [
                  "44",
                  "2011-02-14 00:00:00",
                  "Springer",
                  "1"
                ],
                [
                  "45",
                  "2011-02-15 00:00:00",
                  "Springer",
                  "2"
                ],
                [
                  "46",
                  "2011-02-16 00:00:00",
                  "Springer",
                  "3"
                ],
                [
                  "47",
                  "2011-02-17 00:00:00",
                  "Springer",
                  "4"
                ],
                [
                  "48",
                  "2011-02-18 00:00:00",
                  "Springer",
                  "5"
                ],
                [
                  "49",
                  "2011-02-19 00:00:00",
                  "Springer",
                  "6"
                ]
              ],
              "shape": {
                "columns": 3,
                "rows": 731
              }
            },
            "text/html": [
              "<div>\n",
              "<style scoped>\n",
              "    .dataframe tbody tr th:only-of-type {\n",
              "        vertical-align: middle;\n",
              "    }\n",
              "\n",
              "    .dataframe tbody tr th {\n",
              "        vertical-align: top;\n",
              "    }\n",
              "\n",
              "    .dataframe thead th {\n",
              "        text-align: right;\n",
              "    }\n",
              "</style>\n",
              "<table border=\"1\" class=\"dataframe\">\n",
              "  <thead>\n",
              "    <tr style=\"text-align: right;\">\n",
              "      <th></th>\n",
              "      <th>tgl_hari_krj</th>\n",
              "      <th>musim_hari</th>\n",
              "      <th>hari_kerja</th>\n",
              "    </tr>\n",
              "  </thead>\n",
              "  <tbody>\n",
              "    <tr>\n",
              "      <th>0</th>\n",
              "      <td>2011-01-01</td>\n",
              "      <td>Springer</td>\n",
              "      <td>6</td>\n",
              "    </tr>\n",
              "    <tr>\n",
              "      <th>1</th>\n",
              "      <td>2011-01-02</td>\n",
              "      <td>Springer</td>\n",
              "      <td>0</td>\n",
              "    </tr>\n",
              "    <tr>\n",
              "      <th>2</th>\n",
              "      <td>2011-01-03</td>\n",
              "      <td>Springer</td>\n",
              "      <td>1</td>\n",
              "    </tr>\n",
              "    <tr>\n",
              "      <th>3</th>\n",
              "      <td>2011-01-04</td>\n",
              "      <td>Springer</td>\n",
              "      <td>2</td>\n",
              "    </tr>\n",
              "    <tr>\n",
              "      <th>4</th>\n",
              "      <td>2011-01-05</td>\n",
              "      <td>Springer</td>\n",
              "      <td>3</td>\n",
              "    </tr>\n",
              "    <tr>\n",
              "      <th>...</th>\n",
              "      <td>...</td>\n",
              "      <td>...</td>\n",
              "      <td>...</td>\n",
              "    </tr>\n",
              "    <tr>\n",
              "      <th>726</th>\n",
              "      <td>2012-12-27</td>\n",
              "      <td>Springer</td>\n",
              "      <td>4</td>\n",
              "    </tr>\n",
              "    <tr>\n",
              "      <th>727</th>\n",
              "      <td>2012-12-28</td>\n",
              "      <td>Springer</td>\n",
              "      <td>5</td>\n",
              "    </tr>\n",
              "    <tr>\n",
              "      <th>728</th>\n",
              "      <td>2012-12-29</td>\n",
              "      <td>Springer</td>\n",
              "      <td>6</td>\n",
              "    </tr>\n",
              "    <tr>\n",
              "      <th>729</th>\n",
              "      <td>2012-12-30</td>\n",
              "      <td>Springer</td>\n",
              "      <td>0</td>\n",
              "    </tr>\n",
              "    <tr>\n",
              "      <th>730</th>\n",
              "      <td>2012-12-31</td>\n",
              "      <td>Springer</td>\n",
              "      <td>1</td>\n",
              "    </tr>\n",
              "  </tbody>\n",
              "</table>\n",
              "<p>731 rows × 3 columns</p>\n",
              "</div>"
            ],
            "text/plain": [
              "    tgl_hari_krj musim_hari  hari_kerja\n",
              "0     2011-01-01   Springer           6\n",
              "1     2011-01-02   Springer           0\n",
              "2     2011-01-03   Springer           1\n",
              "3     2011-01-04   Springer           2\n",
              "4     2011-01-05   Springer           3\n",
              "..           ...        ...         ...\n",
              "726   2012-12-27   Springer           4\n",
              "727   2012-12-28   Springer           5\n",
              "728   2012-12-29   Springer           6\n",
              "729   2012-12-30   Springer           0\n",
              "730   2012-12-31   Springer           1\n",
              "\n",
              "[731 rows x 3 columns]"
            ]
          },
          "metadata": {},
          "output_type": "display_data"
        },
        {
          "data": {
            "application/vnd.microsoft.datawrangler.viewer.v0+json": {
              "columns": [
                {
                  "name": "index",
                  "rawType": "int64",
                  "type": "integer"
                },
                {
                  "name": "tgl_hari_jam",
                  "rawType": "datetime64[ns]",
                  "type": "datetime"
                },
                {
                  "name": "musim_jam",
                  "rawType": "object",
                  "type": "unknown"
                },
                {
                  "name": "jam",
                  "rawType": "int64",
                  "type": "integer"
                }
              ],
              "conversionMethod": "pd.DataFrame",
              "ref": "22317f0f-2a8c-43e0-a289-2e668fd6d1f6",
              "rows": [
                [
                  "0",
                  "2011-01-01 00:00:00",
                  "1",
                  "0"
                ],
                [
                  "1",
                  "2011-01-01 00:00:00",
                  "1",
                  "1"
                ],
                [
                  "2",
                  "2011-01-01 00:00:00",
                  "1",
                  "2"
                ],
                [
                  "3",
                  "2011-01-01 00:00:00",
                  "1",
                  "3"
                ],
                [
                  "4",
                  "2011-01-01 00:00:00",
                  "1",
                  "4"
                ],
                [
                  "5",
                  "2011-01-01 00:00:00",
                  "1",
                  "5"
                ],
                [
                  "6",
                  "2011-01-01 00:00:00",
                  "1",
                  "6"
                ],
                [
                  "7",
                  "2011-01-01 00:00:00",
                  "1",
                  "7"
                ],
                [
                  "8",
                  "2011-01-01 00:00:00",
                  "1",
                  "8"
                ],
                [
                  "9",
                  "2011-01-01 00:00:00",
                  "1",
                  "9"
                ],
                [
                  "10",
                  "2011-01-01 00:00:00",
                  "1",
                  "10"
                ],
                [
                  "11",
                  "2011-01-01 00:00:00",
                  "1",
                  "11"
                ],
                [
                  "12",
                  "2011-01-01 00:00:00",
                  "1",
                  "12"
                ],
                [
                  "13",
                  "2011-01-01 00:00:00",
                  "1",
                  "13"
                ],
                [
                  "14",
                  "2011-01-01 00:00:00",
                  "1",
                  "14"
                ],
                [
                  "15",
                  "2011-01-01 00:00:00",
                  "1",
                  "15"
                ],
                [
                  "16",
                  "2011-01-01 00:00:00",
                  "1",
                  "16"
                ],
                [
                  "17",
                  "2011-01-01 00:00:00",
                  "1",
                  "17"
                ],
                [
                  "18",
                  "2011-01-01 00:00:00",
                  "1",
                  "18"
                ],
                [
                  "19",
                  "2011-01-01 00:00:00",
                  "1",
                  "19"
                ],
                [
                  "20",
                  "2011-01-01 00:00:00",
                  "1",
                  "20"
                ],
                [
                  "21",
                  "2011-01-01 00:00:00",
                  "1",
                  "21"
                ],
                [
                  "22",
                  "2011-01-01 00:00:00",
                  "1",
                  "22"
                ],
                [
                  "23",
                  "2011-01-01 00:00:00",
                  "1",
                  "23"
                ],
                [
                  "24",
                  "2011-01-02 00:00:00",
                  "1",
                  "0"
                ],
                [
                  "25",
                  "2011-01-02 00:00:00",
                  "1",
                  "1"
                ],
                [
                  "26",
                  "2011-01-02 00:00:00",
                  "1",
                  "2"
                ],
                [
                  "27",
                  "2011-01-02 00:00:00",
                  "1",
                  "3"
                ],
                [
                  "28",
                  "2011-01-02 00:00:00",
                  "1",
                  "4"
                ],
                [
                  "29",
                  "2011-01-02 00:00:00",
                  "1",
                  "6"
                ],
                [
                  "30",
                  "2011-01-02 00:00:00",
                  "1",
                  "7"
                ],
                [
                  "31",
                  "2011-01-02 00:00:00",
                  "1",
                  "8"
                ],
                [
                  "32",
                  "2011-01-02 00:00:00",
                  "1",
                  "9"
                ],
                [
                  "33",
                  "2011-01-02 00:00:00",
                  "1",
                  "10"
                ],
                [
                  "34",
                  "2011-01-02 00:00:00",
                  "1",
                  "11"
                ],
                [
                  "35",
                  "2011-01-02 00:00:00",
                  "1",
                  "12"
                ],
                [
                  "36",
                  "2011-01-02 00:00:00",
                  "1",
                  "13"
                ],
                [
                  "37",
                  "2011-01-02 00:00:00",
                  "1",
                  "14"
                ],
                [
                  "38",
                  "2011-01-02 00:00:00",
                  "1",
                  "15"
                ],
                [
                  "39",
                  "2011-01-02 00:00:00",
                  "1",
                  "16"
                ],
                [
                  "40",
                  "2011-01-02 00:00:00",
                  "1",
                  "17"
                ],
                [
                  "41",
                  "2011-01-02 00:00:00",
                  "1",
                  "18"
                ],
                [
                  "42",
                  "2011-01-02 00:00:00",
                  "1",
                  "19"
                ],
                [
                  "43",
                  "2011-01-02 00:00:00",
                  "1",
                  "20"
                ],
                [
                  "44",
                  "2011-01-02 00:00:00",
                  "1",
                  "21"
                ],
                [
                  "45",
                  "2011-01-02 00:00:00",
                  "1",
                  "22"
                ],
                [
                  "46",
                  "2011-01-02 00:00:00",
                  "1",
                  "23"
                ],
                [
                  "47",
                  "2011-01-03 00:00:00",
                  "1",
                  "0"
                ],
                [
                  "48",
                  "2011-01-03 00:00:00",
                  "1",
                  "1"
                ],
                [
                  "49",
                  "2011-01-03 00:00:00",
                  "1",
                  "4"
                ]
              ],
              "shape": {
                "columns": 3,
                "rows": 17379
              }
            },
            "text/html": [
              "<div>\n",
              "<style scoped>\n",
              "    .dataframe tbody tr th:only-of-type {\n",
              "        vertical-align: middle;\n",
              "    }\n",
              "\n",
              "    .dataframe tbody tr th {\n",
              "        vertical-align: top;\n",
              "    }\n",
              "\n",
              "    .dataframe thead th {\n",
              "        text-align: right;\n",
              "    }\n",
              "</style>\n",
              "<table border=\"1\" class=\"dataframe\">\n",
              "  <thead>\n",
              "    <tr style=\"text-align: right;\">\n",
              "      <th></th>\n",
              "      <th>tgl_hari_jam</th>\n",
              "      <th>musim_jam</th>\n",
              "      <th>jam</th>\n",
              "    </tr>\n",
              "  </thead>\n",
              "  <tbody>\n",
              "    <tr>\n",
              "      <th>0</th>\n",
              "      <td>2011-01-01</td>\n",
              "      <td>1</td>\n",
              "      <td>0</td>\n",
              "    </tr>\n",
              "    <tr>\n",
              "      <th>1</th>\n",
              "      <td>2011-01-01</td>\n",
              "      <td>1</td>\n",
              "      <td>1</td>\n",
              "    </tr>\n",
              "    <tr>\n",
              "      <th>2</th>\n",
              "      <td>2011-01-01</td>\n",
              "      <td>1</td>\n",
              "      <td>2</td>\n",
              "    </tr>\n",
              "    <tr>\n",
              "      <th>3</th>\n",
              "      <td>2011-01-01</td>\n",
              "      <td>1</td>\n",
              "      <td>3</td>\n",
              "    </tr>\n",
              "    <tr>\n",
              "      <th>4</th>\n",
              "      <td>2011-01-01</td>\n",
              "      <td>1</td>\n",
              "      <td>4</td>\n",
              "    </tr>\n",
              "    <tr>\n",
              "      <th>...</th>\n",
              "      <td>...</td>\n",
              "      <td>...</td>\n",
              "      <td>...</td>\n",
              "    </tr>\n",
              "    <tr>\n",
              "      <th>17374</th>\n",
              "      <td>2012-12-31</td>\n",
              "      <td>1</td>\n",
              "      <td>19</td>\n",
              "    </tr>\n",
              "    <tr>\n",
              "      <th>17375</th>\n",
              "      <td>2012-12-31</td>\n",
              "      <td>1</td>\n",
              "      <td>20</td>\n",
              "    </tr>\n",
              "    <tr>\n",
              "      <th>17376</th>\n",
              "      <td>2012-12-31</td>\n",
              "      <td>1</td>\n",
              "      <td>21</td>\n",
              "    </tr>\n",
              "    <tr>\n",
              "      <th>17377</th>\n",
              "      <td>2012-12-31</td>\n",
              "      <td>1</td>\n",
              "      <td>22</td>\n",
              "    </tr>\n",
              "    <tr>\n",
              "      <th>17378</th>\n",
              "      <td>2012-12-31</td>\n",
              "      <td>1</td>\n",
              "      <td>23</td>\n",
              "    </tr>\n",
              "  </tbody>\n",
              "</table>\n",
              "<p>17379 rows × 3 columns</p>\n",
              "</div>"
            ],
            "text/plain": [
              "      tgl_hari_jam musim_jam  jam\n",
              "0       2011-01-01         1    0\n",
              "1       2011-01-01         1    1\n",
              "2       2011-01-01         1    2\n",
              "3       2011-01-01         1    3\n",
              "4       2011-01-01         1    4\n",
              "...            ...       ...  ...\n",
              "17374   2012-12-31         1   19\n",
              "17375   2012-12-31         1   20\n",
              "17376   2012-12-31         1   21\n",
              "17377   2012-12-31         1   22\n",
              "17378   2012-12-31         1   23\n",
              "\n",
              "[17379 rows x 3 columns]"
            ]
          },
          "metadata": {},
          "output_type": "display_data"
        }
      ],
      "source": [
        "display(df1)\n",
        "display(df2)"
      ]
    },
    {
      "cell_type": "code",
      "execution_count": 30,
      "metadata": {},
      "outputs": [
        {
          "data": {
            "application/vnd.microsoft.datawrangler.viewer.v0+json": {
              "columns": [
                {
                  "name": "index",
                  "rawType": "int64",
                  "type": "integer"
                },
                {
                  "name": "tgl_hari_krj",
                  "rawType": "datetime64[ns]",
                  "type": "datetime"
                },
                {
                  "name": "musim_hari",
                  "rawType": "object",
                  "type": "unknown"
                },
                {
                  "name": "hari_kerja",
                  "rawType": "float64",
                  "type": "float"
                },
                {
                  "name": "jml_musim_hari",
                  "rawType": "float64",
                  "type": "float"
                },
                {
                  "name": "tgl_hari_jam",
                  "rawType": "datetime64[ns]",
                  "type": "datetime"
                },
                {
                  "name": "musim_jam",
                  "rawType": "object",
                  "type": "unknown"
                },
                {
                  "name": "jam",
                  "rawType": "float64",
                  "type": "float"
                },
                {
                  "name": "jml_musim_jam",
                  "rawType": "float64",
                  "type": "float"
                }
              ],
              "conversionMethod": "pd.DataFrame",
              "ref": "1b9c8bf2-5d11-4936-b637-e6602fdafc27",
              "rows": [
                [
                  "0",
                  "2011-06-26 00:00:00",
                  "Fall",
                  "0.0",
                  "26.0",
                  null,
                  null,
                  null,
                  null
                ],
                [
                  "1",
                  "2011-07-03 00:00:00",
                  "Fall",
                  "0.0",
                  "26.0",
                  null,
                  null,
                  null,
                  null
                ],
                [
                  "2",
                  "2011-07-10 00:00:00",
                  "Fall",
                  "0.0",
                  "26.0",
                  null,
                  null,
                  null,
                  null
                ],
                [
                  "3",
                  "2011-07-17 00:00:00",
                  "Fall",
                  "0.0",
                  "26.0",
                  null,
                  null,
                  null,
                  null
                ],
                [
                  "4",
                  "2011-07-24 00:00:00",
                  "Fall",
                  "0.0",
                  "26.0",
                  null,
                  null,
                  null,
                  null
                ],
                [
                  "5",
                  "2011-07-31 00:00:00",
                  "Fall",
                  "0.0",
                  "26.0",
                  null,
                  null,
                  null,
                  null
                ],
                [
                  "6",
                  "2011-08-07 00:00:00",
                  "Fall",
                  "0.0",
                  "26.0",
                  null,
                  null,
                  null,
                  null
                ],
                [
                  "7",
                  "2011-08-14 00:00:00",
                  "Fall",
                  "0.0",
                  "26.0",
                  null,
                  null,
                  null,
                  null
                ],
                [
                  "8",
                  "2011-08-21 00:00:00",
                  "Fall",
                  "0.0",
                  "26.0",
                  null,
                  null,
                  null,
                  null
                ],
                [
                  "9",
                  "2011-08-28 00:00:00",
                  "Fall",
                  "0.0",
                  "26.0",
                  null,
                  null,
                  null,
                  null
                ],
                [
                  "10",
                  "2011-09-04 00:00:00",
                  "Fall",
                  "0.0",
                  "26.0",
                  null,
                  null,
                  null,
                  null
                ],
                [
                  "11",
                  "2011-09-11 00:00:00",
                  "Fall",
                  "0.0",
                  "26.0",
                  null,
                  null,
                  null,
                  null
                ],
                [
                  "12",
                  "2011-09-18 00:00:00",
                  "Fall",
                  "0.0",
                  "26.0",
                  null,
                  null,
                  null,
                  null
                ],
                [
                  "13",
                  "2012-06-24 00:00:00",
                  "Fall",
                  "0.0",
                  "26.0",
                  null,
                  null,
                  null,
                  null
                ],
                [
                  "14",
                  "2012-07-01 00:00:00",
                  "Fall",
                  "0.0",
                  "26.0",
                  null,
                  null,
                  null,
                  null
                ],
                [
                  "15",
                  "2012-07-08 00:00:00",
                  "Fall",
                  "0.0",
                  "26.0",
                  null,
                  null,
                  null,
                  null
                ],
                [
                  "16",
                  "2012-07-15 00:00:00",
                  "Fall",
                  "0.0",
                  "26.0",
                  null,
                  null,
                  null,
                  null
                ],
                [
                  "17",
                  "2012-07-22 00:00:00",
                  "Fall",
                  "0.0",
                  "26.0",
                  null,
                  null,
                  null,
                  null
                ],
                [
                  "18",
                  "2012-07-29 00:00:00",
                  "Fall",
                  "0.0",
                  "26.0",
                  null,
                  null,
                  null,
                  null
                ],
                [
                  "19",
                  "2012-08-05 00:00:00",
                  "Fall",
                  "0.0",
                  "26.0",
                  null,
                  null,
                  null,
                  null
                ],
                [
                  "20",
                  "2012-08-12 00:00:00",
                  "Fall",
                  "0.0",
                  "26.0",
                  null,
                  null,
                  null,
                  null
                ],
                [
                  "21",
                  "2012-08-19 00:00:00",
                  "Fall",
                  "0.0",
                  "26.0",
                  null,
                  null,
                  null,
                  null
                ],
                [
                  "22",
                  "2012-08-26 00:00:00",
                  "Fall",
                  "0.0",
                  "26.0",
                  null,
                  null,
                  null,
                  null
                ],
                [
                  "23",
                  "2012-09-02 00:00:00",
                  "Fall",
                  "0.0",
                  "26.0",
                  null,
                  null,
                  null,
                  null
                ],
                [
                  "24",
                  "2012-09-09 00:00:00",
                  "Fall",
                  "0.0",
                  "26.0",
                  null,
                  null,
                  null,
                  null
                ],
                [
                  "25",
                  "2012-09-16 00:00:00",
                  "Fall",
                  "0.0",
                  "26.0",
                  null,
                  null,
                  null,
                  null
                ],
                [
                  "26",
                  "2011-06-27 00:00:00",
                  "Fall",
                  "1.0",
                  "26.0",
                  null,
                  null,
                  null,
                  null
                ],
                [
                  "27",
                  "2011-07-04 00:00:00",
                  "Fall",
                  "1.0",
                  "26.0",
                  null,
                  null,
                  null,
                  null
                ],
                [
                  "28",
                  "2011-07-11 00:00:00",
                  "Fall",
                  "1.0",
                  "26.0",
                  null,
                  null,
                  null,
                  null
                ],
                [
                  "29",
                  "2011-07-18 00:00:00",
                  "Fall",
                  "1.0",
                  "26.0",
                  null,
                  null,
                  null,
                  null
                ],
                [
                  "30",
                  "2011-07-25 00:00:00",
                  "Fall",
                  "1.0",
                  "26.0",
                  null,
                  null,
                  null,
                  null
                ],
                [
                  "31",
                  "2011-08-01 00:00:00",
                  "Fall",
                  "1.0",
                  "26.0",
                  null,
                  null,
                  null,
                  null
                ],
                [
                  "32",
                  "2011-08-08 00:00:00",
                  "Fall",
                  "1.0",
                  "26.0",
                  null,
                  null,
                  null,
                  null
                ],
                [
                  "33",
                  "2011-08-15 00:00:00",
                  "Fall",
                  "1.0",
                  "26.0",
                  null,
                  null,
                  null,
                  null
                ],
                [
                  "34",
                  "2011-08-22 00:00:00",
                  "Fall",
                  "1.0",
                  "26.0",
                  null,
                  null,
                  null,
                  null
                ],
                [
                  "35",
                  "2011-08-29 00:00:00",
                  "Fall",
                  "1.0",
                  "26.0",
                  null,
                  null,
                  null,
                  null
                ],
                [
                  "36",
                  "2011-09-05 00:00:00",
                  "Fall",
                  "1.0",
                  "26.0",
                  null,
                  null,
                  null,
                  null
                ],
                [
                  "37",
                  "2011-09-12 00:00:00",
                  "Fall",
                  "1.0",
                  "26.0",
                  null,
                  null,
                  null,
                  null
                ],
                [
                  "38",
                  "2011-09-19 00:00:00",
                  "Fall",
                  "1.0",
                  "26.0",
                  null,
                  null,
                  null,
                  null
                ],
                [
                  "39",
                  "2012-06-25 00:00:00",
                  "Fall",
                  "1.0",
                  "26.0",
                  null,
                  null,
                  null,
                  null
                ],
                [
                  "40",
                  "2012-07-02 00:00:00",
                  "Fall",
                  "1.0",
                  "26.0",
                  null,
                  null,
                  null,
                  null
                ],
                [
                  "41",
                  "2012-07-09 00:00:00",
                  "Fall",
                  "1.0",
                  "26.0",
                  null,
                  null,
                  null,
                  null
                ],
                [
                  "42",
                  "2012-07-16 00:00:00",
                  "Fall",
                  "1.0",
                  "26.0",
                  null,
                  null,
                  null,
                  null
                ],
                [
                  "43",
                  "2012-07-23 00:00:00",
                  "Fall",
                  "1.0",
                  "26.0",
                  null,
                  null,
                  null,
                  null
                ],
                [
                  "44",
                  "2012-07-30 00:00:00",
                  "Fall",
                  "1.0",
                  "26.0",
                  null,
                  null,
                  null,
                  null
                ],
                [
                  "45",
                  "2012-08-06 00:00:00",
                  "Fall",
                  "1.0",
                  "26.0",
                  null,
                  null,
                  null,
                  null
                ],
                [
                  "46",
                  "2012-08-13 00:00:00",
                  "Fall",
                  "1.0",
                  "26.0",
                  null,
                  null,
                  null,
                  null
                ],
                [
                  "47",
                  "2012-08-20 00:00:00",
                  "Fall",
                  "1.0",
                  "26.0",
                  null,
                  null,
                  null,
                  null
                ],
                [
                  "48",
                  "2012-08-27 00:00:00",
                  "Fall",
                  "1.0",
                  "26.0",
                  null,
                  null,
                  null,
                  null
                ],
                [
                  "49",
                  "2012-09-03 00:00:00",
                  "Fall",
                  "1.0",
                  "26.0",
                  null,
                  null,
                  null,
                  null
                ]
              ],
              "shape": {
                "columns": 8,
                "rows": 9459
              }
            },
            "text/html": [
              "<div>\n",
              "<style scoped>\n",
              "    .dataframe tbody tr th:only-of-type {\n",
              "        vertical-align: middle;\n",
              "    }\n",
              "\n",
              "    .dataframe tbody tr th {\n",
              "        vertical-align: top;\n",
              "    }\n",
              "\n",
              "    .dataframe thead th {\n",
              "        text-align: right;\n",
              "    }\n",
              "</style>\n",
              "<table border=\"1\" class=\"dataframe\">\n",
              "  <thead>\n",
              "    <tr style=\"text-align: right;\">\n",
              "      <th></th>\n",
              "      <th>tgl_hari_krj</th>\n",
              "      <th>musim_hari</th>\n",
              "      <th>hari_kerja</th>\n",
              "      <th>jml_musim_hari</th>\n",
              "      <th>tgl_hari_jam</th>\n",
              "      <th>musim_jam</th>\n",
              "      <th>jam</th>\n",
              "      <th>jml_musim_jam</th>\n",
              "    </tr>\n",
              "  </thead>\n",
              "  <tbody>\n",
              "    <tr>\n",
              "      <th>0</th>\n",
              "      <td>2011-06-26</td>\n",
              "      <td>Fall</td>\n",
              "      <td>0.0</td>\n",
              "      <td>26.0</td>\n",
              "      <td>NaT</td>\n",
              "      <td>NaN</td>\n",
              "      <td>NaN</td>\n",
              "      <td>NaN</td>\n",
              "    </tr>\n",
              "    <tr>\n",
              "      <th>1</th>\n",
              "      <td>2011-07-03</td>\n",
              "      <td>Fall</td>\n",
              "      <td>0.0</td>\n",
              "      <td>26.0</td>\n",
              "      <td>NaT</td>\n",
              "      <td>NaN</td>\n",
              "      <td>NaN</td>\n",
              "      <td>NaN</td>\n",
              "    </tr>\n",
              "    <tr>\n",
              "      <th>2</th>\n",
              "      <td>2011-07-10</td>\n",
              "      <td>Fall</td>\n",
              "      <td>0.0</td>\n",
              "      <td>26.0</td>\n",
              "      <td>NaT</td>\n",
              "      <td>NaN</td>\n",
              "      <td>NaN</td>\n",
              "      <td>NaN</td>\n",
              "    </tr>\n",
              "    <tr>\n",
              "      <th>3</th>\n",
              "      <td>2011-07-17</td>\n",
              "      <td>Fall</td>\n",
              "      <td>0.0</td>\n",
              "      <td>26.0</td>\n",
              "      <td>NaT</td>\n",
              "      <td>NaN</td>\n",
              "      <td>NaN</td>\n",
              "      <td>NaN</td>\n",
              "    </tr>\n",
              "    <tr>\n",
              "      <th>4</th>\n",
              "      <td>2011-07-24</td>\n",
              "      <td>Fall</td>\n",
              "      <td>0.0</td>\n",
              "      <td>26.0</td>\n",
              "      <td>NaT</td>\n",
              "      <td>NaN</td>\n",
              "      <td>NaN</td>\n",
              "      <td>NaN</td>\n",
              "    </tr>\n",
              "    <tr>\n",
              "      <th>...</th>\n",
              "      <td>...</td>\n",
              "      <td>...</td>\n",
              "      <td>...</td>\n",
              "      <td>...</td>\n",
              "      <td>...</td>\n",
              "      <td>...</td>\n",
              "      <td>...</td>\n",
              "      <td>...</td>\n",
              "    </tr>\n",
              "    <tr>\n",
              "      <th>9454</th>\n",
              "      <td>NaT</td>\n",
              "      <td>NaN</td>\n",
              "      <td>NaN</td>\n",
              "      <td>NaN</td>\n",
              "      <td>2012-12-16</td>\n",
              "      <td>Winter</td>\n",
              "      <td>23.0</td>\n",
              "      <td>177.0</td>\n",
              "    </tr>\n",
              "    <tr>\n",
              "      <th>9455</th>\n",
              "      <td>NaT</td>\n",
              "      <td>NaN</td>\n",
              "      <td>NaN</td>\n",
              "      <td>NaN</td>\n",
              "      <td>2012-12-17</td>\n",
              "      <td>Winter</td>\n",
              "      <td>23.0</td>\n",
              "      <td>177.0</td>\n",
              "    </tr>\n",
              "    <tr>\n",
              "      <th>9456</th>\n",
              "      <td>NaT</td>\n",
              "      <td>NaN</td>\n",
              "      <td>NaN</td>\n",
              "      <td>NaN</td>\n",
              "      <td>2012-12-18</td>\n",
              "      <td>Winter</td>\n",
              "      <td>23.0</td>\n",
              "      <td>177.0</td>\n",
              "    </tr>\n",
              "    <tr>\n",
              "      <th>9457</th>\n",
              "      <td>NaT</td>\n",
              "      <td>NaN</td>\n",
              "      <td>NaN</td>\n",
              "      <td>NaN</td>\n",
              "      <td>2012-12-19</td>\n",
              "      <td>Winter</td>\n",
              "      <td>23.0</td>\n",
              "      <td>177.0</td>\n",
              "    </tr>\n",
              "    <tr>\n",
              "      <th>9458</th>\n",
              "      <td>NaT</td>\n",
              "      <td>NaN</td>\n",
              "      <td>NaN</td>\n",
              "      <td>NaN</td>\n",
              "      <td>2012-12-20</td>\n",
              "      <td>Winter</td>\n",
              "      <td>23.0</td>\n",
              "      <td>177.0</td>\n",
              "    </tr>\n",
              "  </tbody>\n",
              "</table>\n",
              "<p>9459 rows × 8 columns</p>\n",
              "</div>"
            ],
            "text/plain": [
              "     tgl_hari_krj musim_hari  hari_kerja  jml_musim_hari tgl_hari_jam  \\\n",
              "0      2011-06-26       Fall         0.0            26.0          NaT   \n",
              "1      2011-07-03       Fall         0.0            26.0          NaT   \n",
              "2      2011-07-10       Fall         0.0            26.0          NaT   \n",
              "3      2011-07-17       Fall         0.0            26.0          NaT   \n",
              "4      2011-07-24       Fall         0.0            26.0          NaT   \n",
              "...           ...        ...         ...             ...          ...   \n",
              "9454          NaT        NaN         NaN             NaN   2012-12-16   \n",
              "9455          NaT        NaN         NaN             NaN   2012-12-17   \n",
              "9456          NaT        NaN         NaN             NaN   2012-12-18   \n",
              "9457          NaT        NaN         NaN             NaN   2012-12-19   \n",
              "9458          NaT        NaN         NaN             NaN   2012-12-20   \n",
              "\n",
              "     musim_jam   jam  jml_musim_jam  \n",
              "0          NaN   NaN            NaN  \n",
              "1          NaN   NaN            NaN  \n",
              "2          NaN   NaN            NaN  \n",
              "3          NaN   NaN            NaN  \n",
              "4          NaN   NaN            NaN  \n",
              "...        ...   ...            ...  \n",
              "9454    Winter  23.0          177.0  \n",
              "9455    Winter  23.0          177.0  \n",
              "9456    Winter  23.0          177.0  \n",
              "9457    Winter  23.0          177.0  \n",
              "9458    Winter  23.0          177.0  \n",
              "\n",
              "[9459 rows x 8 columns]"
            ]
          },
          "metadata": {},
          "output_type": "display_data"
        }
      ],
      "source": [
        "main_data = pd.concat([byseason_df1, byseason_df2], ignore_index=True)\n",
        "display(main_data)"
      ]
    },
    {
      "cell_type": "code",
      "execution_count": 31,
      "metadata": {},
      "outputs": [],
      "source": [
        "main_data.to_csv(\"dashboard/main_data.csv\", index=False)"
      ]
    },
    {
      "cell_type": "code",
      "execution_count": 32,
      "metadata": {},
      "outputs": [
        {
          "data": {
            "application/vnd.microsoft.datawrangler.viewer.v0+json": {
              "columns": [
                {
                  "name": "index",
                  "rawType": "int64",
                  "type": "integer"
                },
                {
                  "name": "tgl_hari_krj",
                  "rawType": "object",
                  "type": "unknown"
                },
                {
                  "name": "musim_hari",
                  "rawType": "object",
                  "type": "unknown"
                },
                {
                  "name": "hari_kerja",
                  "rawType": "float64",
                  "type": "float"
                },
                {
                  "name": "jml_musim_hari",
                  "rawType": "float64",
                  "type": "float"
                },
                {
                  "name": "tgl_hari_jam",
                  "rawType": "object",
                  "type": "unknown"
                },
                {
                  "name": "musim_jam",
                  "rawType": "object",
                  "type": "unknown"
                },
                {
                  "name": "jam",
                  "rawType": "float64",
                  "type": "float"
                },
                {
                  "name": "jml_musim_jam",
                  "rawType": "float64",
                  "type": "float"
                }
              ],
              "conversionMethod": "pd.DataFrame",
              "ref": "34da1074-cde0-4ab3-9996-016ceca9744e",
              "rows": [
                [
                  "0",
                  "2011-06-26",
                  "Fall",
                  "0.0",
                  "26.0",
                  null,
                  null,
                  null,
                  null
                ],
                [
                  "1",
                  "2011-07-03",
                  "Fall",
                  "0.0",
                  "26.0",
                  null,
                  null,
                  null,
                  null
                ],
                [
                  "2",
                  "2011-07-10",
                  "Fall",
                  "0.0",
                  "26.0",
                  null,
                  null,
                  null,
                  null
                ],
                [
                  "3",
                  "2011-07-17",
                  "Fall",
                  "0.0",
                  "26.0",
                  null,
                  null,
                  null,
                  null
                ],
                [
                  "4",
                  "2011-07-24",
                  "Fall",
                  "0.0",
                  "26.0",
                  null,
                  null,
                  null,
                  null
                ],
                [
                  "5",
                  "2011-07-31",
                  "Fall",
                  "0.0",
                  "26.0",
                  null,
                  null,
                  null,
                  null
                ],
                [
                  "6",
                  "2011-08-07",
                  "Fall",
                  "0.0",
                  "26.0",
                  null,
                  null,
                  null,
                  null
                ],
                [
                  "7",
                  "2011-08-14",
                  "Fall",
                  "0.0",
                  "26.0",
                  null,
                  null,
                  null,
                  null
                ],
                [
                  "8",
                  "2011-08-21",
                  "Fall",
                  "0.0",
                  "26.0",
                  null,
                  null,
                  null,
                  null
                ],
                [
                  "9",
                  "2011-08-28",
                  "Fall",
                  "0.0",
                  "26.0",
                  null,
                  null,
                  null,
                  null
                ],
                [
                  "10",
                  "2011-09-04",
                  "Fall",
                  "0.0",
                  "26.0",
                  null,
                  null,
                  null,
                  null
                ],
                [
                  "11",
                  "2011-09-11",
                  "Fall",
                  "0.0",
                  "26.0",
                  null,
                  null,
                  null,
                  null
                ],
                [
                  "12",
                  "2011-09-18",
                  "Fall",
                  "0.0",
                  "26.0",
                  null,
                  null,
                  null,
                  null
                ],
                [
                  "13",
                  "2012-06-24",
                  "Fall",
                  "0.0",
                  "26.0",
                  null,
                  null,
                  null,
                  null
                ],
                [
                  "14",
                  "2012-07-01",
                  "Fall",
                  "0.0",
                  "26.0",
                  null,
                  null,
                  null,
                  null
                ],
                [
                  "15",
                  "2012-07-08",
                  "Fall",
                  "0.0",
                  "26.0",
                  null,
                  null,
                  null,
                  null
                ],
                [
                  "16",
                  "2012-07-15",
                  "Fall",
                  "0.0",
                  "26.0",
                  null,
                  null,
                  null,
                  null
                ],
                [
                  "17",
                  "2012-07-22",
                  "Fall",
                  "0.0",
                  "26.0",
                  null,
                  null,
                  null,
                  null
                ],
                [
                  "18",
                  "2012-07-29",
                  "Fall",
                  "0.0",
                  "26.0",
                  null,
                  null,
                  null,
                  null
                ],
                [
                  "19",
                  "2012-08-05",
                  "Fall",
                  "0.0",
                  "26.0",
                  null,
                  null,
                  null,
                  null
                ],
                [
                  "20",
                  "2012-08-12",
                  "Fall",
                  "0.0",
                  "26.0",
                  null,
                  null,
                  null,
                  null
                ],
                [
                  "21",
                  "2012-08-19",
                  "Fall",
                  "0.0",
                  "26.0",
                  null,
                  null,
                  null,
                  null
                ],
                [
                  "22",
                  "2012-08-26",
                  "Fall",
                  "0.0",
                  "26.0",
                  null,
                  null,
                  null,
                  null
                ],
                [
                  "23",
                  "2012-09-02",
                  "Fall",
                  "0.0",
                  "26.0",
                  null,
                  null,
                  null,
                  null
                ],
                [
                  "24",
                  "2012-09-09",
                  "Fall",
                  "0.0",
                  "26.0",
                  null,
                  null,
                  null,
                  null
                ],
                [
                  "25",
                  "2012-09-16",
                  "Fall",
                  "0.0",
                  "26.0",
                  null,
                  null,
                  null,
                  null
                ],
                [
                  "26",
                  "2011-06-27",
                  "Fall",
                  "1.0",
                  "26.0",
                  null,
                  null,
                  null,
                  null
                ],
                [
                  "27",
                  "2011-07-04",
                  "Fall",
                  "1.0",
                  "26.0",
                  null,
                  null,
                  null,
                  null
                ],
                [
                  "28",
                  "2011-07-11",
                  "Fall",
                  "1.0",
                  "26.0",
                  null,
                  null,
                  null,
                  null
                ],
                [
                  "29",
                  "2011-07-18",
                  "Fall",
                  "1.0",
                  "26.0",
                  null,
                  null,
                  null,
                  null
                ],
                [
                  "30",
                  "2011-07-25",
                  "Fall",
                  "1.0",
                  "26.0",
                  null,
                  null,
                  null,
                  null
                ],
                [
                  "31",
                  "2011-08-01",
                  "Fall",
                  "1.0",
                  "26.0",
                  null,
                  null,
                  null,
                  null
                ],
                [
                  "32",
                  "2011-08-08",
                  "Fall",
                  "1.0",
                  "26.0",
                  null,
                  null,
                  null,
                  null
                ],
                [
                  "33",
                  "2011-08-15",
                  "Fall",
                  "1.0",
                  "26.0",
                  null,
                  null,
                  null,
                  null
                ],
                [
                  "34",
                  "2011-08-22",
                  "Fall",
                  "1.0",
                  "26.0",
                  null,
                  null,
                  null,
                  null
                ],
                [
                  "35",
                  "2011-08-29",
                  "Fall",
                  "1.0",
                  "26.0",
                  null,
                  null,
                  null,
                  null
                ],
                [
                  "36",
                  "2011-09-05",
                  "Fall",
                  "1.0",
                  "26.0",
                  null,
                  null,
                  null,
                  null
                ],
                [
                  "37",
                  "2011-09-12",
                  "Fall",
                  "1.0",
                  "26.0",
                  null,
                  null,
                  null,
                  null
                ],
                [
                  "38",
                  "2011-09-19",
                  "Fall",
                  "1.0",
                  "26.0",
                  null,
                  null,
                  null,
                  null
                ],
                [
                  "39",
                  "2012-06-25",
                  "Fall",
                  "1.0",
                  "26.0",
                  null,
                  null,
                  null,
                  null
                ],
                [
                  "40",
                  "2012-07-02",
                  "Fall",
                  "1.0",
                  "26.0",
                  null,
                  null,
                  null,
                  null
                ],
                [
                  "41",
                  "2012-07-09",
                  "Fall",
                  "1.0",
                  "26.0",
                  null,
                  null,
                  null,
                  null
                ],
                [
                  "42",
                  "2012-07-16",
                  "Fall",
                  "1.0",
                  "26.0",
                  null,
                  null,
                  null,
                  null
                ],
                [
                  "43",
                  "2012-07-23",
                  "Fall",
                  "1.0",
                  "26.0",
                  null,
                  null,
                  null,
                  null
                ],
                [
                  "44",
                  "2012-07-30",
                  "Fall",
                  "1.0",
                  "26.0",
                  null,
                  null,
                  null,
                  null
                ],
                [
                  "45",
                  "2012-08-06",
                  "Fall",
                  "1.0",
                  "26.0",
                  null,
                  null,
                  null,
                  null
                ],
                [
                  "46",
                  "2012-08-13",
                  "Fall",
                  "1.0",
                  "26.0",
                  null,
                  null,
                  null,
                  null
                ],
                [
                  "47",
                  "2012-08-20",
                  "Fall",
                  "1.0",
                  "26.0",
                  null,
                  null,
                  null,
                  null
                ],
                [
                  "48",
                  "2012-08-27",
                  "Fall",
                  "1.0",
                  "26.0",
                  null,
                  null,
                  null,
                  null
                ],
                [
                  "49",
                  "2012-09-03",
                  "Fall",
                  "1.0",
                  "26.0",
                  null,
                  null,
                  null,
                  null
                ]
              ],
              "shape": {
                "columns": 8,
                "rows": 9459
              }
            },
            "text/html": [
              "<div>\n",
              "<style scoped>\n",
              "    .dataframe tbody tr th:only-of-type {\n",
              "        vertical-align: middle;\n",
              "    }\n",
              "\n",
              "    .dataframe tbody tr th {\n",
              "        vertical-align: top;\n",
              "    }\n",
              "\n",
              "    .dataframe thead th {\n",
              "        text-align: right;\n",
              "    }\n",
              "</style>\n",
              "<table border=\"1\" class=\"dataframe\">\n",
              "  <thead>\n",
              "    <tr style=\"text-align: right;\">\n",
              "      <th></th>\n",
              "      <th>tgl_hari_krj</th>\n",
              "      <th>musim_hari</th>\n",
              "      <th>hari_kerja</th>\n",
              "      <th>jml_musim_hari</th>\n",
              "      <th>tgl_hari_jam</th>\n",
              "      <th>musim_jam</th>\n",
              "      <th>jam</th>\n",
              "      <th>jml_musim_jam</th>\n",
              "    </tr>\n",
              "  </thead>\n",
              "  <tbody>\n",
              "    <tr>\n",
              "      <th>0</th>\n",
              "      <td>2011-06-26</td>\n",
              "      <td>Fall</td>\n",
              "      <td>0.0</td>\n",
              "      <td>26.0</td>\n",
              "      <td>NaN</td>\n",
              "      <td>NaN</td>\n",
              "      <td>NaN</td>\n",
              "      <td>NaN</td>\n",
              "    </tr>\n",
              "    <tr>\n",
              "      <th>1</th>\n",
              "      <td>2011-07-03</td>\n",
              "      <td>Fall</td>\n",
              "      <td>0.0</td>\n",
              "      <td>26.0</td>\n",
              "      <td>NaN</td>\n",
              "      <td>NaN</td>\n",
              "      <td>NaN</td>\n",
              "      <td>NaN</td>\n",
              "    </tr>\n",
              "    <tr>\n",
              "      <th>2</th>\n",
              "      <td>2011-07-10</td>\n",
              "      <td>Fall</td>\n",
              "      <td>0.0</td>\n",
              "      <td>26.0</td>\n",
              "      <td>NaN</td>\n",
              "      <td>NaN</td>\n",
              "      <td>NaN</td>\n",
              "      <td>NaN</td>\n",
              "    </tr>\n",
              "    <tr>\n",
              "      <th>3</th>\n",
              "      <td>2011-07-17</td>\n",
              "      <td>Fall</td>\n",
              "      <td>0.0</td>\n",
              "      <td>26.0</td>\n",
              "      <td>NaN</td>\n",
              "      <td>NaN</td>\n",
              "      <td>NaN</td>\n",
              "      <td>NaN</td>\n",
              "    </tr>\n",
              "    <tr>\n",
              "      <th>4</th>\n",
              "      <td>2011-07-24</td>\n",
              "      <td>Fall</td>\n",
              "      <td>0.0</td>\n",
              "      <td>26.0</td>\n",
              "      <td>NaN</td>\n",
              "      <td>NaN</td>\n",
              "      <td>NaN</td>\n",
              "      <td>NaN</td>\n",
              "    </tr>\n",
              "    <tr>\n",
              "      <th>...</th>\n",
              "      <td>...</td>\n",
              "      <td>...</td>\n",
              "      <td>...</td>\n",
              "      <td>...</td>\n",
              "      <td>...</td>\n",
              "      <td>...</td>\n",
              "      <td>...</td>\n",
              "      <td>...</td>\n",
              "    </tr>\n",
              "    <tr>\n",
              "      <th>9454</th>\n",
              "      <td>NaN</td>\n",
              "      <td>NaN</td>\n",
              "      <td>NaN</td>\n",
              "      <td>NaN</td>\n",
              "      <td>2012-12-16</td>\n",
              "      <td>Winter</td>\n",
              "      <td>23.0</td>\n",
              "      <td>177.0</td>\n",
              "    </tr>\n",
              "    <tr>\n",
              "      <th>9455</th>\n",
              "      <td>NaN</td>\n",
              "      <td>NaN</td>\n",
              "      <td>NaN</td>\n",
              "      <td>NaN</td>\n",
              "      <td>2012-12-17</td>\n",
              "      <td>Winter</td>\n",
              "      <td>23.0</td>\n",
              "      <td>177.0</td>\n",
              "    </tr>\n",
              "    <tr>\n",
              "      <th>9456</th>\n",
              "      <td>NaN</td>\n",
              "      <td>NaN</td>\n",
              "      <td>NaN</td>\n",
              "      <td>NaN</td>\n",
              "      <td>2012-12-18</td>\n",
              "      <td>Winter</td>\n",
              "      <td>23.0</td>\n",
              "      <td>177.0</td>\n",
              "    </tr>\n",
              "    <tr>\n",
              "      <th>9457</th>\n",
              "      <td>NaN</td>\n",
              "      <td>NaN</td>\n",
              "      <td>NaN</td>\n",
              "      <td>NaN</td>\n",
              "      <td>2012-12-19</td>\n",
              "      <td>Winter</td>\n",
              "      <td>23.0</td>\n",
              "      <td>177.0</td>\n",
              "    </tr>\n",
              "    <tr>\n",
              "      <th>9458</th>\n",
              "      <td>NaN</td>\n",
              "      <td>NaN</td>\n",
              "      <td>NaN</td>\n",
              "      <td>NaN</td>\n",
              "      <td>2012-12-20</td>\n",
              "      <td>Winter</td>\n",
              "      <td>23.0</td>\n",
              "      <td>177.0</td>\n",
              "    </tr>\n",
              "  </tbody>\n",
              "</table>\n",
              "<p>9459 rows × 8 columns</p>\n",
              "</div>"
            ],
            "text/plain": [
              "     tgl_hari_krj musim_hari  hari_kerja  jml_musim_hari tgl_hari_jam  \\\n",
              "0      2011-06-26       Fall         0.0            26.0          NaN   \n",
              "1      2011-07-03       Fall         0.0            26.0          NaN   \n",
              "2      2011-07-10       Fall         0.0            26.0          NaN   \n",
              "3      2011-07-17       Fall         0.0            26.0          NaN   \n",
              "4      2011-07-24       Fall         0.0            26.0          NaN   \n",
              "...           ...        ...         ...             ...          ...   \n",
              "9454          NaN        NaN         NaN             NaN   2012-12-16   \n",
              "9455          NaN        NaN         NaN             NaN   2012-12-17   \n",
              "9456          NaN        NaN         NaN             NaN   2012-12-18   \n",
              "9457          NaN        NaN         NaN             NaN   2012-12-19   \n",
              "9458          NaN        NaN         NaN             NaN   2012-12-20   \n",
              "\n",
              "     musim_jam   jam  jml_musim_jam  \n",
              "0          NaN   NaN            NaN  \n",
              "1          NaN   NaN            NaN  \n",
              "2          NaN   NaN            NaN  \n",
              "3          NaN   NaN            NaN  \n",
              "4          NaN   NaN            NaN  \n",
              "...        ...   ...            ...  \n",
              "9454    Winter  23.0          177.0  \n",
              "9455    Winter  23.0          177.0  \n",
              "9456    Winter  23.0          177.0  \n",
              "9457    Winter  23.0          177.0  \n",
              "9458    Winter  23.0          177.0  \n",
              "\n",
              "[9459 rows x 8 columns]"
            ]
          },
          "metadata": {},
          "output_type": "display_data"
        }
      ],
      "source": [
        "main_data = pd.read_csv(r'dashboard\\main_data.csv')\n",
        "main_df = pd.DataFrame(main_data)\n",
        "display(main_df)"
      ]
    },
    {
      "cell_type": "code",
      "execution_count": 33,
      "metadata": {},
      "outputs": [
        {
          "data": {
            "application/vnd.microsoft.datawrangler.viewer.v0+json": {
              "columns": [
                {
                  "name": "index",
                  "rawType": "int64",
                  "type": "integer"
                },
                {
                  "name": "tgl_hari_krj",
                  "rawType": "object",
                  "type": "string"
                },
                {
                  "name": "musim_hari",
                  "rawType": "object",
                  "type": "string"
                },
                {
                  "name": "hari_kerja",
                  "rawType": "float64",
                  "type": "float"
                },
                {
                  "name": "jml_musim_hari",
                  "rawType": "float64",
                  "type": "float"
                }
              ],
              "conversionMethod": "pd.DataFrame",
              "ref": "5a94e95c-591f-4c3d-9562-e8c9ef785497",
              "rows": [
                [
                  "0",
                  "2011-06-26",
                  "Fall",
                  "0.0",
                  "26.0"
                ],
                [
                  "1",
                  "2011-07-03",
                  "Fall",
                  "0.0",
                  "26.0"
                ],
                [
                  "2",
                  "2011-07-10",
                  "Fall",
                  "0.0",
                  "26.0"
                ],
                [
                  "3",
                  "2011-07-17",
                  "Fall",
                  "0.0",
                  "26.0"
                ],
                [
                  "4",
                  "2011-07-24",
                  "Fall",
                  "0.0",
                  "26.0"
                ],
                [
                  "5",
                  "2011-07-31",
                  "Fall",
                  "0.0",
                  "26.0"
                ],
                [
                  "6",
                  "2011-08-07",
                  "Fall",
                  "0.0",
                  "26.0"
                ],
                [
                  "7",
                  "2011-08-14",
                  "Fall",
                  "0.0",
                  "26.0"
                ],
                [
                  "8",
                  "2011-08-21",
                  "Fall",
                  "0.0",
                  "26.0"
                ],
                [
                  "9",
                  "2011-08-28",
                  "Fall",
                  "0.0",
                  "26.0"
                ],
                [
                  "10",
                  "2011-09-04",
                  "Fall",
                  "0.0",
                  "26.0"
                ],
                [
                  "11",
                  "2011-09-11",
                  "Fall",
                  "0.0",
                  "26.0"
                ],
                [
                  "12",
                  "2011-09-18",
                  "Fall",
                  "0.0",
                  "26.0"
                ],
                [
                  "13",
                  "2012-06-24",
                  "Fall",
                  "0.0",
                  "26.0"
                ],
                [
                  "14",
                  "2012-07-01",
                  "Fall",
                  "0.0",
                  "26.0"
                ],
                [
                  "15",
                  "2012-07-08",
                  "Fall",
                  "0.0",
                  "26.0"
                ],
                [
                  "16",
                  "2012-07-15",
                  "Fall",
                  "0.0",
                  "26.0"
                ],
                [
                  "17",
                  "2012-07-22",
                  "Fall",
                  "0.0",
                  "26.0"
                ],
                [
                  "18",
                  "2012-07-29",
                  "Fall",
                  "0.0",
                  "26.0"
                ],
                [
                  "19",
                  "2012-08-05",
                  "Fall",
                  "0.0",
                  "26.0"
                ],
                [
                  "20",
                  "2012-08-12",
                  "Fall",
                  "0.0",
                  "26.0"
                ],
                [
                  "21",
                  "2012-08-19",
                  "Fall",
                  "0.0",
                  "26.0"
                ],
                [
                  "22",
                  "2012-08-26",
                  "Fall",
                  "0.0",
                  "26.0"
                ],
                [
                  "23",
                  "2012-09-02",
                  "Fall",
                  "0.0",
                  "26.0"
                ],
                [
                  "24",
                  "2012-09-09",
                  "Fall",
                  "0.0",
                  "26.0"
                ],
                [
                  "25",
                  "2012-09-16",
                  "Fall",
                  "0.0",
                  "26.0"
                ],
                [
                  "26",
                  "2011-06-27",
                  "Fall",
                  "1.0",
                  "26.0"
                ],
                [
                  "27",
                  "2011-07-04",
                  "Fall",
                  "1.0",
                  "26.0"
                ],
                [
                  "28",
                  "2011-07-11",
                  "Fall",
                  "1.0",
                  "26.0"
                ],
                [
                  "29",
                  "2011-07-18",
                  "Fall",
                  "1.0",
                  "26.0"
                ],
                [
                  "30",
                  "2011-07-25",
                  "Fall",
                  "1.0",
                  "26.0"
                ],
                [
                  "31",
                  "2011-08-01",
                  "Fall",
                  "1.0",
                  "26.0"
                ],
                [
                  "32",
                  "2011-08-08",
                  "Fall",
                  "1.0",
                  "26.0"
                ],
                [
                  "33",
                  "2011-08-15",
                  "Fall",
                  "1.0",
                  "26.0"
                ],
                [
                  "34",
                  "2011-08-22",
                  "Fall",
                  "1.0",
                  "26.0"
                ],
                [
                  "35",
                  "2011-08-29",
                  "Fall",
                  "1.0",
                  "26.0"
                ],
                [
                  "36",
                  "2011-09-05",
                  "Fall",
                  "1.0",
                  "26.0"
                ],
                [
                  "37",
                  "2011-09-12",
                  "Fall",
                  "1.0",
                  "26.0"
                ],
                [
                  "38",
                  "2011-09-19",
                  "Fall",
                  "1.0",
                  "26.0"
                ],
                [
                  "39",
                  "2012-06-25",
                  "Fall",
                  "1.0",
                  "26.0"
                ],
                [
                  "40",
                  "2012-07-02",
                  "Fall",
                  "1.0",
                  "26.0"
                ],
                [
                  "41",
                  "2012-07-09",
                  "Fall",
                  "1.0",
                  "26.0"
                ],
                [
                  "42",
                  "2012-07-16",
                  "Fall",
                  "1.0",
                  "26.0"
                ],
                [
                  "43",
                  "2012-07-23",
                  "Fall",
                  "1.0",
                  "26.0"
                ],
                [
                  "44",
                  "2012-07-30",
                  "Fall",
                  "1.0",
                  "26.0"
                ],
                [
                  "45",
                  "2012-08-06",
                  "Fall",
                  "1.0",
                  "26.0"
                ],
                [
                  "46",
                  "2012-08-13",
                  "Fall",
                  "1.0",
                  "26.0"
                ],
                [
                  "47",
                  "2012-08-20",
                  "Fall",
                  "1.0",
                  "26.0"
                ],
                [
                  "48",
                  "2012-08-27",
                  "Fall",
                  "1.0",
                  "26.0"
                ],
                [
                  "49",
                  "2012-09-03",
                  "Fall",
                  "1.0",
                  "26.0"
                ]
              ],
              "shape": {
                "columns": 4,
                "rows": 731
              }
            },
            "text/html": [
              "<div>\n",
              "<style scoped>\n",
              "    .dataframe tbody tr th:only-of-type {\n",
              "        vertical-align: middle;\n",
              "    }\n",
              "\n",
              "    .dataframe tbody tr th {\n",
              "        vertical-align: top;\n",
              "    }\n",
              "\n",
              "    .dataframe thead th {\n",
              "        text-align: right;\n",
              "    }\n",
              "</style>\n",
              "<table border=\"1\" class=\"dataframe\">\n",
              "  <thead>\n",
              "    <tr style=\"text-align: right;\">\n",
              "      <th></th>\n",
              "      <th>tgl_hari_krj</th>\n",
              "      <th>musim_hari</th>\n",
              "      <th>hari_kerja</th>\n",
              "      <th>jml_musim_hari</th>\n",
              "    </tr>\n",
              "  </thead>\n",
              "  <tbody>\n",
              "    <tr>\n",
              "      <th>0</th>\n",
              "      <td>2011-06-26</td>\n",
              "      <td>Fall</td>\n",
              "      <td>0.0</td>\n",
              "      <td>26.0</td>\n",
              "    </tr>\n",
              "    <tr>\n",
              "      <th>1</th>\n",
              "      <td>2011-07-03</td>\n",
              "      <td>Fall</td>\n",
              "      <td>0.0</td>\n",
              "      <td>26.0</td>\n",
              "    </tr>\n",
              "    <tr>\n",
              "      <th>2</th>\n",
              "      <td>2011-07-10</td>\n",
              "      <td>Fall</td>\n",
              "      <td>0.0</td>\n",
              "      <td>26.0</td>\n",
              "    </tr>\n",
              "    <tr>\n",
              "      <th>3</th>\n",
              "      <td>2011-07-17</td>\n",
              "      <td>Fall</td>\n",
              "      <td>0.0</td>\n",
              "      <td>26.0</td>\n",
              "    </tr>\n",
              "    <tr>\n",
              "      <th>4</th>\n",
              "      <td>2011-07-24</td>\n",
              "      <td>Fall</td>\n",
              "      <td>0.0</td>\n",
              "      <td>26.0</td>\n",
              "    </tr>\n",
              "    <tr>\n",
              "      <th>...</th>\n",
              "      <td>...</td>\n",
              "      <td>...</td>\n",
              "      <td>...</td>\n",
              "      <td>...</td>\n",
              "    </tr>\n",
              "    <tr>\n",
              "      <th>726</th>\n",
              "      <td>2012-11-17</td>\n",
              "      <td>Winter</td>\n",
              "      <td>6.0</td>\n",
              "      <td>25.0</td>\n",
              "    </tr>\n",
              "    <tr>\n",
              "      <th>727</th>\n",
              "      <td>2012-11-24</td>\n",
              "      <td>Winter</td>\n",
              "      <td>6.0</td>\n",
              "      <td>25.0</td>\n",
              "    </tr>\n",
              "    <tr>\n",
              "      <th>728</th>\n",
              "      <td>2012-12-01</td>\n",
              "      <td>Winter</td>\n",
              "      <td>6.0</td>\n",
              "      <td>25.0</td>\n",
              "    </tr>\n",
              "    <tr>\n",
              "      <th>729</th>\n",
              "      <td>2012-12-08</td>\n",
              "      <td>Winter</td>\n",
              "      <td>6.0</td>\n",
              "      <td>25.0</td>\n",
              "    </tr>\n",
              "    <tr>\n",
              "      <th>730</th>\n",
              "      <td>2012-12-15</td>\n",
              "      <td>Winter</td>\n",
              "      <td>6.0</td>\n",
              "      <td>25.0</td>\n",
              "    </tr>\n",
              "  </tbody>\n",
              "</table>\n",
              "<p>731 rows × 4 columns</p>\n",
              "</div>"
            ],
            "text/plain": [
              "    tgl_hari_krj musim_hari  hari_kerja  jml_musim_hari\n",
              "0     2011-06-26       Fall         0.0            26.0\n",
              "1     2011-07-03       Fall         0.0            26.0\n",
              "2     2011-07-10       Fall         0.0            26.0\n",
              "3     2011-07-17       Fall         0.0            26.0\n",
              "4     2011-07-24       Fall         0.0            26.0\n",
              "..           ...        ...         ...             ...\n",
              "726   2012-11-17     Winter         6.0            25.0\n",
              "727   2012-11-24     Winter         6.0            25.0\n",
              "728   2012-12-01     Winter         6.0            25.0\n",
              "729   2012-12-08     Winter         6.0            25.0\n",
              "730   2012-12-15     Winter         6.0            25.0\n",
              "\n",
              "[731 rows x 4 columns]"
            ]
          },
          "metadata": {},
          "output_type": "display_data"
        },
        {
          "data": {
            "application/vnd.microsoft.datawrangler.viewer.v0+json": {
              "columns": [
                {
                  "name": "index",
                  "rawType": "int64",
                  "type": "integer"
                },
                {
                  "name": "tgl_hari_jam",
                  "rawType": "object",
                  "type": "string"
                },
                {
                  "name": "musim_jam",
                  "rawType": "object",
                  "type": "string"
                },
                {
                  "name": "jam",
                  "rawType": "float64",
                  "type": "float"
                },
                {
                  "name": "jml_musim_jam",
                  "rawType": "float64",
                  "type": "float"
                }
              ],
              "conversionMethod": "pd.DataFrame",
              "ref": "d5f0a76e-437d-4dfc-99a7-040a2bdf28ed",
              "rows": [
                [
                  "0",
                  "2011-06-21",
                  "Fall",
                  "0.0",
                  "187.0"
                ],
                [
                  "1",
                  "2011-06-22",
                  "Fall",
                  "0.0",
                  "187.0"
                ],
                [
                  "2",
                  "2011-06-23",
                  "Fall",
                  "0.0",
                  "187.0"
                ],
                [
                  "3",
                  "2011-06-24",
                  "Fall",
                  "0.0",
                  "187.0"
                ],
                [
                  "4",
                  "2011-06-25",
                  "Fall",
                  "0.0",
                  "187.0"
                ],
                [
                  "5",
                  "2011-06-26",
                  "Fall",
                  "0.0",
                  "187.0"
                ],
                [
                  "6",
                  "2011-06-27",
                  "Fall",
                  "0.0",
                  "187.0"
                ],
                [
                  "7",
                  "2011-06-28",
                  "Fall",
                  "0.0",
                  "187.0"
                ],
                [
                  "8",
                  "2011-06-29",
                  "Fall",
                  "0.0",
                  "187.0"
                ],
                [
                  "9",
                  "2011-06-30",
                  "Fall",
                  "0.0",
                  "187.0"
                ],
                [
                  "10",
                  "2011-07-01",
                  "Fall",
                  "0.0",
                  "187.0"
                ],
                [
                  "11",
                  "2011-07-02",
                  "Fall",
                  "0.0",
                  "187.0"
                ],
                [
                  "12",
                  "2011-07-03",
                  "Fall",
                  "0.0",
                  "187.0"
                ],
                [
                  "13",
                  "2011-07-04",
                  "Fall",
                  "0.0",
                  "187.0"
                ],
                [
                  "14",
                  "2011-07-05",
                  "Fall",
                  "0.0",
                  "187.0"
                ],
                [
                  "15",
                  "2011-07-06",
                  "Fall",
                  "0.0",
                  "187.0"
                ],
                [
                  "16",
                  "2011-07-07",
                  "Fall",
                  "0.0",
                  "187.0"
                ],
                [
                  "17",
                  "2011-07-08",
                  "Fall",
                  "0.0",
                  "187.0"
                ],
                [
                  "18",
                  "2011-07-09",
                  "Fall",
                  "0.0",
                  "187.0"
                ],
                [
                  "19",
                  "2011-07-10",
                  "Fall",
                  "0.0",
                  "187.0"
                ],
                [
                  "20",
                  "2011-07-11",
                  "Fall",
                  "0.0",
                  "187.0"
                ],
                [
                  "21",
                  "2011-07-12",
                  "Fall",
                  "0.0",
                  "187.0"
                ],
                [
                  "22",
                  "2011-07-13",
                  "Fall",
                  "0.0",
                  "187.0"
                ],
                [
                  "23",
                  "2011-07-14",
                  "Fall",
                  "0.0",
                  "187.0"
                ],
                [
                  "24",
                  "2011-07-15",
                  "Fall",
                  "0.0",
                  "187.0"
                ],
                [
                  "25",
                  "2011-07-16",
                  "Fall",
                  "0.0",
                  "187.0"
                ],
                [
                  "26",
                  "2011-07-17",
                  "Fall",
                  "0.0",
                  "187.0"
                ],
                [
                  "27",
                  "2011-07-18",
                  "Fall",
                  "0.0",
                  "187.0"
                ],
                [
                  "28",
                  "2011-07-19",
                  "Fall",
                  "0.0",
                  "187.0"
                ],
                [
                  "29",
                  "2011-07-20",
                  "Fall",
                  "0.0",
                  "187.0"
                ],
                [
                  "30",
                  "2011-07-21",
                  "Fall",
                  "0.0",
                  "187.0"
                ],
                [
                  "31",
                  "2011-07-22",
                  "Fall",
                  "0.0",
                  "187.0"
                ],
                [
                  "32",
                  "2011-07-23",
                  "Fall",
                  "0.0",
                  "187.0"
                ],
                [
                  "33",
                  "2011-07-24",
                  "Fall",
                  "0.0",
                  "187.0"
                ],
                [
                  "34",
                  "2011-07-25",
                  "Fall",
                  "0.0",
                  "187.0"
                ],
                [
                  "35",
                  "2011-07-26",
                  "Fall",
                  "0.0",
                  "187.0"
                ],
                [
                  "36",
                  "2011-07-27",
                  "Fall",
                  "0.0",
                  "187.0"
                ],
                [
                  "37",
                  "2011-07-28",
                  "Fall",
                  "0.0",
                  "187.0"
                ],
                [
                  "38",
                  "2011-07-29",
                  "Fall",
                  "0.0",
                  "187.0"
                ],
                [
                  "39",
                  "2011-07-30",
                  "Fall",
                  "0.0",
                  "187.0"
                ],
                [
                  "40",
                  "2011-07-31",
                  "Fall",
                  "0.0",
                  "187.0"
                ],
                [
                  "41",
                  "2011-08-01",
                  "Fall",
                  "0.0",
                  "187.0"
                ],
                [
                  "42",
                  "2011-08-02",
                  "Fall",
                  "0.0",
                  "187.0"
                ],
                [
                  "43",
                  "2011-08-03",
                  "Fall",
                  "0.0",
                  "187.0"
                ],
                [
                  "44",
                  "2011-08-04",
                  "Fall",
                  "0.0",
                  "187.0"
                ],
                [
                  "45",
                  "2011-08-05",
                  "Fall",
                  "0.0",
                  "187.0"
                ],
                [
                  "46",
                  "2011-08-06",
                  "Fall",
                  "0.0",
                  "187.0"
                ],
                [
                  "47",
                  "2011-08-07",
                  "Fall",
                  "0.0",
                  "187.0"
                ],
                [
                  "48",
                  "2011-08-08",
                  "Fall",
                  "0.0",
                  "187.0"
                ],
                [
                  "49",
                  "2011-08-09",
                  "Fall",
                  "0.0",
                  "187.0"
                ]
              ],
              "shape": {
                "columns": 4,
                "rows": 8728
              }
            },
            "text/html": [
              "<div>\n",
              "<style scoped>\n",
              "    .dataframe tbody tr th:only-of-type {\n",
              "        vertical-align: middle;\n",
              "    }\n",
              "\n",
              "    .dataframe tbody tr th {\n",
              "        vertical-align: top;\n",
              "    }\n",
              "\n",
              "    .dataframe thead th {\n",
              "        text-align: right;\n",
              "    }\n",
              "</style>\n",
              "<table border=\"1\" class=\"dataframe\">\n",
              "  <thead>\n",
              "    <tr style=\"text-align: right;\">\n",
              "      <th></th>\n",
              "      <th>tgl_hari_jam</th>\n",
              "      <th>musim_jam</th>\n",
              "      <th>jam</th>\n",
              "      <th>jml_musim_jam</th>\n",
              "    </tr>\n",
              "  </thead>\n",
              "  <tbody>\n",
              "    <tr>\n",
              "      <th>0</th>\n",
              "      <td>2011-06-21</td>\n",
              "      <td>Fall</td>\n",
              "      <td>0.0</td>\n",
              "      <td>187.0</td>\n",
              "    </tr>\n",
              "    <tr>\n",
              "      <th>1</th>\n",
              "      <td>2011-06-22</td>\n",
              "      <td>Fall</td>\n",
              "      <td>0.0</td>\n",
              "      <td>187.0</td>\n",
              "    </tr>\n",
              "    <tr>\n",
              "      <th>2</th>\n",
              "      <td>2011-06-23</td>\n",
              "      <td>Fall</td>\n",
              "      <td>0.0</td>\n",
              "      <td>187.0</td>\n",
              "    </tr>\n",
              "    <tr>\n",
              "      <th>3</th>\n",
              "      <td>2011-06-24</td>\n",
              "      <td>Fall</td>\n",
              "      <td>0.0</td>\n",
              "      <td>187.0</td>\n",
              "    </tr>\n",
              "    <tr>\n",
              "      <th>4</th>\n",
              "      <td>2011-06-25</td>\n",
              "      <td>Fall</td>\n",
              "      <td>0.0</td>\n",
              "      <td>187.0</td>\n",
              "    </tr>\n",
              "    <tr>\n",
              "      <th>...</th>\n",
              "      <td>...</td>\n",
              "      <td>...</td>\n",
              "      <td>...</td>\n",
              "      <td>...</td>\n",
              "    </tr>\n",
              "    <tr>\n",
              "      <th>8723</th>\n",
              "      <td>2012-12-16</td>\n",
              "      <td>Winter</td>\n",
              "      <td>23.0</td>\n",
              "      <td>177.0</td>\n",
              "    </tr>\n",
              "    <tr>\n",
              "      <th>8724</th>\n",
              "      <td>2012-12-17</td>\n",
              "      <td>Winter</td>\n",
              "      <td>23.0</td>\n",
              "      <td>177.0</td>\n",
              "    </tr>\n",
              "    <tr>\n",
              "      <th>8725</th>\n",
              "      <td>2012-12-18</td>\n",
              "      <td>Winter</td>\n",
              "      <td>23.0</td>\n",
              "      <td>177.0</td>\n",
              "    </tr>\n",
              "    <tr>\n",
              "      <th>8726</th>\n",
              "      <td>2012-12-19</td>\n",
              "      <td>Winter</td>\n",
              "      <td>23.0</td>\n",
              "      <td>177.0</td>\n",
              "    </tr>\n",
              "    <tr>\n",
              "      <th>8727</th>\n",
              "      <td>2012-12-20</td>\n",
              "      <td>Winter</td>\n",
              "      <td>23.0</td>\n",
              "      <td>177.0</td>\n",
              "    </tr>\n",
              "  </tbody>\n",
              "</table>\n",
              "<p>8728 rows × 4 columns</p>\n",
              "</div>"
            ],
            "text/plain": [
              "     tgl_hari_jam musim_jam   jam  jml_musim_jam\n",
              "0      2011-06-21      Fall   0.0          187.0\n",
              "1      2011-06-22      Fall   0.0          187.0\n",
              "2      2011-06-23      Fall   0.0          187.0\n",
              "3      2011-06-24      Fall   0.0          187.0\n",
              "4      2011-06-25      Fall   0.0          187.0\n",
              "...           ...       ...   ...            ...\n",
              "8723   2012-12-16    Winter  23.0          177.0\n",
              "8724   2012-12-17    Winter  23.0          177.0\n",
              "8725   2012-12-18    Winter  23.0          177.0\n",
              "8726   2012-12-19    Winter  23.0          177.0\n",
              "8727   2012-12-20    Winter  23.0          177.0\n",
              "\n",
              "[8728 rows x 4 columns]"
            ]
          },
          "metadata": {},
          "output_type": "display_data"
        }
      ],
      "source": [
        "df1 = main_df[['tgl_hari_krj','musim_hari', 'hari_kerja', 'jml_musim_hari']].dropna(axis=0, ignore_index=True)\n",
        "df2 = main_df[['tgl_hari_jam','musim_jam', 'jam', 'jml_musim_jam']].dropna(axis=0, ignore_index=True)\n",
        "display(df1)\n",
        "display(df2)"
      ]
    },
    {
      "cell_type": "code",
      "execution_count": 34,
      "metadata": {},
      "outputs": [
        {
          "data": {
            "application/vnd.microsoft.datawrangler.viewer.v0+json": {
              "columns": [
                {
                  "name": "index",
                  "rawType": "int64",
                  "type": "integer"
                },
                {
                  "name": "index",
                  "rawType": "int64",
                  "type": "integer"
                },
                {
                  "name": "tgl_hari_krj",
                  "rawType": "object",
                  "type": "unknown"
                },
                {
                  "name": "musim_hari",
                  "rawType": "object",
                  "type": "unknown"
                },
                {
                  "name": "hari_kerja",
                  "rawType": "float64",
                  "type": "float"
                },
                {
                  "name": "jml_musim_hari",
                  "rawType": "float64",
                  "type": "float"
                },
                {
                  "name": "tgl_hari_jam",
                  "rawType": "object",
                  "type": "unknown"
                },
                {
                  "name": "musim_jam",
                  "rawType": "object",
                  "type": "unknown"
                },
                {
                  "name": "jam",
                  "rawType": "float64",
                  "type": "float"
                },
                {
                  "name": "jml_musim_jam",
                  "rawType": "float64",
                  "type": "float"
                }
              ],
              "conversionMethod": "pd.DataFrame",
              "ref": "6dcf827c-082c-4782-8465-6770db136259",
              "rows": [
                [
                  "0",
                  "342",
                  "2011-01-01",
                  "Springer",
                  "6.0",
                  "27.0",
                  null,
                  null,
                  null,
                  null
                ],
                [
                  "1",
                  "188",
                  "2011-01-02",
                  "Springer",
                  "0.0",
                  "27.0",
                  null,
                  null,
                  null,
                  null
                ],
                [
                  "2",
                  "215",
                  "2011-01-03",
                  "Springer",
                  "1.0",
                  "26.0",
                  null,
                  null,
                  null,
                  null
                ],
                [
                  "3",
                  "241",
                  "2011-01-04",
                  "Springer",
                  "2.0",
                  "25.0",
                  null,
                  null,
                  null,
                  null
                ],
                [
                  "4",
                  "266",
                  "2011-01-05",
                  "Springer",
                  "3.0",
                  "25.0",
                  null,
                  null,
                  null,
                  null
                ],
                [
                  "5",
                  "291",
                  "2011-01-06",
                  "Springer",
                  "4.0",
                  "25.0",
                  null,
                  null,
                  null,
                  null
                ],
                [
                  "6",
                  "316",
                  "2011-01-07",
                  "Springer",
                  "5.0",
                  "26.0",
                  null,
                  null,
                  null,
                  null
                ],
                [
                  "7",
                  "343",
                  "2011-01-08",
                  "Springer",
                  "6.0",
                  "27.0",
                  null,
                  null,
                  null,
                  null
                ],
                [
                  "8",
                  "189",
                  "2011-01-09",
                  "Springer",
                  "0.0",
                  "27.0",
                  null,
                  null,
                  null,
                  null
                ],
                [
                  "9",
                  "216",
                  "2011-01-10",
                  "Springer",
                  "1.0",
                  "26.0",
                  null,
                  null,
                  null,
                  null
                ],
                [
                  "10",
                  "242",
                  "2011-01-11",
                  "Springer",
                  "2.0",
                  "25.0",
                  null,
                  null,
                  null,
                  null
                ],
                [
                  "11",
                  "267",
                  "2011-01-12",
                  "Springer",
                  "3.0",
                  "25.0",
                  null,
                  null,
                  null,
                  null
                ],
                [
                  "12",
                  "292",
                  "2011-01-13",
                  "Springer",
                  "4.0",
                  "25.0",
                  null,
                  null,
                  null,
                  null
                ],
                [
                  "13",
                  "317",
                  "2011-01-14",
                  "Springer",
                  "5.0",
                  "26.0",
                  null,
                  null,
                  null,
                  null
                ],
                [
                  "14",
                  "344",
                  "2011-01-15",
                  "Springer",
                  "6.0",
                  "27.0",
                  null,
                  null,
                  null,
                  null
                ],
                [
                  "15",
                  "190",
                  "2011-01-16",
                  "Springer",
                  "0.0",
                  "27.0",
                  null,
                  null,
                  null,
                  null
                ],
                [
                  "16",
                  "217",
                  "2011-01-17",
                  "Springer",
                  "1.0",
                  "26.0",
                  null,
                  null,
                  null,
                  null
                ],
                [
                  "17",
                  "243",
                  "2011-01-18",
                  "Springer",
                  "2.0",
                  "25.0",
                  null,
                  null,
                  null,
                  null
                ],
                [
                  "18",
                  "268",
                  "2011-01-19",
                  "Springer",
                  "3.0",
                  "25.0",
                  null,
                  null,
                  null,
                  null
                ],
                [
                  "19",
                  "293",
                  "2011-01-20",
                  "Springer",
                  "4.0",
                  "25.0",
                  null,
                  null,
                  null,
                  null
                ],
                [
                  "20",
                  "318",
                  "2011-01-21",
                  "Springer",
                  "5.0",
                  "26.0",
                  null,
                  null,
                  null,
                  null
                ],
                [
                  "21",
                  "345",
                  "2011-01-22",
                  "Springer",
                  "6.0",
                  "27.0",
                  null,
                  null,
                  null,
                  null
                ],
                [
                  "22",
                  "191",
                  "2011-01-23",
                  "Springer",
                  "0.0",
                  "27.0",
                  null,
                  null,
                  null,
                  null
                ],
                [
                  "23",
                  "218",
                  "2011-01-24",
                  "Springer",
                  "1.0",
                  "26.0",
                  null,
                  null,
                  null,
                  null
                ],
                [
                  "24",
                  "244",
                  "2011-01-25",
                  "Springer",
                  "2.0",
                  "25.0",
                  null,
                  null,
                  null,
                  null
                ],
                [
                  "25",
                  "269",
                  "2011-01-26",
                  "Springer",
                  "3.0",
                  "25.0",
                  null,
                  null,
                  null,
                  null
                ],
                [
                  "26",
                  "294",
                  "2011-01-27",
                  "Springer",
                  "4.0",
                  "25.0",
                  null,
                  null,
                  null,
                  null
                ],
                [
                  "27",
                  "319",
                  "2011-01-28",
                  "Springer",
                  "5.0",
                  "26.0",
                  null,
                  null,
                  null,
                  null
                ],
                [
                  "28",
                  "346",
                  "2011-01-29",
                  "Springer",
                  "6.0",
                  "27.0",
                  null,
                  null,
                  null,
                  null
                ],
                [
                  "29",
                  "192",
                  "2011-01-30",
                  "Springer",
                  "0.0",
                  "27.0",
                  null,
                  null,
                  null,
                  null
                ],
                [
                  "30",
                  "219",
                  "2011-01-31",
                  "Springer",
                  "1.0",
                  "26.0",
                  null,
                  null,
                  null,
                  null
                ],
                [
                  "31",
                  "245",
                  "2011-02-01",
                  "Springer",
                  "2.0",
                  "25.0",
                  null,
                  null,
                  null,
                  null
                ],
                [
                  "32",
                  "270",
                  "2011-02-02",
                  "Springer",
                  "3.0",
                  "25.0",
                  null,
                  null,
                  null,
                  null
                ],
                [
                  "33",
                  "295",
                  "2011-02-03",
                  "Springer",
                  "4.0",
                  "25.0",
                  null,
                  null,
                  null,
                  null
                ],
                [
                  "34",
                  "320",
                  "2011-02-04",
                  "Springer",
                  "5.0",
                  "26.0",
                  null,
                  null,
                  null,
                  null
                ],
                [
                  "35",
                  "347",
                  "2011-02-05",
                  "Springer",
                  "6.0",
                  "27.0",
                  null,
                  null,
                  null,
                  null
                ],
                [
                  "36",
                  "193",
                  "2011-02-06",
                  "Springer",
                  "0.0",
                  "27.0",
                  null,
                  null,
                  null,
                  null
                ],
                [
                  "37",
                  "220",
                  "2011-02-07",
                  "Springer",
                  "1.0",
                  "26.0",
                  null,
                  null,
                  null,
                  null
                ],
                [
                  "38",
                  "246",
                  "2011-02-08",
                  "Springer",
                  "2.0",
                  "25.0",
                  null,
                  null,
                  null,
                  null
                ],
                [
                  "39",
                  "271",
                  "2011-02-09",
                  "Springer",
                  "3.0",
                  "25.0",
                  null,
                  null,
                  null,
                  null
                ],
                [
                  "40",
                  "296",
                  "2011-02-10",
                  "Springer",
                  "4.0",
                  "25.0",
                  null,
                  null,
                  null,
                  null
                ],
                [
                  "41",
                  "321",
                  "2011-02-11",
                  "Springer",
                  "5.0",
                  "26.0",
                  null,
                  null,
                  null,
                  null
                ],
                [
                  "42",
                  "348",
                  "2011-02-12",
                  "Springer",
                  "6.0",
                  "27.0",
                  null,
                  null,
                  null,
                  null
                ],
                [
                  "43",
                  "194",
                  "2011-02-13",
                  "Springer",
                  "0.0",
                  "27.0",
                  null,
                  null,
                  null,
                  null
                ],
                [
                  "44",
                  "221",
                  "2011-02-14",
                  "Springer",
                  "1.0",
                  "26.0",
                  null,
                  null,
                  null,
                  null
                ],
                [
                  "45",
                  "247",
                  "2011-02-15",
                  "Springer",
                  "2.0",
                  "25.0",
                  null,
                  null,
                  null,
                  null
                ],
                [
                  "46",
                  "272",
                  "2011-02-16",
                  "Springer",
                  "3.0",
                  "25.0",
                  null,
                  null,
                  null,
                  null
                ],
                [
                  "47",
                  "297",
                  "2011-02-17",
                  "Springer",
                  "4.0",
                  "25.0",
                  null,
                  null,
                  null,
                  null
                ],
                [
                  "48",
                  "322",
                  "2011-02-18",
                  "Springer",
                  "5.0",
                  "26.0",
                  null,
                  null,
                  null,
                  null
                ],
                [
                  "49",
                  "349",
                  "2011-02-19",
                  "Springer",
                  "6.0",
                  "27.0",
                  null,
                  null,
                  null,
                  null
                ]
              ],
              "shape": {
                "columns": 9,
                "rows": 9459
              }
            },
            "text/html": [
              "<div>\n",
              "<style scoped>\n",
              "    .dataframe tbody tr th:only-of-type {\n",
              "        vertical-align: middle;\n",
              "    }\n",
              "\n",
              "    .dataframe tbody tr th {\n",
              "        vertical-align: top;\n",
              "    }\n",
              "\n",
              "    .dataframe thead th {\n",
              "        text-align: right;\n",
              "    }\n",
              "</style>\n",
              "<table border=\"1\" class=\"dataframe\">\n",
              "  <thead>\n",
              "    <tr style=\"text-align: right;\">\n",
              "      <th></th>\n",
              "      <th>index</th>\n",
              "      <th>tgl_hari_krj</th>\n",
              "      <th>musim_hari</th>\n",
              "      <th>hari_kerja</th>\n",
              "      <th>jml_musim_hari</th>\n",
              "      <th>tgl_hari_jam</th>\n",
              "      <th>musim_jam</th>\n",
              "      <th>jam</th>\n",
              "      <th>jml_musim_jam</th>\n",
              "    </tr>\n",
              "  </thead>\n",
              "  <tbody>\n",
              "    <tr>\n",
              "      <th>0</th>\n",
              "      <td>342</td>\n",
              "      <td>2011-01-01</td>\n",
              "      <td>Springer</td>\n",
              "      <td>6.0</td>\n",
              "      <td>27.0</td>\n",
              "      <td>NaN</td>\n",
              "      <td>NaN</td>\n",
              "      <td>NaN</td>\n",
              "      <td>NaN</td>\n",
              "    </tr>\n",
              "    <tr>\n",
              "      <th>1</th>\n",
              "      <td>188</td>\n",
              "      <td>2011-01-02</td>\n",
              "      <td>Springer</td>\n",
              "      <td>0.0</td>\n",
              "      <td>27.0</td>\n",
              "      <td>NaN</td>\n",
              "      <td>NaN</td>\n",
              "      <td>NaN</td>\n",
              "      <td>NaN</td>\n",
              "    </tr>\n",
              "    <tr>\n",
              "      <th>2</th>\n",
              "      <td>215</td>\n",
              "      <td>2011-01-03</td>\n",
              "      <td>Springer</td>\n",
              "      <td>1.0</td>\n",
              "      <td>26.0</td>\n",
              "      <td>NaN</td>\n",
              "      <td>NaN</td>\n",
              "      <td>NaN</td>\n",
              "      <td>NaN</td>\n",
              "    </tr>\n",
              "    <tr>\n",
              "      <th>3</th>\n",
              "      <td>241</td>\n",
              "      <td>2011-01-04</td>\n",
              "      <td>Springer</td>\n",
              "      <td>2.0</td>\n",
              "      <td>25.0</td>\n",
              "      <td>NaN</td>\n",
              "      <td>NaN</td>\n",
              "      <td>NaN</td>\n",
              "      <td>NaN</td>\n",
              "    </tr>\n",
              "    <tr>\n",
              "      <th>4</th>\n",
              "      <td>266</td>\n",
              "      <td>2011-01-05</td>\n",
              "      <td>Springer</td>\n",
              "      <td>3.0</td>\n",
              "      <td>25.0</td>\n",
              "      <td>NaN</td>\n",
              "      <td>NaN</td>\n",
              "      <td>NaN</td>\n",
              "      <td>NaN</td>\n",
              "    </tr>\n",
              "    <tr>\n",
              "      <th>...</th>\n",
              "      <td>...</td>\n",
              "      <td>...</td>\n",
              "      <td>...</td>\n",
              "      <td>...</td>\n",
              "      <td>...</td>\n",
              "      <td>...</td>\n",
              "      <td>...</td>\n",
              "      <td>...</td>\n",
              "      <td>...</td>\n",
              "    </tr>\n",
              "    <tr>\n",
              "      <th>9454</th>\n",
              "      <td>8750</td>\n",
              "      <td>NaN</td>\n",
              "      <td>NaN</td>\n",
              "      <td>NaN</td>\n",
              "      <td>NaN</td>\n",
              "      <td>2012-12-20</td>\n",
              "      <td>Winter</td>\n",
              "      <td>19.0</td>\n",
              "      <td>177.0</td>\n",
              "    </tr>\n",
              "    <tr>\n",
              "      <th>9455</th>\n",
              "      <td>8927</td>\n",
              "      <td>NaN</td>\n",
              "      <td>NaN</td>\n",
              "      <td>NaN</td>\n",
              "      <td>NaN</td>\n",
              "      <td>2012-12-20</td>\n",
              "      <td>Winter</td>\n",
              "      <td>20.0</td>\n",
              "      <td>177.0</td>\n",
              "    </tr>\n",
              "    <tr>\n",
              "      <th>9456</th>\n",
              "      <td>9104</td>\n",
              "      <td>NaN</td>\n",
              "      <td>NaN</td>\n",
              "      <td>NaN</td>\n",
              "      <td>NaN</td>\n",
              "      <td>2012-12-20</td>\n",
              "      <td>Winter</td>\n",
              "      <td>21.0</td>\n",
              "      <td>177.0</td>\n",
              "    </tr>\n",
              "    <tr>\n",
              "      <th>9457</th>\n",
              "      <td>9281</td>\n",
              "      <td>NaN</td>\n",
              "      <td>NaN</td>\n",
              "      <td>NaN</td>\n",
              "      <td>NaN</td>\n",
              "      <td>2012-12-20</td>\n",
              "      <td>Winter</td>\n",
              "      <td>22.0</td>\n",
              "      <td>177.0</td>\n",
              "    </tr>\n",
              "    <tr>\n",
              "      <th>9458</th>\n",
              "      <td>9458</td>\n",
              "      <td>NaN</td>\n",
              "      <td>NaN</td>\n",
              "      <td>NaN</td>\n",
              "      <td>NaN</td>\n",
              "      <td>2012-12-20</td>\n",
              "      <td>Winter</td>\n",
              "      <td>23.0</td>\n",
              "      <td>177.0</td>\n",
              "    </tr>\n",
              "  </tbody>\n",
              "</table>\n",
              "<p>9459 rows × 9 columns</p>\n",
              "</div>"
            ],
            "text/plain": [
              "      index tgl_hari_krj musim_hari  hari_kerja  jml_musim_hari tgl_hari_jam  \\\n",
              "0       342   2011-01-01   Springer         6.0            27.0          NaN   \n",
              "1       188   2011-01-02   Springer         0.0            27.0          NaN   \n",
              "2       215   2011-01-03   Springer         1.0            26.0          NaN   \n",
              "3       241   2011-01-04   Springer         2.0            25.0          NaN   \n",
              "4       266   2011-01-05   Springer         3.0            25.0          NaN   \n",
              "...     ...          ...        ...         ...             ...          ...   \n",
              "9454   8750          NaN        NaN         NaN             NaN   2012-12-20   \n",
              "9455   8927          NaN        NaN         NaN             NaN   2012-12-20   \n",
              "9456   9104          NaN        NaN         NaN             NaN   2012-12-20   \n",
              "9457   9281          NaN        NaN         NaN             NaN   2012-12-20   \n",
              "9458   9458          NaN        NaN         NaN             NaN   2012-12-20   \n",
              "\n",
              "     musim_jam   jam  jml_musim_jam  \n",
              "0          NaN   NaN            NaN  \n",
              "1          NaN   NaN            NaN  \n",
              "2          NaN   NaN            NaN  \n",
              "3          NaN   NaN            NaN  \n",
              "4          NaN   NaN            NaN  \n",
              "...        ...   ...            ...  \n",
              "9454    Winter  19.0          177.0  \n",
              "9455    Winter  20.0          177.0  \n",
              "9456    Winter  21.0          177.0  \n",
              "9457    Winter  22.0          177.0  \n",
              "9458    Winter  23.0          177.0  \n",
              "\n",
              "[9459 rows x 9 columns]"
            ]
          },
          "execution_count": 34,
          "metadata": {},
          "output_type": "execute_result"
        }
      ],
      "source": [
        "main_data.sort_values(by=[\"tgl_hari_krj\",\"tgl_hari_jam\"]).reset_index()\n"
      ]
    },
    {
      "cell_type": "code",
      "execution_count": 35,
      "metadata": {},
      "outputs": [
        {
          "name": "stdout",
          "output_type": "stream",
          "text": [
            "<class 'pandas.core.frame.DataFrame'>\n",
            "RangeIndex: 9459 entries, 0 to 9458\n",
            "Data columns (total 8 columns):\n",
            " #   Column          Non-Null Count  Dtype         \n",
            "---  ------          --------------  -----         \n",
            " 0   tgl_hari_krj    731 non-null    datetime64[ns]\n",
            " 1   musim_hari      731 non-null    object        \n",
            " 2   hari_kerja      731 non-null    float64       \n",
            " 3   jml_musim_hari  731 non-null    float64       \n",
            " 4   tgl_hari_jam    8728 non-null   datetime64[ns]\n",
            " 5   musim_jam       8728 non-null   object        \n",
            " 6   jam             8728 non-null   float64       \n",
            " 7   jml_musim_jam   8728 non-null   float64       \n",
            "dtypes: datetime64[ns](2), float64(4), object(2)\n",
            "memory usage: 591.3+ KB\n"
          ]
        }
      ],
      "source": [
        "datetime_col = [\"tgl_hari_krj\",\"tgl_hari_jam\"]\n",
        "for column in datetime_col:\n",
        "    main_data[column] = pd.to_datetime(main_data[column])\n",
        "main_data.info()   "
      ]
    },
    {
      "cell_type": "markdown",
      "metadata": {
        "id": "_WeHlCeX8DC2"
      },
      "source": [
        "## Conclusion"
      ]
    },
    {
      "cell_type": "markdown",
      "metadata": {
        "id": "ZTcyR48Y8DC2"
      },
      "source": [
        "- Kita memanfaatkan dataset untuk mengetahui visualisasi mengenai komputasi musim secara statistika. Pada proses analisis, menghitung banyaknya berbagai jenis musim pada setiap hari kerja, lalu kemudian dibagikan ke dalam kelompok hari kerja. Jenis musim dan hari kerja dipilihkan untuk mengetahui musim dingin terjadi pada hari kerja dikarenakan faktor pekerjaan pada hari kerja. Berdasarkan visualisasi dan tahap hasil analisis yang dilakukan pada data day, musim Fall paling sering muncul terjadi pada setiap kelompok weekday atau hari kerja. Musim Fall dapat didalami lebih lanjut seperti segera menyiapkan sesuatu yang dapat memenuhi kebutuhan karyawan atau sejenisnya pada hari kerja. Oleh karena itu, hasil visualiasi dan analisis telah menjawab pertanyaan bisnis sehingga kemungkinan besar memenuhi kebutuhan audiens, terutama bisnis.\n",
        "- Kita memanfaatkan dataset untuk mengetahui visualisasi mengenai komputasi musim secara statistika. Pada proses analisis, memilih beberapa kolom penting yang bisa menghasilkan hasil visualisasi dan analisis yang sangat signifikan karena dataset terdapat lebih seimbang. Maka dari itu, memilih kolom antara jenis musim dingin dan jumlah musim dingin saat mengolah datasetnya, dimana kolom jumlah musim dingin merupakan proses menghitung banyak musim dingin pada setiap kelompok jam. Berdasarkan visualisasi dan tahap hasil analisis yang dilakukan pada data hour, musim Fall paling sering muncul terjadi dengan setiap jam. Musim Fall dapat didalami lebih lanjut seperti segera menyiapkan sesuatu yang diperlukan pada bisnis perusahaan yang dipengaruhi oleh faktor-faktor musim dingin. Oleh karena itu, hasil hasil visualiasi dan analisis telah menjawab pertanyaan bisnis sehingga kemungkinan besar memenuhi kebutuhan audiens, terutama bisnis.\n",
        "\n",
        "Setelah menganalisis data dengan memanfaatkan dataset yang saya lakukan, ada hal saran yang saya lakukan untuk mengeksplorasi dan menganalisis lebih lanjut adalah memilih kolom atau menambahkan data-data yang cukup beda dengan data sebelumnya agar dapat hasil yang signifikan."
      ]
    }
  ],
  "metadata": {
    "colab": {
      "provenance": []
    },
    "kernelspec": {
      "display_name": "Python 3",
      "language": "python",
      "name": "python3"
    },
    "language_info": {
      "codemirror_mode": {
        "name": "ipython",
        "version": 3
      },
      "file_extension": ".py",
      "mimetype": "text/x-python",
      "name": "python",
      "nbconvert_exporter": "python",
      "pygments_lexer": "ipython3",
      "version": "3.12.5"
    },
    "orig_nbformat": 4,
    "vscode": {
      "interpreter": {
        "hash": "972b3bf27e332e87b5379f2791f6ef9dfc79c71018c370b0d7423235e20fe4d7"
      }
    }
  },
  "nbformat": 4,
  "nbformat_minor": 0
}
