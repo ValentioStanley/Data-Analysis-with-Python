{
  "cells": [
    {
      "cell_type": "markdown",
      "metadata": {
        "id": "H9wADwK78DCz"
      },
      "source": [
        "# Proyek Analisis Data: Bike Sharing\n",
        "- **Nama:** Valentio Stanley Gunadi\n",
        "- **Email:** valentiostanley23@gmail.com\n",
        "- **ID Dicoding:** tiotan"
      ]
    },
    {
      "cell_type": "markdown",
      "metadata": {
        "id": "eE0raob58DC0"
      },
      "source": [
        "## Menentukan Pertanyaan Bisnis"
      ]
    },
    {
      "cell_type": "markdown",
      "metadata": {
        "id": "GmQeQ5YF8DC0"
      },
      "source": [
        "- Cuaca apa yang paling sering muncul pada berbagai hari?\n",
        "- Cuaca apa yang paling sering muncul pada berbagai jam?"
      ]
    },
    {
      "cell_type": "markdown",
      "metadata": {
        "id": "H-z4QGlO8DC1"
      },
      "source": [
        "## Import Semua Packages/Library yang Digunakan"
      ]
    },
    {
      "cell_type": "code",
      "execution_count": 1,
      "metadata": {
        "id": "FVYwaObI8DC1"
      },
      "outputs": [
        {
          "name": "stdout",
          "output_type": "stream",
          "text": [
            "Requirement already satisfied: pandas in c:\\users\\acer\\appdata\\roaming\\python\\python312\\site-packages (2.2.2)Note: you may need to restart the kernel to use updated packages.\n",
            "\n",
            "Requirement already satisfied: numpy>=1.26.0 in c:\\users\\acer\\appdata\\roaming\\python\\python312\\site-packages (from pandas) (1.26.4)\n",
            "Requirement already satisfied: python-dateutil>=2.8.2 in c:\\users\\acer\\appdata\\roaming\\python\\python312\\site-packages (from pandas) (2.9.0.post0)\n",
            "Requirement already satisfied: pytz>=2020.1 in c:\\users\\acer\\appdata\\roaming\\python\\python312\\site-packages (from pandas) (2024.1)\n",
            "Requirement already satisfied: tzdata>=2022.7 in c:\\users\\acer\\appdata\\roaming\\python\\python312\\site-packages (from pandas) (2024.1)\n",
            "Requirement already satisfied: six>=1.5 in c:\\users\\acer\\appdata\\roaming\\python\\python312\\site-packages (from python-dateutil>=2.8.2->pandas) (1.16.0)\n",
            "Requirement already satisfied: numpy in c:\\users\\acer\\appdata\\roaming\\python\\python312\\site-packages (1.26.4)\n",
            "Note: you may need to restart the kernel to use updated packages.\n",
            "Requirement already satisfied: scipy in c:\\users\\acer\\appdata\\roaming\\python\\python312\\site-packages (1.14.1)\n",
            "Requirement already satisfied: numpy<2.3,>=1.23.5 in c:\\users\\acer\\appdata\\roaming\\python\\python312\\site-packages (from scipy) (1.26.4)\n",
            "Note: you may need to restart the kernel to use updated packages.\n",
            "Requirement already satisfied: matplotlib in c:\\users\\acer\\appdata\\roaming\\python\\python312\\site-packages (3.9.2)\n",
            "Requirement already satisfied: contourpy>=1.0.1 in c:\\users\\acer\\appdata\\roaming\\python\\python312\\site-packages (from matplotlib) (1.3.0)\n",
            "Requirement already satisfied: cycler>=0.10 in c:\\users\\acer\\appdata\\roaming\\python\\python312\\site-packages (from matplotlib) (0.12.1)\n",
            "Requirement already satisfied: fonttools>=4.22.0 in c:\\users\\acer\\appdata\\roaming\\python\\python312\\site-packages (from matplotlib) (4.53.1)\n",
            "Requirement already satisfied: kiwisolver>=1.3.1 in c:\\users\\acer\\appdata\\roaming\\python\\python312\\site-packages (from matplotlib) (1.4.7)\n",
            "Requirement already satisfied: numpy>=1.23 in c:\\users\\acer\\appdata\\roaming\\python\\python312\\site-packages (from matplotlib) (1.26.4)\n",
            "Requirement already satisfied: packaging>=20.0 in c:\\users\\acer\\appdata\\roaming\\python\\python312\\site-packages (from matplotlib) (24.1)\n",
            "Requirement already satisfied: pillow>=8 in c:\\users\\acer\\appdata\\roaming\\python\\python312\\site-packages (from matplotlib) (10.4.0)\n",
            "Requirement already satisfied: pyparsing>=2.3.1 in c:\\users\\acer\\appdata\\roaming\\python\\python312\\site-packages (from matplotlib) (3.1.4)\n",
            "Requirement already satisfied: python-dateutil>=2.7 in c:\\users\\acer\\appdata\\roaming\\python\\python312\\site-packages (from matplotlib) (2.9.0.post0)\n",
            "Requirement already satisfied: six>=1.5 in c:\\users\\acer\\appdata\\roaming\\python\\python312\\site-packages (from python-dateutil>=2.7->matplotlib) (1.16.0)\n",
            "Note: you may need to restart the kernel to use updated packages.\n",
            "Requirement already satisfied: seaborn in c:\\users\\acer\\appdata\\roaming\\python\\python312\\site-packages (0.13.2)\n",
            "Requirement already satisfied: numpy!=1.24.0,>=1.20 in c:\\users\\acer\\appdata\\roaming\\python\\python312\\site-packages (from seaborn) (1.26.4)\n",
            "Requirement already satisfied: pandas>=1.2 in c:\\users\\acer\\appdata\\roaming\\python\\python312\\site-packages (from seaborn) (2.2.2)\n",
            "Requirement already satisfied: matplotlib!=3.6.1,>=3.4 in c:\\users\\acer\\appdata\\roaming\\python\\python312\\site-packages (from seaborn) (3.9.2)\n",
            "Requirement already satisfied: contourpy>=1.0.1 in c:\\users\\acer\\appdata\\roaming\\python\\python312\\site-packages (from matplotlib!=3.6.1,>=3.4->seaborn) (1.3.0)\n",
            "Requirement already satisfied: cycler>=0.10 in c:\\users\\acer\\appdata\\roaming\\python\\python312\\site-packages (from matplotlib!=3.6.1,>=3.4->seaborn) (0.12.1)\n",
            "Requirement already satisfied: fonttools>=4.22.0 in c:\\users\\acer\\appdata\\roaming\\python\\python312\\site-packages (from matplotlib!=3.6.1,>=3.4->seaborn) (4.53.1)\n",
            "Requirement already satisfied: kiwisolver>=1.3.1 in c:\\users\\acer\\appdata\\roaming\\python\\python312\\site-packages (from matplotlib!=3.6.1,>=3.4->seaborn) (1.4.7)\n",
            "Requirement already satisfied: packaging>=20.0 in c:\\users\\acer\\appdata\\roaming\\python\\python312\\site-packages (from matplotlib!=3.6.1,>=3.4->seaborn) (24.1)\n",
            "Requirement already satisfied: pillow>=8 in c:\\users\\acer\\appdata\\roaming\\python\\python312\\site-packages (from matplotlib!=3.6.1,>=3.4->seaborn) (10.4.0)\n",
            "Requirement already satisfied: pyparsing>=2.3.1 in c:\\users\\acer\\appdata\\roaming\\python\\python312\\site-packages (from matplotlib!=3.6.1,>=3.4->seaborn) (3.1.4)\n",
            "Requirement already satisfied: python-dateutil>=2.7 in c:\\users\\acer\\appdata\\roaming\\python\\python312\\site-packages (from matplotlib!=3.6.1,>=3.4->seaborn) (2.9.0.post0)\n",
            "Requirement already satisfied: pytz>=2020.1 in c:\\users\\acer\\appdata\\roaming\\python\\python312\\site-packages (from pandas>=1.2->seaborn) (2024.1)\n",
            "Requirement already satisfied: tzdata>=2022.7 in c:\\users\\acer\\appdata\\roaming\\python\\python312\\site-packages (from pandas>=1.2->seaborn) (2024.1)\n",
            "Requirement already satisfied: six>=1.5 in c:\\users\\acer\\appdata\\roaming\\python\\python312\\site-packages (from python-dateutil>=2.7->matplotlib!=3.6.1,>=3.4->seaborn) (1.16.0)\n",
            "Note: you may need to restart the kernel to use updated packages.\n",
            "Requirement already satisfied: babel in c:\\users\\acer\\appdata\\local\\programs\\python\\python312\\lib\\site-packages (2.16.0)\n",
            "Note: you may need to restart the kernel to use updated packages.\n"
          ]
        }
      ],
      "source": [
        "%pip install pandas\n",
        "%pip install numpy\n",
        "%pip install scipy\n",
        "%pip install matplotlib\n",
        "%pip install seaborn\n",
        "%pip install babel"
      ]
    },
    {
      "cell_type": "code",
      "execution_count": 2,
      "metadata": {},
      "outputs": [],
      "source": [
        "import pandas as pd\n",
        "import numpy as np\n",
        "import matplotlib.pyplot as plt\n",
        "import seaborn as sns"
      ]
    },
    {
      "cell_type": "code",
      "execution_count": 3,
      "metadata": {},
      "outputs": [],
      "source": [
        "# %pip install streamlit"
      ]
    },
    {
      "cell_type": "code",
      "execution_count": 4,
      "metadata": {},
      "outputs": [
        {
          "name": "stdout",
          "output_type": "stream",
          "text": [
            "absl-py==2.1.0\n",
            "accelerate==1.1.1\n",
            "aiohappyeyeballs==2.4.3\n",
            "aiohttp==3.10.10\n",
            "aiosignal==1.3.1\n",
            "altair==5.5.0\n",
            "anyio==4.7.0\n",
            "argon2-cffi==23.1.0\n",
            "argon2-cffi-bindings==21.2.0\n",
            "arrow==1.3.0\n",
            "asttokens==2.4.1\n",
            "astunparse==1.6.3\n",
            "async-lru==2.0.4\n",
            "attrs==24.2.0\n",
            "babel==2.16.0\n",
            "beautifulsoup4==4.12.3\n",
            "bleach==6.2.0\n",
            "blinker==1.8.2\n",
            "cachetools==5.5.2\n",
            "certifi==2024.8.30\n",
            "cffi==1.17.1\n",
            "charset-normalizer==3.3.2\n",
            "click==8.1.7\n",
            "colorama==0.4.6\n",
            "comm==0.2.2\n",
            "confusion_matrix==0.1\n",
            "contourpy==1.3.0\n",
            "cycler==0.12.1\n",
            "datasets==3.1.0\n",
            "debugpy==1.8.5\n",
            "decorator==5.1.1\n",
            "defusedxml==0.7.1\n",
            "dill==0.3.8\n",
            "distlib==0.3.8\n",
            "emoji==2.12.1\n",
            "executing==2.1.0\n",
            "fastjsonschema==2.21.1\n",
            "filelock==3.15.4\n",
            "Flask==3.0.3\n",
            "flatbuffers==24.3.25\n",
            "fonttools==4.53.1\n",
            "fqdn==1.5.1\n",
            "frozenlist==1.5.0\n",
            "fsspec==2024.9.0\n",
            "gast==0.6.0\n",
            "gitdb==4.0.12\n",
            "GitPython==3.1.44\n",
            "google-pasta==0.2.0\n",
            "grpcio==1.66.1\n",
            "h11==0.14.0\n",
            "h5py==3.11.0\n",
            "httpcore==1.0.7\n",
            "httpx==0.28.1\n",
            "huggingface-hub==0.26.2\n",
            "idna==3.9\n",
            "imbalanced-learn==0.12.4\n",
            "imblearn==0.0\n",
            "ipykernel==6.29.5\n",
            "ipython==8.27.0\n",
            "isoduration==20.11.0\n",
            "itsdangerous==2.2.0\n",
            "jedi==0.19.1\n",
            "Jinja2==3.1.4\n",
            "joblib==1.4.2\n",
            "json5==0.10.0\n",
            "jsonpointer==3.0.0\n",
            "jsonschema==4.23.0\n",
            "jsonschema-specifications==2024.10.1\n",
            "jupyter-events==0.10.0\n",
            "jupyter-lsp==2.2.5\n",
            "jupyter_client==8.6.2\n",
            "jupyter_core==5.7.2\n",
            "jupyter_server==2.14.2\n",
            "jupyter_server_terminals==0.5.3\n",
            "jupyterlab==4.3.3\n",
            "jupyterlab_pygments==0.3.0\n",
            "jupyterlab_server==2.27.3\n",
            "kaggle==1.6.17\n",
            "keras==3.5.0\n",
            "Keras-Preprocessing==1.1.2\n",
            "kiwisolver==1.4.7\n",
            "libclang==18.1.1\n",
            "Markdown==3.7\n",
            "markdown-it-py==3.0.0\n",
            "MarkupSafe==2.1.5\n",
            "matplotlib==3.9.2\n",
            "matplotlib-inline==0.1.7\n",
            "mdurl==0.1.2\n",
            "mistune==3.0.2\n",
            "ml-dtypes==0.4.1\n",
            "mpmath==1.3.0\n",
            "multidict==6.1.0\n",
            "multiprocess==0.70.16\n",
            "namex==0.0.8\n",
            "narwhals==1.29.1\n",
            "nbclient==0.10.1\n",
            "nbconvert==7.16.4\n",
            "nbformat==5.10.4\n",
            "nest-asyncio==1.6.0\n",
            "networkx==3.4.2\n",
            "nltk==3.9.1\n",
            "nose==1.3.7\n",
            "notebook==7.3.1\n",
            "notebook_shim==0.2.4\n",
            "numpy==1.26.4\n",
            "opt-einsum==3.3.0\n",
            "optree==0.12.1\n",
            "overrides==7.7.0\n",
            "packaging==24.1\n",
            "pandas==2.2.2\n",
            "pandocfilters==1.5.1\n",
            "parso==0.8.4\n",
            "pillow==10.4.0\n",
            "platformdirs==4.2.2\n",
            "prometheus_client==0.21.1\n",
            "prompt_toolkit==3.0.47\n",
            "propcache==0.2.0\n",
            "protobuf==4.25.4\n",
            "psutil==6.0.0\n",
            "pure_eval==0.2.3\n",
            "pyarrow==18.0.0\n",
            "pycparser==2.22\n",
            "pydeck==0.9.1\n",
            "Pygments==2.18.0\n",
            "pyparsing==3.1.4\n",
            "PySastrawi==1.2.0\n",
            "python-dateutil==2.9.0.post0\n",
            "python-json-logger==3.2.0\n",
            "python-slugify==8.0.4\n",
            "pytz==2024.1\n",
            "pywin32==306\n",
            "pywinpty==2.0.14\n",
            "PyYAML==6.0.2\n",
            "pyzmq==26.2.0\n",
            "referencing==0.35.1\n",
            "regex==2024.9.11\n",
            "requests==2.32.3\n",
            "rfc3339-validator==0.1.4\n",
            "rfc3986-validator==0.1.1\n",
            "rich==13.8.1\n",
            "rpds-py==0.22.3\n",
            "safetensors==0.4.5\n",
            "scikit-learn==1.5.2\n",
            "scipy==1.14.1\n",
            "seaborn==0.13.2\n",
            "Send2Trash==1.8.3\n",
            "sentencepiece==0.2.0\n",
            "setuptools==74.1.2\n",
            "six==1.16.0\n",
            "smmap==5.0.2\n",
            "sniffio==1.3.1\n",
            "soupsieve==2.6\n",
            "stack-data==0.6.3\n",
            "streamlit==1.43.1\n",
            "sympy==1.13.1\n",
            "tenacity==9.0.0\n",
            "tensorboard==2.18.0\n",
            "tensorboard-data-server==0.7.2\n",
            "tensorflow==2.18.0\n",
            "tensorflow-hub==0.16.1\n",
            "tensorflow_intel==2.18.0\n",
            "termcolor==2.4.0\n",
            "terminado==0.18.1\n",
            "text-unidecode==1.3\n",
            "tf_keras==2.18.0\n",
            "threadpoolctl==3.5.0\n",
            "tinycss2==1.4.0\n",
            "tokenizers==0.20.3\n",
            "toml==0.10.2\n",
            "torch==2.5.1+cu118\n",
            "torchaudio==2.5.1\n",
            "torchvision==0.20.1\n",
            "tornado==6.4.1\n",
            "tqdm==4.66.5\n",
            "traitlets==5.14.3\n",
            "transformers==4.46.2\n",
            "types-python-dateutil==2.9.0.20241206\n",
            "typing_extensions==4.12.2\n",
            "tzdata==2024.1\n",
            "uri-template==1.3.0\n",
            "urllib3==2.2.3\n",
            "virtualenv==20.26.3\n",
            "watchdog==6.0.0\n",
            "wcwidth==0.2.13\n",
            "webcolors==24.11.1\n",
            "webencodings==0.5.1\n",
            "websocket-client==1.8.0\n",
            "Werkzeug==3.0.4\n",
            "wheel==0.44.0\n",
            "wordcloud==1.9.3\n",
            "wrapt==1.16.0\n",
            "xxhash==3.5.0\n",
            "yarl==1.17.1\n",
            "Note: you may need to restart the kernel to use updated packages.\n"
          ]
        }
      ],
      "source": [
        "%pip freeze requirements.txt"
      ]
    },
    {
      "cell_type": "markdown",
      "metadata": {
        "id": "h_Sh51Xy8DC1"
      },
      "source": [
        "## Data Wrangling"
      ]
    },
    {
      "cell_type": "markdown",
      "metadata": {
        "id": "sXU2GBYu8DC1"
      },
      "source": [
        "### Gathering Data"
      ]
    },
    {
      "cell_type": "code",
      "execution_count": 5,
      "metadata": {
        "id": "zjCBk1BI8DC1"
      },
      "outputs": [
        {
          "name": "stdout",
          "output_type": "stream",
          "text": [
            "Data Day\n"
          ]
        },
        {
          "data": {
            "application/vnd.microsoft.datawrangler.viewer.v0+json": {
              "columns": [
                {
                  "name": "index",
                  "rawType": "int64",
                  "type": "integer"
                },
                {
                  "name": "instant",
                  "rawType": "int64",
                  "type": "integer"
                },
                {
                  "name": "dteday",
                  "rawType": "object",
                  "type": "string"
                },
                {
                  "name": "season",
                  "rawType": "int64",
                  "type": "integer"
                },
                {
                  "name": "yr",
                  "rawType": "int64",
                  "type": "integer"
                },
                {
                  "name": "mnth",
                  "rawType": "int64",
                  "type": "integer"
                },
                {
                  "name": "holiday",
                  "rawType": "int64",
                  "type": "integer"
                },
                {
                  "name": "weekday",
                  "rawType": "int64",
                  "type": "integer"
                },
                {
                  "name": "workingday",
                  "rawType": "int64",
                  "type": "integer"
                },
                {
                  "name": "weathersit",
                  "rawType": "int64",
                  "type": "integer"
                },
                {
                  "name": "temp",
                  "rawType": "float64",
                  "type": "float"
                },
                {
                  "name": "atemp",
                  "rawType": "float64",
                  "type": "float"
                },
                {
                  "name": "hum",
                  "rawType": "float64",
                  "type": "float"
                },
                {
                  "name": "windspeed",
                  "rawType": "float64",
                  "type": "float"
                },
                {
                  "name": "casual",
                  "rawType": "int64",
                  "type": "integer"
                },
                {
                  "name": "registered",
                  "rawType": "int64",
                  "type": "integer"
                },
                {
                  "name": "cnt",
                  "rawType": "int64",
                  "type": "integer"
                }
              ],
              "conversionMethod": "pd.DataFrame",
              "ref": "c90ac5f5-c8a0-42e7-b297-cc73227ad9ca",
              "rows": [
                [
                  "0",
                  "1",
                  "2011-01-01",
                  "1",
                  "0",
                  "1",
                  "0",
                  "6",
                  "0",
                  "2",
                  "0.344167",
                  "0.363625",
                  "0.805833",
                  "0.160446",
                  "331",
                  "654",
                  "985"
                ],
                [
                  "1",
                  "2",
                  "2011-01-02",
                  "1",
                  "0",
                  "1",
                  "0",
                  "0",
                  "0",
                  "2",
                  "0.363478",
                  "0.353739",
                  "0.696087",
                  "0.248539",
                  "131",
                  "670",
                  "801"
                ],
                [
                  "2",
                  "3",
                  "2011-01-03",
                  "1",
                  "0",
                  "1",
                  "0",
                  "1",
                  "1",
                  "1",
                  "0.196364",
                  "0.189405",
                  "0.437273",
                  "0.248309",
                  "120",
                  "1229",
                  "1349"
                ],
                [
                  "3",
                  "4",
                  "2011-01-04",
                  "1",
                  "0",
                  "1",
                  "0",
                  "2",
                  "1",
                  "1",
                  "0.2",
                  "0.212122",
                  "0.590435",
                  "0.160296",
                  "108",
                  "1454",
                  "1562"
                ],
                [
                  "4",
                  "5",
                  "2011-01-05",
                  "1",
                  "0",
                  "1",
                  "0",
                  "3",
                  "1",
                  "1",
                  "0.226957",
                  "0.22927",
                  "0.436957",
                  "0.1869",
                  "82",
                  "1518",
                  "1600"
                ],
                [
                  "5",
                  "6",
                  "2011-01-06",
                  "1",
                  "0",
                  "1",
                  "0",
                  "4",
                  "1",
                  "1",
                  "0.204348",
                  "0.233209",
                  "0.518261",
                  "0.0895652",
                  "88",
                  "1518",
                  "1606"
                ],
                [
                  "6",
                  "7",
                  "2011-01-07",
                  "1",
                  "0",
                  "1",
                  "0",
                  "5",
                  "1",
                  "2",
                  "0.196522",
                  "0.208839",
                  "0.498696",
                  "0.168726",
                  "148",
                  "1362",
                  "1510"
                ],
                [
                  "7",
                  "8",
                  "2011-01-08",
                  "1",
                  "0",
                  "1",
                  "0",
                  "6",
                  "0",
                  "2",
                  "0.165",
                  "0.162254",
                  "0.535833",
                  "0.266804",
                  "68",
                  "891",
                  "959"
                ],
                [
                  "8",
                  "9",
                  "2011-01-09",
                  "1",
                  "0",
                  "1",
                  "0",
                  "0",
                  "0",
                  "1",
                  "0.138333",
                  "0.116175",
                  "0.434167",
                  "0.36195",
                  "54",
                  "768",
                  "822"
                ],
                [
                  "9",
                  "10",
                  "2011-01-10",
                  "1",
                  "0",
                  "1",
                  "0",
                  "1",
                  "1",
                  "1",
                  "0.150833",
                  "0.150888",
                  "0.482917",
                  "0.223267",
                  "41",
                  "1280",
                  "1321"
                ],
                [
                  "10",
                  "11",
                  "2011-01-11",
                  "1",
                  "0",
                  "1",
                  "0",
                  "2",
                  "1",
                  "2",
                  "0.169091",
                  "0.191464",
                  "0.686364",
                  "0.122132",
                  "43",
                  "1220",
                  "1263"
                ],
                [
                  "11",
                  "12",
                  "2011-01-12",
                  "1",
                  "0",
                  "1",
                  "0",
                  "3",
                  "1",
                  "1",
                  "0.172727",
                  "0.160473",
                  "0.599545",
                  "0.304627",
                  "25",
                  "1137",
                  "1162"
                ],
                [
                  "12",
                  "13",
                  "2011-01-13",
                  "1",
                  "0",
                  "1",
                  "0",
                  "4",
                  "1",
                  "1",
                  "0.165",
                  "0.150883",
                  "0.470417",
                  "0.301",
                  "38",
                  "1368",
                  "1406"
                ],
                [
                  "13",
                  "14",
                  "2011-01-14",
                  "1",
                  "0",
                  "1",
                  "0",
                  "5",
                  "1",
                  "1",
                  "0.16087",
                  "0.188413",
                  "0.537826",
                  "0.126548",
                  "54",
                  "1367",
                  "1421"
                ],
                [
                  "14",
                  "15",
                  "2011-01-15",
                  "1",
                  "0",
                  "1",
                  "0",
                  "6",
                  "0",
                  "2",
                  "0.233333",
                  "0.248112",
                  "0.49875",
                  "0.157963",
                  "222",
                  "1026",
                  "1248"
                ],
                [
                  "15",
                  "16",
                  "2011-01-16",
                  "1",
                  "0",
                  "1",
                  "0",
                  "0",
                  "0",
                  "1",
                  "0.231667",
                  "0.234217",
                  "0.48375",
                  "0.188433",
                  "251",
                  "953",
                  "1204"
                ],
                [
                  "16",
                  "17",
                  "2011-01-17",
                  "1",
                  "0",
                  "1",
                  "1",
                  "1",
                  "0",
                  "2",
                  "0.175833",
                  "0.176771",
                  "0.5375",
                  "0.194017",
                  "117",
                  "883",
                  "1000"
                ],
                [
                  "17",
                  "18",
                  "2011-01-18",
                  "1",
                  "0",
                  "1",
                  "0",
                  "2",
                  "1",
                  "2",
                  "0.216667",
                  "0.232333",
                  "0.861667",
                  "0.146775",
                  "9",
                  "674",
                  "683"
                ],
                [
                  "18",
                  "19",
                  "2011-01-19",
                  "1",
                  "0",
                  "1",
                  "0",
                  "3",
                  "1",
                  "2",
                  "0.292174",
                  "0.298422",
                  "0.741739",
                  "0.208317",
                  "78",
                  "1572",
                  "1650"
                ],
                [
                  "19",
                  "20",
                  "2011-01-20",
                  "1",
                  "0",
                  "1",
                  "0",
                  "4",
                  "1",
                  "2",
                  "0.261667",
                  "0.25505",
                  "0.538333",
                  "0.195904",
                  "83",
                  "1844",
                  "1927"
                ],
                [
                  "20",
                  "21",
                  "2011-01-21",
                  "1",
                  "0",
                  "1",
                  "0",
                  "5",
                  "1",
                  "1",
                  "0.1775",
                  "0.157833",
                  "0.457083",
                  "0.353242",
                  "75",
                  "1468",
                  "1543"
                ],
                [
                  "21",
                  "22",
                  "2011-01-22",
                  "1",
                  "0",
                  "1",
                  "0",
                  "6",
                  "0",
                  "1",
                  "0.0591304",
                  "0.0790696",
                  "0.4",
                  "0.17197",
                  "93",
                  "888",
                  "981"
                ],
                [
                  "22",
                  "23",
                  "2011-01-23",
                  "1",
                  "0",
                  "1",
                  "0",
                  "0",
                  "0",
                  "1",
                  "0.0965217",
                  "0.0988391",
                  "0.436522",
                  "0.2466",
                  "150",
                  "836",
                  "986"
                ],
                [
                  "23",
                  "24",
                  "2011-01-24",
                  "1",
                  "0",
                  "1",
                  "0",
                  "1",
                  "1",
                  "1",
                  "0.0973913",
                  "0.11793",
                  "0.491739",
                  "0.15833",
                  "86",
                  "1330",
                  "1416"
                ],
                [
                  "24",
                  "25",
                  "2011-01-25",
                  "1",
                  "0",
                  "1",
                  "0",
                  "2",
                  "1",
                  "2",
                  "0.223478",
                  "0.234526",
                  "0.616957",
                  "0.129796",
                  "186",
                  "1799",
                  "1985"
                ],
                [
                  "25",
                  "26",
                  "2011-01-26",
                  "1",
                  "0",
                  "1",
                  "0",
                  "3",
                  "1",
                  "3",
                  "0.2175",
                  "0.2036",
                  "0.8625",
                  "0.29385",
                  "34",
                  "472",
                  "506"
                ],
                [
                  "26",
                  "27",
                  "2011-01-27",
                  "1",
                  "0",
                  "1",
                  "0",
                  "4",
                  "1",
                  "1",
                  "0.195",
                  "0.2197",
                  "0.6875",
                  "0.113837",
                  "15",
                  "416",
                  "431"
                ],
                [
                  "27",
                  "28",
                  "2011-01-28",
                  "1",
                  "0",
                  "1",
                  "0",
                  "5",
                  "1",
                  "2",
                  "0.203478",
                  "0.223317",
                  "0.793043",
                  "0.1233",
                  "38",
                  "1129",
                  "1167"
                ],
                [
                  "28",
                  "29",
                  "2011-01-29",
                  "1",
                  "0",
                  "1",
                  "0",
                  "6",
                  "0",
                  "1",
                  "0.196522",
                  "0.212126",
                  "0.651739",
                  "0.145365",
                  "123",
                  "975",
                  "1098"
                ],
                [
                  "29",
                  "30",
                  "2011-01-30",
                  "1",
                  "0",
                  "1",
                  "0",
                  "0",
                  "0",
                  "1",
                  "0.216522",
                  "0.250322",
                  "0.722174",
                  "0.0739826",
                  "140",
                  "956",
                  "1096"
                ],
                [
                  "30",
                  "31",
                  "2011-01-31",
                  "1",
                  "0",
                  "1",
                  "0",
                  "1",
                  "1",
                  "2",
                  "0.180833",
                  "0.18625",
                  "0.60375",
                  "0.187192",
                  "42",
                  "1459",
                  "1501"
                ],
                [
                  "31",
                  "32",
                  "2011-02-01",
                  "1",
                  "0",
                  "2",
                  "0",
                  "2",
                  "1",
                  "2",
                  "0.192174",
                  "0.23453",
                  "0.829565",
                  "0.053213",
                  "47",
                  "1313",
                  "1360"
                ],
                [
                  "32",
                  "33",
                  "2011-02-02",
                  "1",
                  "0",
                  "2",
                  "0",
                  "3",
                  "1",
                  "2",
                  "0.26",
                  "0.254417",
                  "0.775417",
                  "0.264308",
                  "72",
                  "1454",
                  "1526"
                ],
                [
                  "33",
                  "34",
                  "2011-02-03",
                  "1",
                  "0",
                  "2",
                  "0",
                  "4",
                  "1",
                  "1",
                  "0.186957",
                  "0.177878",
                  "0.437826",
                  "0.277752",
                  "61",
                  "1489",
                  "1550"
                ],
                [
                  "34",
                  "35",
                  "2011-02-04",
                  "1",
                  "0",
                  "2",
                  "0",
                  "5",
                  "1",
                  "2",
                  "0.211304",
                  "0.228587",
                  "0.585217",
                  "0.127839",
                  "88",
                  "1620",
                  "1708"
                ],
                [
                  "35",
                  "36",
                  "2011-02-05",
                  "1",
                  "0",
                  "2",
                  "0",
                  "6",
                  "0",
                  "2",
                  "0.233333",
                  "0.243058",
                  "0.929167",
                  "0.161079",
                  "100",
                  "905",
                  "1005"
                ],
                [
                  "36",
                  "37",
                  "2011-02-06",
                  "1",
                  "0",
                  "2",
                  "0",
                  "0",
                  "0",
                  "1",
                  "0.285833",
                  "0.291671",
                  "0.568333",
                  "0.1418",
                  "354",
                  "1269",
                  "1623"
                ],
                [
                  "37",
                  "38",
                  "2011-02-07",
                  "1",
                  "0",
                  "2",
                  "0",
                  "1",
                  "1",
                  "1",
                  "0.271667",
                  "0.303658",
                  "0.738333",
                  "0.0454083",
                  "120",
                  "1592",
                  "1712"
                ],
                [
                  "38",
                  "39",
                  "2011-02-08",
                  "1",
                  "0",
                  "2",
                  "0",
                  "2",
                  "1",
                  "1",
                  "0.220833",
                  "0.198246",
                  "0.537917",
                  "0.36195",
                  "64",
                  "1466",
                  "1530"
                ],
                [
                  "39",
                  "40",
                  "2011-02-09",
                  "1",
                  "0",
                  "2",
                  "0",
                  "3",
                  "1",
                  "2",
                  "0.134783",
                  "0.144283",
                  "0.494783",
                  "0.188839",
                  "53",
                  "1552",
                  "1605"
                ],
                [
                  "40",
                  "41",
                  "2011-02-10",
                  "1",
                  "0",
                  "2",
                  "0",
                  "4",
                  "1",
                  "1",
                  "0.144348",
                  "0.149548",
                  "0.437391",
                  "0.221935",
                  "47",
                  "1491",
                  "1538"
                ],
                [
                  "41",
                  "42",
                  "2011-02-11",
                  "1",
                  "0",
                  "2",
                  "0",
                  "5",
                  "1",
                  "1",
                  "0.189091",
                  "0.213509",
                  "0.506364",
                  "0.10855",
                  "149",
                  "1597",
                  "1746"
                ],
                [
                  "42",
                  "43",
                  "2011-02-12",
                  "1",
                  "0",
                  "2",
                  "0",
                  "6",
                  "0",
                  "1",
                  "0.2225",
                  "0.232954",
                  "0.544167",
                  "0.203367",
                  "288",
                  "1184",
                  "1472"
                ],
                [
                  "43",
                  "44",
                  "2011-02-13",
                  "1",
                  "0",
                  "2",
                  "0",
                  "0",
                  "0",
                  "1",
                  "0.316522",
                  "0.324113",
                  "0.457391",
                  "0.260883",
                  "397",
                  "1192",
                  "1589"
                ],
                [
                  "44",
                  "45",
                  "2011-02-14",
                  "1",
                  "0",
                  "2",
                  "0",
                  "1",
                  "1",
                  "1",
                  "0.415",
                  "0.39835",
                  "0.375833",
                  "0.417908",
                  "208",
                  "1705",
                  "1913"
                ],
                [
                  "45",
                  "46",
                  "2011-02-15",
                  "1",
                  "0",
                  "2",
                  "0",
                  "2",
                  "1",
                  "1",
                  "0.266087",
                  "0.254274",
                  "0.314348",
                  "0.291374",
                  "140",
                  "1675",
                  "1815"
                ],
                [
                  "46",
                  "47",
                  "2011-02-16",
                  "1",
                  "0",
                  "2",
                  "0",
                  "3",
                  "1",
                  "1",
                  "0.318261",
                  "0.3162",
                  "0.423478",
                  "0.251791",
                  "218",
                  "1897",
                  "2115"
                ],
                [
                  "47",
                  "48",
                  "2011-02-17",
                  "1",
                  "0",
                  "2",
                  "0",
                  "4",
                  "1",
                  "1",
                  "0.435833",
                  "0.428658",
                  "0.505",
                  "0.230104",
                  "259",
                  "2216",
                  "2475"
                ],
                [
                  "48",
                  "49",
                  "2011-02-18",
                  "1",
                  "0",
                  "2",
                  "0",
                  "5",
                  "1",
                  "1",
                  "0.521667",
                  "0.511983",
                  "0.516667",
                  "0.264925",
                  "579",
                  "2348",
                  "2927"
                ],
                [
                  "49",
                  "50",
                  "2011-02-19",
                  "1",
                  "0",
                  "2",
                  "0",
                  "6",
                  "0",
                  "1",
                  "0.399167",
                  "0.391404",
                  "0.187917",
                  "0.507463",
                  "532",
                  "1103",
                  "1635"
                ]
              ],
              "shape": {
                "columns": 16,
                "rows": 731
              }
            },
            "text/html": [
              "<div>\n",
              "<style scoped>\n",
              "    .dataframe tbody tr th:only-of-type {\n",
              "        vertical-align: middle;\n",
              "    }\n",
              "\n",
              "    .dataframe tbody tr th {\n",
              "        vertical-align: top;\n",
              "    }\n",
              "\n",
              "    .dataframe thead th {\n",
              "        text-align: right;\n",
              "    }\n",
              "</style>\n",
              "<table border=\"1\" class=\"dataframe\">\n",
              "  <thead>\n",
              "    <tr style=\"text-align: right;\">\n",
              "      <th></th>\n",
              "      <th>instant</th>\n",
              "      <th>dteday</th>\n",
              "      <th>season</th>\n",
              "      <th>yr</th>\n",
              "      <th>mnth</th>\n",
              "      <th>holiday</th>\n",
              "      <th>weekday</th>\n",
              "      <th>workingday</th>\n",
              "      <th>weathersit</th>\n",
              "      <th>temp</th>\n",
              "      <th>atemp</th>\n",
              "      <th>hum</th>\n",
              "      <th>windspeed</th>\n",
              "      <th>casual</th>\n",
              "      <th>registered</th>\n",
              "      <th>cnt</th>\n",
              "    </tr>\n",
              "  </thead>\n",
              "  <tbody>\n",
              "    <tr>\n",
              "      <th>0</th>\n",
              "      <td>1</td>\n",
              "      <td>2011-01-01</td>\n",
              "      <td>1</td>\n",
              "      <td>0</td>\n",
              "      <td>1</td>\n",
              "      <td>0</td>\n",
              "      <td>6</td>\n",
              "      <td>0</td>\n",
              "      <td>2</td>\n",
              "      <td>0.344167</td>\n",
              "      <td>0.363625</td>\n",
              "      <td>0.805833</td>\n",
              "      <td>0.160446</td>\n",
              "      <td>331</td>\n",
              "      <td>654</td>\n",
              "      <td>985</td>\n",
              "    </tr>\n",
              "    <tr>\n",
              "      <th>1</th>\n",
              "      <td>2</td>\n",
              "      <td>2011-01-02</td>\n",
              "      <td>1</td>\n",
              "      <td>0</td>\n",
              "      <td>1</td>\n",
              "      <td>0</td>\n",
              "      <td>0</td>\n",
              "      <td>0</td>\n",
              "      <td>2</td>\n",
              "      <td>0.363478</td>\n",
              "      <td>0.353739</td>\n",
              "      <td>0.696087</td>\n",
              "      <td>0.248539</td>\n",
              "      <td>131</td>\n",
              "      <td>670</td>\n",
              "      <td>801</td>\n",
              "    </tr>\n",
              "    <tr>\n",
              "      <th>2</th>\n",
              "      <td>3</td>\n",
              "      <td>2011-01-03</td>\n",
              "      <td>1</td>\n",
              "      <td>0</td>\n",
              "      <td>1</td>\n",
              "      <td>0</td>\n",
              "      <td>1</td>\n",
              "      <td>1</td>\n",
              "      <td>1</td>\n",
              "      <td>0.196364</td>\n",
              "      <td>0.189405</td>\n",
              "      <td>0.437273</td>\n",
              "      <td>0.248309</td>\n",
              "      <td>120</td>\n",
              "      <td>1229</td>\n",
              "      <td>1349</td>\n",
              "    </tr>\n",
              "    <tr>\n",
              "      <th>3</th>\n",
              "      <td>4</td>\n",
              "      <td>2011-01-04</td>\n",
              "      <td>1</td>\n",
              "      <td>0</td>\n",
              "      <td>1</td>\n",
              "      <td>0</td>\n",
              "      <td>2</td>\n",
              "      <td>1</td>\n",
              "      <td>1</td>\n",
              "      <td>0.200000</td>\n",
              "      <td>0.212122</td>\n",
              "      <td>0.590435</td>\n",
              "      <td>0.160296</td>\n",
              "      <td>108</td>\n",
              "      <td>1454</td>\n",
              "      <td>1562</td>\n",
              "    </tr>\n",
              "    <tr>\n",
              "      <th>4</th>\n",
              "      <td>5</td>\n",
              "      <td>2011-01-05</td>\n",
              "      <td>1</td>\n",
              "      <td>0</td>\n",
              "      <td>1</td>\n",
              "      <td>0</td>\n",
              "      <td>3</td>\n",
              "      <td>1</td>\n",
              "      <td>1</td>\n",
              "      <td>0.226957</td>\n",
              "      <td>0.229270</td>\n",
              "      <td>0.436957</td>\n",
              "      <td>0.186900</td>\n",
              "      <td>82</td>\n",
              "      <td>1518</td>\n",
              "      <td>1600</td>\n",
              "    </tr>\n",
              "    <tr>\n",
              "      <th>...</th>\n",
              "      <td>...</td>\n",
              "      <td>...</td>\n",
              "      <td>...</td>\n",
              "      <td>...</td>\n",
              "      <td>...</td>\n",
              "      <td>...</td>\n",
              "      <td>...</td>\n",
              "      <td>...</td>\n",
              "      <td>...</td>\n",
              "      <td>...</td>\n",
              "      <td>...</td>\n",
              "      <td>...</td>\n",
              "      <td>...</td>\n",
              "      <td>...</td>\n",
              "      <td>...</td>\n",
              "      <td>...</td>\n",
              "    </tr>\n",
              "    <tr>\n",
              "      <th>726</th>\n",
              "      <td>727</td>\n",
              "      <td>2012-12-27</td>\n",
              "      <td>1</td>\n",
              "      <td>1</td>\n",
              "      <td>12</td>\n",
              "      <td>0</td>\n",
              "      <td>4</td>\n",
              "      <td>1</td>\n",
              "      <td>2</td>\n",
              "      <td>0.254167</td>\n",
              "      <td>0.226642</td>\n",
              "      <td>0.652917</td>\n",
              "      <td>0.350133</td>\n",
              "      <td>247</td>\n",
              "      <td>1867</td>\n",
              "      <td>2114</td>\n",
              "    </tr>\n",
              "    <tr>\n",
              "      <th>727</th>\n",
              "      <td>728</td>\n",
              "      <td>2012-12-28</td>\n",
              "      <td>1</td>\n",
              "      <td>1</td>\n",
              "      <td>12</td>\n",
              "      <td>0</td>\n",
              "      <td>5</td>\n",
              "      <td>1</td>\n",
              "      <td>2</td>\n",
              "      <td>0.253333</td>\n",
              "      <td>0.255046</td>\n",
              "      <td>0.590000</td>\n",
              "      <td>0.155471</td>\n",
              "      <td>644</td>\n",
              "      <td>2451</td>\n",
              "      <td>3095</td>\n",
              "    </tr>\n",
              "    <tr>\n",
              "      <th>728</th>\n",
              "      <td>729</td>\n",
              "      <td>2012-12-29</td>\n",
              "      <td>1</td>\n",
              "      <td>1</td>\n",
              "      <td>12</td>\n",
              "      <td>0</td>\n",
              "      <td>6</td>\n",
              "      <td>0</td>\n",
              "      <td>2</td>\n",
              "      <td>0.253333</td>\n",
              "      <td>0.242400</td>\n",
              "      <td>0.752917</td>\n",
              "      <td>0.124383</td>\n",
              "      <td>159</td>\n",
              "      <td>1182</td>\n",
              "      <td>1341</td>\n",
              "    </tr>\n",
              "    <tr>\n",
              "      <th>729</th>\n",
              "      <td>730</td>\n",
              "      <td>2012-12-30</td>\n",
              "      <td>1</td>\n",
              "      <td>1</td>\n",
              "      <td>12</td>\n",
              "      <td>0</td>\n",
              "      <td>0</td>\n",
              "      <td>0</td>\n",
              "      <td>1</td>\n",
              "      <td>0.255833</td>\n",
              "      <td>0.231700</td>\n",
              "      <td>0.483333</td>\n",
              "      <td>0.350754</td>\n",
              "      <td>364</td>\n",
              "      <td>1432</td>\n",
              "      <td>1796</td>\n",
              "    </tr>\n",
              "    <tr>\n",
              "      <th>730</th>\n",
              "      <td>731</td>\n",
              "      <td>2012-12-31</td>\n",
              "      <td>1</td>\n",
              "      <td>1</td>\n",
              "      <td>12</td>\n",
              "      <td>0</td>\n",
              "      <td>1</td>\n",
              "      <td>1</td>\n",
              "      <td>2</td>\n",
              "      <td>0.215833</td>\n",
              "      <td>0.223487</td>\n",
              "      <td>0.577500</td>\n",
              "      <td>0.154846</td>\n",
              "      <td>439</td>\n",
              "      <td>2290</td>\n",
              "      <td>2729</td>\n",
              "    </tr>\n",
              "  </tbody>\n",
              "</table>\n",
              "<p>731 rows × 16 columns</p>\n",
              "</div>"
            ],
            "text/plain": [
              "     instant      dteday  season  yr  mnth  holiday  weekday  workingday  \\\n",
              "0          1  2011-01-01       1   0     1        0        6           0   \n",
              "1          2  2011-01-02       1   0     1        0        0           0   \n",
              "2          3  2011-01-03       1   0     1        0        1           1   \n",
              "3          4  2011-01-04       1   0     1        0        2           1   \n",
              "4          5  2011-01-05       1   0     1        0        3           1   \n",
              "..       ...         ...     ...  ..   ...      ...      ...         ...   \n",
              "726      727  2012-12-27       1   1    12        0        4           1   \n",
              "727      728  2012-12-28       1   1    12        0        5           1   \n",
              "728      729  2012-12-29       1   1    12        0        6           0   \n",
              "729      730  2012-12-30       1   1    12        0        0           0   \n",
              "730      731  2012-12-31       1   1    12        0        1           1   \n",
              "\n",
              "     weathersit      temp     atemp       hum  windspeed  casual  registered  \\\n",
              "0             2  0.344167  0.363625  0.805833   0.160446     331         654   \n",
              "1             2  0.363478  0.353739  0.696087   0.248539     131         670   \n",
              "2             1  0.196364  0.189405  0.437273   0.248309     120        1229   \n",
              "3             1  0.200000  0.212122  0.590435   0.160296     108        1454   \n",
              "4             1  0.226957  0.229270  0.436957   0.186900      82        1518   \n",
              "..          ...       ...       ...       ...        ...     ...         ...   \n",
              "726           2  0.254167  0.226642  0.652917   0.350133     247        1867   \n",
              "727           2  0.253333  0.255046  0.590000   0.155471     644        2451   \n",
              "728           2  0.253333  0.242400  0.752917   0.124383     159        1182   \n",
              "729           1  0.255833  0.231700  0.483333   0.350754     364        1432   \n",
              "730           2  0.215833  0.223487  0.577500   0.154846     439        2290   \n",
              "\n",
              "      cnt  \n",
              "0     985  \n",
              "1     801  \n",
              "2    1349  \n",
              "3    1562  \n",
              "4    1600  \n",
              "..    ...  \n",
              "726  2114  \n",
              "727  3095  \n",
              "728  1341  \n",
              "729  1796  \n",
              "730  2729  \n",
              "\n",
              "[731 rows x 16 columns]"
            ]
          },
          "execution_count": 5,
          "metadata": {},
          "output_type": "execute_result"
        }
      ],
      "source": [
        "df1 = pd.read_csv(\"../submission/data/day.csv\", delimiter=\",\")\n",
        "df2 = pd.read_csv(\"../submission/data/hour.csv\", delimiter=\",\")\n",
        "\n",
        "print(\"Data Day\")\n",
        "df1"
      ]
    },
    {
      "cell_type": "code",
      "execution_count": 6,
      "metadata": {},
      "outputs": [
        {
          "name": "stdout",
          "output_type": "stream",
          "text": [
            "Data Hour\n"
          ]
        },
        {
          "data": {
            "application/vnd.microsoft.datawrangler.viewer.v0+json": {
              "columns": [
                {
                  "name": "index",
                  "rawType": "int64",
                  "type": "integer"
                },
                {
                  "name": "instant",
                  "rawType": "int64",
                  "type": "integer"
                },
                {
                  "name": "dteday",
                  "rawType": "object",
                  "type": "string"
                },
                {
                  "name": "season",
                  "rawType": "int64",
                  "type": "integer"
                },
                {
                  "name": "yr",
                  "rawType": "int64",
                  "type": "integer"
                },
                {
                  "name": "mnth",
                  "rawType": "int64",
                  "type": "integer"
                },
                {
                  "name": "hr",
                  "rawType": "int64",
                  "type": "integer"
                },
                {
                  "name": "holiday",
                  "rawType": "int64",
                  "type": "integer"
                },
                {
                  "name": "weekday",
                  "rawType": "int64",
                  "type": "integer"
                },
                {
                  "name": "workingday",
                  "rawType": "int64",
                  "type": "integer"
                },
                {
                  "name": "weathersit",
                  "rawType": "int64",
                  "type": "integer"
                },
                {
                  "name": "temp",
                  "rawType": "float64",
                  "type": "float"
                },
                {
                  "name": "atemp",
                  "rawType": "float64",
                  "type": "float"
                },
                {
                  "name": "hum",
                  "rawType": "float64",
                  "type": "float"
                },
                {
                  "name": "windspeed",
                  "rawType": "float64",
                  "type": "float"
                },
                {
                  "name": "casual",
                  "rawType": "int64",
                  "type": "integer"
                },
                {
                  "name": "registered",
                  "rawType": "int64",
                  "type": "integer"
                },
                {
                  "name": "cnt",
                  "rawType": "int64",
                  "type": "integer"
                }
              ],
              "conversionMethod": "pd.DataFrame",
              "ref": "23d34ea2-27e1-422f-bbc5-069837feb585",
              "rows": [
                [
                  "0",
                  "1",
                  "2011-01-01",
                  "1",
                  "0",
                  "1",
                  "0",
                  "0",
                  "6",
                  "0",
                  "1",
                  "0.24",
                  "0.2879",
                  "0.81",
                  "0.0",
                  "3",
                  "13",
                  "16"
                ],
                [
                  "1",
                  "2",
                  "2011-01-01",
                  "1",
                  "0",
                  "1",
                  "1",
                  "0",
                  "6",
                  "0",
                  "1",
                  "0.22",
                  "0.2727",
                  "0.8",
                  "0.0",
                  "8",
                  "32",
                  "40"
                ],
                [
                  "2",
                  "3",
                  "2011-01-01",
                  "1",
                  "0",
                  "1",
                  "2",
                  "0",
                  "6",
                  "0",
                  "1",
                  "0.22",
                  "0.2727",
                  "0.8",
                  "0.0",
                  "5",
                  "27",
                  "32"
                ],
                [
                  "3",
                  "4",
                  "2011-01-01",
                  "1",
                  "0",
                  "1",
                  "3",
                  "0",
                  "6",
                  "0",
                  "1",
                  "0.24",
                  "0.2879",
                  "0.75",
                  "0.0",
                  "3",
                  "10",
                  "13"
                ],
                [
                  "4",
                  "5",
                  "2011-01-01",
                  "1",
                  "0",
                  "1",
                  "4",
                  "0",
                  "6",
                  "0",
                  "1",
                  "0.24",
                  "0.2879",
                  "0.75",
                  "0.0",
                  "0",
                  "1",
                  "1"
                ],
                [
                  "5",
                  "6",
                  "2011-01-01",
                  "1",
                  "0",
                  "1",
                  "5",
                  "0",
                  "6",
                  "0",
                  "2",
                  "0.24",
                  "0.2576",
                  "0.75",
                  "0.0896",
                  "0",
                  "1",
                  "1"
                ],
                [
                  "6",
                  "7",
                  "2011-01-01",
                  "1",
                  "0",
                  "1",
                  "6",
                  "0",
                  "6",
                  "0",
                  "1",
                  "0.22",
                  "0.2727",
                  "0.8",
                  "0.0",
                  "2",
                  "0",
                  "2"
                ],
                [
                  "7",
                  "8",
                  "2011-01-01",
                  "1",
                  "0",
                  "1",
                  "7",
                  "0",
                  "6",
                  "0",
                  "1",
                  "0.2",
                  "0.2576",
                  "0.86",
                  "0.0",
                  "1",
                  "2",
                  "3"
                ],
                [
                  "8",
                  "9",
                  "2011-01-01",
                  "1",
                  "0",
                  "1",
                  "8",
                  "0",
                  "6",
                  "0",
                  "1",
                  "0.24",
                  "0.2879",
                  "0.75",
                  "0.0",
                  "1",
                  "7",
                  "8"
                ],
                [
                  "9",
                  "10",
                  "2011-01-01",
                  "1",
                  "0",
                  "1",
                  "9",
                  "0",
                  "6",
                  "0",
                  "1",
                  "0.32",
                  "0.3485",
                  "0.76",
                  "0.0",
                  "8",
                  "6",
                  "14"
                ],
                [
                  "10",
                  "11",
                  "2011-01-01",
                  "1",
                  "0",
                  "1",
                  "10",
                  "0",
                  "6",
                  "0",
                  "1",
                  "0.38",
                  "0.3939",
                  "0.76",
                  "0.2537",
                  "12",
                  "24",
                  "36"
                ],
                [
                  "11",
                  "12",
                  "2011-01-01",
                  "1",
                  "0",
                  "1",
                  "11",
                  "0",
                  "6",
                  "0",
                  "1",
                  "0.36",
                  "0.3333",
                  "0.81",
                  "0.2836",
                  "26",
                  "30",
                  "56"
                ],
                [
                  "12",
                  "13",
                  "2011-01-01",
                  "1",
                  "0",
                  "1",
                  "12",
                  "0",
                  "6",
                  "0",
                  "1",
                  "0.42",
                  "0.4242",
                  "0.77",
                  "0.2836",
                  "29",
                  "55",
                  "84"
                ],
                [
                  "13",
                  "14",
                  "2011-01-01",
                  "1",
                  "0",
                  "1",
                  "13",
                  "0",
                  "6",
                  "0",
                  "2",
                  "0.46",
                  "0.4545",
                  "0.72",
                  "0.2985",
                  "47",
                  "47",
                  "94"
                ],
                [
                  "14",
                  "15",
                  "2011-01-01",
                  "1",
                  "0",
                  "1",
                  "14",
                  "0",
                  "6",
                  "0",
                  "2",
                  "0.46",
                  "0.4545",
                  "0.72",
                  "0.2836",
                  "35",
                  "71",
                  "106"
                ],
                [
                  "15",
                  "16",
                  "2011-01-01",
                  "1",
                  "0",
                  "1",
                  "15",
                  "0",
                  "6",
                  "0",
                  "2",
                  "0.44",
                  "0.4394",
                  "0.77",
                  "0.2985",
                  "40",
                  "70",
                  "110"
                ],
                [
                  "16",
                  "17",
                  "2011-01-01",
                  "1",
                  "0",
                  "1",
                  "16",
                  "0",
                  "6",
                  "0",
                  "2",
                  "0.42",
                  "0.4242",
                  "0.82",
                  "0.2985",
                  "41",
                  "52",
                  "93"
                ],
                [
                  "17",
                  "18",
                  "2011-01-01",
                  "1",
                  "0",
                  "1",
                  "17",
                  "0",
                  "6",
                  "0",
                  "2",
                  "0.44",
                  "0.4394",
                  "0.82",
                  "0.2836",
                  "15",
                  "52",
                  "67"
                ],
                [
                  "18",
                  "19",
                  "2011-01-01",
                  "1",
                  "0",
                  "1",
                  "18",
                  "0",
                  "6",
                  "0",
                  "3",
                  "0.42",
                  "0.4242",
                  "0.88",
                  "0.2537",
                  "9",
                  "26",
                  "35"
                ],
                [
                  "19",
                  "20",
                  "2011-01-01",
                  "1",
                  "0",
                  "1",
                  "19",
                  "0",
                  "6",
                  "0",
                  "3",
                  "0.42",
                  "0.4242",
                  "0.88",
                  "0.2537",
                  "6",
                  "31",
                  "37"
                ],
                [
                  "20",
                  "21",
                  "2011-01-01",
                  "1",
                  "0",
                  "1",
                  "20",
                  "0",
                  "6",
                  "0",
                  "2",
                  "0.4",
                  "0.4091",
                  "0.87",
                  "0.2537",
                  "11",
                  "25",
                  "36"
                ],
                [
                  "21",
                  "22",
                  "2011-01-01",
                  "1",
                  "0",
                  "1",
                  "21",
                  "0",
                  "6",
                  "0",
                  "2",
                  "0.4",
                  "0.4091",
                  "0.87",
                  "0.194",
                  "3",
                  "31",
                  "34"
                ],
                [
                  "22",
                  "23",
                  "2011-01-01",
                  "1",
                  "0",
                  "1",
                  "22",
                  "0",
                  "6",
                  "0",
                  "2",
                  "0.4",
                  "0.4091",
                  "0.94",
                  "0.2239",
                  "11",
                  "17",
                  "28"
                ],
                [
                  "23",
                  "24",
                  "2011-01-01",
                  "1",
                  "0",
                  "1",
                  "23",
                  "0",
                  "6",
                  "0",
                  "2",
                  "0.46",
                  "0.4545",
                  "0.88",
                  "0.2985",
                  "15",
                  "24",
                  "39"
                ],
                [
                  "24",
                  "25",
                  "2011-01-02",
                  "1",
                  "0",
                  "1",
                  "0",
                  "0",
                  "0",
                  "0",
                  "2",
                  "0.46",
                  "0.4545",
                  "0.88",
                  "0.2985",
                  "4",
                  "13",
                  "17"
                ],
                [
                  "25",
                  "26",
                  "2011-01-02",
                  "1",
                  "0",
                  "1",
                  "1",
                  "0",
                  "0",
                  "0",
                  "2",
                  "0.44",
                  "0.4394",
                  "0.94",
                  "0.2537",
                  "1",
                  "16",
                  "17"
                ],
                [
                  "26",
                  "27",
                  "2011-01-02",
                  "1",
                  "0",
                  "1",
                  "2",
                  "0",
                  "0",
                  "0",
                  "2",
                  "0.42",
                  "0.4242",
                  "1.0",
                  "0.2836",
                  "1",
                  "8",
                  "9"
                ],
                [
                  "27",
                  "28",
                  "2011-01-02",
                  "1",
                  "0",
                  "1",
                  "3",
                  "0",
                  "0",
                  "0",
                  "2",
                  "0.46",
                  "0.4545",
                  "0.94",
                  "0.194",
                  "2",
                  "4",
                  "6"
                ],
                [
                  "28",
                  "29",
                  "2011-01-02",
                  "1",
                  "0",
                  "1",
                  "4",
                  "0",
                  "0",
                  "0",
                  "2",
                  "0.46",
                  "0.4545",
                  "0.94",
                  "0.194",
                  "2",
                  "1",
                  "3"
                ],
                [
                  "29",
                  "30",
                  "2011-01-02",
                  "1",
                  "0",
                  "1",
                  "6",
                  "0",
                  "0",
                  "0",
                  "3",
                  "0.42",
                  "0.4242",
                  "0.77",
                  "0.2985",
                  "0",
                  "2",
                  "2"
                ],
                [
                  "30",
                  "31",
                  "2011-01-02",
                  "1",
                  "0",
                  "1",
                  "7",
                  "0",
                  "0",
                  "0",
                  "2",
                  "0.4",
                  "0.4091",
                  "0.76",
                  "0.194",
                  "0",
                  "1",
                  "1"
                ],
                [
                  "31",
                  "32",
                  "2011-01-02",
                  "1",
                  "0",
                  "1",
                  "8",
                  "0",
                  "0",
                  "0",
                  "3",
                  "0.4",
                  "0.4091",
                  "0.71",
                  "0.2239",
                  "0",
                  "8",
                  "8"
                ],
                [
                  "32",
                  "33",
                  "2011-01-02",
                  "1",
                  "0",
                  "1",
                  "9",
                  "0",
                  "0",
                  "0",
                  "2",
                  "0.38",
                  "0.3939",
                  "0.76",
                  "0.2239",
                  "1",
                  "19",
                  "20"
                ],
                [
                  "33",
                  "34",
                  "2011-01-02",
                  "1",
                  "0",
                  "1",
                  "10",
                  "0",
                  "0",
                  "0",
                  "2",
                  "0.36",
                  "0.3485",
                  "0.81",
                  "0.2239",
                  "7",
                  "46",
                  "53"
                ],
                [
                  "34",
                  "35",
                  "2011-01-02",
                  "1",
                  "0",
                  "1",
                  "11",
                  "0",
                  "0",
                  "0",
                  "2",
                  "0.36",
                  "0.3333",
                  "0.71",
                  "0.2537",
                  "16",
                  "54",
                  "70"
                ],
                [
                  "35",
                  "36",
                  "2011-01-02",
                  "1",
                  "0",
                  "1",
                  "12",
                  "0",
                  "0",
                  "0",
                  "2",
                  "0.36",
                  "0.3333",
                  "0.66",
                  "0.2985",
                  "20",
                  "73",
                  "93"
                ],
                [
                  "36",
                  "37",
                  "2011-01-02",
                  "1",
                  "0",
                  "1",
                  "13",
                  "0",
                  "0",
                  "0",
                  "2",
                  "0.36",
                  "0.3485",
                  "0.66",
                  "0.1343",
                  "11",
                  "64",
                  "75"
                ],
                [
                  "37",
                  "38",
                  "2011-01-02",
                  "1",
                  "0",
                  "1",
                  "14",
                  "0",
                  "0",
                  "0",
                  "3",
                  "0.36",
                  "0.3485",
                  "0.76",
                  "0.194",
                  "4",
                  "55",
                  "59"
                ],
                [
                  "38",
                  "39",
                  "2011-01-02",
                  "1",
                  "0",
                  "1",
                  "15",
                  "0",
                  "0",
                  "0",
                  "3",
                  "0.34",
                  "0.3333",
                  "0.81",
                  "0.1642",
                  "19",
                  "55",
                  "74"
                ],
                [
                  "39",
                  "40",
                  "2011-01-02",
                  "1",
                  "0",
                  "1",
                  "16",
                  "0",
                  "0",
                  "0",
                  "3",
                  "0.34",
                  "0.3333",
                  "0.71",
                  "0.1642",
                  "9",
                  "67",
                  "76"
                ],
                [
                  "40",
                  "41",
                  "2011-01-02",
                  "1",
                  "0",
                  "1",
                  "17",
                  "0",
                  "0",
                  "0",
                  "1",
                  "0.34",
                  "0.3333",
                  "0.57",
                  "0.194",
                  "7",
                  "58",
                  "65"
                ],
                [
                  "41",
                  "42",
                  "2011-01-02",
                  "1",
                  "0",
                  "1",
                  "18",
                  "0",
                  "0",
                  "0",
                  "2",
                  "0.36",
                  "0.3333",
                  "0.46",
                  "0.3284",
                  "10",
                  "43",
                  "53"
                ],
                [
                  "42",
                  "43",
                  "2011-01-02",
                  "1",
                  "0",
                  "1",
                  "19",
                  "0",
                  "0",
                  "0",
                  "1",
                  "0.32",
                  "0.2879",
                  "0.42",
                  "0.4478",
                  "1",
                  "29",
                  "30"
                ],
                [
                  "43",
                  "44",
                  "2011-01-02",
                  "1",
                  "0",
                  "1",
                  "20",
                  "0",
                  "0",
                  "0",
                  "1",
                  "0.3",
                  "0.2727",
                  "0.39",
                  "0.3582",
                  "5",
                  "17",
                  "22"
                ],
                [
                  "44",
                  "45",
                  "2011-01-02",
                  "1",
                  "0",
                  "1",
                  "21",
                  "0",
                  "0",
                  "0",
                  "1",
                  "0.26",
                  "0.2273",
                  "0.44",
                  "0.3284",
                  "11",
                  "20",
                  "31"
                ],
                [
                  "45",
                  "46",
                  "2011-01-02",
                  "1",
                  "0",
                  "1",
                  "22",
                  "0",
                  "0",
                  "0",
                  "1",
                  "0.24",
                  "0.2121",
                  "0.44",
                  "0.2985",
                  "0",
                  "9",
                  "9"
                ],
                [
                  "46",
                  "47",
                  "2011-01-02",
                  "1",
                  "0",
                  "1",
                  "23",
                  "0",
                  "0",
                  "0",
                  "1",
                  "0.22",
                  "0.2273",
                  "0.47",
                  "0.1642",
                  "0",
                  "8",
                  "8"
                ],
                [
                  "47",
                  "48",
                  "2011-01-03",
                  "1",
                  "0",
                  "1",
                  "0",
                  "0",
                  "1",
                  "1",
                  "1",
                  "0.22",
                  "0.197",
                  "0.44",
                  "0.3582",
                  "0",
                  "5",
                  "5"
                ],
                [
                  "48",
                  "49",
                  "2011-01-03",
                  "1",
                  "0",
                  "1",
                  "1",
                  "0",
                  "1",
                  "1",
                  "1",
                  "0.2",
                  "0.1667",
                  "0.44",
                  "0.4179",
                  "0",
                  "2",
                  "2"
                ],
                [
                  "49",
                  "50",
                  "2011-01-03",
                  "1",
                  "0",
                  "1",
                  "4",
                  "0",
                  "1",
                  "1",
                  "1",
                  "0.16",
                  "0.1364",
                  "0.47",
                  "0.3881",
                  "0",
                  "1",
                  "1"
                ]
              ],
              "shape": {
                "columns": 17,
                "rows": 17379
              }
            },
            "text/html": [
              "<div>\n",
              "<style scoped>\n",
              "    .dataframe tbody tr th:only-of-type {\n",
              "        vertical-align: middle;\n",
              "    }\n",
              "\n",
              "    .dataframe tbody tr th {\n",
              "        vertical-align: top;\n",
              "    }\n",
              "\n",
              "    .dataframe thead th {\n",
              "        text-align: right;\n",
              "    }\n",
              "</style>\n",
              "<table border=\"1\" class=\"dataframe\">\n",
              "  <thead>\n",
              "    <tr style=\"text-align: right;\">\n",
              "      <th></th>\n",
              "      <th>instant</th>\n",
              "      <th>dteday</th>\n",
              "      <th>season</th>\n",
              "      <th>yr</th>\n",
              "      <th>mnth</th>\n",
              "      <th>hr</th>\n",
              "      <th>holiday</th>\n",
              "      <th>weekday</th>\n",
              "      <th>workingday</th>\n",
              "      <th>weathersit</th>\n",
              "      <th>temp</th>\n",
              "      <th>atemp</th>\n",
              "      <th>hum</th>\n",
              "      <th>windspeed</th>\n",
              "      <th>casual</th>\n",
              "      <th>registered</th>\n",
              "      <th>cnt</th>\n",
              "    </tr>\n",
              "  </thead>\n",
              "  <tbody>\n",
              "    <tr>\n",
              "      <th>0</th>\n",
              "      <td>1</td>\n",
              "      <td>2011-01-01</td>\n",
              "      <td>1</td>\n",
              "      <td>0</td>\n",
              "      <td>1</td>\n",
              "      <td>0</td>\n",
              "      <td>0</td>\n",
              "      <td>6</td>\n",
              "      <td>0</td>\n",
              "      <td>1</td>\n",
              "      <td>0.24</td>\n",
              "      <td>0.2879</td>\n",
              "      <td>0.81</td>\n",
              "      <td>0.0000</td>\n",
              "      <td>3</td>\n",
              "      <td>13</td>\n",
              "      <td>16</td>\n",
              "    </tr>\n",
              "    <tr>\n",
              "      <th>1</th>\n",
              "      <td>2</td>\n",
              "      <td>2011-01-01</td>\n",
              "      <td>1</td>\n",
              "      <td>0</td>\n",
              "      <td>1</td>\n",
              "      <td>1</td>\n",
              "      <td>0</td>\n",
              "      <td>6</td>\n",
              "      <td>0</td>\n",
              "      <td>1</td>\n",
              "      <td>0.22</td>\n",
              "      <td>0.2727</td>\n",
              "      <td>0.80</td>\n",
              "      <td>0.0000</td>\n",
              "      <td>8</td>\n",
              "      <td>32</td>\n",
              "      <td>40</td>\n",
              "    </tr>\n",
              "    <tr>\n",
              "      <th>2</th>\n",
              "      <td>3</td>\n",
              "      <td>2011-01-01</td>\n",
              "      <td>1</td>\n",
              "      <td>0</td>\n",
              "      <td>1</td>\n",
              "      <td>2</td>\n",
              "      <td>0</td>\n",
              "      <td>6</td>\n",
              "      <td>0</td>\n",
              "      <td>1</td>\n",
              "      <td>0.22</td>\n",
              "      <td>0.2727</td>\n",
              "      <td>0.80</td>\n",
              "      <td>0.0000</td>\n",
              "      <td>5</td>\n",
              "      <td>27</td>\n",
              "      <td>32</td>\n",
              "    </tr>\n",
              "    <tr>\n",
              "      <th>3</th>\n",
              "      <td>4</td>\n",
              "      <td>2011-01-01</td>\n",
              "      <td>1</td>\n",
              "      <td>0</td>\n",
              "      <td>1</td>\n",
              "      <td>3</td>\n",
              "      <td>0</td>\n",
              "      <td>6</td>\n",
              "      <td>0</td>\n",
              "      <td>1</td>\n",
              "      <td>0.24</td>\n",
              "      <td>0.2879</td>\n",
              "      <td>0.75</td>\n",
              "      <td>0.0000</td>\n",
              "      <td>3</td>\n",
              "      <td>10</td>\n",
              "      <td>13</td>\n",
              "    </tr>\n",
              "    <tr>\n",
              "      <th>4</th>\n",
              "      <td>5</td>\n",
              "      <td>2011-01-01</td>\n",
              "      <td>1</td>\n",
              "      <td>0</td>\n",
              "      <td>1</td>\n",
              "      <td>4</td>\n",
              "      <td>0</td>\n",
              "      <td>6</td>\n",
              "      <td>0</td>\n",
              "      <td>1</td>\n",
              "      <td>0.24</td>\n",
              "      <td>0.2879</td>\n",
              "      <td>0.75</td>\n",
              "      <td>0.0000</td>\n",
              "      <td>0</td>\n",
              "      <td>1</td>\n",
              "      <td>1</td>\n",
              "    </tr>\n",
              "    <tr>\n",
              "      <th>...</th>\n",
              "      <td>...</td>\n",
              "      <td>...</td>\n",
              "      <td>...</td>\n",
              "      <td>...</td>\n",
              "      <td>...</td>\n",
              "      <td>...</td>\n",
              "      <td>...</td>\n",
              "      <td>...</td>\n",
              "      <td>...</td>\n",
              "      <td>...</td>\n",
              "      <td>...</td>\n",
              "      <td>...</td>\n",
              "      <td>...</td>\n",
              "      <td>...</td>\n",
              "      <td>...</td>\n",
              "      <td>...</td>\n",
              "      <td>...</td>\n",
              "    </tr>\n",
              "    <tr>\n",
              "      <th>17374</th>\n",
              "      <td>17375</td>\n",
              "      <td>2012-12-31</td>\n",
              "      <td>1</td>\n",
              "      <td>1</td>\n",
              "      <td>12</td>\n",
              "      <td>19</td>\n",
              "      <td>0</td>\n",
              "      <td>1</td>\n",
              "      <td>1</td>\n",
              "      <td>2</td>\n",
              "      <td>0.26</td>\n",
              "      <td>0.2576</td>\n",
              "      <td>0.60</td>\n",
              "      <td>0.1642</td>\n",
              "      <td>11</td>\n",
              "      <td>108</td>\n",
              "      <td>119</td>\n",
              "    </tr>\n",
              "    <tr>\n",
              "      <th>17375</th>\n",
              "      <td>17376</td>\n",
              "      <td>2012-12-31</td>\n",
              "      <td>1</td>\n",
              "      <td>1</td>\n",
              "      <td>12</td>\n",
              "      <td>20</td>\n",
              "      <td>0</td>\n",
              "      <td>1</td>\n",
              "      <td>1</td>\n",
              "      <td>2</td>\n",
              "      <td>0.26</td>\n",
              "      <td>0.2576</td>\n",
              "      <td>0.60</td>\n",
              "      <td>0.1642</td>\n",
              "      <td>8</td>\n",
              "      <td>81</td>\n",
              "      <td>89</td>\n",
              "    </tr>\n",
              "    <tr>\n",
              "      <th>17376</th>\n",
              "      <td>17377</td>\n",
              "      <td>2012-12-31</td>\n",
              "      <td>1</td>\n",
              "      <td>1</td>\n",
              "      <td>12</td>\n",
              "      <td>21</td>\n",
              "      <td>0</td>\n",
              "      <td>1</td>\n",
              "      <td>1</td>\n",
              "      <td>1</td>\n",
              "      <td>0.26</td>\n",
              "      <td>0.2576</td>\n",
              "      <td>0.60</td>\n",
              "      <td>0.1642</td>\n",
              "      <td>7</td>\n",
              "      <td>83</td>\n",
              "      <td>90</td>\n",
              "    </tr>\n",
              "    <tr>\n",
              "      <th>17377</th>\n",
              "      <td>17378</td>\n",
              "      <td>2012-12-31</td>\n",
              "      <td>1</td>\n",
              "      <td>1</td>\n",
              "      <td>12</td>\n",
              "      <td>22</td>\n",
              "      <td>0</td>\n",
              "      <td>1</td>\n",
              "      <td>1</td>\n",
              "      <td>1</td>\n",
              "      <td>0.26</td>\n",
              "      <td>0.2727</td>\n",
              "      <td>0.56</td>\n",
              "      <td>0.1343</td>\n",
              "      <td>13</td>\n",
              "      <td>48</td>\n",
              "      <td>61</td>\n",
              "    </tr>\n",
              "    <tr>\n",
              "      <th>17378</th>\n",
              "      <td>17379</td>\n",
              "      <td>2012-12-31</td>\n",
              "      <td>1</td>\n",
              "      <td>1</td>\n",
              "      <td>12</td>\n",
              "      <td>23</td>\n",
              "      <td>0</td>\n",
              "      <td>1</td>\n",
              "      <td>1</td>\n",
              "      <td>1</td>\n",
              "      <td>0.26</td>\n",
              "      <td>0.2727</td>\n",
              "      <td>0.65</td>\n",
              "      <td>0.1343</td>\n",
              "      <td>12</td>\n",
              "      <td>37</td>\n",
              "      <td>49</td>\n",
              "    </tr>\n",
              "  </tbody>\n",
              "</table>\n",
              "<p>17379 rows × 17 columns</p>\n",
              "</div>"
            ],
            "text/plain": [
              "       instant      dteday  season  yr  mnth  hr  holiday  weekday  \\\n",
              "0            1  2011-01-01       1   0     1   0        0        6   \n",
              "1            2  2011-01-01       1   0     1   1        0        6   \n",
              "2            3  2011-01-01       1   0     1   2        0        6   \n",
              "3            4  2011-01-01       1   0     1   3        0        6   \n",
              "4            5  2011-01-01       1   0     1   4        0        6   \n",
              "...        ...         ...     ...  ..   ...  ..      ...      ...   \n",
              "17374    17375  2012-12-31       1   1    12  19        0        1   \n",
              "17375    17376  2012-12-31       1   1    12  20        0        1   \n",
              "17376    17377  2012-12-31       1   1    12  21        0        1   \n",
              "17377    17378  2012-12-31       1   1    12  22        0        1   \n",
              "17378    17379  2012-12-31       1   1    12  23        0        1   \n",
              "\n",
              "       workingday  weathersit  temp   atemp   hum  windspeed  casual  \\\n",
              "0               0           1  0.24  0.2879  0.81     0.0000       3   \n",
              "1               0           1  0.22  0.2727  0.80     0.0000       8   \n",
              "2               0           1  0.22  0.2727  0.80     0.0000       5   \n",
              "3               0           1  0.24  0.2879  0.75     0.0000       3   \n",
              "4               0           1  0.24  0.2879  0.75     0.0000       0   \n",
              "...           ...         ...   ...     ...   ...        ...     ...   \n",
              "17374           1           2  0.26  0.2576  0.60     0.1642      11   \n",
              "17375           1           2  0.26  0.2576  0.60     0.1642       8   \n",
              "17376           1           1  0.26  0.2576  0.60     0.1642       7   \n",
              "17377           1           1  0.26  0.2727  0.56     0.1343      13   \n",
              "17378           1           1  0.26  0.2727  0.65     0.1343      12   \n",
              "\n",
              "       registered  cnt  \n",
              "0              13   16  \n",
              "1              32   40  \n",
              "2              27   32  \n",
              "3              10   13  \n",
              "4               1    1  \n",
              "...           ...  ...  \n",
              "17374         108  119  \n",
              "17375          81   89  \n",
              "17376          83   90  \n",
              "17377          48   61  \n",
              "17378          37   49  \n",
              "\n",
              "[17379 rows x 17 columns]"
            ]
          },
          "execution_count": 6,
          "metadata": {},
          "output_type": "execute_result"
        }
      ],
      "source": [
        "print(\"Data Hour\")\n",
        "df2"
      ]
    },
    {
      "cell_type": "markdown",
      "metadata": {
        "id": "MMi6xGaDkbCi"
      },
      "source": [
        "**Insight:**\n",
        "- Data yang dikumpulkan dari website dicoding yang menyediakan 3 sumber data\n",
        "- Membaca data day di dalam berkas CSV dengan delimiter , (koma) yang berfungsi untuk memisahkan nilai-nilai pada setiap baris, lalu kemudian menampilkan data hasil pembacaan berkas CSV.\n",
        "- Membaca data hour di dalam berkas CSV dengan delimiter , (koma) yang berfungsi untuk memisahkan nilai-nilai pada setiap baris, lalu kemudian menampilkan data hasil pembacaan berkas CSV."
      ]
    },
    {
      "cell_type": "markdown",
      "metadata": {
        "id": "FHSiqaZp8DC1"
      },
      "source": [
        "### Assessing Data"
      ]
    },
    {
      "cell_type": "code",
      "execution_count": 7,
      "metadata": {
        "id": "ax-3tEjc9Cj1"
      },
      "outputs": [
        {
          "name": "stdout",
          "output_type": "stream",
          "text": [
            "Jumlah Missing Values pada data day\n"
          ]
        },
        {
          "data": {
            "text/plain": [
              "instant       0\n",
              "dteday        0\n",
              "season        0\n",
              "yr            0\n",
              "mnth          0\n",
              "holiday       0\n",
              "weekday       0\n",
              "workingday    0\n",
              "weathersit    0\n",
              "temp          0\n",
              "atemp         0\n",
              "hum           0\n",
              "windspeed     0\n",
              "casual        0\n",
              "registered    0\n",
              "cnt           0\n",
              "dtype: int64"
            ]
          },
          "metadata": {},
          "output_type": "display_data"
        },
        {
          "name": "stdout",
          "output_type": "stream",
          "text": [
            "Jumlah Missing Values pada data hour\n"
          ]
        },
        {
          "data": {
            "text/plain": [
              "instant       0\n",
              "dteday        0\n",
              "season        0\n",
              "yr            0\n",
              "mnth          0\n",
              "hr            0\n",
              "holiday       0\n",
              "weekday       0\n",
              "workingday    0\n",
              "weathersit    0\n",
              "temp          0\n",
              "atemp         0\n",
              "hum           0\n",
              "windspeed     0\n",
              "casual        0\n",
              "registered    0\n",
              "cnt           0\n",
              "dtype: int64"
            ]
          },
          "metadata": {},
          "output_type": "display_data"
        },
        {
          "name": "stdout",
          "output_type": "stream",
          "text": [
            "Jumlah Duplikasi pada data day\n"
          ]
        },
        {
          "data": {
            "text/plain": [
              "0"
            ]
          },
          "metadata": {},
          "output_type": "display_data"
        },
        {
          "name": "stdout",
          "output_type": "stream",
          "text": [
            "Jumlah Duplikasi pada data hour\n"
          ]
        },
        {
          "data": {
            "text/plain": [
              "0"
            ]
          },
          "metadata": {},
          "output_type": "display_data"
        }
      ],
      "source": [
        "# print(\"Jumlah Missing Values pada data day\\n\")\n",
        "# print(df1.isnull().sum())\n",
        "# print(\"Jumlah Missing Values pada data hour\\n\")\n",
        "# print(df2.isnull().sum())\n",
        "\n",
        "print(\"Jumlah Missing Values pada data day\")\n",
        "display(df1.isna().sum())\n",
        "print(\"Jumlah Missing Values pada data hour\")\n",
        "display(df2.isna().sum())\n",
        "\n",
        "print(\"Jumlah Duplikasi pada data day\")\n",
        "display(df1.duplicated().sum())\n",
        "print(\"Jumlah Duplikasi pada data hour\")\n",
        "display(df2.duplicated().sum())"
      ]
    },
    {
      "cell_type": "code",
      "execution_count": 8,
      "metadata": {},
      "outputs": [
        {
          "name": "stdout",
          "output_type": "stream",
          "text": [
            "<class 'pandas.core.frame.DataFrame'>\n",
            "RangeIndex: 731 entries, 0 to 730\n",
            "Data columns (total 16 columns):\n",
            " #   Column      Non-Null Count  Dtype  \n",
            "---  ------      --------------  -----  \n",
            " 0   instant     731 non-null    int64  \n",
            " 1   dteday      731 non-null    object \n",
            " 2   season      731 non-null    int64  \n",
            " 3   yr          731 non-null    int64  \n",
            " 4   mnth        731 non-null    int64  \n",
            " 5   holiday     731 non-null    int64  \n",
            " 6   weekday     731 non-null    int64  \n",
            " 7   workingday  731 non-null    int64  \n",
            " 8   weathersit  731 non-null    int64  \n",
            " 9   temp        731 non-null    float64\n",
            " 10  atemp       731 non-null    float64\n",
            " 11  hum         731 non-null    float64\n",
            " 12  windspeed   731 non-null    float64\n",
            " 13  casual      731 non-null    int64  \n",
            " 14  registered  731 non-null    int64  \n",
            " 15  cnt         731 non-null    int64  \n",
            "dtypes: float64(4), int64(11), object(1)\n",
            "memory usage: 91.5+ KB\n"
          ]
        },
        {
          "data": {
            "text/plain": [
              "None"
            ]
          },
          "metadata": {},
          "output_type": "display_data"
        },
        {
          "name": "stdout",
          "output_type": "stream",
          "text": [
            "<class 'pandas.core.frame.DataFrame'>\n",
            "RangeIndex: 17379 entries, 0 to 17378\n",
            "Data columns (total 17 columns):\n",
            " #   Column      Non-Null Count  Dtype  \n",
            "---  ------      --------------  -----  \n",
            " 0   instant     17379 non-null  int64  \n",
            " 1   dteday      17379 non-null  object \n",
            " 2   season      17379 non-null  int64  \n",
            " 3   yr          17379 non-null  int64  \n",
            " 4   mnth        17379 non-null  int64  \n",
            " 5   hr          17379 non-null  int64  \n",
            " 6   holiday     17379 non-null  int64  \n",
            " 7   weekday     17379 non-null  int64  \n",
            " 8   workingday  17379 non-null  int64  \n",
            " 9   weathersit  17379 non-null  int64  \n",
            " 10  temp        17379 non-null  float64\n",
            " 11  atemp       17379 non-null  float64\n",
            " 12  hum         17379 non-null  float64\n",
            " 13  windspeed   17379 non-null  float64\n",
            " 14  casual      17379 non-null  int64  \n",
            " 15  registered  17379 non-null  int64  \n",
            " 16  cnt         17379 non-null  int64  \n",
            "dtypes: float64(4), int64(12), object(1)\n",
            "memory usage: 2.3+ MB\n"
          ]
        },
        {
          "data": {
            "text/plain": [
              "None"
            ]
          },
          "metadata": {},
          "output_type": "display_data"
        }
      ],
      "source": [
        "display(df1.info())\n",
        "display(df2.info())"
      ]
    },
    {
      "cell_type": "code",
      "execution_count": 9,
      "metadata": {},
      "outputs": [
        {
          "data": {
            "application/vnd.microsoft.datawrangler.viewer.v0+json": {
              "columns": [
                {
                  "name": "index",
                  "rawType": "object",
                  "type": "string"
                },
                {
                  "name": "instant",
                  "rawType": "float64",
                  "type": "float"
                },
                {
                  "name": "season",
                  "rawType": "float64",
                  "type": "float"
                },
                {
                  "name": "yr",
                  "rawType": "float64",
                  "type": "float"
                },
                {
                  "name": "mnth",
                  "rawType": "float64",
                  "type": "float"
                },
                {
                  "name": "holiday",
                  "rawType": "float64",
                  "type": "float"
                },
                {
                  "name": "weekday",
                  "rawType": "float64",
                  "type": "float"
                },
                {
                  "name": "workingday",
                  "rawType": "float64",
                  "type": "float"
                },
                {
                  "name": "weathersit",
                  "rawType": "float64",
                  "type": "float"
                },
                {
                  "name": "temp",
                  "rawType": "float64",
                  "type": "float"
                },
                {
                  "name": "atemp",
                  "rawType": "float64",
                  "type": "float"
                },
                {
                  "name": "hum",
                  "rawType": "float64",
                  "type": "float"
                },
                {
                  "name": "windspeed",
                  "rawType": "float64",
                  "type": "float"
                },
                {
                  "name": "casual",
                  "rawType": "float64",
                  "type": "float"
                },
                {
                  "name": "registered",
                  "rawType": "float64",
                  "type": "float"
                },
                {
                  "name": "cnt",
                  "rawType": "float64",
                  "type": "float"
                }
              ],
              "conversionMethod": "pd.DataFrame",
              "ref": "5bcc56d4-ea03-40e1-be9a-aee1743bc15f",
              "rows": [
                [
                  "count",
                  "731.0",
                  "731.0",
                  "731.0",
                  "731.0",
                  "731.0",
                  "731.0",
                  "731.0",
                  "731.0",
                  "731.0",
                  "731.0",
                  "731.0",
                  "731.0",
                  "731.0",
                  "731.0",
                  "731.0"
                ],
                [
                  "mean",
                  "366.0",
                  "2.496580027359781",
                  "0.5006839945280438",
                  "6.519835841313269",
                  "0.028727770177838577",
                  "2.997264021887825",
                  "0.6839945280437757",
                  "1.3953488372093024",
                  "0.495384788508892",
                  "0.47435398864569084",
                  "0.6278940629274967",
                  "0.190486211627907",
                  "848.1764705882352",
                  "3656.172366621067",
                  "4504.3488372093025"
                ],
                [
                  "std",
                  "211.16581162678773",
                  "1.1108070927726255",
                  "0.5003418803818264",
                  "3.4519127872562527",
                  "0.16715474262247382",
                  "2.0047869179444824",
                  "0.4652333866777036",
                  "0.5448943419593665",
                  "0.18305099611148878",
                  "0.1629611783863113",
                  "0.14242909513835394",
                  "0.07749787068166941",
                  "686.622488284655",
                  "1560.2563770194536",
                  "1937.2114516187676"
                ],
                [
                  "min",
                  "1.0",
                  "1.0",
                  "0.0",
                  "1.0",
                  "0.0",
                  "0.0",
                  "0.0",
                  "1.0",
                  "0.0591304",
                  "0.0790696",
                  "0.0",
                  "0.0223917",
                  "2.0",
                  "20.0",
                  "22.0"
                ],
                [
                  "25%",
                  "183.5",
                  "2.0",
                  "0.0",
                  "4.0",
                  "0.0",
                  "1.0",
                  "0.0",
                  "1.0",
                  "0.3370835",
                  "0.3378425",
                  "0.52",
                  "0.13495",
                  "315.5",
                  "2497.0",
                  "3152.0"
                ],
                [
                  "50%",
                  "366.0",
                  "3.0",
                  "1.0",
                  "7.0",
                  "0.0",
                  "3.0",
                  "1.0",
                  "1.0",
                  "0.498333",
                  "0.486733",
                  "0.626667",
                  "0.180975",
                  "713.0",
                  "3662.0",
                  "4548.0"
                ],
                [
                  "75%",
                  "548.5",
                  "3.0",
                  "1.0",
                  "10.0",
                  "0.0",
                  "5.0",
                  "1.0",
                  "2.0",
                  "0.6554165000000001",
                  "0.6086020000000001",
                  "0.7302085",
                  "0.2332145",
                  "1096.0",
                  "4776.5",
                  "5956.0"
                ],
                [
                  "max",
                  "731.0",
                  "4.0",
                  "1.0",
                  "12.0",
                  "1.0",
                  "6.0",
                  "1.0",
                  "3.0",
                  "0.861667",
                  "0.840896",
                  "0.9725",
                  "0.507463",
                  "3410.0",
                  "6946.0",
                  "8714.0"
                ]
              ],
              "shape": {
                "columns": 15,
                "rows": 8
              }
            },
            "text/html": [
              "<div>\n",
              "<style scoped>\n",
              "    .dataframe tbody tr th:only-of-type {\n",
              "        vertical-align: middle;\n",
              "    }\n",
              "\n",
              "    .dataframe tbody tr th {\n",
              "        vertical-align: top;\n",
              "    }\n",
              "\n",
              "    .dataframe thead th {\n",
              "        text-align: right;\n",
              "    }\n",
              "</style>\n",
              "<table border=\"1\" class=\"dataframe\">\n",
              "  <thead>\n",
              "    <tr style=\"text-align: right;\">\n",
              "      <th></th>\n",
              "      <th>instant</th>\n",
              "      <th>season</th>\n",
              "      <th>yr</th>\n",
              "      <th>mnth</th>\n",
              "      <th>holiday</th>\n",
              "      <th>weekday</th>\n",
              "      <th>workingday</th>\n",
              "      <th>weathersit</th>\n",
              "      <th>temp</th>\n",
              "      <th>atemp</th>\n",
              "      <th>hum</th>\n",
              "      <th>windspeed</th>\n",
              "      <th>casual</th>\n",
              "      <th>registered</th>\n",
              "      <th>cnt</th>\n",
              "    </tr>\n",
              "  </thead>\n",
              "  <tbody>\n",
              "    <tr>\n",
              "      <th>count</th>\n",
              "      <td>731.000000</td>\n",
              "      <td>731.000000</td>\n",
              "      <td>731.000000</td>\n",
              "      <td>731.000000</td>\n",
              "      <td>731.000000</td>\n",
              "      <td>731.000000</td>\n",
              "      <td>731.000000</td>\n",
              "      <td>731.000000</td>\n",
              "      <td>731.000000</td>\n",
              "      <td>731.000000</td>\n",
              "      <td>731.000000</td>\n",
              "      <td>731.000000</td>\n",
              "      <td>731.000000</td>\n",
              "      <td>731.000000</td>\n",
              "      <td>731.000000</td>\n",
              "    </tr>\n",
              "    <tr>\n",
              "      <th>mean</th>\n",
              "      <td>366.000000</td>\n",
              "      <td>2.496580</td>\n",
              "      <td>0.500684</td>\n",
              "      <td>6.519836</td>\n",
              "      <td>0.028728</td>\n",
              "      <td>2.997264</td>\n",
              "      <td>0.683995</td>\n",
              "      <td>1.395349</td>\n",
              "      <td>0.495385</td>\n",
              "      <td>0.474354</td>\n",
              "      <td>0.627894</td>\n",
              "      <td>0.190486</td>\n",
              "      <td>848.176471</td>\n",
              "      <td>3656.172367</td>\n",
              "      <td>4504.348837</td>\n",
              "    </tr>\n",
              "    <tr>\n",
              "      <th>std</th>\n",
              "      <td>211.165812</td>\n",
              "      <td>1.110807</td>\n",
              "      <td>0.500342</td>\n",
              "      <td>3.451913</td>\n",
              "      <td>0.167155</td>\n",
              "      <td>2.004787</td>\n",
              "      <td>0.465233</td>\n",
              "      <td>0.544894</td>\n",
              "      <td>0.183051</td>\n",
              "      <td>0.162961</td>\n",
              "      <td>0.142429</td>\n",
              "      <td>0.077498</td>\n",
              "      <td>686.622488</td>\n",
              "      <td>1560.256377</td>\n",
              "      <td>1937.211452</td>\n",
              "    </tr>\n",
              "    <tr>\n",
              "      <th>min</th>\n",
              "      <td>1.000000</td>\n",
              "      <td>1.000000</td>\n",
              "      <td>0.000000</td>\n",
              "      <td>1.000000</td>\n",
              "      <td>0.000000</td>\n",
              "      <td>0.000000</td>\n",
              "      <td>0.000000</td>\n",
              "      <td>1.000000</td>\n",
              "      <td>0.059130</td>\n",
              "      <td>0.079070</td>\n",
              "      <td>0.000000</td>\n",
              "      <td>0.022392</td>\n",
              "      <td>2.000000</td>\n",
              "      <td>20.000000</td>\n",
              "      <td>22.000000</td>\n",
              "    </tr>\n",
              "    <tr>\n",
              "      <th>25%</th>\n",
              "      <td>183.500000</td>\n",
              "      <td>2.000000</td>\n",
              "      <td>0.000000</td>\n",
              "      <td>4.000000</td>\n",
              "      <td>0.000000</td>\n",
              "      <td>1.000000</td>\n",
              "      <td>0.000000</td>\n",
              "      <td>1.000000</td>\n",
              "      <td>0.337083</td>\n",
              "      <td>0.337842</td>\n",
              "      <td>0.520000</td>\n",
              "      <td>0.134950</td>\n",
              "      <td>315.500000</td>\n",
              "      <td>2497.000000</td>\n",
              "      <td>3152.000000</td>\n",
              "    </tr>\n",
              "    <tr>\n",
              "      <th>50%</th>\n",
              "      <td>366.000000</td>\n",
              "      <td>3.000000</td>\n",
              "      <td>1.000000</td>\n",
              "      <td>7.000000</td>\n",
              "      <td>0.000000</td>\n",
              "      <td>3.000000</td>\n",
              "      <td>1.000000</td>\n",
              "      <td>1.000000</td>\n",
              "      <td>0.498333</td>\n",
              "      <td>0.486733</td>\n",
              "      <td>0.626667</td>\n",
              "      <td>0.180975</td>\n",
              "      <td>713.000000</td>\n",
              "      <td>3662.000000</td>\n",
              "      <td>4548.000000</td>\n",
              "    </tr>\n",
              "    <tr>\n",
              "      <th>75%</th>\n",
              "      <td>548.500000</td>\n",
              "      <td>3.000000</td>\n",
              "      <td>1.000000</td>\n",
              "      <td>10.000000</td>\n",
              "      <td>0.000000</td>\n",
              "      <td>5.000000</td>\n",
              "      <td>1.000000</td>\n",
              "      <td>2.000000</td>\n",
              "      <td>0.655417</td>\n",
              "      <td>0.608602</td>\n",
              "      <td>0.730209</td>\n",
              "      <td>0.233214</td>\n",
              "      <td>1096.000000</td>\n",
              "      <td>4776.500000</td>\n",
              "      <td>5956.000000</td>\n",
              "    </tr>\n",
              "    <tr>\n",
              "      <th>max</th>\n",
              "      <td>731.000000</td>\n",
              "      <td>4.000000</td>\n",
              "      <td>1.000000</td>\n",
              "      <td>12.000000</td>\n",
              "      <td>1.000000</td>\n",
              "      <td>6.000000</td>\n",
              "      <td>1.000000</td>\n",
              "      <td>3.000000</td>\n",
              "      <td>0.861667</td>\n",
              "      <td>0.840896</td>\n",
              "      <td>0.972500</td>\n",
              "      <td>0.507463</td>\n",
              "      <td>3410.000000</td>\n",
              "      <td>6946.000000</td>\n",
              "      <td>8714.000000</td>\n",
              "    </tr>\n",
              "  </tbody>\n",
              "</table>\n",
              "</div>"
            ],
            "text/plain": [
              "          instant      season          yr        mnth     holiday     weekday  \\\n",
              "count  731.000000  731.000000  731.000000  731.000000  731.000000  731.000000   \n",
              "mean   366.000000    2.496580    0.500684    6.519836    0.028728    2.997264   \n",
              "std    211.165812    1.110807    0.500342    3.451913    0.167155    2.004787   \n",
              "min      1.000000    1.000000    0.000000    1.000000    0.000000    0.000000   \n",
              "25%    183.500000    2.000000    0.000000    4.000000    0.000000    1.000000   \n",
              "50%    366.000000    3.000000    1.000000    7.000000    0.000000    3.000000   \n",
              "75%    548.500000    3.000000    1.000000   10.000000    0.000000    5.000000   \n",
              "max    731.000000    4.000000    1.000000   12.000000    1.000000    6.000000   \n",
              "\n",
              "       workingday  weathersit        temp       atemp         hum   windspeed  \\\n",
              "count  731.000000  731.000000  731.000000  731.000000  731.000000  731.000000   \n",
              "mean     0.683995    1.395349    0.495385    0.474354    0.627894    0.190486   \n",
              "std      0.465233    0.544894    0.183051    0.162961    0.142429    0.077498   \n",
              "min      0.000000    1.000000    0.059130    0.079070    0.000000    0.022392   \n",
              "25%      0.000000    1.000000    0.337083    0.337842    0.520000    0.134950   \n",
              "50%      1.000000    1.000000    0.498333    0.486733    0.626667    0.180975   \n",
              "75%      1.000000    2.000000    0.655417    0.608602    0.730209    0.233214   \n",
              "max      1.000000    3.000000    0.861667    0.840896    0.972500    0.507463   \n",
              "\n",
              "            casual   registered          cnt  \n",
              "count   731.000000   731.000000   731.000000  \n",
              "mean    848.176471  3656.172367  4504.348837  \n",
              "std     686.622488  1560.256377  1937.211452  \n",
              "min       2.000000    20.000000    22.000000  \n",
              "25%     315.500000  2497.000000  3152.000000  \n",
              "50%     713.000000  3662.000000  4548.000000  \n",
              "75%    1096.000000  4776.500000  5956.000000  \n",
              "max    3410.000000  6946.000000  8714.000000  "
            ]
          },
          "execution_count": 9,
          "metadata": {},
          "output_type": "execute_result"
        }
      ],
      "source": [
        "df1.describe()"
      ]
    },
    {
      "cell_type": "code",
      "execution_count": 10,
      "metadata": {},
      "outputs": [
        {
          "data": {
            "application/vnd.microsoft.datawrangler.viewer.v0+json": {
              "columns": [
                {
                  "name": "index",
                  "rawType": "object",
                  "type": "string"
                },
                {
                  "name": "instant",
                  "rawType": "float64",
                  "type": "float"
                },
                {
                  "name": "season",
                  "rawType": "float64",
                  "type": "float"
                },
                {
                  "name": "yr",
                  "rawType": "float64",
                  "type": "float"
                },
                {
                  "name": "mnth",
                  "rawType": "float64",
                  "type": "float"
                },
                {
                  "name": "hr",
                  "rawType": "float64",
                  "type": "float"
                },
                {
                  "name": "holiday",
                  "rawType": "float64",
                  "type": "float"
                },
                {
                  "name": "weekday",
                  "rawType": "float64",
                  "type": "float"
                },
                {
                  "name": "workingday",
                  "rawType": "float64",
                  "type": "float"
                },
                {
                  "name": "weathersit",
                  "rawType": "float64",
                  "type": "float"
                },
                {
                  "name": "temp",
                  "rawType": "float64",
                  "type": "float"
                },
                {
                  "name": "atemp",
                  "rawType": "float64",
                  "type": "float"
                },
                {
                  "name": "hum",
                  "rawType": "float64",
                  "type": "float"
                },
                {
                  "name": "windspeed",
                  "rawType": "float64",
                  "type": "float"
                },
                {
                  "name": "casual",
                  "rawType": "float64",
                  "type": "float"
                },
                {
                  "name": "registered",
                  "rawType": "float64",
                  "type": "float"
                },
                {
                  "name": "cnt",
                  "rawType": "float64",
                  "type": "float"
                }
              ],
              "conversionMethod": "pd.DataFrame",
              "ref": "17882bb8-ad3c-42c7-bc45-1b5cc75f93f9",
              "rows": [
                [
                  "count",
                  "17379.0",
                  "17379.0",
                  "17379.0",
                  "17379.0",
                  "17379.0",
                  "17379.0",
                  "17379.0",
                  "17379.0",
                  "17379.0",
                  "17379.0",
                  "17379.0",
                  "17379.0",
                  "17379.0",
                  "17379.0",
                  "17379.0",
                  "17379.0"
                ],
                [
                  "mean",
                  "8690.0",
                  "2.5016399102364923",
                  "0.5025605615973301",
                  "6.537775476149376",
                  "11.546751826917545",
                  "0.028770355026181024",
                  "3.003682605443351",
                  "0.6827205247712756",
                  "1.425283387997008",
                  "0.4969871684216583",
                  "0.4757751021347604",
                  "0.6272288394038783",
                  "0.1900976063064618",
                  "35.67621842453536",
                  "153.78686920996606",
                  "189.46308763450142"
                ],
                [
                  "std",
                  "5017.029499614288",
                  "1.1069181394480763",
                  "0.5000078290910197",
                  "3.4387757137501653",
                  "6.9144050952644935",
                  "0.16716527638437123",
                  "2.005771456110988",
                  "0.46543063352388286",
                  "0.6393568777542534",
                  "0.1925561212497219",
                  "0.17185021563535943",
                  "0.19292983406291508",
                  "0.12234022857279049",
                  "49.30503038705308",
                  "151.35728591258314",
                  "181.38759909186473"
                ],
                [
                  "min",
                  "1.0",
                  "1.0",
                  "0.0",
                  "1.0",
                  "0.0",
                  "0.0",
                  "0.0",
                  "0.0",
                  "1.0",
                  "0.02",
                  "0.0",
                  "0.0",
                  "0.0",
                  "0.0",
                  "0.0",
                  "1.0"
                ],
                [
                  "25%",
                  "4345.5",
                  "2.0",
                  "0.0",
                  "4.0",
                  "6.0",
                  "0.0",
                  "1.0",
                  "0.0",
                  "1.0",
                  "0.34",
                  "0.3333",
                  "0.48",
                  "0.1045",
                  "4.0",
                  "34.0",
                  "40.0"
                ],
                [
                  "50%",
                  "8690.0",
                  "3.0",
                  "1.0",
                  "7.0",
                  "12.0",
                  "0.0",
                  "3.0",
                  "1.0",
                  "1.0",
                  "0.5",
                  "0.4848",
                  "0.63",
                  "0.194",
                  "17.0",
                  "115.0",
                  "142.0"
                ],
                [
                  "75%",
                  "13034.5",
                  "3.0",
                  "1.0",
                  "10.0",
                  "18.0",
                  "0.0",
                  "5.0",
                  "1.0",
                  "2.0",
                  "0.66",
                  "0.6212",
                  "0.78",
                  "0.2537",
                  "48.0",
                  "220.0",
                  "281.0"
                ],
                [
                  "max",
                  "17379.0",
                  "4.0",
                  "1.0",
                  "12.0",
                  "23.0",
                  "1.0",
                  "6.0",
                  "1.0",
                  "4.0",
                  "1.0",
                  "1.0",
                  "1.0",
                  "0.8507",
                  "367.0",
                  "886.0",
                  "977.0"
                ]
              ],
              "shape": {
                "columns": 16,
                "rows": 8
              }
            },
            "text/html": [
              "<div>\n",
              "<style scoped>\n",
              "    .dataframe tbody tr th:only-of-type {\n",
              "        vertical-align: middle;\n",
              "    }\n",
              "\n",
              "    .dataframe tbody tr th {\n",
              "        vertical-align: top;\n",
              "    }\n",
              "\n",
              "    .dataframe thead th {\n",
              "        text-align: right;\n",
              "    }\n",
              "</style>\n",
              "<table border=\"1\" class=\"dataframe\">\n",
              "  <thead>\n",
              "    <tr style=\"text-align: right;\">\n",
              "      <th></th>\n",
              "      <th>instant</th>\n",
              "      <th>season</th>\n",
              "      <th>yr</th>\n",
              "      <th>mnth</th>\n",
              "      <th>hr</th>\n",
              "      <th>holiday</th>\n",
              "      <th>weekday</th>\n",
              "      <th>workingday</th>\n",
              "      <th>weathersit</th>\n",
              "      <th>temp</th>\n",
              "      <th>atemp</th>\n",
              "      <th>hum</th>\n",
              "      <th>windspeed</th>\n",
              "      <th>casual</th>\n",
              "      <th>registered</th>\n",
              "      <th>cnt</th>\n",
              "    </tr>\n",
              "  </thead>\n",
              "  <tbody>\n",
              "    <tr>\n",
              "      <th>count</th>\n",
              "      <td>17379.0000</td>\n",
              "      <td>17379.000000</td>\n",
              "      <td>17379.000000</td>\n",
              "      <td>17379.000000</td>\n",
              "      <td>17379.000000</td>\n",
              "      <td>17379.000000</td>\n",
              "      <td>17379.000000</td>\n",
              "      <td>17379.000000</td>\n",
              "      <td>17379.000000</td>\n",
              "      <td>17379.000000</td>\n",
              "      <td>17379.000000</td>\n",
              "      <td>17379.000000</td>\n",
              "      <td>17379.000000</td>\n",
              "      <td>17379.000000</td>\n",
              "      <td>17379.000000</td>\n",
              "      <td>17379.000000</td>\n",
              "    </tr>\n",
              "    <tr>\n",
              "      <th>mean</th>\n",
              "      <td>8690.0000</td>\n",
              "      <td>2.501640</td>\n",
              "      <td>0.502561</td>\n",
              "      <td>6.537775</td>\n",
              "      <td>11.546752</td>\n",
              "      <td>0.028770</td>\n",
              "      <td>3.003683</td>\n",
              "      <td>0.682721</td>\n",
              "      <td>1.425283</td>\n",
              "      <td>0.496987</td>\n",
              "      <td>0.475775</td>\n",
              "      <td>0.627229</td>\n",
              "      <td>0.190098</td>\n",
              "      <td>35.676218</td>\n",
              "      <td>153.786869</td>\n",
              "      <td>189.463088</td>\n",
              "    </tr>\n",
              "    <tr>\n",
              "      <th>std</th>\n",
              "      <td>5017.0295</td>\n",
              "      <td>1.106918</td>\n",
              "      <td>0.500008</td>\n",
              "      <td>3.438776</td>\n",
              "      <td>6.914405</td>\n",
              "      <td>0.167165</td>\n",
              "      <td>2.005771</td>\n",
              "      <td>0.465431</td>\n",
              "      <td>0.639357</td>\n",
              "      <td>0.192556</td>\n",
              "      <td>0.171850</td>\n",
              "      <td>0.192930</td>\n",
              "      <td>0.122340</td>\n",
              "      <td>49.305030</td>\n",
              "      <td>151.357286</td>\n",
              "      <td>181.387599</td>\n",
              "    </tr>\n",
              "    <tr>\n",
              "      <th>min</th>\n",
              "      <td>1.0000</td>\n",
              "      <td>1.000000</td>\n",
              "      <td>0.000000</td>\n",
              "      <td>1.000000</td>\n",
              "      <td>0.000000</td>\n",
              "      <td>0.000000</td>\n",
              "      <td>0.000000</td>\n",
              "      <td>0.000000</td>\n",
              "      <td>1.000000</td>\n",
              "      <td>0.020000</td>\n",
              "      <td>0.000000</td>\n",
              "      <td>0.000000</td>\n",
              "      <td>0.000000</td>\n",
              "      <td>0.000000</td>\n",
              "      <td>0.000000</td>\n",
              "      <td>1.000000</td>\n",
              "    </tr>\n",
              "    <tr>\n",
              "      <th>25%</th>\n",
              "      <td>4345.5000</td>\n",
              "      <td>2.000000</td>\n",
              "      <td>0.000000</td>\n",
              "      <td>4.000000</td>\n",
              "      <td>6.000000</td>\n",
              "      <td>0.000000</td>\n",
              "      <td>1.000000</td>\n",
              "      <td>0.000000</td>\n",
              "      <td>1.000000</td>\n",
              "      <td>0.340000</td>\n",
              "      <td>0.333300</td>\n",
              "      <td>0.480000</td>\n",
              "      <td>0.104500</td>\n",
              "      <td>4.000000</td>\n",
              "      <td>34.000000</td>\n",
              "      <td>40.000000</td>\n",
              "    </tr>\n",
              "    <tr>\n",
              "      <th>50%</th>\n",
              "      <td>8690.0000</td>\n",
              "      <td>3.000000</td>\n",
              "      <td>1.000000</td>\n",
              "      <td>7.000000</td>\n",
              "      <td>12.000000</td>\n",
              "      <td>0.000000</td>\n",
              "      <td>3.000000</td>\n",
              "      <td>1.000000</td>\n",
              "      <td>1.000000</td>\n",
              "      <td>0.500000</td>\n",
              "      <td>0.484800</td>\n",
              "      <td>0.630000</td>\n",
              "      <td>0.194000</td>\n",
              "      <td>17.000000</td>\n",
              "      <td>115.000000</td>\n",
              "      <td>142.000000</td>\n",
              "    </tr>\n",
              "    <tr>\n",
              "      <th>75%</th>\n",
              "      <td>13034.5000</td>\n",
              "      <td>3.000000</td>\n",
              "      <td>1.000000</td>\n",
              "      <td>10.000000</td>\n",
              "      <td>18.000000</td>\n",
              "      <td>0.000000</td>\n",
              "      <td>5.000000</td>\n",
              "      <td>1.000000</td>\n",
              "      <td>2.000000</td>\n",
              "      <td>0.660000</td>\n",
              "      <td>0.621200</td>\n",
              "      <td>0.780000</td>\n",
              "      <td>0.253700</td>\n",
              "      <td>48.000000</td>\n",
              "      <td>220.000000</td>\n",
              "      <td>281.000000</td>\n",
              "    </tr>\n",
              "    <tr>\n",
              "      <th>max</th>\n",
              "      <td>17379.0000</td>\n",
              "      <td>4.000000</td>\n",
              "      <td>1.000000</td>\n",
              "      <td>12.000000</td>\n",
              "      <td>23.000000</td>\n",
              "      <td>1.000000</td>\n",
              "      <td>6.000000</td>\n",
              "      <td>1.000000</td>\n",
              "      <td>4.000000</td>\n",
              "      <td>1.000000</td>\n",
              "      <td>1.000000</td>\n",
              "      <td>1.000000</td>\n",
              "      <td>0.850700</td>\n",
              "      <td>367.000000</td>\n",
              "      <td>886.000000</td>\n",
              "      <td>977.000000</td>\n",
              "    </tr>\n",
              "  </tbody>\n",
              "</table>\n",
              "</div>"
            ],
            "text/plain": [
              "          instant        season            yr          mnth            hr  \\\n",
              "count  17379.0000  17379.000000  17379.000000  17379.000000  17379.000000   \n",
              "mean    8690.0000      2.501640      0.502561      6.537775     11.546752   \n",
              "std     5017.0295      1.106918      0.500008      3.438776      6.914405   \n",
              "min        1.0000      1.000000      0.000000      1.000000      0.000000   \n",
              "25%     4345.5000      2.000000      0.000000      4.000000      6.000000   \n",
              "50%     8690.0000      3.000000      1.000000      7.000000     12.000000   \n",
              "75%    13034.5000      3.000000      1.000000     10.000000     18.000000   \n",
              "max    17379.0000      4.000000      1.000000     12.000000     23.000000   \n",
              "\n",
              "            holiday       weekday    workingday    weathersit          temp  \\\n",
              "count  17379.000000  17379.000000  17379.000000  17379.000000  17379.000000   \n",
              "mean       0.028770      3.003683      0.682721      1.425283      0.496987   \n",
              "std        0.167165      2.005771      0.465431      0.639357      0.192556   \n",
              "min        0.000000      0.000000      0.000000      1.000000      0.020000   \n",
              "25%        0.000000      1.000000      0.000000      1.000000      0.340000   \n",
              "50%        0.000000      3.000000      1.000000      1.000000      0.500000   \n",
              "75%        0.000000      5.000000      1.000000      2.000000      0.660000   \n",
              "max        1.000000      6.000000      1.000000      4.000000      1.000000   \n",
              "\n",
              "              atemp           hum     windspeed        casual    registered  \\\n",
              "count  17379.000000  17379.000000  17379.000000  17379.000000  17379.000000   \n",
              "mean       0.475775      0.627229      0.190098     35.676218    153.786869   \n",
              "std        0.171850      0.192930      0.122340     49.305030    151.357286   \n",
              "min        0.000000      0.000000      0.000000      0.000000      0.000000   \n",
              "25%        0.333300      0.480000      0.104500      4.000000     34.000000   \n",
              "50%        0.484800      0.630000      0.194000     17.000000    115.000000   \n",
              "75%        0.621200      0.780000      0.253700     48.000000    220.000000   \n",
              "max        1.000000      1.000000      0.850700    367.000000    886.000000   \n",
              "\n",
              "                cnt  \n",
              "count  17379.000000  \n",
              "mean     189.463088  \n",
              "std      181.387599  \n",
              "min        1.000000  \n",
              "25%       40.000000  \n",
              "50%      142.000000  \n",
              "75%      281.000000  \n",
              "max      977.000000  "
            ]
          },
          "execution_count": 10,
          "metadata": {},
          "output_type": "execute_result"
        }
      ],
      "source": [
        "df2.describe()"
      ]
    },
    {
      "cell_type": "markdown",
      "metadata": {
        "id": "7dtxhAPrkhPL"
      },
      "source": [
        "**Insight:**\n",
        "- Berdasarkan hasil kode program mengukur data day, tidak ada missing values maupun duplicates, penjelasan informasi mengenai tipe data pada setiap kolom dengan perhitungan banyaknya null, serta tidak ada inaccurate values .\n",
        "- Berdasarkan hasil kode program mengukur data hour, tidak ada missing values maupun duplicates dan penjelasan informasi mengenai tipe data pada setiap kolom dengan perhitungan banyaknya null, serta tidak ada inaccurate values.\n",
        "- Dapat disimpulkan bahwa data day dan hour tidak memiliki missing values, duplicates, inaccurate values karena tidak terdapat keanehan atau anomali pada setiap kolom, sehingga tidak ada masalah "
      ]
    },
    {
      "cell_type": "markdown",
      "metadata": {
        "id": "EhN5R4hr8DC1"
      },
      "source": [
        "### Cleaning Data"
      ]
    },
    {
      "cell_type": "code",
      "execution_count": 11,
      "metadata": {
        "id": "jVnYpprE9Evz"
      },
      "outputs": [],
      "source": [
        "# df1.fillna()\n",
        "# df1.drop_duplicates()"
      ]
    },
    {
      "cell_type": "markdown",
      "metadata": {
        "id": "Q_5ejIqckiSP"
      },
      "source": [
        "**Insight:**\n",
        "- Data day telah bersih dan tidak di-cleaning dengan alasan tidak ada anomali pada setiap kolom\n",
        "- Data hour telah bersih dan tidak di-cleaning dengan alasan tidak ada anomali pada setiap kolom\n",
        "- Keduanya telah dijelaskan sebelumnya pada insight di tahap Assessing Data"
      ]
    },
    {
      "cell_type": "markdown",
      "metadata": {
        "id": "gp-Y6wU38DC1"
      },
      "source": [
        "## Exploratory Data Analysis (EDA)"
      ]
    },
    {
      "cell_type": "markdown",
      "metadata": {},
      "source": [
        "### Define questions for Explore Data"
      ]
    },
    {
      "cell_type": "markdown",
      "metadata": {},
      "source": [
        "- Cuaca apa yang paling sering muncul pada berbagai hari?\n",
        "- Cuaca apa yang paling sering muncul pada berbagai jam?"
      ]
    },
    {
      "cell_type": "markdown",
      "metadata": {
        "id": "MW7WF2kr8DC1"
      },
      "source": [
        "### Explore statistic parameter from data"
      ]
    },
    {
      "cell_type": "markdown",
      "metadata": {},
      "source": [
        "#### Data Day"
      ]
    },
    {
      "cell_type": "code",
      "execution_count": 12,
      "metadata": {},
      "outputs": [
        {
          "data": {
            "application/vnd.microsoft.datawrangler.viewer.v0+json": {
              "columns": [
                {
                  "name": "season",
                  "rawType": "int64",
                  "type": "integer"
                },
                {
                  "name": "('weekday', 'count')",
                  "rawType": "float64",
                  "type": "float"
                },
                {
                  "name": "('weekday', 'mean')",
                  "rawType": "float64",
                  "type": "float"
                },
                {
                  "name": "('weekday', 'std')",
                  "rawType": "float64",
                  "type": "float"
                },
                {
                  "name": "('weekday', 'min')",
                  "rawType": "float64",
                  "type": "float"
                },
                {
                  "name": "('weekday', '25%')",
                  "rawType": "float64",
                  "type": "float"
                },
                {
                  "name": "('weekday', '50%')",
                  "rawType": "float64",
                  "type": "float"
                },
                {
                  "name": "('weekday', '75%')",
                  "rawType": "float64",
                  "type": "float"
                },
                {
                  "name": "('weekday', 'max')",
                  "rawType": "float64",
                  "type": "float"
                }
              ],
              "conversionMethod": "pd.DataFrame",
              "ref": "a831680a-724c-4f11-a4af-9c891cc3877d",
              "rows": [
                [
                  "1",
                  "181.0",
                  "3.0",
                  "2.0330600909302543",
                  "0.0",
                  "1.0",
                  "3.0",
                  "5.0",
                  "6.0"
                ],
                [
                  "2",
                  "184.0",
                  "2.989130434782609",
                  "1.9999703015138786",
                  "0.0",
                  "1.0",
                  "3.0",
                  "5.0",
                  "6.0"
                ],
                [
                  "3",
                  "188.0",
                  "3.0319148936170213",
                  "1.9943885324546518",
                  "0.0",
                  "1.0",
                  "3.0",
                  "5.0",
                  "6.0"
                ],
                [
                  "4",
                  "178.0",
                  "2.966292134831461",
                  "2.0081722201015295",
                  "0.0",
                  "1.0",
                  "3.0",
                  "5.0",
                  "6.0"
                ]
              ],
              "shape": {
                "columns": 8,
                "rows": 4
              }
            },
            "text/html": [
              "<div>\n",
              "<style scoped>\n",
              "    .dataframe tbody tr th:only-of-type {\n",
              "        vertical-align: middle;\n",
              "    }\n",
              "\n",
              "    .dataframe tbody tr th {\n",
              "        vertical-align: top;\n",
              "    }\n",
              "\n",
              "    .dataframe thead tr th {\n",
              "        text-align: left;\n",
              "    }\n",
              "\n",
              "    .dataframe thead tr:last-of-type th {\n",
              "        text-align: right;\n",
              "    }\n",
              "</style>\n",
              "<table border=\"1\" class=\"dataframe\">\n",
              "  <thead>\n",
              "    <tr>\n",
              "      <th></th>\n",
              "      <th colspan=\"8\" halign=\"left\">weekday</th>\n",
              "    </tr>\n",
              "    <tr>\n",
              "      <th></th>\n",
              "      <th>count</th>\n",
              "      <th>mean</th>\n",
              "      <th>std</th>\n",
              "      <th>min</th>\n",
              "      <th>25%</th>\n",
              "      <th>50%</th>\n",
              "      <th>75%</th>\n",
              "      <th>max</th>\n",
              "    </tr>\n",
              "    <tr>\n",
              "      <th>season</th>\n",
              "      <th></th>\n",
              "      <th></th>\n",
              "      <th></th>\n",
              "      <th></th>\n",
              "      <th></th>\n",
              "      <th></th>\n",
              "      <th></th>\n",
              "      <th></th>\n",
              "    </tr>\n",
              "  </thead>\n",
              "  <tbody>\n",
              "    <tr>\n",
              "      <th>1</th>\n",
              "      <td>181.0</td>\n",
              "      <td>3.000000</td>\n",
              "      <td>2.033060</td>\n",
              "      <td>0.0</td>\n",
              "      <td>1.0</td>\n",
              "      <td>3.0</td>\n",
              "      <td>5.0</td>\n",
              "      <td>6.0</td>\n",
              "    </tr>\n",
              "    <tr>\n",
              "      <th>2</th>\n",
              "      <td>184.0</td>\n",
              "      <td>2.989130</td>\n",
              "      <td>1.999970</td>\n",
              "      <td>0.0</td>\n",
              "      <td>1.0</td>\n",
              "      <td>3.0</td>\n",
              "      <td>5.0</td>\n",
              "      <td>6.0</td>\n",
              "    </tr>\n",
              "    <tr>\n",
              "      <th>3</th>\n",
              "      <td>188.0</td>\n",
              "      <td>3.031915</td>\n",
              "      <td>1.994389</td>\n",
              "      <td>0.0</td>\n",
              "      <td>1.0</td>\n",
              "      <td>3.0</td>\n",
              "      <td>5.0</td>\n",
              "      <td>6.0</td>\n",
              "    </tr>\n",
              "    <tr>\n",
              "      <th>4</th>\n",
              "      <td>178.0</td>\n",
              "      <td>2.966292</td>\n",
              "      <td>2.008172</td>\n",
              "      <td>0.0</td>\n",
              "      <td>1.0</td>\n",
              "      <td>3.0</td>\n",
              "      <td>5.0</td>\n",
              "      <td>6.0</td>\n",
              "    </tr>\n",
              "  </tbody>\n",
              "</table>\n",
              "</div>"
            ],
            "text/plain": [
              "       weekday                                             \n",
              "         count      mean       std  min  25%  50%  75%  max\n",
              "season                                                     \n",
              "1        181.0  3.000000  2.033060  0.0  1.0  3.0  5.0  6.0\n",
              "2        184.0  2.989130  1.999970  0.0  1.0  3.0  5.0  6.0\n",
              "3        188.0  3.031915  1.994389  0.0  1.0  3.0  5.0  6.0\n",
              "4        178.0  2.966292  2.008172  0.0  1.0  3.0  5.0  6.0"
            ]
          },
          "metadata": {},
          "output_type": "display_data"
        }
      ],
      "source": [
        "df1 = pd.DataFrame(df1, columns = (\"season\", \"weekday\"))\n",
        "df1_season = df1.groupby(by=\"season\")\n",
        "display(df1_season.describe())"
      ]
    },
    {
      "cell_type": "code",
      "execution_count": 13,
      "metadata": {},
      "outputs": [
        {
          "data": {
            "application/vnd.microsoft.datawrangler.viewer.v0+json": {
              "columns": [
                {
                  "name": "index",
                  "rawType": "object",
                  "type": "string"
                },
                {
                  "name": "season",
                  "rawType": "float64",
                  "type": "float"
                },
                {
                  "name": "weekday",
                  "rawType": "float64",
                  "type": "float"
                }
              ],
              "conversionMethod": "pd.DataFrame",
              "ref": "7c3decff-7a12-4fe5-9d4a-6d6cc0e645eb",
              "rows": [
                [
                  "count",
                  "731.0",
                  "731.0"
                ],
                [
                  "mean",
                  "2.496580027359781",
                  "2.997264021887825"
                ],
                [
                  "std",
                  "1.1108070927726255",
                  "2.0047869179444824"
                ],
                [
                  "min",
                  "1.0",
                  "0.0"
                ],
                [
                  "25%",
                  "2.0",
                  "1.0"
                ],
                [
                  "50%",
                  "3.0",
                  "3.0"
                ],
                [
                  "75%",
                  "3.0",
                  "5.0"
                ],
                [
                  "max",
                  "4.0",
                  "6.0"
                ]
              ],
              "shape": {
                "columns": 2,
                "rows": 8
              }
            },
            "text/html": [
              "<div>\n",
              "<style scoped>\n",
              "    .dataframe tbody tr th:only-of-type {\n",
              "        vertical-align: middle;\n",
              "    }\n",
              "\n",
              "    .dataframe tbody tr th {\n",
              "        vertical-align: top;\n",
              "    }\n",
              "\n",
              "    .dataframe thead th {\n",
              "        text-align: right;\n",
              "    }\n",
              "</style>\n",
              "<table border=\"1\" class=\"dataframe\">\n",
              "  <thead>\n",
              "    <tr style=\"text-align: right;\">\n",
              "      <th></th>\n",
              "      <th>season</th>\n",
              "      <th>weekday</th>\n",
              "    </tr>\n",
              "  </thead>\n",
              "  <tbody>\n",
              "    <tr>\n",
              "      <th>count</th>\n",
              "      <td>731.000000</td>\n",
              "      <td>731.000000</td>\n",
              "    </tr>\n",
              "    <tr>\n",
              "      <th>mean</th>\n",
              "      <td>2.496580</td>\n",
              "      <td>2.997264</td>\n",
              "    </tr>\n",
              "    <tr>\n",
              "      <th>std</th>\n",
              "      <td>1.110807</td>\n",
              "      <td>2.004787</td>\n",
              "    </tr>\n",
              "    <tr>\n",
              "      <th>min</th>\n",
              "      <td>1.000000</td>\n",
              "      <td>0.000000</td>\n",
              "    </tr>\n",
              "    <tr>\n",
              "      <th>25%</th>\n",
              "      <td>2.000000</td>\n",
              "      <td>1.000000</td>\n",
              "    </tr>\n",
              "    <tr>\n",
              "      <th>50%</th>\n",
              "      <td>3.000000</td>\n",
              "      <td>3.000000</td>\n",
              "    </tr>\n",
              "    <tr>\n",
              "      <th>75%</th>\n",
              "      <td>3.000000</td>\n",
              "      <td>5.000000</td>\n",
              "    </tr>\n",
              "    <tr>\n",
              "      <th>max</th>\n",
              "      <td>4.000000</td>\n",
              "      <td>6.000000</td>\n",
              "    </tr>\n",
              "  </tbody>\n",
              "</table>\n",
              "</div>"
            ],
            "text/plain": [
              "           season     weekday\n",
              "count  731.000000  731.000000\n",
              "mean     2.496580    2.997264\n",
              "std      1.110807    2.004787\n",
              "min      1.000000    0.000000\n",
              "25%      2.000000    1.000000\n",
              "50%      3.000000    3.000000\n",
              "75%      3.000000    5.000000\n",
              "max      4.000000    6.000000"
            ]
          },
          "metadata": {},
          "output_type": "display_data"
        }
      ],
      "source": [
        "display(df1.describe())"
      ]
    },
    {
      "cell_type": "code",
      "execution_count": 14,
      "metadata": {},
      "outputs": [
        {
          "data": {
            "text/plain": [
              "array([[<Axes: title={'center': 'season'}>,\n",
              "        <Axes: title={'center': 'weekday'}>]], dtype=object)"
            ]
          },
          "execution_count": 14,
          "metadata": {},
          "output_type": "execute_result"
        },
        {
          "data": {
            "image/png": "[encoded data removed]",
            "text/plain": [
              "<Figure size 640x480 with 2 Axes>"
            ]
          },
          "metadata": {},
          "output_type": "display_data"
        }
      ],
      "source": [
        "df1.hist()"
      ]
    },
    {
      "cell_type": "code",
      "execution_count": 15,
      "metadata": {},
      "outputs": [
        {
          "data": {
            "application/vnd.microsoft.datawrangler.viewer.v0+json": {
              "columns": [
                {
                  "name": "index",
                  "rawType": "object",
                  "type": "string"
                },
                {
                  "name": "season",
                  "rawType": "float64",
                  "type": "float"
                },
                {
                  "name": "weekday",
                  "rawType": "float64",
                  "type": "float"
                }
              ],
              "conversionMethod": "pd.DataFrame",
              "ref": "acbfd509-3cb3-4aed-936a-17d0924004d9",
              "rows": [
                [
                  "season",
                  "1.0",
                  "-0.0030798813391720477"
                ],
                [
                  "weekday",
                  "-0.0030798813391720477",
                  "1.0"
                ]
              ],
              "shape": {
                "columns": 2,
                "rows": 2
              }
            },
            "text/html": [
              "<div>\n",
              "<style scoped>\n",
              "    .dataframe tbody tr th:only-of-type {\n",
              "        vertical-align: middle;\n",
              "    }\n",
              "\n",
              "    .dataframe tbody tr th {\n",
              "        vertical-align: top;\n",
              "    }\n",
              "\n",
              "    .dataframe thead th {\n",
              "        text-align: right;\n",
              "    }\n",
              "</style>\n",
              "<table border=\"1\" class=\"dataframe\">\n",
              "  <thead>\n",
              "    <tr style=\"text-align: right;\">\n",
              "      <th></th>\n",
              "      <th>season</th>\n",
              "      <th>weekday</th>\n",
              "    </tr>\n",
              "  </thead>\n",
              "  <tbody>\n",
              "    <tr>\n",
              "      <th>season</th>\n",
              "      <td>1.00000</td>\n",
              "      <td>-0.00308</td>\n",
              "    </tr>\n",
              "    <tr>\n",
              "      <th>weekday</th>\n",
              "      <td>-0.00308</td>\n",
              "      <td>1.00000</td>\n",
              "    </tr>\n",
              "  </tbody>\n",
              "</table>\n",
              "</div>"
            ],
            "text/plain": [
              "          season  weekday\n",
              "season   1.00000 -0.00308\n",
              "weekday -0.00308  1.00000"
            ]
          },
          "execution_count": 15,
          "metadata": {},
          "output_type": "execute_result"
        }
      ],
      "source": [
        "df1.corr()"
      ]
    },
    {
      "cell_type": "markdown",
      "metadata": {},
      "source": [
        "#### Data Hour"
      ]
    },
    {
      "cell_type": "code",
      "execution_count": 16,
      "metadata": {},
      "outputs": [
        {
          "data": {
            "application/vnd.microsoft.datawrangler.viewer.v0+json": {
              "columns": [
                {
                  "name": "hr",
                  "rawType": "int64",
                  "type": "integer"
                },
                {
                  "name": "('season', 'count')",
                  "rawType": "float64",
                  "type": "float"
                },
                {
                  "name": "('season', 'mean')",
                  "rawType": "float64",
                  "type": "float"
                },
                {
                  "name": "('season', 'std')",
                  "rawType": "float64",
                  "type": "float"
                },
                {
                  "name": "('season', 'min')",
                  "rawType": "float64",
                  "type": "float"
                },
                {
                  "name": "('season', '25%')",
                  "rawType": "float64",
                  "type": "float"
                },
                {
                  "name": "('season', '50%')",
                  "rawType": "float64",
                  "type": "float"
                },
                {
                  "name": "('season', '75%')",
                  "rawType": "float64",
                  "type": "float"
                },
                {
                  "name": "('season', 'max')",
                  "rawType": "float64",
                  "type": "float"
                }
              ],
              "conversionMethod": "pd.DataFrame",
              "ref": "71f662cf-dc50-4b78-8795-c94178e8eaa2",
              "rows": [
                [
                  "0",
                  "726.0",
                  "2.5",
                  "1.1088981794618444",
                  "1.0",
                  "2.0",
                  "3.0",
                  "3.0",
                  "4.0"
                ],
                [
                  "1",
                  "724.0",
                  "2.4972375690607733",
                  "1.1088693574627928",
                  "1.0",
                  "2.0",
                  "2.5",
                  "3.0",
                  "4.0"
                ],
                [
                  "2",
                  "715.0",
                  "2.511888111888112",
                  "1.1029937305063642",
                  "1.0",
                  "2.0",
                  "3.0",
                  "3.0",
                  "4.0"
                ],
                [
                  "3",
                  "697.0",
                  "2.539454806312769",
                  "1.0927957612930232",
                  "1.0",
                  "2.0",
                  "3.0",
                  "3.0",
                  "4.0"
                ],
                [
                  "4",
                  "697.0",
                  "2.552367288378766",
                  "1.0935670004374005",
                  "1.0",
                  "2.0",
                  "3.0",
                  "4.0",
                  "4.0"
                ],
                [
                  "5",
                  "717.0",
                  "2.513249651324965",
                  "1.104285790265175",
                  "1.0",
                  "2.0",
                  "3.0",
                  "3.0",
                  "4.0"
                ],
                [
                  "6",
                  "725.0",
                  "2.4979310344827588",
                  "1.108260605553957",
                  "1.0",
                  "2.0",
                  "3.0",
                  "3.0",
                  "4.0"
                ],
                [
                  "7",
                  "727.0",
                  "2.4965612104539203",
                  "1.1082842341034043",
                  "1.0",
                  "2.0",
                  "3.0",
                  "3.0",
                  "4.0"
                ],
                [
                  "8",
                  "727.0",
                  "2.4965612104539203",
                  "1.1082842341034043",
                  "1.0",
                  "2.0",
                  "3.0",
                  "3.0",
                  "4.0"
                ],
                [
                  "9",
                  "727.0",
                  "2.4965612104539203",
                  "1.1082842341034043",
                  "1.0",
                  "2.0",
                  "3.0",
                  "3.0",
                  "4.0"
                ],
                [
                  "10",
                  "727.0",
                  "2.4965612104539203",
                  "1.1082842341034043",
                  "1.0",
                  "2.0",
                  "3.0",
                  "3.0",
                  "4.0"
                ],
                [
                  "11",
                  "727.0",
                  "2.4965612104539203",
                  "1.1082842341034043",
                  "1.0",
                  "2.0",
                  "3.0",
                  "3.0",
                  "4.0"
                ],
                [
                  "12",
                  "728.0",
                  "2.4945054945054945",
                  "1.1089097846809906",
                  "1.0",
                  "2.0",
                  "2.5",
                  "3.0",
                  "4.0"
                ],
                [
                  "13",
                  "729.0",
                  "2.4965706447187928",
                  "1.109549845987322",
                  "1.0",
                  "2.0",
                  "3.0",
                  "3.0",
                  "4.0"
                ],
                [
                  "14",
                  "729.0",
                  "2.4965706447187928",
                  "1.109549845987322",
                  "1.0",
                  "2.0",
                  "3.0",
                  "3.0",
                  "4.0"
                ],
                [
                  "15",
                  "729.0",
                  "2.4965706447187928",
                  "1.109549845987322",
                  "1.0",
                  "2.0",
                  "3.0",
                  "3.0",
                  "4.0"
                ],
                [
                  "16",
                  "730.0",
                  "2.4945205479452053",
                  "1.1101712581783478",
                  "1.0",
                  "2.0",
                  "2.5",
                  "3.0",
                  "4.0"
                ],
                [
                  "17",
                  "730.0",
                  "2.4945205479452053",
                  "1.1101712581783478",
                  "1.0",
                  "2.0",
                  "2.5",
                  "3.0",
                  "4.0"
                ],
                [
                  "18",
                  "728.0",
                  "2.495879120879121",
                  "1.110155470333657",
                  "1.0",
                  "2.0",
                  "2.5",
                  "3.0",
                  "4.0"
                ],
                [
                  "19",
                  "728.0",
                  "2.495879120879121",
                  "1.110155470333657",
                  "1.0",
                  "2.0",
                  "2.5",
                  "3.0",
                  "4.0"
                ],
                [
                  "20",
                  "728.0",
                  "2.495879120879121",
                  "1.110155470333657",
                  "1.0",
                  "2.0",
                  "2.5",
                  "3.0",
                  "4.0"
                ],
                [
                  "21",
                  "728.0",
                  "2.495879120879121",
                  "1.110155470333657",
                  "1.0",
                  "2.0",
                  "2.5",
                  "3.0",
                  "4.0"
                ],
                [
                  "22",
                  "728.0",
                  "2.495879120879121",
                  "1.110155470333657",
                  "1.0",
                  "2.0",
                  "2.5",
                  "3.0",
                  "4.0"
                ],
                [
                  "23",
                  "728.0",
                  "2.495879120879121",
                  "1.110155470333657",
                  "1.0",
                  "2.0",
                  "2.5",
                  "3.0",
                  "4.0"
                ]
              ],
              "shape": {
                "columns": 8,
                "rows": 24
              }
            },
            "text/html": [
              "<div>\n",
              "<style scoped>\n",
              "    .dataframe tbody tr th:only-of-type {\n",
              "        vertical-align: middle;\n",
              "    }\n",
              "\n",
              "    .dataframe tbody tr th {\n",
              "        vertical-align: top;\n",
              "    }\n",
              "\n",
              "    .dataframe thead tr th {\n",
              "        text-align: left;\n",
              "    }\n",
              "\n",
              "    .dataframe thead tr:last-of-type th {\n",
              "        text-align: right;\n",
              "    }\n",
              "</style>\n",
              "<table border=\"1\" class=\"dataframe\">\n",
              "  <thead>\n",
              "    <tr>\n",
              "      <th></th>\n",
              "      <th colspan=\"8\" halign=\"left\">season</th>\n",
              "    </tr>\n",
              "    <tr>\n",
              "      <th></th>\n",
              "      <th>count</th>\n",
              "      <th>mean</th>\n",
              "      <th>std</th>\n",
              "      <th>min</th>\n",
              "      <th>25%</th>\n",
              "      <th>50%</th>\n",
              "      <th>75%</th>\n",
              "      <th>max</th>\n",
              "    </tr>\n",
              "    <tr>\n",
              "      <th>hr</th>\n",
              "      <th></th>\n",
              "      <th></th>\n",
              "      <th></th>\n",
              "      <th></th>\n",
              "      <th></th>\n",
              "      <th></th>\n",
              "      <th></th>\n",
              "      <th></th>\n",
              "    </tr>\n",
              "  </thead>\n",
              "  <tbody>\n",
              "    <tr>\n",
              "      <th>0</th>\n",
              "      <td>726.0</td>\n",
              "      <td>2.500000</td>\n",
              "      <td>1.108898</td>\n",
              "      <td>1.0</td>\n",
              "      <td>2.0</td>\n",
              "      <td>3.0</td>\n",
              "      <td>3.0</td>\n",
              "      <td>4.0</td>\n",
              "    </tr>\n",
              "    <tr>\n",
              "      <th>1</th>\n",
              "      <td>724.0</td>\n",
              "      <td>2.497238</td>\n",
              "      <td>1.108869</td>\n",
              "      <td>1.0</td>\n",
              "      <td>2.0</td>\n",
              "      <td>2.5</td>\n",
              "      <td>3.0</td>\n",
              "      <td>4.0</td>\n",
              "    </tr>\n",
              "    <tr>\n",
              "      <th>2</th>\n",
              "      <td>715.0</td>\n",
              "      <td>2.511888</td>\n",
              "      <td>1.102994</td>\n",
              "      <td>1.0</td>\n",
              "      <td>2.0</td>\n",
              "      <td>3.0</td>\n",
              "      <td>3.0</td>\n",
              "      <td>4.0</td>\n",
              "    </tr>\n",
              "    <tr>\n",
              "      <th>3</th>\n",
              "      <td>697.0</td>\n",
              "      <td>2.539455</td>\n",
              "      <td>1.092796</td>\n",
              "      <td>1.0</td>\n",
              "      <td>2.0</td>\n",
              "      <td>3.0</td>\n",
              "      <td>3.0</td>\n",
              "      <td>4.0</td>\n",
              "    </tr>\n",
              "    <tr>\n",
              "      <th>4</th>\n",
              "      <td>697.0</td>\n",
              "      <td>2.552367</td>\n",
              "      <td>1.093567</td>\n",
              "      <td>1.0</td>\n",
              "      <td>2.0</td>\n",
              "      <td>3.0</td>\n",
              "      <td>4.0</td>\n",
              "      <td>4.0</td>\n",
              "    </tr>\n",
              "    <tr>\n",
              "      <th>5</th>\n",
              "      <td>717.0</td>\n",
              "      <td>2.513250</td>\n",
              "      <td>1.104286</td>\n",
              "      <td>1.0</td>\n",
              "      <td>2.0</td>\n",
              "      <td>3.0</td>\n",
              "      <td>3.0</td>\n",
              "      <td>4.0</td>\n",
              "    </tr>\n",
              "    <tr>\n",
              "      <th>6</th>\n",
              "      <td>725.0</td>\n",
              "      <td>2.497931</td>\n",
              "      <td>1.108261</td>\n",
              "      <td>1.0</td>\n",
              "      <td>2.0</td>\n",
              "      <td>3.0</td>\n",
              "      <td>3.0</td>\n",
              "      <td>4.0</td>\n",
              "    </tr>\n",
              "    <tr>\n",
              "      <th>7</th>\n",
              "      <td>727.0</td>\n",
              "      <td>2.496561</td>\n",
              "      <td>1.108284</td>\n",
              "      <td>1.0</td>\n",
              "      <td>2.0</td>\n",
              "      <td>3.0</td>\n",
              "      <td>3.0</td>\n",
              "      <td>4.0</td>\n",
              "    </tr>\n",
              "    <tr>\n",
              "      <th>8</th>\n",
              "      <td>727.0</td>\n",
              "      <td>2.496561</td>\n",
              "      <td>1.108284</td>\n",
              "      <td>1.0</td>\n",
              "      <td>2.0</td>\n",
              "      <td>3.0</td>\n",
              "      <td>3.0</td>\n",
              "      <td>4.0</td>\n",
              "    </tr>\n",
              "    <tr>\n",
              "      <th>9</th>\n",
              "      <td>727.0</td>\n",
              "      <td>2.496561</td>\n",
              "      <td>1.108284</td>\n",
              "      <td>1.0</td>\n",
              "      <td>2.0</td>\n",
              "      <td>3.0</td>\n",
              "      <td>3.0</td>\n",
              "      <td>4.0</td>\n",
              "    </tr>\n",
              "    <tr>\n",
              "      <th>10</th>\n",
              "      <td>727.0</td>\n",
              "      <td>2.496561</td>\n",
              "      <td>1.108284</td>\n",
              "      <td>1.0</td>\n",
              "      <td>2.0</td>\n",
              "      <td>3.0</td>\n",
              "      <td>3.0</td>\n",
              "      <td>4.0</td>\n",
              "    </tr>\n",
              "    <tr>\n",
              "      <th>11</th>\n",
              "      <td>727.0</td>\n",
              "      <td>2.496561</td>\n",
              "      <td>1.108284</td>\n",
              "      <td>1.0</td>\n",
              "      <td>2.0</td>\n",
              "      <td>3.0</td>\n",
              "      <td>3.0</td>\n",
              "      <td>4.0</td>\n",
              "    </tr>\n",
              "    <tr>\n",
              "      <th>12</th>\n",
              "      <td>728.0</td>\n",
              "      <td>2.494505</td>\n",
              "      <td>1.108910</td>\n",
              "      <td>1.0</td>\n",
              "      <td>2.0</td>\n",
              "      <td>2.5</td>\n",
              "      <td>3.0</td>\n",
              "      <td>4.0</td>\n",
              "    </tr>\n",
              "    <tr>\n",
              "      <th>13</th>\n",
              "      <td>729.0</td>\n",
              "      <td>2.496571</td>\n",
              "      <td>1.109550</td>\n",
              "      <td>1.0</td>\n",
              "      <td>2.0</td>\n",
              "      <td>3.0</td>\n",
              "      <td>3.0</td>\n",
              "      <td>4.0</td>\n",
              "    </tr>\n",
              "    <tr>\n",
              "      <th>14</th>\n",
              "      <td>729.0</td>\n",
              "      <td>2.496571</td>\n",
              "      <td>1.109550</td>\n",
              "      <td>1.0</td>\n",
              "      <td>2.0</td>\n",
              "      <td>3.0</td>\n",
              "      <td>3.0</td>\n",
              "      <td>4.0</td>\n",
              "    </tr>\n",
              "    <tr>\n",
              "      <th>15</th>\n",
              "      <td>729.0</td>\n",
              "      <td>2.496571</td>\n",
              "      <td>1.109550</td>\n",
              "      <td>1.0</td>\n",
              "      <td>2.0</td>\n",
              "      <td>3.0</td>\n",
              "      <td>3.0</td>\n",
              "      <td>4.0</td>\n",
              "    </tr>\n",
              "    <tr>\n",
              "      <th>16</th>\n",
              "      <td>730.0</td>\n",
              "      <td>2.494521</td>\n",
              "      <td>1.110171</td>\n",
              "      <td>1.0</td>\n",
              "      <td>2.0</td>\n",
              "      <td>2.5</td>\n",
              "      <td>3.0</td>\n",
              "      <td>4.0</td>\n",
              "    </tr>\n",
              "    <tr>\n",
              "      <th>17</th>\n",
              "      <td>730.0</td>\n",
              "      <td>2.494521</td>\n",
              "      <td>1.110171</td>\n",
              "      <td>1.0</td>\n",
              "      <td>2.0</td>\n",
              "      <td>2.5</td>\n",
              "      <td>3.0</td>\n",
              "      <td>4.0</td>\n",
              "    </tr>\n",
              "    <tr>\n",
              "      <th>18</th>\n",
              "      <td>728.0</td>\n",
              "      <td>2.495879</td>\n",
              "      <td>1.110155</td>\n",
              "      <td>1.0</td>\n",
              "      <td>2.0</td>\n",
              "      <td>2.5</td>\n",
              "      <td>3.0</td>\n",
              "      <td>4.0</td>\n",
              "    </tr>\n",
              "    <tr>\n",
              "      <th>19</th>\n",
              "      <td>728.0</td>\n",
              "      <td>2.495879</td>\n",
              "      <td>1.110155</td>\n",
              "      <td>1.0</td>\n",
              "      <td>2.0</td>\n",
              "      <td>2.5</td>\n",
              "      <td>3.0</td>\n",
              "      <td>4.0</td>\n",
              "    </tr>\n",
              "    <tr>\n",
              "      <th>20</th>\n",
              "      <td>728.0</td>\n",
              "      <td>2.495879</td>\n",
              "      <td>1.110155</td>\n",
              "      <td>1.0</td>\n",
              "      <td>2.0</td>\n",
              "      <td>2.5</td>\n",
              "      <td>3.0</td>\n",
              "      <td>4.0</td>\n",
              "    </tr>\n",
              "    <tr>\n",
              "      <th>21</th>\n",
              "      <td>728.0</td>\n",
              "      <td>2.495879</td>\n",
              "      <td>1.110155</td>\n",
              "      <td>1.0</td>\n",
              "      <td>2.0</td>\n",
              "      <td>2.5</td>\n",
              "      <td>3.0</td>\n",
              "      <td>4.0</td>\n",
              "    </tr>\n",
              "    <tr>\n",
              "      <th>22</th>\n",
              "      <td>728.0</td>\n",
              "      <td>2.495879</td>\n",
              "      <td>1.110155</td>\n",
              "      <td>1.0</td>\n",
              "      <td>2.0</td>\n",
              "      <td>2.5</td>\n",
              "      <td>3.0</td>\n",
              "      <td>4.0</td>\n",
              "    </tr>\n",
              "    <tr>\n",
              "      <th>23</th>\n",
              "      <td>728.0</td>\n",
              "      <td>2.495879</td>\n",
              "      <td>1.110155</td>\n",
              "      <td>1.0</td>\n",
              "      <td>2.0</td>\n",
              "      <td>2.5</td>\n",
              "      <td>3.0</td>\n",
              "      <td>4.0</td>\n",
              "    </tr>\n",
              "  </tbody>\n",
              "</table>\n",
              "</div>"
            ],
            "text/plain": [
              "   season                                             \n",
              "    count      mean       std  min  25%  50%  75%  max\n",
              "hr                                                    \n",
              "0   726.0  2.500000  1.108898  1.0  2.0  3.0  3.0  4.0\n",
              "1   724.0  2.497238  1.108869  1.0  2.0  2.5  3.0  4.0\n",
              "2   715.0  2.511888  1.102994  1.0  2.0  3.0  3.0  4.0\n",
              "3   697.0  2.539455  1.092796  1.0  2.0  3.0  3.0  4.0\n",
              "4   697.0  2.552367  1.093567  1.0  2.0  3.0  4.0  4.0\n",
              "5   717.0  2.513250  1.104286  1.0  2.0  3.0  3.0  4.0\n",
              "6   725.0  2.497931  1.108261  1.0  2.0  3.0  3.0  4.0\n",
              "7   727.0  2.496561  1.108284  1.0  2.0  3.0  3.0  4.0\n",
              "8   727.0  2.496561  1.108284  1.0  2.0  3.0  3.0  4.0\n",
              "9   727.0  2.496561  1.108284  1.0  2.0  3.0  3.0  4.0\n",
              "10  727.0  2.496561  1.108284  1.0  2.0  3.0  3.0  4.0\n",
              "11  727.0  2.496561  1.108284  1.0  2.0  3.0  3.0  4.0\n",
              "12  728.0  2.494505  1.108910  1.0  2.0  2.5  3.0  4.0\n",
              "13  729.0  2.496571  1.109550  1.0  2.0  3.0  3.0  4.0\n",
              "14  729.0  2.496571  1.109550  1.0  2.0  3.0  3.0  4.0\n",
              "15  729.0  2.496571  1.109550  1.0  2.0  3.0  3.0  4.0\n",
              "16  730.0  2.494521  1.110171  1.0  2.0  2.5  3.0  4.0\n",
              "17  730.0  2.494521  1.110171  1.0  2.0  2.5  3.0  4.0\n",
              "18  728.0  2.495879  1.110155  1.0  2.0  2.5  3.0  4.0\n",
              "19  728.0  2.495879  1.110155  1.0  2.0  2.5  3.0  4.0\n",
              "20  728.0  2.495879  1.110155  1.0  2.0  2.5  3.0  4.0\n",
              "21  728.0  2.495879  1.110155  1.0  2.0  2.5  3.0  4.0\n",
              "22  728.0  2.495879  1.110155  1.0  2.0  2.5  3.0  4.0\n",
              "23  728.0  2.495879  1.110155  1.0  2.0  2.5  3.0  4.0"
            ]
          },
          "metadata": {},
          "output_type": "display_data"
        }
      ],
      "source": [
        "df2 = pd.DataFrame(df2, columns = (\"season\", \"hr\"))\n",
        "display(df2.groupby(by=\"hr\").describe())"
      ]
    },
    {
      "cell_type": "code",
      "execution_count": 17,
      "metadata": {},
      "outputs": [
        {
          "data": {
            "application/vnd.microsoft.datawrangler.viewer.v0+json": {
              "columns": [
                {
                  "name": "index",
                  "rawType": "object",
                  "type": "string"
                },
                {
                  "name": "season",
                  "rawType": "float64",
                  "type": "float"
                },
                {
                  "name": "hr",
                  "rawType": "float64",
                  "type": "float"
                }
              ],
              "conversionMethod": "pd.DataFrame",
              "ref": "b22d102f-98ed-48b6-a56e-e0bbae23c147",
              "rows": [
                [
                  "count",
                  "17379.0",
                  "17379.0"
                ],
                [
                  "mean",
                  "2.5016399102364923",
                  "11.546751826917545"
                ],
                [
                  "std",
                  "1.1069181394480763",
                  "6.9144050952644935"
                ],
                [
                  "min",
                  "1.0",
                  "0.0"
                ],
                [
                  "25%",
                  "2.0",
                  "6.0"
                ],
                [
                  "50%",
                  "3.0",
                  "12.0"
                ],
                [
                  "75%",
                  "3.0",
                  "18.0"
                ],
                [
                  "max",
                  "4.0",
                  "23.0"
                ]
              ],
              "shape": {
                "columns": 2,
                "rows": 8
              }
            },
            "text/html": [
              "<div>\n",
              "<style scoped>\n",
              "    .dataframe tbody tr th:only-of-type {\n",
              "        vertical-align: middle;\n",
              "    }\n",
              "\n",
              "    .dataframe tbody tr th {\n",
              "        vertical-align: top;\n",
              "    }\n",
              "\n",
              "    .dataframe thead th {\n",
              "        text-align: right;\n",
              "    }\n",
              "</style>\n",
              "<table border=\"1\" class=\"dataframe\">\n",
              "  <thead>\n",
              "    <tr style=\"text-align: right;\">\n",
              "      <th></th>\n",
              "      <th>season</th>\n",
              "      <th>hr</th>\n",
              "    </tr>\n",
              "  </thead>\n",
              "  <tbody>\n",
              "    <tr>\n",
              "      <th>count</th>\n",
              "      <td>17379.000000</td>\n",
              "      <td>17379.000000</td>\n",
              "    </tr>\n",
              "    <tr>\n",
              "      <th>mean</th>\n",
              "      <td>2.501640</td>\n",
              "      <td>11.546752</td>\n",
              "    </tr>\n",
              "    <tr>\n",
              "      <th>std</th>\n",
              "      <td>1.106918</td>\n",
              "      <td>6.914405</td>\n",
              "    </tr>\n",
              "    <tr>\n",
              "      <th>min</th>\n",
              "      <td>1.000000</td>\n",
              "      <td>0.000000</td>\n",
              "    </tr>\n",
              "    <tr>\n",
              "      <th>25%</th>\n",
              "      <td>2.000000</td>\n",
              "      <td>6.000000</td>\n",
              "    </tr>\n",
              "    <tr>\n",
              "      <th>50%</th>\n",
              "      <td>3.000000</td>\n",
              "      <td>12.000000</td>\n",
              "    </tr>\n",
              "    <tr>\n",
              "      <th>75%</th>\n",
              "      <td>3.000000</td>\n",
              "      <td>18.000000</td>\n",
              "    </tr>\n",
              "    <tr>\n",
              "      <th>max</th>\n",
              "      <td>4.000000</td>\n",
              "      <td>23.000000</td>\n",
              "    </tr>\n",
              "  </tbody>\n",
              "</table>\n",
              "</div>"
            ],
            "text/plain": [
              "             season            hr\n",
              "count  17379.000000  17379.000000\n",
              "mean       2.501640     11.546752\n",
              "std        1.106918      6.914405\n",
              "min        1.000000      0.000000\n",
              "25%        2.000000      6.000000\n",
              "50%        3.000000     12.000000\n",
              "75%        3.000000     18.000000\n",
              "max        4.000000     23.000000"
            ]
          },
          "execution_count": 17,
          "metadata": {},
          "output_type": "execute_result"
        }
      ],
      "source": [
        "df2.describe()"
      ]
    },
    {
      "cell_type": "code",
      "execution_count": 18,
      "metadata": {},
      "outputs": [
        {
          "data": {
            "text/plain": [
              "array([[<Axes: title={'center': 'season'}>,\n",
              "        <Axes: title={'center': 'hr'}>]], dtype=object)"
            ]
          },
          "execution_count": 18,
          "metadata": {},
          "output_type": "execute_result"
        },
        {
          "data": {
            "image/png": "[encoded data removed]",
            "text/plain": [
              "<Figure size 640x480 with 2 Axes>"
            ]
          },
          "metadata": {},
          "output_type": "display_data"
        }
      ],
      "source": [
        "df2.hist()"
      ]
    },
    {
      "cell_type": "code",
      "execution_count": 19,
      "metadata": {},
      "outputs": [
        {
          "data": {
            "application/vnd.microsoft.datawrangler.viewer.v0+json": {
              "columns": [
                {
                  "name": "index",
                  "rawType": "object",
                  "type": "string"
                },
                {
                  "name": "season",
                  "rawType": "float64",
                  "type": "float"
                },
                {
                  "name": "hr",
                  "rawType": "float64",
                  "type": "float"
                }
              ],
              "conversionMethod": "pd.DataFrame",
              "ref": "6faac3d8-ab80-4ec3-af34-27fa3f3eafde",
              "rows": [
                [
                  "season",
                  "1.0",
                  "-0.00611690086619728"
                ],
                [
                  "hr",
                  "-0.00611690086619728",
                  "1.0"
                ]
              ],
              "shape": {
                "columns": 2,
                "rows": 2
              }
            },
            "text/html": [
              "<div>\n",
              "<style scoped>\n",
              "    .dataframe tbody tr th:only-of-type {\n",
              "        vertical-align: middle;\n",
              "    }\n",
              "\n",
              "    .dataframe tbody tr th {\n",
              "        vertical-align: top;\n",
              "    }\n",
              "\n",
              "    .dataframe thead th {\n",
              "        text-align: right;\n",
              "    }\n",
              "</style>\n",
              "<table border=\"1\" class=\"dataframe\">\n",
              "  <thead>\n",
              "    <tr style=\"text-align: right;\">\n",
              "      <th></th>\n",
              "      <th>season</th>\n",
              "      <th>hr</th>\n",
              "    </tr>\n",
              "  </thead>\n",
              "  <tbody>\n",
              "    <tr>\n",
              "      <th>season</th>\n",
              "      <td>1.000000</td>\n",
              "      <td>-0.006117</td>\n",
              "    </tr>\n",
              "    <tr>\n",
              "      <th>hr</th>\n",
              "      <td>-0.006117</td>\n",
              "      <td>1.000000</td>\n",
              "    </tr>\n",
              "  </tbody>\n",
              "</table>\n",
              "</div>"
            ],
            "text/plain": [
              "          season        hr\n",
              "season  1.000000 -0.006117\n",
              "hr     -0.006117  1.000000"
            ]
          },
          "execution_count": 19,
          "metadata": {},
          "output_type": "execute_result"
        }
      ],
      "source": [
        "df2.corr()"
      ]
    },
    {
      "cell_type": "markdown",
      "metadata": {
        "id": "th_Lzl2Fkj9O"
      },
      "source": [
        "**Insight:**\n",
        "- Menghitung dataset day menggunakan statistika\n",
        "- Menghitung dataset hour menggunakan statistika "
      ]
    },
    {
      "cell_type": "markdown",
      "metadata": {
        "id": "zsyZjqak8DC2"
      },
      "source": [
        "## Visualization & Explanatory Analysis"
      ]
    },
    {
      "cell_type": "markdown",
      "metadata": {
        "id": "HZxOiQ6n8DC2"
      },
      "source": [
        "### Pertanyaan 1: Cuaca apa yang paling sering muncul pada berbagai hari kerja?"
      ]
    },
    {
      "cell_type": "code",
      "execution_count": 20,
      "metadata": {},
      "outputs": [
        {
          "data": {
            "application/vnd.microsoft.datawrangler.viewer.v0+json": {
              "columns": [
                {
                  "name": "index",
                  "rawType": "int64",
                  "type": "integer"
                },
                {
                  "name": "season",
                  "rawType": "int64",
                  "type": "integer"
                },
                {
                  "name": "weekday",
                  "rawType": "int64",
                  "type": "integer"
                }
              ],
              "conversionMethod": "pd.DataFrame",
              "ref": "e9a5cfd4-083c-444a-ae2f-e67ab0052cd0",
              "rows": [
                [
                  "0",
                  "1",
                  "6"
                ],
                [
                  "1",
                  "1",
                  "0"
                ],
                [
                  "2",
                  "1",
                  "1"
                ],
                [
                  "3",
                  "1",
                  "2"
                ],
                [
                  "4",
                  "1",
                  "3"
                ],
                [
                  "5",
                  "1",
                  "4"
                ],
                [
                  "6",
                  "1",
                  "5"
                ],
                [
                  "7",
                  "1",
                  "6"
                ],
                [
                  "8",
                  "1",
                  "0"
                ],
                [
                  "9",
                  "1",
                  "1"
                ],
                [
                  "10",
                  "1",
                  "2"
                ],
                [
                  "11",
                  "1",
                  "3"
                ],
                [
                  "12",
                  "1",
                  "4"
                ],
                [
                  "13",
                  "1",
                  "5"
                ],
                [
                  "14",
                  "1",
                  "6"
                ],
                [
                  "15",
                  "1",
                  "0"
                ],
                [
                  "16",
                  "1",
                  "1"
                ],
                [
                  "17",
                  "1",
                  "2"
                ],
                [
                  "18",
                  "1",
                  "3"
                ],
                [
                  "19",
                  "1",
                  "4"
                ],
                [
                  "20",
                  "1",
                  "5"
                ],
                [
                  "21",
                  "1",
                  "6"
                ],
                [
                  "22",
                  "1",
                  "0"
                ],
                [
                  "23",
                  "1",
                  "1"
                ],
                [
                  "24",
                  "1",
                  "2"
                ],
                [
                  "25",
                  "1",
                  "3"
                ],
                [
                  "26",
                  "1",
                  "4"
                ],
                [
                  "27",
                  "1",
                  "5"
                ],
                [
                  "28",
                  "1",
                  "6"
                ],
                [
                  "29",
                  "1",
                  "0"
                ],
                [
                  "30",
                  "1",
                  "1"
                ],
                [
                  "31",
                  "1",
                  "2"
                ],
                [
                  "32",
                  "1",
                  "3"
                ],
                [
                  "33",
                  "1",
                  "4"
                ],
                [
                  "34",
                  "1",
                  "5"
                ],
                [
                  "35",
                  "1",
                  "6"
                ],
                [
                  "36",
                  "1",
                  "0"
                ],
                [
                  "37",
                  "1",
                  "1"
                ],
                [
                  "38",
                  "1",
                  "2"
                ],
                [
                  "39",
                  "1",
                  "3"
                ],
                [
                  "40",
                  "1",
                  "4"
                ],
                [
                  "41",
                  "1",
                  "5"
                ],
                [
                  "42",
                  "1",
                  "6"
                ],
                [
                  "43",
                  "1",
                  "0"
                ],
                [
                  "44",
                  "1",
                  "1"
                ],
                [
                  "45",
                  "1",
                  "2"
                ],
                [
                  "46",
                  "1",
                  "3"
                ],
                [
                  "47",
                  "1",
                  "4"
                ],
                [
                  "48",
                  "1",
                  "5"
                ],
                [
                  "49",
                  "1",
                  "6"
                ]
              ],
              "shape": {
                "columns": 2,
                "rows": 731
              }
            },
            "text/html": [
              "<div>\n",
              "<style scoped>\n",
              "    .dataframe tbody tr th:only-of-type {\n",
              "        vertical-align: middle;\n",
              "    }\n",
              "\n",
              "    .dataframe tbody tr th {\n",
              "        vertical-align: top;\n",
              "    }\n",
              "\n",
              "    .dataframe thead th {\n",
              "        text-align: right;\n",
              "    }\n",
              "</style>\n",
              "<table border=\"1\" class=\"dataframe\">\n",
              "  <thead>\n",
              "    <tr style=\"text-align: right;\">\n",
              "      <th></th>\n",
              "      <th>season</th>\n",
              "      <th>weekday</th>\n",
              "    </tr>\n",
              "  </thead>\n",
              "  <tbody>\n",
              "    <tr>\n",
              "      <th>0</th>\n",
              "      <td>1</td>\n",
              "      <td>6</td>\n",
              "    </tr>\n",
              "    <tr>\n",
              "      <th>1</th>\n",
              "      <td>1</td>\n",
              "      <td>0</td>\n",
              "    </tr>\n",
              "    <tr>\n",
              "      <th>2</th>\n",
              "      <td>1</td>\n",
              "      <td>1</td>\n",
              "    </tr>\n",
              "    <tr>\n",
              "      <th>3</th>\n",
              "      <td>1</td>\n",
              "      <td>2</td>\n",
              "    </tr>\n",
              "    <tr>\n",
              "      <th>4</th>\n",
              "      <td>1</td>\n",
              "      <td>3</td>\n",
              "    </tr>\n",
              "    <tr>\n",
              "      <th>...</th>\n",
              "      <td>...</td>\n",
              "      <td>...</td>\n",
              "    </tr>\n",
              "    <tr>\n",
              "      <th>726</th>\n",
              "      <td>1</td>\n",
              "      <td>4</td>\n",
              "    </tr>\n",
              "    <tr>\n",
              "      <th>727</th>\n",
              "      <td>1</td>\n",
              "      <td>5</td>\n",
              "    </tr>\n",
              "    <tr>\n",
              "      <th>728</th>\n",
              "      <td>1</td>\n",
              "      <td>6</td>\n",
              "    </tr>\n",
              "    <tr>\n",
              "      <th>729</th>\n",
              "      <td>1</td>\n",
              "      <td>0</td>\n",
              "    </tr>\n",
              "    <tr>\n",
              "      <th>730</th>\n",
              "      <td>1</td>\n",
              "      <td>1</td>\n",
              "    </tr>\n",
              "  </tbody>\n",
              "</table>\n",
              "<p>731 rows × 2 columns</p>\n",
              "</div>"
            ],
            "text/plain": [
              "     season  weekday\n",
              "0         1        6\n",
              "1         1        0\n",
              "2         1        1\n",
              "3         1        2\n",
              "4         1        3\n",
              "..      ...      ...\n",
              "726       1        4\n",
              "727       1        5\n",
              "728       1        6\n",
              "729       1        0\n",
              "730       1        1\n",
              "\n",
              "[731 rows x 2 columns]"
            ]
          },
          "execution_count": 20,
          "metadata": {},
          "output_type": "execute_result"
        }
      ],
      "source": [
        "df1"
      ]
    },
    {
      "cell_type": "code",
      "execution_count": 21,
      "metadata": {
        "id": "1swJUdAD8DC2"
      },
      "outputs": [
        {
          "data": {
            "application/vnd.microsoft.datawrangler.viewer.v0+json": {
              "columns": [
                {
                  "name": "index",
                  "rawType": "int64",
                  "type": "integer"
                },
                {
                  "name": "season",
                  "rawType": "object",
                  "type": "string"
                },
                {
                  "name": "hariKerja",
                  "rawType": "int64",
                  "type": "integer"
                }
              ],
              "conversionMethod": "pd.DataFrame",
              "ref": "d13bc78c-9d44-48b9-a5ce-d158504635d3",
              "rows": [
                [
                  "0",
                  "Springer",
                  "181"
                ],
                [
                  "1",
                  "Summer",
                  "184"
                ],
                [
                  "2",
                  "Fall",
                  "188"
                ],
                [
                  "3",
                  "Winter",
                  "178"
                ]
              ],
              "shape": {
                "columns": 2,
                "rows": 4
              }
            },
            "text/html": [
              "<div>\n",
              "<style scoped>\n",
              "    .dataframe tbody tr th:only-of-type {\n",
              "        vertical-align: middle;\n",
              "    }\n",
              "\n",
              "    .dataframe tbody tr th {\n",
              "        vertical-align: top;\n",
              "    }\n",
              "\n",
              "    .dataframe thead th {\n",
              "        text-align: right;\n",
              "    }\n",
              "</style>\n",
              "<table border=\"1\" class=\"dataframe\">\n",
              "  <thead>\n",
              "    <tr style=\"text-align: right;\">\n",
              "      <th></th>\n",
              "      <th>season</th>\n",
              "      <th>hariKerja</th>\n",
              "    </tr>\n",
              "  </thead>\n",
              "  <tbody>\n",
              "    <tr>\n",
              "      <th>0</th>\n",
              "      <td>Springer</td>\n",
              "      <td>181</td>\n",
              "    </tr>\n",
              "    <tr>\n",
              "      <th>1</th>\n",
              "      <td>Summer</td>\n",
              "      <td>184</td>\n",
              "    </tr>\n",
              "    <tr>\n",
              "      <th>2</th>\n",
              "      <td>Fall</td>\n",
              "      <td>188</td>\n",
              "    </tr>\n",
              "    <tr>\n",
              "      <th>3</th>\n",
              "      <td>Winter</td>\n",
              "      <td>178</td>\n",
              "    </tr>\n",
              "  </tbody>\n",
              "</table>\n",
              "</div>"
            ],
            "text/plain": [
              "     season  hariKerja\n",
              "0  Springer        181\n",
              "1    Summer        184\n",
              "2      Fall        188\n",
              "3    Winter        178"
            ]
          },
          "execution_count": 21,
          "metadata": {},
          "output_type": "execute_result"
        }
      ],
      "source": [
        "byseason_df1 = df1.groupby(by=\"season\").weekday.count().reset_index()\n",
        "byseason_df1.rename(columns={\n",
        "    \"weekday\": \"hariKerja\"\n",
        "}, inplace=True)\n",
        "byseason_df1.replace({1: \"Springer\", 2: \"Summer\", 3: \"Fall\", 4: \"Winter\"}, inplace=True)\n",
        "byseason_df1"
      ]
    },
    {
      "cell_type": "code",
      "execution_count": 22,
      "metadata": {},
      "outputs": [
        {
          "data": {
            "image/png": "[encoded data removed]",
            "text/plain": [
              "<Figure size 1000x500 with 1 Axes>"
            ]
          },
          "metadata": {},
          "output_type": "display_data"
        }
      ],
      "source": [
        "plt.figure(figsize=(10, 5))\n",
        "sns.barplot(\n",
        "    x=\"season\", \n",
        "    y=\"hariKerja\", \n",
        "    data=byseason_df1.sort_values(by=\"hariKerja\", ascending=False))\n",
        "plt.title(\"Cuaca paling sering muncul pada berbagai kerja\", loc=\"center\", fontsize=18)\n",
        "plt.xticks(fontsize=10)\n",
        "plt.ylabel(\"Hari Kerja\")\n",
        "plt.xlabel(\"Cuaca\")\n",
        "plt.show()"
      ]
    },
    {
      "cell_type": "markdown",
      "metadata": {
        "id": "DgHI7CiU8DC2"
      },
      "source": [
        "### Pertanyaan 2: Cuaca apa yang paling sering muncul pada berbagai jam?"
      ]
    },
    {
      "cell_type": "code",
      "execution_count": 23,
      "metadata": {
        "id": "Go0lCsvO8DC2"
      },
      "outputs": [
        {
          "data": {
            "application/vnd.microsoft.datawrangler.viewer.v0+json": {
              "columns": [
                {
                  "name": "index",
                  "rawType": "int64",
                  "type": "integer"
                },
                {
                  "name": "season",
                  "rawType": "int64",
                  "type": "integer"
                },
                {
                  "name": "hr",
                  "rawType": "int64",
                  "type": "integer"
                }
              ],
              "conversionMethod": "pd.DataFrame",
              "ref": "b6fa14f5-749b-438a-b038-3101c24ca5a7",
              "rows": [
                [
                  "0",
                  "1",
                  "0"
                ],
                [
                  "1",
                  "1",
                  "1"
                ],
                [
                  "2",
                  "1",
                  "2"
                ],
                [
                  "3",
                  "1",
                  "3"
                ],
                [
                  "4",
                  "1",
                  "4"
                ],
                [
                  "5",
                  "1",
                  "5"
                ],
                [
                  "6",
                  "1",
                  "6"
                ],
                [
                  "7",
                  "1",
                  "7"
                ],
                [
                  "8",
                  "1",
                  "8"
                ],
                [
                  "9",
                  "1",
                  "9"
                ],
                [
                  "10",
                  "1",
                  "10"
                ],
                [
                  "11",
                  "1",
                  "11"
                ],
                [
                  "12",
                  "1",
                  "12"
                ],
                [
                  "13",
                  "1",
                  "13"
                ],
                [
                  "14",
                  "1",
                  "14"
                ],
                [
                  "15",
                  "1",
                  "15"
                ],
                [
                  "16",
                  "1",
                  "16"
                ],
                [
                  "17",
                  "1",
                  "17"
                ],
                [
                  "18",
                  "1",
                  "18"
                ],
                [
                  "19",
                  "1",
                  "19"
                ],
                [
                  "20",
                  "1",
                  "20"
                ],
                [
                  "21",
                  "1",
                  "21"
                ],
                [
                  "22",
                  "1",
                  "22"
                ],
                [
                  "23",
                  "1",
                  "23"
                ],
                [
                  "24",
                  "1",
                  "0"
                ],
                [
                  "25",
                  "1",
                  "1"
                ],
                [
                  "26",
                  "1",
                  "2"
                ],
                [
                  "27",
                  "1",
                  "3"
                ],
                [
                  "28",
                  "1",
                  "4"
                ],
                [
                  "29",
                  "1",
                  "6"
                ],
                [
                  "30",
                  "1",
                  "7"
                ],
                [
                  "31",
                  "1",
                  "8"
                ],
                [
                  "32",
                  "1",
                  "9"
                ],
                [
                  "33",
                  "1",
                  "10"
                ],
                [
                  "34",
                  "1",
                  "11"
                ],
                [
                  "35",
                  "1",
                  "12"
                ],
                [
                  "36",
                  "1",
                  "13"
                ],
                [
                  "37",
                  "1",
                  "14"
                ],
                [
                  "38",
                  "1",
                  "15"
                ],
                [
                  "39",
                  "1",
                  "16"
                ],
                [
                  "40",
                  "1",
                  "17"
                ],
                [
                  "41",
                  "1",
                  "18"
                ],
                [
                  "42",
                  "1",
                  "19"
                ],
                [
                  "43",
                  "1",
                  "20"
                ],
                [
                  "44",
                  "1",
                  "21"
                ],
                [
                  "45",
                  "1",
                  "22"
                ],
                [
                  "46",
                  "1",
                  "23"
                ],
                [
                  "47",
                  "1",
                  "0"
                ],
                [
                  "48",
                  "1",
                  "1"
                ],
                [
                  "49",
                  "1",
                  "4"
                ]
              ],
              "shape": {
                "columns": 2,
                "rows": 17379
              }
            },
            "text/html": [
              "<div>\n",
              "<style scoped>\n",
              "    .dataframe tbody tr th:only-of-type {\n",
              "        vertical-align: middle;\n",
              "    }\n",
              "\n",
              "    .dataframe tbody tr th {\n",
              "        vertical-align: top;\n",
              "    }\n",
              "\n",
              "    .dataframe thead th {\n",
              "        text-align: right;\n",
              "    }\n",
              "</style>\n",
              "<table border=\"1\" class=\"dataframe\">\n",
              "  <thead>\n",
              "    <tr style=\"text-align: right;\">\n",
              "      <th></th>\n",
              "      <th>season</th>\n",
              "      <th>hr</th>\n",
              "    </tr>\n",
              "  </thead>\n",
              "  <tbody>\n",
              "    <tr>\n",
              "      <th>0</th>\n",
              "      <td>1</td>\n",
              "      <td>0</td>\n",
              "    </tr>\n",
              "    <tr>\n",
              "      <th>1</th>\n",
              "      <td>1</td>\n",
              "      <td>1</td>\n",
              "    </tr>\n",
              "    <tr>\n",
              "      <th>2</th>\n",
              "      <td>1</td>\n",
              "      <td>2</td>\n",
              "    </tr>\n",
              "    <tr>\n",
              "      <th>3</th>\n",
              "      <td>1</td>\n",
              "      <td>3</td>\n",
              "    </tr>\n",
              "    <tr>\n",
              "      <th>4</th>\n",
              "      <td>1</td>\n",
              "      <td>4</td>\n",
              "    </tr>\n",
              "    <tr>\n",
              "      <th>...</th>\n",
              "      <td>...</td>\n",
              "      <td>...</td>\n",
              "    </tr>\n",
              "    <tr>\n",
              "      <th>17374</th>\n",
              "      <td>1</td>\n",
              "      <td>19</td>\n",
              "    </tr>\n",
              "    <tr>\n",
              "      <th>17375</th>\n",
              "      <td>1</td>\n",
              "      <td>20</td>\n",
              "    </tr>\n",
              "    <tr>\n",
              "      <th>17376</th>\n",
              "      <td>1</td>\n",
              "      <td>21</td>\n",
              "    </tr>\n",
              "    <tr>\n",
              "      <th>17377</th>\n",
              "      <td>1</td>\n",
              "      <td>22</td>\n",
              "    </tr>\n",
              "    <tr>\n",
              "      <th>17378</th>\n",
              "      <td>1</td>\n",
              "      <td>23</td>\n",
              "    </tr>\n",
              "  </tbody>\n",
              "</table>\n",
              "<p>17379 rows × 2 columns</p>\n",
              "</div>"
            ],
            "text/plain": [
              "       season  hr\n",
              "0           1   0\n",
              "1           1   1\n",
              "2           1   2\n",
              "3           1   3\n",
              "4           1   4\n",
              "...       ...  ..\n",
              "17374       1  19\n",
              "17375       1  20\n",
              "17376       1  21\n",
              "17377       1  22\n",
              "17378       1  23\n",
              "\n",
              "[17379 rows x 2 columns]"
            ]
          },
          "execution_count": 23,
          "metadata": {},
          "output_type": "execute_result"
        }
      ],
      "source": [
        "df2"
      ]
    },
    {
      "cell_type": "code",
      "execution_count": 24,
      "metadata": {},
      "outputs": [
        {
          "data": {
            "text/plain": [
              "array([ 0,  1,  2,  3,  4,  5,  6,  7,  8,  9, 10, 11, 12, 13, 14, 15, 16,\n",
              "       17, 18, 19, 20, 21, 22, 23], dtype=int64)"
            ]
          },
          "execution_count": 24,
          "metadata": {},
          "output_type": "execute_result"
        }
      ],
      "source": [
        "df2['hr'].unique()"
      ]
    },
    {
      "cell_type": "code",
      "execution_count": 25,
      "metadata": {},
      "outputs": [
        {
          "data": {
            "application/vnd.microsoft.datawrangler.viewer.v0+json": {
              "columns": [
                {
                  "name": "index",
                  "rawType": "int64",
                  "type": "integer"
                },
                {
                  "name": "season",
                  "rawType": "object",
                  "type": "string"
                },
                {
                  "name": "jam",
                  "rawType": "int64",
                  "type": "integer"
                }
              ],
              "conversionMethod": "pd.DataFrame",
              "ref": "70b269bd-aa8b-433d-89f6-d0984e1c97fc",
              "rows": [
                [
                  "0",
                  "Springer",
                  "4242"
                ],
                [
                  "1",
                  "Summer",
                  "4409"
                ],
                [
                  "2",
                  "Fall",
                  "4496"
                ],
                [
                  "3",
                  "Winter",
                  "4232"
                ]
              ],
              "shape": {
                "columns": 2,
                "rows": 4
              }
            },
            "text/html": [
              "<div>\n",
              "<style scoped>\n",
              "    .dataframe tbody tr th:only-of-type {\n",
              "        vertical-align: middle;\n",
              "    }\n",
              "\n",
              "    .dataframe tbody tr th {\n",
              "        vertical-align: top;\n",
              "    }\n",
              "\n",
              "    .dataframe thead th {\n",
              "        text-align: right;\n",
              "    }\n",
              "</style>\n",
              "<table border=\"1\" class=\"dataframe\">\n",
              "  <thead>\n",
              "    <tr style=\"text-align: right;\">\n",
              "      <th></th>\n",
              "      <th>season</th>\n",
              "      <th>jam</th>\n",
              "    </tr>\n",
              "  </thead>\n",
              "  <tbody>\n",
              "    <tr>\n",
              "      <th>0</th>\n",
              "      <td>Springer</td>\n",
              "      <td>4242</td>\n",
              "    </tr>\n",
              "    <tr>\n",
              "      <th>1</th>\n",
              "      <td>Summer</td>\n",
              "      <td>4409</td>\n",
              "    </tr>\n",
              "    <tr>\n",
              "      <th>2</th>\n",
              "      <td>Fall</td>\n",
              "      <td>4496</td>\n",
              "    </tr>\n",
              "    <tr>\n",
              "      <th>3</th>\n",
              "      <td>Winter</td>\n",
              "      <td>4232</td>\n",
              "    </tr>\n",
              "  </tbody>\n",
              "</table>\n",
              "</div>"
            ],
            "text/plain": [
              "     season   jam\n",
              "0  Springer  4242\n",
              "1    Summer  4409\n",
              "2      Fall  4496\n",
              "3    Winter  4232"
            ]
          },
          "execution_count": 25,
          "metadata": {},
          "output_type": "execute_result"
        }
      ],
      "source": [
        "byseason_df2 = df2.groupby(by=\"season\").hr.count().reset_index()\n",
        "byseason_df2.rename(columns={\n",
        "    \"hr\": \"jam\"\n",
        "}, inplace=True)\n",
        "byseason_df2.replace({1: \"Springer\", 2: \"Summer\", 3: \"Fall\", 4: \"Winter\"}, inplace=True)\n",
        "byseason_df2"
      ]
    },
    {
      "cell_type": "code",
      "execution_count": 26,
      "metadata": {},
      "outputs": [
        {
          "data": {
            "image/png": "[encoded data removed]",
            "text/plain": [
              "<Figure size 1000x500 with 1 Axes>"
            ]
          },
          "metadata": {},
          "output_type": "display_data"
        }
      ],
      "source": [
        "plt.figure(figsize=(10, 5))\n",
        "sns.barplot(\n",
        "    x=\"season\", \n",
        "    y=\"jam\", \n",
        "    data=byseason_df2.sort_values(by=\"jam\", ascending=False))\n",
        "plt.title(\"Cuaca paling sering muncul pada berbagai jam\", loc=\"center\", fontsize=18)\n",
        "plt.xticks(fontsize=10)\n",
        "plt.ylabel(\"Hari Kerja\")\n",
        "plt.xlabel(\"Cuaca\")\n",
        "plt.show()"
      ]
    },
    {
      "cell_type": "markdown",
      "metadata": {
        "id": "_0-36BDLklRg"
      },
      "source": [
        "**Insight:**\n",
        "- Merancang visualisasi mengenai cuaca paling sering muncul pada berbagai hari yang dihitungkan secara menyeluruh, di mana visualiasi dirancangkan berbentuk bar dengan label x season dan label y total banyaknya hari kerja.\n",
        "- Merancang visualisasi mengenai cuaca paling sering muncul pada berbagai jam yang dihitungkan secara menyeluruh, di mana visualiasi dirancangkan berbentuk bar dengan label x season dan label y total banyaknya jam."
      ]
    },
    {
      "cell_type": "code",
      "execution_count": 27,
      "metadata": {},
      "outputs": [
        {
          "data": {
            "application/vnd.microsoft.datawrangler.viewer.v0+json": {
              "columns": [
                {
                  "name": "index",
                  "rawType": "int64",
                  "type": "integer"
                },
                {
                  "name": "season",
                  "rawType": "int64",
                  "type": "integer"
                },
                {
                  "name": "hr",
                  "rawType": "int64",
                  "type": "integer"
                }
              ],
              "conversionMethod": "pd.DataFrame",
              "ref": "9e3f3db0-4c08-4078-85a4-9ce893004b2e",
              "rows": [
                [
                  "0",
                  "1",
                  "0"
                ],
                [
                  "1",
                  "1",
                  "1"
                ],
                [
                  "2",
                  "1",
                  "2"
                ],
                [
                  "3",
                  "1",
                  "3"
                ],
                [
                  "4",
                  "1",
                  "4"
                ],
                [
                  "5",
                  "1",
                  "5"
                ],
                [
                  "6",
                  "1",
                  "6"
                ],
                [
                  "7",
                  "1",
                  "7"
                ],
                [
                  "8",
                  "1",
                  "8"
                ],
                [
                  "9",
                  "1",
                  "9"
                ],
                [
                  "10",
                  "1",
                  "10"
                ],
                [
                  "11",
                  "1",
                  "11"
                ],
                [
                  "12",
                  "1",
                  "12"
                ],
                [
                  "13",
                  "1",
                  "13"
                ],
                [
                  "14",
                  "1",
                  "14"
                ],
                [
                  "15",
                  "1",
                  "15"
                ],
                [
                  "16",
                  "1",
                  "16"
                ],
                [
                  "17",
                  "1",
                  "17"
                ],
                [
                  "18",
                  "1",
                  "18"
                ],
                [
                  "19",
                  "1",
                  "19"
                ],
                [
                  "20",
                  "1",
                  "20"
                ],
                [
                  "21",
                  "1",
                  "21"
                ],
                [
                  "22",
                  "1",
                  "22"
                ],
                [
                  "23",
                  "1",
                  "23"
                ],
                [
                  "24",
                  "1",
                  "0"
                ],
                [
                  "25",
                  "1",
                  "1"
                ],
                [
                  "26",
                  "1",
                  "2"
                ],
                [
                  "27",
                  "1",
                  "3"
                ],
                [
                  "28",
                  "1",
                  "4"
                ],
                [
                  "29",
                  "1",
                  "6"
                ],
                [
                  "30",
                  "1",
                  "7"
                ],
                [
                  "31",
                  "1",
                  "8"
                ],
                [
                  "32",
                  "1",
                  "9"
                ],
                [
                  "33",
                  "1",
                  "10"
                ],
                [
                  "34",
                  "1",
                  "11"
                ],
                [
                  "35",
                  "1",
                  "12"
                ],
                [
                  "36",
                  "1",
                  "13"
                ],
                [
                  "37",
                  "1",
                  "14"
                ],
                [
                  "38",
                  "1",
                  "15"
                ],
                [
                  "39",
                  "1",
                  "16"
                ],
                [
                  "40",
                  "1",
                  "17"
                ],
                [
                  "41",
                  "1",
                  "18"
                ],
                [
                  "42",
                  "1",
                  "19"
                ],
                [
                  "43",
                  "1",
                  "20"
                ],
                [
                  "44",
                  "1",
                  "21"
                ],
                [
                  "45",
                  "1",
                  "22"
                ],
                [
                  "46",
                  "1",
                  "23"
                ],
                [
                  "47",
                  "1",
                  "0"
                ],
                [
                  "48",
                  "1",
                  "1"
                ],
                [
                  "49",
                  "1",
                  "4"
                ]
              ],
              "shape": {
                "columns": 2,
                "rows": 17379
              }
            },
            "text/html": [
              "<div>\n",
              "<style scoped>\n",
              "    .dataframe tbody tr th:only-of-type {\n",
              "        vertical-align: middle;\n",
              "    }\n",
              "\n",
              "    .dataframe tbody tr th {\n",
              "        vertical-align: top;\n",
              "    }\n",
              "\n",
              "    .dataframe thead th {\n",
              "        text-align: right;\n",
              "    }\n",
              "</style>\n",
              "<table border=\"1\" class=\"dataframe\">\n",
              "  <thead>\n",
              "    <tr style=\"text-align: right;\">\n",
              "      <th></th>\n",
              "      <th>season</th>\n",
              "      <th>hr</th>\n",
              "    </tr>\n",
              "  </thead>\n",
              "  <tbody>\n",
              "    <tr>\n",
              "      <th>0</th>\n",
              "      <td>1</td>\n",
              "      <td>0</td>\n",
              "    </tr>\n",
              "    <tr>\n",
              "      <th>1</th>\n",
              "      <td>1</td>\n",
              "      <td>1</td>\n",
              "    </tr>\n",
              "    <tr>\n",
              "      <th>2</th>\n",
              "      <td>1</td>\n",
              "      <td>2</td>\n",
              "    </tr>\n",
              "    <tr>\n",
              "      <th>3</th>\n",
              "      <td>1</td>\n",
              "      <td>3</td>\n",
              "    </tr>\n",
              "    <tr>\n",
              "      <th>4</th>\n",
              "      <td>1</td>\n",
              "      <td>4</td>\n",
              "    </tr>\n",
              "    <tr>\n",
              "      <th>...</th>\n",
              "      <td>...</td>\n",
              "      <td>...</td>\n",
              "    </tr>\n",
              "    <tr>\n",
              "      <th>17374</th>\n",
              "      <td>1</td>\n",
              "      <td>19</td>\n",
              "    </tr>\n",
              "    <tr>\n",
              "      <th>17375</th>\n",
              "      <td>1</td>\n",
              "      <td>20</td>\n",
              "    </tr>\n",
              "    <tr>\n",
              "      <th>17376</th>\n",
              "      <td>1</td>\n",
              "      <td>21</td>\n",
              "    </tr>\n",
              "    <tr>\n",
              "      <th>17377</th>\n",
              "      <td>1</td>\n",
              "      <td>22</td>\n",
              "    </tr>\n",
              "    <tr>\n",
              "      <th>17378</th>\n",
              "      <td>1</td>\n",
              "      <td>23</td>\n",
              "    </tr>\n",
              "  </tbody>\n",
              "</table>\n",
              "<p>17379 rows × 2 columns</p>\n",
              "</div>"
            ],
            "text/plain": [
              "       season  hr\n",
              "0           1   0\n",
              "1           1   1\n",
              "2           1   2\n",
              "3           1   3\n",
              "4           1   4\n",
              "...       ...  ..\n",
              "17374       1  19\n",
              "17375       1  20\n",
              "17376       1  21\n",
              "17377       1  22\n",
              "17378       1  23\n",
              "\n",
              "[17379 rows x 2 columns]"
            ]
          },
          "execution_count": 27,
          "metadata": {},
          "output_type": "execute_result"
        }
      ],
      "source": [
        "df2"
      ]
    },
    {
      "cell_type": "code",
      "execution_count": 28,
      "metadata": {},
      "outputs": [
        {
          "data": {
            "application/vnd.microsoft.datawrangler.viewer.v0+json": {
              "columns": [
                {
                  "name": "index",
                  "rawType": "int64",
                  "type": "integer"
                },
                {
                  "name": "season_day",
                  "rawType": "float64",
                  "type": "float"
                },
                {
                  "name": "weekday",
                  "rawType": "float64",
                  "type": "float"
                },
                {
                  "name": "season_hour",
                  "rawType": "float64",
                  "type": "float"
                },
                {
                  "name": "hr",
                  "rawType": "float64",
                  "type": "float"
                }
              ],
              "conversionMethod": "pd.DataFrame",
              "ref": "3614e9c0-9f9d-4558-8505-5c59c411d0d7",
              "rows": [
                [
                  "0",
                  "1.0",
                  "6.0",
                  null,
                  null
                ],
                [
                  "1",
                  "1.0",
                  "0.0",
                  null,
                  null
                ],
                [
                  "2",
                  "1.0",
                  "1.0",
                  null,
                  null
                ],
                [
                  "3",
                  "1.0",
                  "2.0",
                  null,
                  null
                ],
                [
                  "4",
                  "1.0",
                  "3.0",
                  null,
                  null
                ],
                [
                  "5",
                  "1.0",
                  "4.0",
                  null,
                  null
                ],
                [
                  "6",
                  "1.0",
                  "5.0",
                  null,
                  null
                ],
                [
                  "7",
                  "1.0",
                  "6.0",
                  null,
                  null
                ],
                [
                  "8",
                  "1.0",
                  "0.0",
                  null,
                  null
                ],
                [
                  "9",
                  "1.0",
                  "1.0",
                  null,
                  null
                ],
                [
                  "10",
                  "1.0",
                  "2.0",
                  null,
                  null
                ],
                [
                  "11",
                  "1.0",
                  "3.0",
                  null,
                  null
                ],
                [
                  "12",
                  "1.0",
                  "4.0",
                  null,
                  null
                ],
                [
                  "13",
                  "1.0",
                  "5.0",
                  null,
                  null
                ],
                [
                  "14",
                  "1.0",
                  "6.0",
                  null,
                  null
                ],
                [
                  "15",
                  "1.0",
                  "0.0",
                  null,
                  null
                ],
                [
                  "16",
                  "1.0",
                  "1.0",
                  null,
                  null
                ],
                [
                  "17",
                  "1.0",
                  "2.0",
                  null,
                  null
                ],
                [
                  "18",
                  "1.0",
                  "3.0",
                  null,
                  null
                ],
                [
                  "19",
                  "1.0",
                  "4.0",
                  null,
                  null
                ],
                [
                  "20",
                  "1.0",
                  "5.0",
                  null,
                  null
                ],
                [
                  "21",
                  "1.0",
                  "6.0",
                  null,
                  null
                ],
                [
                  "22",
                  "1.0",
                  "0.0",
                  null,
                  null
                ],
                [
                  "23",
                  "1.0",
                  "1.0",
                  null,
                  null
                ],
                [
                  "24",
                  "1.0",
                  "2.0",
                  null,
                  null
                ],
                [
                  "25",
                  "1.0",
                  "3.0",
                  null,
                  null
                ],
                [
                  "26",
                  "1.0",
                  "4.0",
                  null,
                  null
                ],
                [
                  "27",
                  "1.0",
                  "5.0",
                  null,
                  null
                ],
                [
                  "28",
                  "1.0",
                  "6.0",
                  null,
                  null
                ],
                [
                  "29",
                  "1.0",
                  "0.0",
                  null,
                  null
                ],
                [
                  "30",
                  "1.0",
                  "1.0",
                  null,
                  null
                ],
                [
                  "31",
                  "1.0",
                  "2.0",
                  null,
                  null
                ],
                [
                  "32",
                  "1.0",
                  "3.0",
                  null,
                  null
                ],
                [
                  "33",
                  "1.0",
                  "4.0",
                  null,
                  null
                ],
                [
                  "34",
                  "1.0",
                  "5.0",
                  null,
                  null
                ],
                [
                  "35",
                  "1.0",
                  "6.0",
                  null,
                  null
                ],
                [
                  "36",
                  "1.0",
                  "0.0",
                  null,
                  null
                ],
                [
                  "37",
                  "1.0",
                  "1.0",
                  null,
                  null
                ],
                [
                  "38",
                  "1.0",
                  "2.0",
                  null,
                  null
                ],
                [
                  "39",
                  "1.0",
                  "3.0",
                  null,
                  null
                ],
                [
                  "40",
                  "1.0",
                  "4.0",
                  null,
                  null
                ],
                [
                  "41",
                  "1.0",
                  "5.0",
                  null,
                  null
                ],
                [
                  "42",
                  "1.0",
                  "6.0",
                  null,
                  null
                ],
                [
                  "43",
                  "1.0",
                  "0.0",
                  null,
                  null
                ],
                [
                  "44",
                  "1.0",
                  "1.0",
                  null,
                  null
                ],
                [
                  "45",
                  "1.0",
                  "2.0",
                  null,
                  null
                ],
                [
                  "46",
                  "1.0",
                  "3.0",
                  null,
                  null
                ],
                [
                  "47",
                  "1.0",
                  "4.0",
                  null,
                  null
                ],
                [
                  "48",
                  "1.0",
                  "5.0",
                  null,
                  null
                ],
                [
                  "49",
                  "1.0",
                  "6.0",
                  null,
                  null
                ]
              ],
              "shape": {
                "columns": 4,
                "rows": 18110
              }
            },
            "text/html": [
              "<div>\n",
              "<style scoped>\n",
              "    .dataframe tbody tr th:only-of-type {\n",
              "        vertical-align: middle;\n",
              "    }\n",
              "\n",
              "    .dataframe tbody tr th {\n",
              "        vertical-align: top;\n",
              "    }\n",
              "\n",
              "    .dataframe thead th {\n",
              "        text-align: right;\n",
              "    }\n",
              "</style>\n",
              "<table border=\"1\" class=\"dataframe\">\n",
              "  <thead>\n",
              "    <tr style=\"text-align: right;\">\n",
              "      <th></th>\n",
              "      <th>season_day</th>\n",
              "      <th>weekday</th>\n",
              "      <th>season_hour</th>\n",
              "      <th>hr</th>\n",
              "    </tr>\n",
              "  </thead>\n",
              "  <tbody>\n",
              "    <tr>\n",
              "      <th>0</th>\n",
              "      <td>1.0</td>\n",
              "      <td>6.0</td>\n",
              "      <td>NaN</td>\n",
              "      <td>NaN</td>\n",
              "    </tr>\n",
              "    <tr>\n",
              "      <th>1</th>\n",
              "      <td>1.0</td>\n",
              "      <td>0.0</td>\n",
              "      <td>NaN</td>\n",
              "      <td>NaN</td>\n",
              "    </tr>\n",
              "    <tr>\n",
              "      <th>2</th>\n",
              "      <td>1.0</td>\n",
              "      <td>1.0</td>\n",
              "      <td>NaN</td>\n",
              "      <td>NaN</td>\n",
              "    </tr>\n",
              "    <tr>\n",
              "      <th>3</th>\n",
              "      <td>1.0</td>\n",
              "      <td>2.0</td>\n",
              "      <td>NaN</td>\n",
              "      <td>NaN</td>\n",
              "    </tr>\n",
              "    <tr>\n",
              "      <th>4</th>\n",
              "      <td>1.0</td>\n",
              "      <td>3.0</td>\n",
              "      <td>NaN</td>\n",
              "      <td>NaN</td>\n",
              "    </tr>\n",
              "    <tr>\n",
              "      <th>...</th>\n",
              "      <td>...</td>\n",
              "      <td>...</td>\n",
              "      <td>...</td>\n",
              "      <td>...</td>\n",
              "    </tr>\n",
              "    <tr>\n",
              "      <th>18105</th>\n",
              "      <td>NaN</td>\n",
              "      <td>NaN</td>\n",
              "      <td>1.0</td>\n",
              "      <td>19.0</td>\n",
              "    </tr>\n",
              "    <tr>\n",
              "      <th>18106</th>\n",
              "      <td>NaN</td>\n",
              "      <td>NaN</td>\n",
              "      <td>1.0</td>\n",
              "      <td>20.0</td>\n",
              "    </tr>\n",
              "    <tr>\n",
              "      <th>18107</th>\n",
              "      <td>NaN</td>\n",
              "      <td>NaN</td>\n",
              "      <td>1.0</td>\n",
              "      <td>21.0</td>\n",
              "    </tr>\n",
              "    <tr>\n",
              "      <th>18108</th>\n",
              "      <td>NaN</td>\n",
              "      <td>NaN</td>\n",
              "      <td>1.0</td>\n",
              "      <td>22.0</td>\n",
              "    </tr>\n",
              "    <tr>\n",
              "      <th>18109</th>\n",
              "      <td>NaN</td>\n",
              "      <td>NaN</td>\n",
              "      <td>1.0</td>\n",
              "      <td>23.0</td>\n",
              "    </tr>\n",
              "  </tbody>\n",
              "</table>\n",
              "<p>18110 rows × 4 columns</p>\n",
              "</div>"
            ],
            "text/plain": [
              "       season_day  weekday  season_hour    hr\n",
              "0             1.0      6.0          NaN   NaN\n",
              "1             1.0      0.0          NaN   NaN\n",
              "2             1.0      1.0          NaN   NaN\n",
              "3             1.0      2.0          NaN   NaN\n",
              "4             1.0      3.0          NaN   NaN\n",
              "...           ...      ...          ...   ...\n",
              "18105         NaN      NaN          1.0  19.0\n",
              "18106         NaN      NaN          1.0  20.0\n",
              "18107         NaN      NaN          1.0  21.0\n",
              "18108         NaN      NaN          1.0  22.0\n",
              "18109         NaN      NaN          1.0  23.0\n",
              "\n",
              "[18110 rows x 4 columns]"
            ]
          },
          "metadata": {},
          "output_type": "display_data"
        }
      ],
      "source": [
        "df1_new = df1.rename(columns={\"season\":\"season_day\"})\n",
        "df2_new = df2.rename(columns={\"season\":\"season_hour\"})\n",
        "main_data = pd.concat([df1_new, df2_new], ignore_index=True)\n",
        "display(main_data)"
      ]
    },
    {
      "cell_type": "code",
      "execution_count": 29,
      "metadata": {},
      "outputs": [],
      "source": [
        "main_data.to_csv(\"dashboard/main_data.csv\", index=False)"
      ]
    },
    {
      "cell_type": "code",
      "execution_count": 30,
      "metadata": {},
      "outputs": [
        {
          "data": {
            "application/vnd.microsoft.datawrangler.viewer.v0+json": {
              "columns": [
                {
                  "name": "index",
                  "rawType": "int64",
                  "type": "integer"
                },
                {
                  "name": "season_day",
                  "rawType": "float64",
                  "type": "float"
                },
                {
                  "name": "weekday",
                  "rawType": "float64",
                  "type": "float"
                },
                {
                  "name": "season_hour",
                  "rawType": "float64",
                  "type": "float"
                },
                {
                  "name": "hr",
                  "rawType": "float64",
                  "type": "float"
                }
              ],
              "conversionMethod": "pd.DataFrame",
              "ref": "40d25a84-af9a-438f-bc4f-0b6260b2fe7b",
              "rows": [
                [
                  "0",
                  "1.0",
                  "6.0",
                  null,
                  null
                ],
                [
                  "1",
                  "1.0",
                  "0.0",
                  null,
                  null
                ],
                [
                  "2",
                  "1.0",
                  "1.0",
                  null,
                  null
                ],
                [
                  "3",
                  "1.0",
                  "2.0",
                  null,
                  null
                ],
                [
                  "4",
                  "1.0",
                  "3.0",
                  null,
                  null
                ],
                [
                  "5",
                  "1.0",
                  "4.0",
                  null,
                  null
                ],
                [
                  "6",
                  "1.0",
                  "5.0",
                  null,
                  null
                ],
                [
                  "7",
                  "1.0",
                  "6.0",
                  null,
                  null
                ],
                [
                  "8",
                  "1.0",
                  "0.0",
                  null,
                  null
                ],
                [
                  "9",
                  "1.0",
                  "1.0",
                  null,
                  null
                ],
                [
                  "10",
                  "1.0",
                  "2.0",
                  null,
                  null
                ],
                [
                  "11",
                  "1.0",
                  "3.0",
                  null,
                  null
                ],
                [
                  "12",
                  "1.0",
                  "4.0",
                  null,
                  null
                ],
                [
                  "13",
                  "1.0",
                  "5.0",
                  null,
                  null
                ],
                [
                  "14",
                  "1.0",
                  "6.0",
                  null,
                  null
                ],
                [
                  "15",
                  "1.0",
                  "0.0",
                  null,
                  null
                ],
                [
                  "16",
                  "1.0",
                  "1.0",
                  null,
                  null
                ],
                [
                  "17",
                  "1.0",
                  "2.0",
                  null,
                  null
                ],
                [
                  "18",
                  "1.0",
                  "3.0",
                  null,
                  null
                ],
                [
                  "19",
                  "1.0",
                  "4.0",
                  null,
                  null
                ],
                [
                  "20",
                  "1.0",
                  "5.0",
                  null,
                  null
                ],
                [
                  "21",
                  "1.0",
                  "6.0",
                  null,
                  null
                ],
                [
                  "22",
                  "1.0",
                  "0.0",
                  null,
                  null
                ],
                [
                  "23",
                  "1.0",
                  "1.0",
                  null,
                  null
                ],
                [
                  "24",
                  "1.0",
                  "2.0",
                  null,
                  null
                ],
                [
                  "25",
                  "1.0",
                  "3.0",
                  null,
                  null
                ],
                [
                  "26",
                  "1.0",
                  "4.0",
                  null,
                  null
                ],
                [
                  "27",
                  "1.0",
                  "5.0",
                  null,
                  null
                ],
                [
                  "28",
                  "1.0",
                  "6.0",
                  null,
                  null
                ],
                [
                  "29",
                  "1.0",
                  "0.0",
                  null,
                  null
                ],
                [
                  "30",
                  "1.0",
                  "1.0",
                  null,
                  null
                ],
                [
                  "31",
                  "1.0",
                  "2.0",
                  null,
                  null
                ],
                [
                  "32",
                  "1.0",
                  "3.0",
                  null,
                  null
                ],
                [
                  "33",
                  "1.0",
                  "4.0",
                  null,
                  null
                ],
                [
                  "34",
                  "1.0",
                  "5.0",
                  null,
                  null
                ],
                [
                  "35",
                  "1.0",
                  "6.0",
                  null,
                  null
                ],
                [
                  "36",
                  "1.0",
                  "0.0",
                  null,
                  null
                ],
                [
                  "37",
                  "1.0",
                  "1.0",
                  null,
                  null
                ],
                [
                  "38",
                  "1.0",
                  "2.0",
                  null,
                  null
                ],
                [
                  "39",
                  "1.0",
                  "3.0",
                  null,
                  null
                ],
                [
                  "40",
                  "1.0",
                  "4.0",
                  null,
                  null
                ],
                [
                  "41",
                  "1.0",
                  "5.0",
                  null,
                  null
                ],
                [
                  "42",
                  "1.0",
                  "6.0",
                  null,
                  null
                ],
                [
                  "43",
                  "1.0",
                  "0.0",
                  null,
                  null
                ],
                [
                  "44",
                  "1.0",
                  "1.0",
                  null,
                  null
                ],
                [
                  "45",
                  "1.0",
                  "2.0",
                  null,
                  null
                ],
                [
                  "46",
                  "1.0",
                  "3.0",
                  null,
                  null
                ],
                [
                  "47",
                  "1.0",
                  "4.0",
                  null,
                  null
                ],
                [
                  "48",
                  "1.0",
                  "5.0",
                  null,
                  null
                ],
                [
                  "49",
                  "1.0",
                  "6.0",
                  null,
                  null
                ]
              ],
              "shape": {
                "columns": 4,
                "rows": 18110
              }
            },
            "text/html": [
              "<div>\n",
              "<style scoped>\n",
              "    .dataframe tbody tr th:only-of-type {\n",
              "        vertical-align: middle;\n",
              "    }\n",
              "\n",
              "    .dataframe tbody tr th {\n",
              "        vertical-align: top;\n",
              "    }\n",
              "\n",
              "    .dataframe thead th {\n",
              "        text-align: right;\n",
              "    }\n",
              "</style>\n",
              "<table border=\"1\" class=\"dataframe\">\n",
              "  <thead>\n",
              "    <tr style=\"text-align: right;\">\n",
              "      <th></th>\n",
              "      <th>season_day</th>\n",
              "      <th>weekday</th>\n",
              "      <th>season_hour</th>\n",
              "      <th>hr</th>\n",
              "    </tr>\n",
              "  </thead>\n",
              "  <tbody>\n",
              "    <tr>\n",
              "      <th>0</th>\n",
              "      <td>1.0</td>\n",
              "      <td>6.0</td>\n",
              "      <td>NaN</td>\n",
              "      <td>NaN</td>\n",
              "    </tr>\n",
              "    <tr>\n",
              "      <th>1</th>\n",
              "      <td>1.0</td>\n",
              "      <td>0.0</td>\n",
              "      <td>NaN</td>\n",
              "      <td>NaN</td>\n",
              "    </tr>\n",
              "    <tr>\n",
              "      <th>2</th>\n",
              "      <td>1.0</td>\n",
              "      <td>1.0</td>\n",
              "      <td>NaN</td>\n",
              "      <td>NaN</td>\n",
              "    </tr>\n",
              "    <tr>\n",
              "      <th>3</th>\n",
              "      <td>1.0</td>\n",
              "      <td>2.0</td>\n",
              "      <td>NaN</td>\n",
              "      <td>NaN</td>\n",
              "    </tr>\n",
              "    <tr>\n",
              "      <th>4</th>\n",
              "      <td>1.0</td>\n",
              "      <td>3.0</td>\n",
              "      <td>NaN</td>\n",
              "      <td>NaN</td>\n",
              "    </tr>\n",
              "    <tr>\n",
              "      <th>...</th>\n",
              "      <td>...</td>\n",
              "      <td>...</td>\n",
              "      <td>...</td>\n",
              "      <td>...</td>\n",
              "    </tr>\n",
              "    <tr>\n",
              "      <th>18105</th>\n",
              "      <td>NaN</td>\n",
              "      <td>NaN</td>\n",
              "      <td>1.0</td>\n",
              "      <td>19.0</td>\n",
              "    </tr>\n",
              "    <tr>\n",
              "      <th>18106</th>\n",
              "      <td>NaN</td>\n",
              "      <td>NaN</td>\n",
              "      <td>1.0</td>\n",
              "      <td>20.0</td>\n",
              "    </tr>\n",
              "    <tr>\n",
              "      <th>18107</th>\n",
              "      <td>NaN</td>\n",
              "      <td>NaN</td>\n",
              "      <td>1.0</td>\n",
              "      <td>21.0</td>\n",
              "    </tr>\n",
              "    <tr>\n",
              "      <th>18108</th>\n",
              "      <td>NaN</td>\n",
              "      <td>NaN</td>\n",
              "      <td>1.0</td>\n",
              "      <td>22.0</td>\n",
              "    </tr>\n",
              "    <tr>\n",
              "      <th>18109</th>\n",
              "      <td>NaN</td>\n",
              "      <td>NaN</td>\n",
              "      <td>1.0</td>\n",
              "      <td>23.0</td>\n",
              "    </tr>\n",
              "  </tbody>\n",
              "</table>\n",
              "<p>18110 rows × 4 columns</p>\n",
              "</div>"
            ],
            "text/plain": [
              "       season_day  weekday  season_hour    hr\n",
              "0             1.0      6.0          NaN   NaN\n",
              "1             1.0      0.0          NaN   NaN\n",
              "2             1.0      1.0          NaN   NaN\n",
              "3             1.0      2.0          NaN   NaN\n",
              "4             1.0      3.0          NaN   NaN\n",
              "...           ...      ...          ...   ...\n",
              "18105         NaN      NaN          1.0  19.0\n",
              "18106         NaN      NaN          1.0  20.0\n",
              "18107         NaN      NaN          1.0  21.0\n",
              "18108         NaN      NaN          1.0  22.0\n",
              "18109         NaN      NaN          1.0  23.0\n",
              "\n",
              "[18110 rows x 4 columns]"
            ]
          },
          "metadata": {},
          "output_type": "display_data"
        }
      ],
      "source": [
        "main_data = pd.read_csv(r'dashboard\\main_data.csv')\n",
        "main_df = pd.DataFrame(main_data)\n",
        "display(main_df)\n",
        "df1 = main_df[['season_day', 'weekday']].dropna(axis=0, ignore_index=True)\n",
        "df2 = main_df[['season_hour', 'hr']].dropna(axis=0, ignore_index=True)\n"
      ]
    },
    {
      "cell_type": "code",
      "execution_count": 31,
      "metadata": {},
      "outputs": [
        {
          "data": {
            "application/vnd.microsoft.datawrangler.viewer.v0+json": {
              "columns": [
                {
                  "name": "index",
                  "rawType": "int64",
                  "type": "integer"
                },
                {
                  "name": "season_day",
                  "rawType": "float64",
                  "type": "float"
                },
                {
                  "name": "weekday",
                  "rawType": "float64",
                  "type": "float"
                }
              ],
              "conversionMethod": "pd.DataFrame",
              "ref": "fc07695c-369f-4e5a-b581-3fd69afb721e",
              "rows": [
                [
                  "0",
                  "1.0",
                  "6.0"
                ],
                [
                  "1",
                  "1.0",
                  "0.0"
                ],
                [
                  "2",
                  "1.0",
                  "1.0"
                ],
                [
                  "3",
                  "1.0",
                  "2.0"
                ],
                [
                  "4",
                  "1.0",
                  "3.0"
                ],
                [
                  "5",
                  "1.0",
                  "4.0"
                ],
                [
                  "6",
                  "1.0",
                  "5.0"
                ],
                [
                  "7",
                  "1.0",
                  "6.0"
                ],
                [
                  "8",
                  "1.0",
                  "0.0"
                ],
                [
                  "9",
                  "1.0",
                  "1.0"
                ],
                [
                  "10",
                  "1.0",
                  "2.0"
                ],
                [
                  "11",
                  "1.0",
                  "3.0"
                ],
                [
                  "12",
                  "1.0",
                  "4.0"
                ],
                [
                  "13",
                  "1.0",
                  "5.0"
                ],
                [
                  "14",
                  "1.0",
                  "6.0"
                ],
                [
                  "15",
                  "1.0",
                  "0.0"
                ],
                [
                  "16",
                  "1.0",
                  "1.0"
                ],
                [
                  "17",
                  "1.0",
                  "2.0"
                ],
                [
                  "18",
                  "1.0",
                  "3.0"
                ],
                [
                  "19",
                  "1.0",
                  "4.0"
                ],
                [
                  "20",
                  "1.0",
                  "5.0"
                ],
                [
                  "21",
                  "1.0",
                  "6.0"
                ],
                [
                  "22",
                  "1.0",
                  "0.0"
                ],
                [
                  "23",
                  "1.0",
                  "1.0"
                ],
                [
                  "24",
                  "1.0",
                  "2.0"
                ],
                [
                  "25",
                  "1.0",
                  "3.0"
                ],
                [
                  "26",
                  "1.0",
                  "4.0"
                ],
                [
                  "27",
                  "1.0",
                  "5.0"
                ],
                [
                  "28",
                  "1.0",
                  "6.0"
                ],
                [
                  "29",
                  "1.0",
                  "0.0"
                ],
                [
                  "30",
                  "1.0",
                  "1.0"
                ],
                [
                  "31",
                  "1.0",
                  "2.0"
                ],
                [
                  "32",
                  "1.0",
                  "3.0"
                ],
                [
                  "33",
                  "1.0",
                  "4.0"
                ],
                [
                  "34",
                  "1.0",
                  "5.0"
                ],
                [
                  "35",
                  "1.0",
                  "6.0"
                ],
                [
                  "36",
                  "1.0",
                  "0.0"
                ],
                [
                  "37",
                  "1.0",
                  "1.0"
                ],
                [
                  "38",
                  "1.0",
                  "2.0"
                ],
                [
                  "39",
                  "1.0",
                  "3.0"
                ],
                [
                  "40",
                  "1.0",
                  "4.0"
                ],
                [
                  "41",
                  "1.0",
                  "5.0"
                ],
                [
                  "42",
                  "1.0",
                  "6.0"
                ],
                [
                  "43",
                  "1.0",
                  "0.0"
                ],
                [
                  "44",
                  "1.0",
                  "1.0"
                ],
                [
                  "45",
                  "1.0",
                  "2.0"
                ],
                [
                  "46",
                  "1.0",
                  "3.0"
                ],
                [
                  "47",
                  "1.0",
                  "4.0"
                ],
                [
                  "48",
                  "1.0",
                  "5.0"
                ],
                [
                  "49",
                  "1.0",
                  "6.0"
                ]
              ],
              "shape": {
                "columns": 2,
                "rows": 731
              }
            },
            "text/html": [
              "<div>\n",
              "<style scoped>\n",
              "    .dataframe tbody tr th:only-of-type {\n",
              "        vertical-align: middle;\n",
              "    }\n",
              "\n",
              "    .dataframe tbody tr th {\n",
              "        vertical-align: top;\n",
              "    }\n",
              "\n",
              "    .dataframe thead th {\n",
              "        text-align: right;\n",
              "    }\n",
              "</style>\n",
              "<table border=\"1\" class=\"dataframe\">\n",
              "  <thead>\n",
              "    <tr style=\"text-align: right;\">\n",
              "      <th></th>\n",
              "      <th>season_day</th>\n",
              "      <th>weekday</th>\n",
              "    </tr>\n",
              "  </thead>\n",
              "  <tbody>\n",
              "    <tr>\n",
              "      <th>0</th>\n",
              "      <td>1.0</td>\n",
              "      <td>6.0</td>\n",
              "    </tr>\n",
              "    <tr>\n",
              "      <th>1</th>\n",
              "      <td>1.0</td>\n",
              "      <td>0.0</td>\n",
              "    </tr>\n",
              "    <tr>\n",
              "      <th>2</th>\n",
              "      <td>1.0</td>\n",
              "      <td>1.0</td>\n",
              "    </tr>\n",
              "    <tr>\n",
              "      <th>3</th>\n",
              "      <td>1.0</td>\n",
              "      <td>2.0</td>\n",
              "    </tr>\n",
              "    <tr>\n",
              "      <th>4</th>\n",
              "      <td>1.0</td>\n",
              "      <td>3.0</td>\n",
              "    </tr>\n",
              "    <tr>\n",
              "      <th>...</th>\n",
              "      <td>...</td>\n",
              "      <td>...</td>\n",
              "    </tr>\n",
              "    <tr>\n",
              "      <th>726</th>\n",
              "      <td>1.0</td>\n",
              "      <td>4.0</td>\n",
              "    </tr>\n",
              "    <tr>\n",
              "      <th>727</th>\n",
              "      <td>1.0</td>\n",
              "      <td>5.0</td>\n",
              "    </tr>\n",
              "    <tr>\n",
              "      <th>728</th>\n",
              "      <td>1.0</td>\n",
              "      <td>6.0</td>\n",
              "    </tr>\n",
              "    <tr>\n",
              "      <th>729</th>\n",
              "      <td>1.0</td>\n",
              "      <td>0.0</td>\n",
              "    </tr>\n",
              "    <tr>\n",
              "      <th>730</th>\n",
              "      <td>1.0</td>\n",
              "      <td>1.0</td>\n",
              "    </tr>\n",
              "  </tbody>\n",
              "</table>\n",
              "<p>731 rows × 2 columns</p>\n",
              "</div>"
            ],
            "text/plain": [
              "     season_day  weekday\n",
              "0           1.0      6.0\n",
              "1           1.0      0.0\n",
              "2           1.0      1.0\n",
              "3           1.0      2.0\n",
              "4           1.0      3.0\n",
              "..          ...      ...\n",
              "726         1.0      4.0\n",
              "727         1.0      5.0\n",
              "728         1.0      6.0\n",
              "729         1.0      0.0\n",
              "730         1.0      1.0\n",
              "\n",
              "[731 rows x 2 columns]"
            ]
          },
          "metadata": {},
          "output_type": "display_data"
        },
        {
          "data": {
            "application/vnd.microsoft.datawrangler.viewer.v0+json": {
              "columns": [
                {
                  "name": "index",
                  "rawType": "int64",
                  "type": "integer"
                },
                {
                  "name": "season_hour",
                  "rawType": "float64",
                  "type": "float"
                },
                {
                  "name": "hr",
                  "rawType": "float64",
                  "type": "float"
                }
              ],
              "conversionMethod": "pd.DataFrame",
              "ref": "c9f9724c-c839-4077-b99e-5835a0f08d0a",
              "rows": [
                [
                  "0",
                  "1.0",
                  "0.0"
                ],
                [
                  "1",
                  "1.0",
                  "1.0"
                ],
                [
                  "2",
                  "1.0",
                  "2.0"
                ],
                [
                  "3",
                  "1.0",
                  "3.0"
                ],
                [
                  "4",
                  "1.0",
                  "4.0"
                ],
                [
                  "5",
                  "1.0",
                  "5.0"
                ],
                [
                  "6",
                  "1.0",
                  "6.0"
                ],
                [
                  "7",
                  "1.0",
                  "7.0"
                ],
                [
                  "8",
                  "1.0",
                  "8.0"
                ],
                [
                  "9",
                  "1.0",
                  "9.0"
                ],
                [
                  "10",
                  "1.0",
                  "10.0"
                ],
                [
                  "11",
                  "1.0",
                  "11.0"
                ],
                [
                  "12",
                  "1.0",
                  "12.0"
                ],
                [
                  "13",
                  "1.0",
                  "13.0"
                ],
                [
                  "14",
                  "1.0",
                  "14.0"
                ],
                [
                  "15",
                  "1.0",
                  "15.0"
                ],
                [
                  "16",
                  "1.0",
                  "16.0"
                ],
                [
                  "17",
                  "1.0",
                  "17.0"
                ],
                [
                  "18",
                  "1.0",
                  "18.0"
                ],
                [
                  "19",
                  "1.0",
                  "19.0"
                ],
                [
                  "20",
                  "1.0",
                  "20.0"
                ],
                [
                  "21",
                  "1.0",
                  "21.0"
                ],
                [
                  "22",
                  "1.0",
                  "22.0"
                ],
                [
                  "23",
                  "1.0",
                  "23.0"
                ],
                [
                  "24",
                  "1.0",
                  "0.0"
                ],
                [
                  "25",
                  "1.0",
                  "1.0"
                ],
                [
                  "26",
                  "1.0",
                  "2.0"
                ],
                [
                  "27",
                  "1.0",
                  "3.0"
                ],
                [
                  "28",
                  "1.0",
                  "4.0"
                ],
                [
                  "29",
                  "1.0",
                  "6.0"
                ],
                [
                  "30",
                  "1.0",
                  "7.0"
                ],
                [
                  "31",
                  "1.0",
                  "8.0"
                ],
                [
                  "32",
                  "1.0",
                  "9.0"
                ],
                [
                  "33",
                  "1.0",
                  "10.0"
                ],
                [
                  "34",
                  "1.0",
                  "11.0"
                ],
                [
                  "35",
                  "1.0",
                  "12.0"
                ],
                [
                  "36",
                  "1.0",
                  "13.0"
                ],
                [
                  "37",
                  "1.0",
                  "14.0"
                ],
                [
                  "38",
                  "1.0",
                  "15.0"
                ],
                [
                  "39",
                  "1.0",
                  "16.0"
                ],
                [
                  "40",
                  "1.0",
                  "17.0"
                ],
                [
                  "41",
                  "1.0",
                  "18.0"
                ],
                [
                  "42",
                  "1.0",
                  "19.0"
                ],
                [
                  "43",
                  "1.0",
                  "20.0"
                ],
                [
                  "44",
                  "1.0",
                  "21.0"
                ],
                [
                  "45",
                  "1.0",
                  "22.0"
                ],
                [
                  "46",
                  "1.0",
                  "23.0"
                ],
                [
                  "47",
                  "1.0",
                  "0.0"
                ],
                [
                  "48",
                  "1.0",
                  "1.0"
                ],
                [
                  "49",
                  "1.0",
                  "4.0"
                ]
              ],
              "shape": {
                "columns": 2,
                "rows": 17379
              }
            },
            "text/html": [
              "<div>\n",
              "<style scoped>\n",
              "    .dataframe tbody tr th:only-of-type {\n",
              "        vertical-align: middle;\n",
              "    }\n",
              "\n",
              "    .dataframe tbody tr th {\n",
              "        vertical-align: top;\n",
              "    }\n",
              "\n",
              "    .dataframe thead th {\n",
              "        text-align: right;\n",
              "    }\n",
              "</style>\n",
              "<table border=\"1\" class=\"dataframe\">\n",
              "  <thead>\n",
              "    <tr style=\"text-align: right;\">\n",
              "      <th></th>\n",
              "      <th>season_hour</th>\n",
              "      <th>hr</th>\n",
              "    </tr>\n",
              "  </thead>\n",
              "  <tbody>\n",
              "    <tr>\n",
              "      <th>0</th>\n",
              "      <td>1.0</td>\n",
              "      <td>0.0</td>\n",
              "    </tr>\n",
              "    <tr>\n",
              "      <th>1</th>\n",
              "      <td>1.0</td>\n",
              "      <td>1.0</td>\n",
              "    </tr>\n",
              "    <tr>\n",
              "      <th>2</th>\n",
              "      <td>1.0</td>\n",
              "      <td>2.0</td>\n",
              "    </tr>\n",
              "    <tr>\n",
              "      <th>3</th>\n",
              "      <td>1.0</td>\n",
              "      <td>3.0</td>\n",
              "    </tr>\n",
              "    <tr>\n",
              "      <th>4</th>\n",
              "      <td>1.0</td>\n",
              "      <td>4.0</td>\n",
              "    </tr>\n",
              "    <tr>\n",
              "      <th>...</th>\n",
              "      <td>...</td>\n",
              "      <td>...</td>\n",
              "    </tr>\n",
              "    <tr>\n",
              "      <th>17374</th>\n",
              "      <td>1.0</td>\n",
              "      <td>19.0</td>\n",
              "    </tr>\n",
              "    <tr>\n",
              "      <th>17375</th>\n",
              "      <td>1.0</td>\n",
              "      <td>20.0</td>\n",
              "    </tr>\n",
              "    <tr>\n",
              "      <th>17376</th>\n",
              "      <td>1.0</td>\n",
              "      <td>21.0</td>\n",
              "    </tr>\n",
              "    <tr>\n",
              "      <th>17377</th>\n",
              "      <td>1.0</td>\n",
              "      <td>22.0</td>\n",
              "    </tr>\n",
              "    <tr>\n",
              "      <th>17378</th>\n",
              "      <td>1.0</td>\n",
              "      <td>23.0</td>\n",
              "    </tr>\n",
              "  </tbody>\n",
              "</table>\n",
              "<p>17379 rows × 2 columns</p>\n",
              "</div>"
            ],
            "text/plain": [
              "       season_hour    hr\n",
              "0              1.0   0.0\n",
              "1              1.0   1.0\n",
              "2              1.0   2.0\n",
              "3              1.0   3.0\n",
              "4              1.0   4.0\n",
              "...            ...   ...\n",
              "17374          1.0  19.0\n",
              "17375          1.0  20.0\n",
              "17376          1.0  21.0\n",
              "17377          1.0  22.0\n",
              "17378          1.0  23.0\n",
              "\n",
              "[17379 rows x 2 columns]"
            ]
          },
          "metadata": {},
          "output_type": "display_data"
        }
      ],
      "source": [
        "display(df1)\n",
        "display(df2)"
      ]
    },
    {
      "cell_type": "markdown",
      "metadata": {
        "id": "_WeHlCeX8DC2"
      },
      "source": [
        "## Conclusion"
      ]
    },
    {
      "cell_type": "markdown",
      "metadata": {
        "id": "ZTcyR48Y8DC2"
      },
      "source": [
        "- Tidak ada anomali terdeteksi pada dataset day setelah gathering, sehingga dapat dianalisis di tahap berikutnya. Berdasarkan hasil analisis yang dilakukan pada data day, Fall Season yang sering muncul pada berbagai hari.\n",
        "- Tidak ada anomali terdeteksi pada dataset hour setelah gathering, sehingga dapat dianalisis di tahap berikutnya. Berdasarkan hasil analisis yang dilakukan pada data jam, Fall Season yang sering muncul pada berbagai jam."
      ]
    }
  ],
  "metadata": {
    "colab": {
      "provenance": []
    },
    "kernelspec": {
      "display_name": "Python 3",
      "language": "python",
      "name": "python3"
    },
    "language_info": {
      "codemirror_mode": {
        "name": "ipython",
        "version": 3
      },
      "file_extension": ".py",
      "mimetype": "text/x-python",
      "name": "python",
      "nbconvert_exporter": "python",
      "pygments_lexer": "ipython3",
      "version": "3.12.5"
    },
    "orig_nbformat": 4,
    "vscode": {
      "interpreter": {
        "hash": "972b3bf27e332e87b5379f2791f6ef9dfc79c71018c370b0d7423235e20fe4d7"
      }
    }
  },
  "nbformat": 4,
  "nbformat_minor": 0
}
